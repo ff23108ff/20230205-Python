{
  "nbformat": 4,
  "nbformat_minor": 0,
  "metadata": {
    "colab": {
      "provenance": [],
      "authorship_tag": "ABX9TyPNl0w8OWbIhhClSTX71Qbq",
      "include_colab_link": true
    },
    "kernelspec": {
      "name": "python3",
      "display_name": "Python 3"
    },
    "language_info": {
      "name": "python"
    }
  },
  "cells": [
    {
      "cell_type": "markdown",
      "metadata": {
        "id": "view-in-github",
        "colab_type": "text"
      },
      "source": [
        "<a href=\"https://colab.research.google.com/github/ff23108ff/20230205-Python/blob/main/20230304.ipynb\" target=\"_parent\"><img src=\"https://colab.research.google.com/assets/colab-badge.svg\" alt=\"Open In Colab\"/></a>"
      ]
    },
    {
      "cell_type": "markdown",
      "source": [
        "# 20230304筆記"
      ],
      "metadata": {
        "id": "XUMD1-21VuQB"
      }
    },
    {
      "cell_type": "markdown",
      "source": [
        "# 抓取網頁原始碼"
      ],
      "metadata": {
        "id": "Q78G-uUbVyje"
      }
    },
    {
      "cell_type": "code",
      "execution_count": 1,
      "metadata": {
        "id": "GjnR3OXKUg2t"
      },
      "outputs": [],
      "source": [
        "import requests"
      ]
    },
    {
      "cell_type": "code",
      "source": [
        "url = \"https://victorgau.github.io/khpy_web_intro/html_only.html\""
      ],
      "metadata": {
        "id": "ieJSiSKLUtYZ"
      },
      "execution_count": 2,
      "outputs": []
    },
    {
      "cell_type": "code",
      "source": [
        "r = requests.get(url) "
      ],
      "metadata": {
        "id": "U5QQjLEmU0TN"
      },
      "execution_count": 3,
      "outputs": []
    },
    {
      "cell_type": "code",
      "source": [
        "print(r.text)"
      ],
      "metadata": {
        "colab": {
          "base_uri": "https://localhost:8080/"
        },
        "id": "IGM5yL8-U5dV",
        "outputId": "a2752f4a-4f0f-45b9-8690-b9b5aa50d4e6"
      },
      "execution_count": 4,
      "outputs": [
        {
          "output_type": "stream",
          "name": "stdout",
          "text": [
            "<!DOCTYPE html>\n",
            "<html>\n",
            "<head>\n",
            "    <title>HTML範例</title>\n",
            "</head>\n",
            "<body>\n",
            "\n",
            "<h1>哈囉！HTML！</h1>\n",
            "\n",
            "<img src=\"ninja.jpg\" />\n",
            "\n",
            "</body>\n",
            "</html>\n"
          ]
        }
      ]
    },
    {
      "cell_type": "markdown",
      "source": [
        "## 抓取Ajax網頁資料"
      ],
      "metadata": {
        "id": "yCCjg1doV3EM"
      }
    },
    {
      "cell_type": "markdown",
      "source": [
        "### 從非Ajax網站的網頁上,可以直接看到資料"
      ],
      "metadata": {
        "id": "OazeTY5NWrDG"
      }
    },
    {
      "cell_type": "code",
      "source": [
        "url = \"https://victorgau.github.io/khpy_web_intro/html_only.html\""
      ],
      "metadata": {
        "id": "Ak9Pgm5QU8vG"
      },
      "execution_count": 5,
      "outputs": []
    },
    {
      "cell_type": "code",
      "source": [
        "r = requests.get(url)"
      ],
      "metadata": {
        "id": "8IuCPxB_V9nY"
      },
      "execution_count": 6,
      "outputs": []
    },
    {
      "cell_type": "code",
      "source": [
        "print(r.text)"
      ],
      "metadata": {
        "colab": {
          "base_uri": "https://localhost:8080/"
        },
        "id": "wCZyNSSUWCWu",
        "outputId": "adf866a5-d980-4917-e667-6c12b3e03205"
      },
      "execution_count": 7,
      "outputs": [
        {
          "output_type": "stream",
          "name": "stdout",
          "text": [
            "<!DOCTYPE html>\n",
            "<html>\n",
            "<head>\n",
            "    <title>HTML範例</title>\n",
            "</head>\n",
            "<body>\n",
            "\n",
            "<h1>哈囉！HTML！</h1>\n",
            "\n",
            "<img src=\"ninja.jpg\" />\n",
            "\n",
            "</body>\n",
            "</html>\n"
          ]
        }
      ]
    },
    {
      "cell_type": "code",
      "source": [
        "import pandas as pd"
      ],
      "metadata": {
        "id": "TTTOPQfkcwTW"
      },
      "execution_count": 22,
      "outputs": []
    },
    {
      "cell_type": "code",
      "source": [
        "dfs = pd.read_html(url)"
      ],
      "metadata": {
        "id": "awlUQzO5cz35"
      },
      "execution_count": 23,
      "outputs": []
    },
    {
      "cell_type": "code",
      "source": [
        "dfs[0]"
      ],
      "metadata": {
        "colab": {
          "base_uri": "https://localhost:8080/",
          "height": 394
        },
        "id": "jPJhTtMOc2A3",
        "outputId": "e559a6ef-024c-4fce-a70b-c0a7d22e83ca"
      },
      "execution_count": 24,
      "outputs": [
        {
          "output_type": "execute_result",
          "data": {
            "text/plain": [
              "  Unnamed: 0_level_0               Open               High                Low  \\\n",
              "                Date Unnamed: 1_level_1 Unnamed: 2_level_1 Unnamed: 3_level_1   \n",
              "0         2021-07-26         439.309998         441.029999         439.260010   \n",
              "1         2021-07-27         439.910004         439.940002         435.989990   \n",
              "2         2021-07-28         439.679993         440.299988         437.309998   \n",
              "3         2021-07-29         439.820007         441.799988         439.809998   \n",
              "4         2021-07-30         437.910004         440.059998         437.769989   \n",
              "5         2021-08-02         440.339996         440.929993         437.209991   \n",
              "6         2021-08-03         438.440002         441.279999         436.100006   \n",
              "7         2021-08-04         439.779999         441.119995         438.730011   \n",
              "8         2021-08-05         440.220001         441.850006         439.880005   \n",
              "9         2021-08-06         442.100006         442.940002         441.799988   \n",
              "\n",
              "               Close          Adj Close             Volume  \n",
              "  Unnamed: 4_level_1 Unnamed: 5_level_1 Unnamed: 6_level_1  \n",
              "0         441.019989         441.019989           43719200  \n",
              "1         439.010010         439.010010           67397100  \n",
              "2         438.829987         438.829987           52472400  \n",
              "3         440.649994         440.649994           47435300  \n",
              "4         438.510010         438.510010           68890600  \n",
              "5         437.589996         437.589996           58783300  \n",
              "6         441.149994         441.149994           58053900  \n",
              "7         438.980011         438.980011           46732200  \n",
              "8         441.760010         441.760010           38969700  \n",
              "9         442.489990         442.489990           46864100  "
            ],
            "text/html": [
              "\n",
              "  <div id=\"df-0f2fd3fd-62a5-443b-883a-c250cccb02f4\">\n",
              "    <div class=\"colab-df-container\">\n",
              "      <div>\n",
              "<style scoped>\n",
              "    .dataframe tbody tr th:only-of-type {\n",
              "        vertical-align: middle;\n",
              "    }\n",
              "\n",
              "    .dataframe tbody tr th {\n",
              "        vertical-align: top;\n",
              "    }\n",
              "\n",
              "    .dataframe thead tr th {\n",
              "        text-align: left;\n",
              "    }\n",
              "</style>\n",
              "<table border=\"1\" class=\"dataframe\">\n",
              "  <thead>\n",
              "    <tr>\n",
              "      <th></th>\n",
              "      <th>Unnamed: 0_level_0</th>\n",
              "      <th>Open</th>\n",
              "      <th>High</th>\n",
              "      <th>Low</th>\n",
              "      <th>Close</th>\n",
              "      <th>Adj Close</th>\n",
              "      <th>Volume</th>\n",
              "    </tr>\n",
              "    <tr>\n",
              "      <th></th>\n",
              "      <th>Date</th>\n",
              "      <th>Unnamed: 1_level_1</th>\n",
              "      <th>Unnamed: 2_level_1</th>\n",
              "      <th>Unnamed: 3_level_1</th>\n",
              "      <th>Unnamed: 4_level_1</th>\n",
              "      <th>Unnamed: 5_level_1</th>\n",
              "      <th>Unnamed: 6_level_1</th>\n",
              "    </tr>\n",
              "  </thead>\n",
              "  <tbody>\n",
              "    <tr>\n",
              "      <th>0</th>\n",
              "      <td>2021-07-26</td>\n",
              "      <td>439.309998</td>\n",
              "      <td>441.029999</td>\n",
              "      <td>439.260010</td>\n",
              "      <td>441.019989</td>\n",
              "      <td>441.019989</td>\n",
              "      <td>43719200</td>\n",
              "    </tr>\n",
              "    <tr>\n",
              "      <th>1</th>\n",
              "      <td>2021-07-27</td>\n",
              "      <td>439.910004</td>\n",
              "      <td>439.940002</td>\n",
              "      <td>435.989990</td>\n",
              "      <td>439.010010</td>\n",
              "      <td>439.010010</td>\n",
              "      <td>67397100</td>\n",
              "    </tr>\n",
              "    <tr>\n",
              "      <th>2</th>\n",
              "      <td>2021-07-28</td>\n",
              "      <td>439.679993</td>\n",
              "      <td>440.299988</td>\n",
              "      <td>437.309998</td>\n",
              "      <td>438.829987</td>\n",
              "      <td>438.829987</td>\n",
              "      <td>52472400</td>\n",
              "    </tr>\n",
              "    <tr>\n",
              "      <th>3</th>\n",
              "      <td>2021-07-29</td>\n",
              "      <td>439.820007</td>\n",
              "      <td>441.799988</td>\n",
              "      <td>439.809998</td>\n",
              "      <td>440.649994</td>\n",
              "      <td>440.649994</td>\n",
              "      <td>47435300</td>\n",
              "    </tr>\n",
              "    <tr>\n",
              "      <th>4</th>\n",
              "      <td>2021-07-30</td>\n",
              "      <td>437.910004</td>\n",
              "      <td>440.059998</td>\n",
              "      <td>437.769989</td>\n",
              "      <td>438.510010</td>\n",
              "      <td>438.510010</td>\n",
              "      <td>68890600</td>\n",
              "    </tr>\n",
              "    <tr>\n",
              "      <th>5</th>\n",
              "      <td>2021-08-02</td>\n",
              "      <td>440.339996</td>\n",
              "      <td>440.929993</td>\n",
              "      <td>437.209991</td>\n",
              "      <td>437.589996</td>\n",
              "      <td>437.589996</td>\n",
              "      <td>58783300</td>\n",
              "    </tr>\n",
              "    <tr>\n",
              "      <th>6</th>\n",
              "      <td>2021-08-03</td>\n",
              "      <td>438.440002</td>\n",
              "      <td>441.279999</td>\n",
              "      <td>436.100006</td>\n",
              "      <td>441.149994</td>\n",
              "      <td>441.149994</td>\n",
              "      <td>58053900</td>\n",
              "    </tr>\n",
              "    <tr>\n",
              "      <th>7</th>\n",
              "      <td>2021-08-04</td>\n",
              "      <td>439.779999</td>\n",
              "      <td>441.119995</td>\n",
              "      <td>438.730011</td>\n",
              "      <td>438.980011</td>\n",
              "      <td>438.980011</td>\n",
              "      <td>46732200</td>\n",
              "    </tr>\n",
              "    <tr>\n",
              "      <th>8</th>\n",
              "      <td>2021-08-05</td>\n",
              "      <td>440.220001</td>\n",
              "      <td>441.850006</td>\n",
              "      <td>439.880005</td>\n",
              "      <td>441.760010</td>\n",
              "      <td>441.760010</td>\n",
              "      <td>38969700</td>\n",
              "    </tr>\n",
              "    <tr>\n",
              "      <th>9</th>\n",
              "      <td>2021-08-06</td>\n",
              "      <td>442.100006</td>\n",
              "      <td>442.940002</td>\n",
              "      <td>441.799988</td>\n",
              "      <td>442.489990</td>\n",
              "      <td>442.489990</td>\n",
              "      <td>46864100</td>\n",
              "    </tr>\n",
              "  </tbody>\n",
              "</table>\n",
              "</div>\n",
              "      <button class=\"colab-df-convert\" onclick=\"convertToInteractive('df-0f2fd3fd-62a5-443b-883a-c250cccb02f4')\"\n",
              "              title=\"Convert this dataframe to an interactive table.\"\n",
              "              style=\"display:none;\">\n",
              "        \n",
              "  <svg xmlns=\"http://www.w3.org/2000/svg\" height=\"24px\"viewBox=\"0 0 24 24\"\n",
              "       width=\"24px\">\n",
              "    <path d=\"M0 0h24v24H0V0z\" fill=\"none\"/>\n",
              "    <path d=\"M18.56 5.44l.94 2.06.94-2.06 2.06-.94-2.06-.94-.94-2.06-.94 2.06-2.06.94zm-11 1L8.5 8.5l.94-2.06 2.06-.94-2.06-.94L8.5 2.5l-.94 2.06-2.06.94zm10 10l.94 2.06.94-2.06 2.06-.94-2.06-.94-.94-2.06-.94 2.06-2.06.94z\"/><path d=\"M17.41 7.96l-1.37-1.37c-.4-.4-.92-.59-1.43-.59-.52 0-1.04.2-1.43.59L10.3 9.45l-7.72 7.72c-.78.78-.78 2.05 0 2.83L4 21.41c.39.39.9.59 1.41.59.51 0 1.02-.2 1.41-.59l7.78-7.78 2.81-2.81c.8-.78.8-2.07 0-2.86zM5.41 20L4 18.59l7.72-7.72 1.47 1.35L5.41 20z\"/>\n",
              "  </svg>\n",
              "      </button>\n",
              "      \n",
              "  <style>\n",
              "    .colab-df-container {\n",
              "      display:flex;\n",
              "      flex-wrap:wrap;\n",
              "      gap: 12px;\n",
              "    }\n",
              "\n",
              "    .colab-df-convert {\n",
              "      background-color: #E8F0FE;\n",
              "      border: none;\n",
              "      border-radius: 50%;\n",
              "      cursor: pointer;\n",
              "      display: none;\n",
              "      fill: #1967D2;\n",
              "      height: 32px;\n",
              "      padding: 0 0 0 0;\n",
              "      width: 32px;\n",
              "    }\n",
              "\n",
              "    .colab-df-convert:hover {\n",
              "      background-color: #E2EBFA;\n",
              "      box-shadow: 0px 1px 2px rgba(60, 64, 67, 0.3), 0px 1px 3px 1px rgba(60, 64, 67, 0.15);\n",
              "      fill: #174EA6;\n",
              "    }\n",
              "\n",
              "    [theme=dark] .colab-df-convert {\n",
              "      background-color: #3B4455;\n",
              "      fill: #D2E3FC;\n",
              "    }\n",
              "\n",
              "    [theme=dark] .colab-df-convert:hover {\n",
              "      background-color: #434B5C;\n",
              "      box-shadow: 0px 1px 3px 1px rgba(0, 0, 0, 0.15);\n",
              "      filter: drop-shadow(0px 1px 2px rgba(0, 0, 0, 0.3));\n",
              "      fill: #FFFFFF;\n",
              "    }\n",
              "  </style>\n",
              "\n",
              "      <script>\n",
              "        const buttonEl =\n",
              "          document.querySelector('#df-0f2fd3fd-62a5-443b-883a-c250cccb02f4 button.colab-df-convert');\n",
              "        buttonEl.style.display =\n",
              "          google.colab.kernel.accessAllowed ? 'block' : 'none';\n",
              "\n",
              "        async function convertToInteractive(key) {\n",
              "          const element = document.querySelector('#df-0f2fd3fd-62a5-443b-883a-c250cccb02f4');\n",
              "          const dataTable =\n",
              "            await google.colab.kernel.invokeFunction('convertToInteractive',\n",
              "                                                     [key], {});\n",
              "          if (!dataTable) return;\n",
              "\n",
              "          const docLinkHtml = 'Like what you see? Visit the ' +\n",
              "            '<a target=\"_blank\" href=https://colab.research.google.com/notebooks/data_table.ipynb>data table notebook</a>'\n",
              "            + ' to learn more about interactive tables.';\n",
              "          element.innerHTML = '';\n",
              "          dataTable['output_type'] = 'display_data';\n",
              "          await google.colab.output.renderOutput(dataTable, element);\n",
              "          const docLink = document.createElement('div');\n",
              "          docLink.innerHTML = docLinkHtml;\n",
              "          element.appendChild(docLink);\n",
              "        }\n",
              "      </script>\n",
              "    </div>\n",
              "  </div>\n",
              "  "
            ]
          },
          "metadata": {},
          "execution_count": 24
        }
      ]
    },
    {
      "cell_type": "markdown",
      "source": [
        "### 從Ajax網頁上,可能看不到資料"
      ],
      "metadata": {
        "id": "8KWeipbgWwlI"
      }
    },
    {
      "cell_type": "code",
      "source": [
        "url = \"https://victorgau.github.io/khpy_web_intro/spy.html\""
      ],
      "metadata": {
        "id": "dasuXhuXXQc-"
      },
      "execution_count": 16,
      "outputs": []
    },
    {
      "cell_type": "code",
      "source": [
        "r = requests.get(url)"
      ],
      "metadata": {
        "id": "fT5TLIrTXSeC"
      },
      "execution_count": 17,
      "outputs": []
    },
    {
      "cell_type": "code",
      "source": [
        "print(r.text)"
      ],
      "metadata": {
        "colab": {
          "base_uri": "https://localhost:8080/"
        },
        "id": "JP5fW-jNXUor",
        "outputId": "cd1371cf-af81-4ce7-f07d-14b871bec9c6"
      },
      "execution_count": 18,
      "outputs": [
        {
          "output_type": "stream",
          "name": "stdout",
          "text": [
            "<!DOCTYPE html>\n",
            "<html>\n",
            "<head>\n",
            "    <!-- Required meta tags -->\n",
            "    <meta charset=\"utf-8\">\n",
            "    <meta name=\"viewport\" content=\"width=device-width, initial-scale=1, shrink-to-fit=no\">\n",
            "\n",
            "    <!-- Bootstrap CSS -->\n",
            "    <link rel=\"stylesheet\" href=\"https://maxcdn.bootstrapcdn.com/bootstrap/4.0.0/css/bootstrap.min.css\" integrity=\"sha384-Gn5384xqQ1aoWXA+058RXPxPg6fy4IWvTNh0E263XmFcJlSAwiGgFAW/dAiS6JXm\" crossorigin=\"anonymous\">\n",
            "    <link rel=\"stylesheet\" href=\"https://cdn.jsdelivr.net/npm/bootstrap-icons@1.5.0/font/bootstrap-icons.css\">\n",
            "    <title>HTML範例</title>\n",
            "</head>\n",
            "<body>\n",
            "  <div class=\"container\">\n",
            "    <h1>SPY股價</h1>\n",
            "  </div>\n",
            "    <div class=\"container\">\n",
            "<table border=\"1\" class=\"dataframe table table-striped\">\n",
            "  <thead>\n",
            "    <tr style=\"text-align: right;\">\n",
            "      <th></th>\n",
            "      <th>Open</th>\n",
            "      <th>High</th>\n",
            "      <th>Low</th>\n",
            "      <th>Close</th>\n",
            "      <th>Adj Close</th>\n",
            "      <th>Volume</th>\n",
            "    </tr>\n",
            "    <tr>\n",
            "      <th>Date</th>\n",
            "      <th></th>\n",
            "      <th></th>\n",
            "      <th></th>\n",
            "      <th></th>\n",
            "      <th></th>\n",
            "      <th></th>\n",
            "    </tr>\n",
            "  </thead>\n",
            "  <tbody>\n",
            "    <tr>\n",
            "      <th>2021-07-26</th>\n",
            "      <td>439.309998</td>\n",
            "      <td>441.029999</td>\n",
            "      <td>439.260010</td>\n",
            "      <td>441.019989</td>\n",
            "      <td>441.019989</td>\n",
            "      <td>43719200</td>\n",
            "    </tr>\n",
            "    <tr>\n",
            "      <th>2021-07-27</th>\n",
            "      <td>439.910004</td>\n",
            "      <td>439.940002</td>\n",
            "      <td>435.989990</td>\n",
            "      <td>439.010010</td>\n",
            "      <td>439.010010</td>\n",
            "      <td>67397100</td>\n",
            "    </tr>\n",
            "    <tr>\n",
            "      <th>2021-07-28</th>\n",
            "      <td>439.679993</td>\n",
            "      <td>440.299988</td>\n",
            "      <td>437.309998</td>\n",
            "      <td>438.829987</td>\n",
            "      <td>438.829987</td>\n",
            "      <td>52472400</td>\n",
            "    </tr>\n",
            "    <tr>\n",
            "      <th>2021-07-29</th>\n",
            "      <td>439.820007</td>\n",
            "      <td>441.799988</td>\n",
            "      <td>439.809998</td>\n",
            "      <td>440.649994</td>\n",
            "      <td>440.649994</td>\n",
            "      <td>47435300</td>\n",
            "    </tr>\n",
            "    <tr>\n",
            "      <th>2021-07-30</th>\n",
            "      <td>437.910004</td>\n",
            "      <td>440.059998</td>\n",
            "      <td>437.769989</td>\n",
            "      <td>438.510010</td>\n",
            "      <td>438.510010</td>\n",
            "      <td>68890600</td>\n",
            "    </tr>\n",
            "    <tr>\n",
            "      <th>2021-08-02</th>\n",
            "      <td>440.339996</td>\n",
            "      <td>440.929993</td>\n",
            "      <td>437.209991</td>\n",
            "      <td>437.589996</td>\n",
            "      <td>437.589996</td>\n",
            "      <td>58783300</td>\n",
            "    </tr>\n",
            "    <tr>\n",
            "      <th>2021-08-03</th>\n",
            "      <td>438.440002</td>\n",
            "      <td>441.279999</td>\n",
            "      <td>436.100006</td>\n",
            "      <td>441.149994</td>\n",
            "      <td>441.149994</td>\n",
            "      <td>58053900</td>\n",
            "    </tr>\n",
            "    <tr>\n",
            "      <th>2021-08-04</th>\n",
            "      <td>439.779999</td>\n",
            "      <td>441.119995</td>\n",
            "      <td>438.730011</td>\n",
            "      <td>438.980011</td>\n",
            "      <td>438.980011</td>\n",
            "      <td>46732200</td>\n",
            "    </tr>\n",
            "    <tr>\n",
            "      <th>2021-08-05</th>\n",
            "      <td>440.220001</td>\n",
            "      <td>441.850006</td>\n",
            "      <td>439.880005</td>\n",
            "      <td>441.760010</td>\n",
            "      <td>441.760010</td>\n",
            "      <td>38969700</td>\n",
            "    </tr>\n",
            "    <tr>\n",
            "      <th>2021-08-06</th>\n",
            "      <td>442.100006</td>\n",
            "      <td>442.940002</td>\n",
            "      <td>441.799988</td>\n",
            "      <td>442.489990</td>\n",
            "      <td>442.489990</td>\n",
            "      <td>46864100</td>\n",
            "    </tr>\n",
            "  </tbody>\n",
            "</table>\n",
            "\n",
            "</div>\n",
            "</body>\n",
            "</html>\n"
          ]
        }
      ]
    },
    {
      "cell_type": "code",
      "source": [
        "url = \"https://victorgau.github.io/khpy_web_intro/spy.json\""
      ],
      "metadata": {
        "id": "wUY55x9VhdpK"
      },
      "execution_count": 31,
      "outputs": []
    },
    {
      "cell_type": "code",
      "source": [
        "data = requests.get(url).json()"
      ],
      "metadata": {
        "id": "QBI6ayqmhlN5"
      },
      "execution_count": 32,
      "outputs": []
    },
    {
      "cell_type": "code",
      "source": [
        "df = pd.read_json(url)"
      ],
      "metadata": {
        "id": "2xkRXo-bh7PF"
      },
      "execution_count": 34,
      "outputs": []
    },
    {
      "cell_type": "code",
      "source": [
        "df.head()"
      ],
      "metadata": {
        "colab": {
          "base_uri": "https://localhost:8080/",
          "height": 206
        },
        "id": "Fg2n8gZ2huV_",
        "outputId": "1cd425c9-77f1-4b1c-bf7a-d7f41d8752a9"
      },
      "execution_count": 35,
      "outputs": [
        {
          "output_type": "execute_result",
          "data": {
            "text/plain": [
              "        Date        Open        High         Low       Close   Adj Close  \\\n",
              "0 2021-07-26  439.309998  441.029999  439.260010  441.019989  441.019989   \n",
              "1 2021-07-27  439.910004  439.940002  435.989990  439.010010  439.010010   \n",
              "2 2021-07-28  439.679993  440.299988  437.309998  438.829987  438.829987   \n",
              "3 2021-07-29  439.820007  441.799988  439.809998  440.649994  440.649994   \n",
              "4 2021-07-30  437.910004  440.059998  437.769989  438.510010  438.510010   \n",
              "\n",
              "     Volume  \n",
              "0  43719200  \n",
              "1  67397100  \n",
              "2  52472400  \n",
              "3  47435300  \n",
              "4  68890600  "
            ],
            "text/html": [
              "\n",
              "  <div id=\"df-16369b89-5d3f-4c1c-b1d0-7480da57fb01\">\n",
              "    <div class=\"colab-df-container\">\n",
              "      <div>\n",
              "<style scoped>\n",
              "    .dataframe tbody tr th:only-of-type {\n",
              "        vertical-align: middle;\n",
              "    }\n",
              "\n",
              "    .dataframe tbody tr th {\n",
              "        vertical-align: top;\n",
              "    }\n",
              "\n",
              "    .dataframe thead th {\n",
              "        text-align: right;\n",
              "    }\n",
              "</style>\n",
              "<table border=\"1\" class=\"dataframe\">\n",
              "  <thead>\n",
              "    <tr style=\"text-align: right;\">\n",
              "      <th></th>\n",
              "      <th>Date</th>\n",
              "      <th>Open</th>\n",
              "      <th>High</th>\n",
              "      <th>Low</th>\n",
              "      <th>Close</th>\n",
              "      <th>Adj Close</th>\n",
              "      <th>Volume</th>\n",
              "    </tr>\n",
              "  </thead>\n",
              "  <tbody>\n",
              "    <tr>\n",
              "      <th>0</th>\n",
              "      <td>2021-07-26</td>\n",
              "      <td>439.309998</td>\n",
              "      <td>441.029999</td>\n",
              "      <td>439.260010</td>\n",
              "      <td>441.019989</td>\n",
              "      <td>441.019989</td>\n",
              "      <td>43719200</td>\n",
              "    </tr>\n",
              "    <tr>\n",
              "      <th>1</th>\n",
              "      <td>2021-07-27</td>\n",
              "      <td>439.910004</td>\n",
              "      <td>439.940002</td>\n",
              "      <td>435.989990</td>\n",
              "      <td>439.010010</td>\n",
              "      <td>439.010010</td>\n",
              "      <td>67397100</td>\n",
              "    </tr>\n",
              "    <tr>\n",
              "      <th>2</th>\n",
              "      <td>2021-07-28</td>\n",
              "      <td>439.679993</td>\n",
              "      <td>440.299988</td>\n",
              "      <td>437.309998</td>\n",
              "      <td>438.829987</td>\n",
              "      <td>438.829987</td>\n",
              "      <td>52472400</td>\n",
              "    </tr>\n",
              "    <tr>\n",
              "      <th>3</th>\n",
              "      <td>2021-07-29</td>\n",
              "      <td>439.820007</td>\n",
              "      <td>441.799988</td>\n",
              "      <td>439.809998</td>\n",
              "      <td>440.649994</td>\n",
              "      <td>440.649994</td>\n",
              "      <td>47435300</td>\n",
              "    </tr>\n",
              "    <tr>\n",
              "      <th>4</th>\n",
              "      <td>2021-07-30</td>\n",
              "      <td>437.910004</td>\n",
              "      <td>440.059998</td>\n",
              "      <td>437.769989</td>\n",
              "      <td>438.510010</td>\n",
              "      <td>438.510010</td>\n",
              "      <td>68890600</td>\n",
              "    </tr>\n",
              "  </tbody>\n",
              "</table>\n",
              "</div>\n",
              "      <button class=\"colab-df-convert\" onclick=\"convertToInteractive('df-16369b89-5d3f-4c1c-b1d0-7480da57fb01')\"\n",
              "              title=\"Convert this dataframe to an interactive table.\"\n",
              "              style=\"display:none;\">\n",
              "        \n",
              "  <svg xmlns=\"http://www.w3.org/2000/svg\" height=\"24px\"viewBox=\"0 0 24 24\"\n",
              "       width=\"24px\">\n",
              "    <path d=\"M0 0h24v24H0V0z\" fill=\"none\"/>\n",
              "    <path d=\"M18.56 5.44l.94 2.06.94-2.06 2.06-.94-2.06-.94-.94-2.06-.94 2.06-2.06.94zm-11 1L8.5 8.5l.94-2.06 2.06-.94-2.06-.94L8.5 2.5l-.94 2.06-2.06.94zm10 10l.94 2.06.94-2.06 2.06-.94-2.06-.94-.94-2.06-.94 2.06-2.06.94z\"/><path d=\"M17.41 7.96l-1.37-1.37c-.4-.4-.92-.59-1.43-.59-.52 0-1.04.2-1.43.59L10.3 9.45l-7.72 7.72c-.78.78-.78 2.05 0 2.83L4 21.41c.39.39.9.59 1.41.59.51 0 1.02-.2 1.41-.59l7.78-7.78 2.81-2.81c.8-.78.8-2.07 0-2.86zM5.41 20L4 18.59l7.72-7.72 1.47 1.35L5.41 20z\"/>\n",
              "  </svg>\n",
              "      </button>\n",
              "      \n",
              "  <style>\n",
              "    .colab-df-container {\n",
              "      display:flex;\n",
              "      flex-wrap:wrap;\n",
              "      gap: 12px;\n",
              "    }\n",
              "\n",
              "    .colab-df-convert {\n",
              "      background-color: #E8F0FE;\n",
              "      border: none;\n",
              "      border-radius: 50%;\n",
              "      cursor: pointer;\n",
              "      display: none;\n",
              "      fill: #1967D2;\n",
              "      height: 32px;\n",
              "      padding: 0 0 0 0;\n",
              "      width: 32px;\n",
              "    }\n",
              "\n",
              "    .colab-df-convert:hover {\n",
              "      background-color: #E2EBFA;\n",
              "      box-shadow: 0px 1px 2px rgba(60, 64, 67, 0.3), 0px 1px 3px 1px rgba(60, 64, 67, 0.15);\n",
              "      fill: #174EA6;\n",
              "    }\n",
              "\n",
              "    [theme=dark] .colab-df-convert {\n",
              "      background-color: #3B4455;\n",
              "      fill: #D2E3FC;\n",
              "    }\n",
              "\n",
              "    [theme=dark] .colab-df-convert:hover {\n",
              "      background-color: #434B5C;\n",
              "      box-shadow: 0px 1px 3px 1px rgba(0, 0, 0, 0.15);\n",
              "      filter: drop-shadow(0px 1px 2px rgba(0, 0, 0, 0.3));\n",
              "      fill: #FFFFFF;\n",
              "    }\n",
              "  </style>\n",
              "\n",
              "      <script>\n",
              "        const buttonEl =\n",
              "          document.querySelector('#df-16369b89-5d3f-4c1c-b1d0-7480da57fb01 button.colab-df-convert');\n",
              "        buttonEl.style.display =\n",
              "          google.colab.kernel.accessAllowed ? 'block' : 'none';\n",
              "\n",
              "        async function convertToInteractive(key) {\n",
              "          const element = document.querySelector('#df-16369b89-5d3f-4c1c-b1d0-7480da57fb01');\n",
              "          const dataTable =\n",
              "            await google.colab.kernel.invokeFunction('convertToInteractive',\n",
              "                                                     [key], {});\n",
              "          if (!dataTable) return;\n",
              "\n",
              "          const docLinkHtml = 'Like what you see? Visit the ' +\n",
              "            '<a target=\"_blank\" href=https://colab.research.google.com/notebooks/data_table.ipynb>data table notebook</a>'\n",
              "            + ' to learn more about interactive tables.';\n",
              "          element.innerHTML = '';\n",
              "          dataTable['output_type'] = 'display_data';\n",
              "          await google.colab.output.renderOutput(dataTable, element);\n",
              "          const docLink = document.createElement('div');\n",
              "          docLink.innerHTML = docLinkHtml;\n",
              "          element.appendChild(docLink);\n",
              "        }\n",
              "      </script>\n",
              "    </div>\n",
              "  </div>\n",
              "  "
            ]
          },
          "metadata": {},
          "execution_count": 35
        }
      ]
    },
    {
      "cell_type": "code",
      "source": [
        "import pandas as pd\n"
      ],
      "metadata": {
        "id": "CUFFhcS4Wpn3"
      },
      "execution_count": 19,
      "outputs": []
    },
    {
      "cell_type": "code",
      "source": [
        "dfs = pd.read_html(url)"
      ],
      "metadata": {
        "id": "1H2ejO4DcK0q"
      },
      "execution_count": 20,
      "outputs": []
    },
    {
      "cell_type": "code",
      "source": [
        "dfs[0]"
      ],
      "metadata": {
        "colab": {
          "base_uri": "https://localhost:8080/",
          "height": 394
        },
        "id": "YZ3dlKBpcZSY",
        "outputId": "6751dff0-b3d8-4c20-8c96-f90a2763b5eb"
      },
      "execution_count": 21,
      "outputs": [
        {
          "output_type": "execute_result",
          "data": {
            "text/plain": [
              "  Unnamed: 0_level_0               Open               High                Low  \\\n",
              "                Date Unnamed: 1_level_1 Unnamed: 2_level_1 Unnamed: 3_level_1   \n",
              "0         2021-07-26         439.309998         441.029999         439.260010   \n",
              "1         2021-07-27         439.910004         439.940002         435.989990   \n",
              "2         2021-07-28         439.679993         440.299988         437.309998   \n",
              "3         2021-07-29         439.820007         441.799988         439.809998   \n",
              "4         2021-07-30         437.910004         440.059998         437.769989   \n",
              "5         2021-08-02         440.339996         440.929993         437.209991   \n",
              "6         2021-08-03         438.440002         441.279999         436.100006   \n",
              "7         2021-08-04         439.779999         441.119995         438.730011   \n",
              "8         2021-08-05         440.220001         441.850006         439.880005   \n",
              "9         2021-08-06         442.100006         442.940002         441.799988   \n",
              "\n",
              "               Close          Adj Close             Volume  \n",
              "  Unnamed: 4_level_1 Unnamed: 5_level_1 Unnamed: 6_level_1  \n",
              "0         441.019989         441.019989           43719200  \n",
              "1         439.010010         439.010010           67397100  \n",
              "2         438.829987         438.829987           52472400  \n",
              "3         440.649994         440.649994           47435300  \n",
              "4         438.510010         438.510010           68890600  \n",
              "5         437.589996         437.589996           58783300  \n",
              "6         441.149994         441.149994           58053900  \n",
              "7         438.980011         438.980011           46732200  \n",
              "8         441.760010         441.760010           38969700  \n",
              "9         442.489990         442.489990           46864100  "
            ],
            "text/html": [
              "\n",
              "  <div id=\"df-fb16d266-e1db-4cfd-8f43-c407d12584c9\">\n",
              "    <div class=\"colab-df-container\">\n",
              "      <div>\n",
              "<style scoped>\n",
              "    .dataframe tbody tr th:only-of-type {\n",
              "        vertical-align: middle;\n",
              "    }\n",
              "\n",
              "    .dataframe tbody tr th {\n",
              "        vertical-align: top;\n",
              "    }\n",
              "\n",
              "    .dataframe thead tr th {\n",
              "        text-align: left;\n",
              "    }\n",
              "</style>\n",
              "<table border=\"1\" class=\"dataframe\">\n",
              "  <thead>\n",
              "    <tr>\n",
              "      <th></th>\n",
              "      <th>Unnamed: 0_level_0</th>\n",
              "      <th>Open</th>\n",
              "      <th>High</th>\n",
              "      <th>Low</th>\n",
              "      <th>Close</th>\n",
              "      <th>Adj Close</th>\n",
              "      <th>Volume</th>\n",
              "    </tr>\n",
              "    <tr>\n",
              "      <th></th>\n",
              "      <th>Date</th>\n",
              "      <th>Unnamed: 1_level_1</th>\n",
              "      <th>Unnamed: 2_level_1</th>\n",
              "      <th>Unnamed: 3_level_1</th>\n",
              "      <th>Unnamed: 4_level_1</th>\n",
              "      <th>Unnamed: 5_level_1</th>\n",
              "      <th>Unnamed: 6_level_1</th>\n",
              "    </tr>\n",
              "  </thead>\n",
              "  <tbody>\n",
              "    <tr>\n",
              "      <th>0</th>\n",
              "      <td>2021-07-26</td>\n",
              "      <td>439.309998</td>\n",
              "      <td>441.029999</td>\n",
              "      <td>439.260010</td>\n",
              "      <td>441.019989</td>\n",
              "      <td>441.019989</td>\n",
              "      <td>43719200</td>\n",
              "    </tr>\n",
              "    <tr>\n",
              "      <th>1</th>\n",
              "      <td>2021-07-27</td>\n",
              "      <td>439.910004</td>\n",
              "      <td>439.940002</td>\n",
              "      <td>435.989990</td>\n",
              "      <td>439.010010</td>\n",
              "      <td>439.010010</td>\n",
              "      <td>67397100</td>\n",
              "    </tr>\n",
              "    <tr>\n",
              "      <th>2</th>\n",
              "      <td>2021-07-28</td>\n",
              "      <td>439.679993</td>\n",
              "      <td>440.299988</td>\n",
              "      <td>437.309998</td>\n",
              "      <td>438.829987</td>\n",
              "      <td>438.829987</td>\n",
              "      <td>52472400</td>\n",
              "    </tr>\n",
              "    <tr>\n",
              "      <th>3</th>\n",
              "      <td>2021-07-29</td>\n",
              "      <td>439.820007</td>\n",
              "      <td>441.799988</td>\n",
              "      <td>439.809998</td>\n",
              "      <td>440.649994</td>\n",
              "      <td>440.649994</td>\n",
              "      <td>47435300</td>\n",
              "    </tr>\n",
              "    <tr>\n",
              "      <th>4</th>\n",
              "      <td>2021-07-30</td>\n",
              "      <td>437.910004</td>\n",
              "      <td>440.059998</td>\n",
              "      <td>437.769989</td>\n",
              "      <td>438.510010</td>\n",
              "      <td>438.510010</td>\n",
              "      <td>68890600</td>\n",
              "    </tr>\n",
              "    <tr>\n",
              "      <th>5</th>\n",
              "      <td>2021-08-02</td>\n",
              "      <td>440.339996</td>\n",
              "      <td>440.929993</td>\n",
              "      <td>437.209991</td>\n",
              "      <td>437.589996</td>\n",
              "      <td>437.589996</td>\n",
              "      <td>58783300</td>\n",
              "    </tr>\n",
              "    <tr>\n",
              "      <th>6</th>\n",
              "      <td>2021-08-03</td>\n",
              "      <td>438.440002</td>\n",
              "      <td>441.279999</td>\n",
              "      <td>436.100006</td>\n",
              "      <td>441.149994</td>\n",
              "      <td>441.149994</td>\n",
              "      <td>58053900</td>\n",
              "    </tr>\n",
              "    <tr>\n",
              "      <th>7</th>\n",
              "      <td>2021-08-04</td>\n",
              "      <td>439.779999</td>\n",
              "      <td>441.119995</td>\n",
              "      <td>438.730011</td>\n",
              "      <td>438.980011</td>\n",
              "      <td>438.980011</td>\n",
              "      <td>46732200</td>\n",
              "    </tr>\n",
              "    <tr>\n",
              "      <th>8</th>\n",
              "      <td>2021-08-05</td>\n",
              "      <td>440.220001</td>\n",
              "      <td>441.850006</td>\n",
              "      <td>439.880005</td>\n",
              "      <td>441.760010</td>\n",
              "      <td>441.760010</td>\n",
              "      <td>38969700</td>\n",
              "    </tr>\n",
              "    <tr>\n",
              "      <th>9</th>\n",
              "      <td>2021-08-06</td>\n",
              "      <td>442.100006</td>\n",
              "      <td>442.940002</td>\n",
              "      <td>441.799988</td>\n",
              "      <td>442.489990</td>\n",
              "      <td>442.489990</td>\n",
              "      <td>46864100</td>\n",
              "    </tr>\n",
              "  </tbody>\n",
              "</table>\n",
              "</div>\n",
              "      <button class=\"colab-df-convert\" onclick=\"convertToInteractive('df-fb16d266-e1db-4cfd-8f43-c407d12584c9')\"\n",
              "              title=\"Convert this dataframe to an interactive table.\"\n",
              "              style=\"display:none;\">\n",
              "        \n",
              "  <svg xmlns=\"http://www.w3.org/2000/svg\" height=\"24px\"viewBox=\"0 0 24 24\"\n",
              "       width=\"24px\">\n",
              "    <path d=\"M0 0h24v24H0V0z\" fill=\"none\"/>\n",
              "    <path d=\"M18.56 5.44l.94 2.06.94-2.06 2.06-.94-2.06-.94-.94-2.06-.94 2.06-2.06.94zm-11 1L8.5 8.5l.94-2.06 2.06-.94-2.06-.94L8.5 2.5l-.94 2.06-2.06.94zm10 10l.94 2.06.94-2.06 2.06-.94-2.06-.94-.94-2.06-.94 2.06-2.06.94z\"/><path d=\"M17.41 7.96l-1.37-1.37c-.4-.4-.92-.59-1.43-.59-.52 0-1.04.2-1.43.59L10.3 9.45l-7.72 7.72c-.78.78-.78 2.05 0 2.83L4 21.41c.39.39.9.59 1.41.59.51 0 1.02-.2 1.41-.59l7.78-7.78 2.81-2.81c.8-.78.8-2.07 0-2.86zM5.41 20L4 18.59l7.72-7.72 1.47 1.35L5.41 20z\"/>\n",
              "  </svg>\n",
              "      </button>\n",
              "      \n",
              "  <style>\n",
              "    .colab-df-container {\n",
              "      display:flex;\n",
              "      flex-wrap:wrap;\n",
              "      gap: 12px;\n",
              "    }\n",
              "\n",
              "    .colab-df-convert {\n",
              "      background-color: #E8F0FE;\n",
              "      border: none;\n",
              "      border-radius: 50%;\n",
              "      cursor: pointer;\n",
              "      display: none;\n",
              "      fill: #1967D2;\n",
              "      height: 32px;\n",
              "      padding: 0 0 0 0;\n",
              "      width: 32px;\n",
              "    }\n",
              "\n",
              "    .colab-df-convert:hover {\n",
              "      background-color: #E2EBFA;\n",
              "      box-shadow: 0px 1px 2px rgba(60, 64, 67, 0.3), 0px 1px 3px 1px rgba(60, 64, 67, 0.15);\n",
              "      fill: #174EA6;\n",
              "    }\n",
              "\n",
              "    [theme=dark] .colab-df-convert {\n",
              "      background-color: #3B4455;\n",
              "      fill: #D2E3FC;\n",
              "    }\n",
              "\n",
              "    [theme=dark] .colab-df-convert:hover {\n",
              "      background-color: #434B5C;\n",
              "      box-shadow: 0px 1px 3px 1px rgba(0, 0, 0, 0.15);\n",
              "      filter: drop-shadow(0px 1px 2px rgba(0, 0, 0, 0.3));\n",
              "      fill: #FFFFFF;\n",
              "    }\n",
              "  </style>\n",
              "\n",
              "      <script>\n",
              "        const buttonEl =\n",
              "          document.querySelector('#df-fb16d266-e1db-4cfd-8f43-c407d12584c9 button.colab-df-convert');\n",
              "        buttonEl.style.display =\n",
              "          google.colab.kernel.accessAllowed ? 'block' : 'none';\n",
              "\n",
              "        async function convertToInteractive(key) {\n",
              "          const element = document.querySelector('#df-fb16d266-e1db-4cfd-8f43-c407d12584c9');\n",
              "          const dataTable =\n",
              "            await google.colab.kernel.invokeFunction('convertToInteractive',\n",
              "                                                     [key], {});\n",
              "          if (!dataTable) return;\n",
              "\n",
              "          const docLinkHtml = 'Like what you see? Visit the ' +\n",
              "            '<a target=\"_blank\" href=https://colab.research.google.com/notebooks/data_table.ipynb>data table notebook</a>'\n",
              "            + ' to learn more about interactive tables.';\n",
              "          element.innerHTML = '';\n",
              "          dataTable['output_type'] = 'display_data';\n",
              "          await google.colab.output.renderOutput(dataTable, element);\n",
              "          const docLink = document.createElement('div');\n",
              "          docLink.innerHTML = docLinkHtml;\n",
              "          element.appendChild(docLink);\n",
              "        }\n",
              "      </script>\n",
              "    </div>\n",
              "  </div>\n",
              "  "
            ]
          },
          "metadata": {},
          "execution_count": 21
        }
      ]
    },
    {
      "cell_type": "code",
      "source": [
        "url = \"https://victorgau.github.io/khpy_web_intro/spy_ajax.html\""
      ],
      "metadata": {
        "id": "lAApDgg-WKj2"
      },
      "execution_count": 12,
      "outputs": []
    },
    {
      "cell_type": "code",
      "source": [
        "r = requests.get(url)"
      ],
      "metadata": {
        "id": "586SCjo0Xg2F"
      },
      "execution_count": 13,
      "outputs": []
    },
    {
      "cell_type": "markdown",
      "source": [
        "## 關於pandas的read_html()"
      ],
      "metadata": {
        "id": "uv7dEsZ6dJv3"
      }
    },
    {
      "cell_type": "code",
      "source": [
        "url = \"https://en.wikipedia.org/wiki/List_of_S%26P_500_companies\""
      ],
      "metadata": {
        "id": "Xe6FaI73XhWj"
      },
      "execution_count": 25,
      "outputs": []
    },
    {
      "cell_type": "code",
      "source": [
        "dfs = pd.read_html(url)"
      ],
      "metadata": {
        "id": "qJ6onhdadWPQ"
      },
      "execution_count": 26,
      "outputs": []
    },
    {
      "cell_type": "code",
      "source": [
        "type(dfs)"
      ],
      "metadata": {
        "colab": {
          "base_uri": "https://localhost:8080/"
        },
        "id": "0ddlBPkxdc0x",
        "outputId": "4d4f57e2-4937-442f-e5f1-e6cc4961b3b8"
      },
      "execution_count": 27,
      "outputs": [
        {
          "output_type": "execute_result",
          "data": {
            "text/plain": [
              "list"
            ]
          },
          "metadata": {},
          "execution_count": 27
        }
      ]
    },
    {
      "cell_type": "code",
      "source": [
        "len(dfs)"
      ],
      "metadata": {
        "colab": {
          "base_uri": "https://localhost:8080/"
        },
        "id": "0PjbuKIEdqlT",
        "outputId": "272129db-df74-45b8-822f-ca7bd6ac110c"
      },
      "execution_count": 28,
      "outputs": [
        {
          "output_type": "execute_result",
          "data": {
            "text/plain": [
              "2"
            ]
          },
          "metadata": {},
          "execution_count": 28
        }
      ]
    },
    {
      "cell_type": "code",
      "source": [
        "dfs[0]"
      ],
      "metadata": {
        "colab": {
          "base_uri": "https://localhost:8080/",
          "height": 423
        },
        "id": "PVB54sAJdruY",
        "outputId": "7a7abe99-e0fa-4007-fd52-21cb82e23bf0"
      },
      "execution_count": 30,
      "outputs": [
        {
          "output_type": "execute_result",
          "data": {
            "text/plain": [
              "    Symbol              Security             GICS Sector  \\\n",
              "0      MMM                    3M             Industrials   \n",
              "1      AOS           A. O. Smith             Industrials   \n",
              "2      ABT                Abbott             Health Care   \n",
              "3     ABBV                AbbVie             Health Care   \n",
              "4      ACN             Accenture  Information Technology   \n",
              "..     ...                   ...                     ...   \n",
              "498    YUM           Yum! Brands  Consumer Discretionary   \n",
              "499   ZBRA    Zebra Technologies  Information Technology   \n",
              "500    ZBH         Zimmer Biomet             Health Care   \n",
              "501   ZION  Zions Bancorporation              Financials   \n",
              "502    ZTS                Zoetis             Health Care   \n",
              "\n",
              "                      GICS Sub-Industry    Headquarters Location  Date added  \\\n",
              "0              Industrial Conglomerates    Saint Paul, Minnesota  1957-03-04   \n",
              "1                     Building Products     Milwaukee, Wisconsin  2017-07-26   \n",
              "2                 Health Care Equipment  North Chicago, Illinois  1957-03-04   \n",
              "3                       Pharmaceuticals  North Chicago, Illinois  2012-12-31   \n",
              "4        IT Consulting & Other Services          Dublin, Ireland  2011-07-06   \n",
              "..                                  ...                      ...         ...   \n",
              "498                         Restaurants     Louisville, Kentucky  1997-10-06   \n",
              "499  Electronic Equipment & Instruments   Lincolnshire, Illinois  2019-12-23   \n",
              "500               Health Care Equipment          Warsaw, Indiana  2001-08-07   \n",
              "501                      Regional Banks     Salt Lake City, Utah  2001-06-22   \n",
              "502                     Pharmaceuticals   Parsippany, New Jersey  2013-06-21   \n",
              "\n",
              "         CIK      Founded  \n",
              "0      66740         1902  \n",
              "1      91142         1916  \n",
              "2       1800         1888  \n",
              "3    1551152  2013 (1888)  \n",
              "4    1467373         1989  \n",
              "..       ...          ...  \n",
              "498  1041061         1997  \n",
              "499   877212         1969  \n",
              "500  1136869         1927  \n",
              "501   109380         1873  \n",
              "502  1555280         1952  \n",
              "\n",
              "[503 rows x 8 columns]"
            ],
            "text/html": [
              "\n",
              "  <div id=\"df-0579f15d-ed67-48c8-b423-fbb5d4c01ab7\">\n",
              "    <div class=\"colab-df-container\">\n",
              "      <div>\n",
              "<style scoped>\n",
              "    .dataframe tbody tr th:only-of-type {\n",
              "        vertical-align: middle;\n",
              "    }\n",
              "\n",
              "    .dataframe tbody tr th {\n",
              "        vertical-align: top;\n",
              "    }\n",
              "\n",
              "    .dataframe thead th {\n",
              "        text-align: right;\n",
              "    }\n",
              "</style>\n",
              "<table border=\"1\" class=\"dataframe\">\n",
              "  <thead>\n",
              "    <tr style=\"text-align: right;\">\n",
              "      <th></th>\n",
              "      <th>Symbol</th>\n",
              "      <th>Security</th>\n",
              "      <th>GICS Sector</th>\n",
              "      <th>GICS Sub-Industry</th>\n",
              "      <th>Headquarters Location</th>\n",
              "      <th>Date added</th>\n",
              "      <th>CIK</th>\n",
              "      <th>Founded</th>\n",
              "    </tr>\n",
              "  </thead>\n",
              "  <tbody>\n",
              "    <tr>\n",
              "      <th>0</th>\n",
              "      <td>MMM</td>\n",
              "      <td>3M</td>\n",
              "      <td>Industrials</td>\n",
              "      <td>Industrial Conglomerates</td>\n",
              "      <td>Saint Paul, Minnesota</td>\n",
              "      <td>1957-03-04</td>\n",
              "      <td>66740</td>\n",
              "      <td>1902</td>\n",
              "    </tr>\n",
              "    <tr>\n",
              "      <th>1</th>\n",
              "      <td>AOS</td>\n",
              "      <td>A. O. Smith</td>\n",
              "      <td>Industrials</td>\n",
              "      <td>Building Products</td>\n",
              "      <td>Milwaukee, Wisconsin</td>\n",
              "      <td>2017-07-26</td>\n",
              "      <td>91142</td>\n",
              "      <td>1916</td>\n",
              "    </tr>\n",
              "    <tr>\n",
              "      <th>2</th>\n",
              "      <td>ABT</td>\n",
              "      <td>Abbott</td>\n",
              "      <td>Health Care</td>\n",
              "      <td>Health Care Equipment</td>\n",
              "      <td>North Chicago, Illinois</td>\n",
              "      <td>1957-03-04</td>\n",
              "      <td>1800</td>\n",
              "      <td>1888</td>\n",
              "    </tr>\n",
              "    <tr>\n",
              "      <th>3</th>\n",
              "      <td>ABBV</td>\n",
              "      <td>AbbVie</td>\n",
              "      <td>Health Care</td>\n",
              "      <td>Pharmaceuticals</td>\n",
              "      <td>North Chicago, Illinois</td>\n",
              "      <td>2012-12-31</td>\n",
              "      <td>1551152</td>\n",
              "      <td>2013 (1888)</td>\n",
              "    </tr>\n",
              "    <tr>\n",
              "      <th>4</th>\n",
              "      <td>ACN</td>\n",
              "      <td>Accenture</td>\n",
              "      <td>Information Technology</td>\n",
              "      <td>IT Consulting &amp; Other Services</td>\n",
              "      <td>Dublin, Ireland</td>\n",
              "      <td>2011-07-06</td>\n",
              "      <td>1467373</td>\n",
              "      <td>1989</td>\n",
              "    </tr>\n",
              "    <tr>\n",
              "      <th>...</th>\n",
              "      <td>...</td>\n",
              "      <td>...</td>\n",
              "      <td>...</td>\n",
              "      <td>...</td>\n",
              "      <td>...</td>\n",
              "      <td>...</td>\n",
              "      <td>...</td>\n",
              "      <td>...</td>\n",
              "    </tr>\n",
              "    <tr>\n",
              "      <th>498</th>\n",
              "      <td>YUM</td>\n",
              "      <td>Yum! Brands</td>\n",
              "      <td>Consumer Discretionary</td>\n",
              "      <td>Restaurants</td>\n",
              "      <td>Louisville, Kentucky</td>\n",
              "      <td>1997-10-06</td>\n",
              "      <td>1041061</td>\n",
              "      <td>1997</td>\n",
              "    </tr>\n",
              "    <tr>\n",
              "      <th>499</th>\n",
              "      <td>ZBRA</td>\n",
              "      <td>Zebra Technologies</td>\n",
              "      <td>Information Technology</td>\n",
              "      <td>Electronic Equipment &amp; Instruments</td>\n",
              "      <td>Lincolnshire, Illinois</td>\n",
              "      <td>2019-12-23</td>\n",
              "      <td>877212</td>\n",
              "      <td>1969</td>\n",
              "    </tr>\n",
              "    <tr>\n",
              "      <th>500</th>\n",
              "      <td>ZBH</td>\n",
              "      <td>Zimmer Biomet</td>\n",
              "      <td>Health Care</td>\n",
              "      <td>Health Care Equipment</td>\n",
              "      <td>Warsaw, Indiana</td>\n",
              "      <td>2001-08-07</td>\n",
              "      <td>1136869</td>\n",
              "      <td>1927</td>\n",
              "    </tr>\n",
              "    <tr>\n",
              "      <th>501</th>\n",
              "      <td>ZION</td>\n",
              "      <td>Zions Bancorporation</td>\n",
              "      <td>Financials</td>\n",
              "      <td>Regional Banks</td>\n",
              "      <td>Salt Lake City, Utah</td>\n",
              "      <td>2001-06-22</td>\n",
              "      <td>109380</td>\n",
              "      <td>1873</td>\n",
              "    </tr>\n",
              "    <tr>\n",
              "      <th>502</th>\n",
              "      <td>ZTS</td>\n",
              "      <td>Zoetis</td>\n",
              "      <td>Health Care</td>\n",
              "      <td>Pharmaceuticals</td>\n",
              "      <td>Parsippany, New Jersey</td>\n",
              "      <td>2013-06-21</td>\n",
              "      <td>1555280</td>\n",
              "      <td>1952</td>\n",
              "    </tr>\n",
              "  </tbody>\n",
              "</table>\n",
              "<p>503 rows × 8 columns</p>\n",
              "</div>\n",
              "      <button class=\"colab-df-convert\" onclick=\"convertToInteractive('df-0579f15d-ed67-48c8-b423-fbb5d4c01ab7')\"\n",
              "              title=\"Convert this dataframe to an interactive table.\"\n",
              "              style=\"display:none;\">\n",
              "        \n",
              "  <svg xmlns=\"http://www.w3.org/2000/svg\" height=\"24px\"viewBox=\"0 0 24 24\"\n",
              "       width=\"24px\">\n",
              "    <path d=\"M0 0h24v24H0V0z\" fill=\"none\"/>\n",
              "    <path d=\"M18.56 5.44l.94 2.06.94-2.06 2.06-.94-2.06-.94-.94-2.06-.94 2.06-2.06.94zm-11 1L8.5 8.5l.94-2.06 2.06-.94-2.06-.94L8.5 2.5l-.94 2.06-2.06.94zm10 10l.94 2.06.94-2.06 2.06-.94-2.06-.94-.94-2.06-.94 2.06-2.06.94z\"/><path d=\"M17.41 7.96l-1.37-1.37c-.4-.4-.92-.59-1.43-.59-.52 0-1.04.2-1.43.59L10.3 9.45l-7.72 7.72c-.78.78-.78 2.05 0 2.83L4 21.41c.39.39.9.59 1.41.59.51 0 1.02-.2 1.41-.59l7.78-7.78 2.81-2.81c.8-.78.8-2.07 0-2.86zM5.41 20L4 18.59l7.72-7.72 1.47 1.35L5.41 20z\"/>\n",
              "  </svg>\n",
              "      </button>\n",
              "      \n",
              "  <style>\n",
              "    .colab-df-container {\n",
              "      display:flex;\n",
              "      flex-wrap:wrap;\n",
              "      gap: 12px;\n",
              "    }\n",
              "\n",
              "    .colab-df-convert {\n",
              "      background-color: #E8F0FE;\n",
              "      border: none;\n",
              "      border-radius: 50%;\n",
              "      cursor: pointer;\n",
              "      display: none;\n",
              "      fill: #1967D2;\n",
              "      height: 32px;\n",
              "      padding: 0 0 0 0;\n",
              "      width: 32px;\n",
              "    }\n",
              "\n",
              "    .colab-df-convert:hover {\n",
              "      background-color: #E2EBFA;\n",
              "      box-shadow: 0px 1px 2px rgba(60, 64, 67, 0.3), 0px 1px 3px 1px rgba(60, 64, 67, 0.15);\n",
              "      fill: #174EA6;\n",
              "    }\n",
              "\n",
              "    [theme=dark] .colab-df-convert {\n",
              "      background-color: #3B4455;\n",
              "      fill: #D2E3FC;\n",
              "    }\n",
              "\n",
              "    [theme=dark] .colab-df-convert:hover {\n",
              "      background-color: #434B5C;\n",
              "      box-shadow: 0px 1px 3px 1px rgba(0, 0, 0, 0.15);\n",
              "      filter: drop-shadow(0px 1px 2px rgba(0, 0, 0, 0.3));\n",
              "      fill: #FFFFFF;\n",
              "    }\n",
              "  </style>\n",
              "\n",
              "      <script>\n",
              "        const buttonEl =\n",
              "          document.querySelector('#df-0579f15d-ed67-48c8-b423-fbb5d4c01ab7 button.colab-df-convert');\n",
              "        buttonEl.style.display =\n",
              "          google.colab.kernel.accessAllowed ? 'block' : 'none';\n",
              "\n",
              "        async function convertToInteractive(key) {\n",
              "          const element = document.querySelector('#df-0579f15d-ed67-48c8-b423-fbb5d4c01ab7');\n",
              "          const dataTable =\n",
              "            await google.colab.kernel.invokeFunction('convertToInteractive',\n",
              "                                                     [key], {});\n",
              "          if (!dataTable) return;\n",
              "\n",
              "          const docLinkHtml = 'Like what you see? Visit the ' +\n",
              "            '<a target=\"_blank\" href=https://colab.research.google.com/notebooks/data_table.ipynb>data table notebook</a>'\n",
              "            + ' to learn more about interactive tables.';\n",
              "          element.innerHTML = '';\n",
              "          dataTable['output_type'] = 'display_data';\n",
              "          await google.colab.output.renderOutput(dataTable, element);\n",
              "          const docLink = document.createElement('div');\n",
              "          docLink.innerHTML = docLinkHtml;\n",
              "          element.appendChild(docLink);\n",
              "        }\n",
              "      </script>\n",
              "    </div>\n",
              "  </div>\n",
              "  "
            ]
          },
          "metadata": {},
          "execution_count": 30
        }
      ]
    },
    {
      "cell_type": "markdown",
      "source": [
        "# 剖析網頁原始碼"
      ],
      "metadata": {
        "id": "sDbnbz5KjMsQ"
      }
    },
    {
      "cell_type": "code",
      "source": [
        "s = \"\"\"\n",
        "<!DOCTYPE html>\n",
        "<html>\n",
        "<head>\n",
        "    <!-- Required meta tags -->\n",
        "    <meta charset=\"utf-8\">\n",
        "    <meta name=\"viewport\" content=\"width=device-width, initial-scale=1, shrink-to-fit=no\">\n",
        "\n",
        "    <!-- Bootstrap CSS -->\n",
        "    <link rel=\"stylesheet\" href=\"https://maxcdn.bootstrapcdn.com/bootstrap/4.0.0/css/bootstrap.min.css\" integrity=\"sha384-Gn5384xqQ1aoWXA+058RXPxPg6fy4IWvTNh0E263XmFcJlSAwiGgFAW/dAiS6JXm\" crossorigin=\"anonymous\">\n",
        "    <link rel=\"stylesheet\" href=\"https://cdn.jsdelivr.net/npm/bootstrap-icons@1.5.0/font/bootstrap-icons.css\">\n",
        "    <title>範例索引</title>\n",
        "</head>\n",
        "<body>\n",
        "    <div class=\"container\">\n",
        "        <div class=\"row my-5\">\n",
        "            <div class=\"col\">\n",
        "                <h1 class=\"bg-warning p-3 rounded\">Web及爬蟲簡介課程範例</h1>\n",
        "\n",
        "                <ul class=\"list-group\">\n",
        "                    <li class=\"list-group-item\"><i class=\"bi bi-globe\"></i> <a href=\"html_only.html\">HTML 範例</a></li>\n",
        "                    <li class=\"list-group-item\"><i class=\"bi bi-globe\"></i> <a href=\"html_css.html\">HTML + CSS 範例</a></li>\n",
        "                    <li class=\"list-group-item\"><i class=\"bi bi-globe\"></i> <a href=\"html_css_javascript.html\">HTML + CSS + Javascript 範例</a></li>\n",
        "                    <li class=\"list-group-item\"><i class=\"bi bi-bug\"></i> <a href=\"example01.html\">example01.html (爬蟲抓取用範例)</a></li>\n",
        "                    <li class=\"list-group-item\"><i class=\"bi bi-bug\"></i> <a href=\"example02.html\">example02.html (爬蟲抓取用範例)</a></li>\n",
        "                    <li class=\"list-group-item\"><i class=\"bi bi-bug\"></i> <a href=\"example03.html\">example03.html (爬蟲抓取用範例)</a></li>\n",
        "                    <li class=\"list-group-item\"><i class=\"bi bi-bug\"></i> <a href=\"example04.html\">example04.html (爬蟲抓取用範例)</a></li>\n",
        "                    <li class=\"list-group-item\"><i class=\"bi bi-bug\"></i> <a href=\"example05.html\">example05.html (爬蟲抓取用範例)</a></li>\n",
        "                    <li class=\"list-group-item\"><i class=\"bi bi-bug\"></i> <a href=\"spy.html\">Classic HTML 範例 (爬蟲抓取用範例)</a></li>\n",
        "                    <li class=\"list-group-item\"><i class=\"bi bi-bug\"></i> <a href=\"spy_ajax.html\">Ajax 範例 (爬蟲抓取用範例)</a></li>\n",
        "                    <li class=\"list-group-item\"><i class=\"bi bi-bug\"></i> <a href=\"form_get.html\">HTTP GET 方法說明</a></li>\n",
        "                    <li class=\"list-group-item\"><i class=\"bi bi-bug\"></i> <a href=\"form_post.html\">HTTP POST 方法說明</a></li>\n",
        "                </ul>         \n",
        "            </div>\n",
        "    \n",
        "        </div>\n",
        "    </div>\n",
        "\n",
        "<!-- Optional JavaScript -->\n",
        "<!-- jQuery first, then Popper.js, then Bootstrap JS -->\n",
        "<script src=\"https://code.jquery.com/jquery-3.2.1.slim.min.js\" integrity=\"sha384-KJ3o2DKtIkvYIK3UENzmM7KCkRr/rE9/Qpg6aAZGJwFDMVNA/GpGFF93hXpG5KkN\" crossorigin=\"anonymous\"></script>\n",
        "<script src=\"https://cdnjs.cloudflare.com/ajax/libs/popper.js/1.12.9/umd/popper.min.js\" integrity=\"sha384-ApNbgh9B+Y1QKtv3Rn7W3mgPxhU9K/ScQsAP7hUibX39j7fakFPskvXusvfa0b4Q\" crossorigin=\"anonymous\"></script>\n",
        "<script src=\"https://maxcdn.bootstrapcdn.com/bootstrap/4.0.0/js/bootstrap.min.js\" integrity=\"sha384-JZR6Spejh4U02d8jOt6vLEHfe/JQGiRRSQQxSfFWpi1MquVdAyjUar5+76PVCmYl\" crossorigin=\"anonymous\"></script>\n",
        "\n",
        "</body>\n",
        "</html>\"\"\""
      ],
      "metadata": {
        "id": "VcZ7wrBRdvQT"
      },
      "execution_count": 36,
      "outputs": []
    },
    {
      "cell_type": "code",
      "source": [
        "type(s)"
      ],
      "metadata": {
        "colab": {
          "base_uri": "https://localhost:8080/"
        },
        "id": "ZwSEkFb6jo3N",
        "outputId": "a2464e01-9243-4e24-e6dc-bc3ac8f055b4"
      },
      "execution_count": 37,
      "outputs": [
        {
          "output_type": "execute_result",
          "data": {
            "text/plain": [
              "str"
            ]
          },
          "metadata": {},
          "execution_count": 37
        }
      ]
    },
    {
      "cell_type": "code",
      "source": [
        "from bs4 import BeautifulSoup"
      ],
      "metadata": {
        "id": "xo7cDHw8jr8G"
      },
      "execution_count": 38,
      "outputs": []
    },
    {
      "cell_type": "code",
      "source": [
        "soup = BeautifulSoup(s)"
      ],
      "metadata": {
        "id": "1_mZMWZnkB7F"
      },
      "execution_count": 40,
      "outputs": []
    },
    {
      "cell_type": "code",
      "source": [
        "soup.h1"
      ],
      "metadata": {
        "colab": {
          "base_uri": "https://localhost:8080/"
        },
        "id": "Ng6TlILkkIs7",
        "outputId": "337c00b0-b48f-4df8-8802-01b6742b7393"
      },
      "execution_count": 41,
      "outputs": [
        {
          "output_type": "execute_result",
          "data": {
            "text/plain": [
              "<h1 class=\"bg-warning p-3 rounded\">Web及爬蟲簡介課程範例</h1>"
            ]
          },
          "metadata": {},
          "execution_count": 41
        }
      ]
    },
    {
      "cell_type": "code",
      "source": [
        "soup.h1.text"
      ],
      "metadata": {
        "colab": {
          "base_uri": "https://localhost:8080/",
          "height": 36
        },
        "id": "W4mp3ECvkN4s",
        "outputId": "1d51a76a-ec50-4a89-9be5-496e01183312"
      },
      "execution_count": 42,
      "outputs": [
        {
          "output_type": "execute_result",
          "data": {
            "text/plain": [
              "'Web及爬蟲簡介課程範例'"
            ],
            "application/vnd.google.colaboratory.intrinsic+json": {
              "type": "string"
            }
          },
          "metadata": {},
          "execution_count": 42
        }
      ]
    },
    {
      "cell_type": "code",
      "source": [
        "# 抓取單一li 資料\n",
        "soup.li"
      ],
      "metadata": {
        "colab": {
          "base_uri": "https://localhost:8080/"
        },
        "id": "epmbm5IykQD9",
        "outputId": "0db6c3a3-8d66-4ea5-a470-365bf6cbdeb3"
      },
      "execution_count": 43,
      "outputs": [
        {
          "output_type": "execute_result",
          "data": {
            "text/plain": [
              "<li class=\"list-group-item\"><i class=\"bi bi-globe\"></i> <a href=\"html_only.html\">HTML 範例</a></li>"
            ]
          },
          "metadata": {},
          "execution_count": 43
        }
      ]
    },
    {
      "cell_type": "code",
      "source": [
        "# 抓取所有li資料\n",
        "soup.select(\"li\")"
      ],
      "metadata": {
        "colab": {
          "base_uri": "https://localhost:8080/"
        },
        "id": "d5KAHogMkZkW",
        "outputId": "02eeeadf-ce25-4840-d67c-fec80d0e64ac"
      },
      "execution_count": 44,
      "outputs": [
        {
          "output_type": "execute_result",
          "data": {
            "text/plain": [
              "[<li class=\"list-group-item\"><i class=\"bi bi-globe\"></i> <a href=\"html_only.html\">HTML 範例</a></li>,\n",
              " <li class=\"list-group-item\"><i class=\"bi bi-globe\"></i> <a href=\"html_css.html\">HTML + CSS 範例</a></li>,\n",
              " <li class=\"list-group-item\"><i class=\"bi bi-globe\"></i> <a href=\"html_css_javascript.html\">HTML + CSS + Javascript 範例</a></li>,\n",
              " <li class=\"list-group-item\"><i class=\"bi bi-bug\"></i> <a href=\"example01.html\">example01.html (爬蟲抓取用範例)</a></li>,\n",
              " <li class=\"list-group-item\"><i class=\"bi bi-bug\"></i> <a href=\"example02.html\">example02.html (爬蟲抓取用範例)</a></li>,\n",
              " <li class=\"list-group-item\"><i class=\"bi bi-bug\"></i> <a href=\"example03.html\">example03.html (爬蟲抓取用範例)</a></li>,\n",
              " <li class=\"list-group-item\"><i class=\"bi bi-bug\"></i> <a href=\"example04.html\">example04.html (爬蟲抓取用範例)</a></li>,\n",
              " <li class=\"list-group-item\"><i class=\"bi bi-bug\"></i> <a href=\"example05.html\">example05.html (爬蟲抓取用範例)</a></li>,\n",
              " <li class=\"list-group-item\"><i class=\"bi bi-bug\"></i> <a href=\"spy.html\">Classic HTML 範例 (爬蟲抓取用範例)</a></li>,\n",
              " <li class=\"list-group-item\"><i class=\"bi bi-bug\"></i> <a href=\"spy_ajax.html\">Ajax 範例 (爬蟲抓取用範例)</a></li>,\n",
              " <li class=\"list-group-item\"><i class=\"bi bi-bug\"></i> <a href=\"form_get.html\">HTTP GET 方法說明</a></li>,\n",
              " <li class=\"list-group-item\"><i class=\"bi bi-bug\"></i> <a href=\"form_post.html\">HTTP POST 方法說明</a></li>]"
            ]
          },
          "metadata": {},
          "execution_count": 44
        }
      ]
    },
    {
      "cell_type": "code",
      "source": [
        "soup.select(\"li\")[0]"
      ],
      "metadata": {
        "colab": {
          "base_uri": "https://localhost:8080/"
        },
        "id": "yBjI7ovokeIg",
        "outputId": "70cb5759-99d6-4bac-8d6d-872e2aff6142"
      },
      "execution_count": 45,
      "outputs": [
        {
          "output_type": "execute_result",
          "data": {
            "text/plain": [
              "<li class=\"list-group-item\"><i class=\"bi bi-globe\"></i> <a href=\"html_only.html\">HTML 範例</a></li>"
            ]
          },
          "metadata": {},
          "execution_count": 45
        }
      ]
    },
    {
      "cell_type": "code",
      "source": [
        "soup.select(\"li\")[0].text"
      ],
      "metadata": {
        "colab": {
          "base_uri": "https://localhost:8080/",
          "height": 36
        },
        "id": "g1kQgX_LpLvm",
        "outputId": "0dc6525d-4852-4133-fe2b-3fe53e77e3bf"
      },
      "execution_count": 46,
      "outputs": [
        {
          "output_type": "execute_result",
          "data": {
            "text/plain": [
              "' HTML 範例'"
            ],
            "application/vnd.google.colaboratory.intrinsic+json": {
              "type": "string"
            }
          },
          "metadata": {},
          "execution_count": 46
        }
      ]
    },
    {
      "cell_type": "code",
      "source": [
        "soup.select(\"li\")[1].text"
      ],
      "metadata": {
        "colab": {
          "base_uri": "https://localhost:8080/",
          "height": 36
        },
        "id": "beLiaqggpQsM",
        "outputId": "80106f31-ac5a-46b7-fab1-e8478301f54d"
      },
      "execution_count": 47,
      "outputs": [
        {
          "output_type": "execute_result",
          "data": {
            "text/plain": [
              "' HTML + CSS 範例'"
            ],
            "application/vnd.google.colaboratory.intrinsic+json": {
              "type": "string"
            }
          },
          "metadata": {},
          "execution_count": 47
        }
      ]
    },
    {
      "cell_type": "code",
      "source": [
        "for x in soup.select(\"li\"):\n",
        "   print(x.text)"
      ],
      "metadata": {
        "colab": {
          "base_uri": "https://localhost:8080/"
        },
        "id": "l3A0vGWApUOc",
        "outputId": "44c5b956-259d-4ba0-d24b-60596aadeabf"
      },
      "execution_count": 50,
      "outputs": [
        {
          "output_type": "stream",
          "name": "stdout",
          "text": [
            " HTML 範例\n",
            " HTML + CSS 範例\n",
            " HTML + CSS + Javascript 範例\n",
            " example01.html (爬蟲抓取用範例)\n",
            " example02.html (爬蟲抓取用範例)\n",
            " example03.html (爬蟲抓取用範例)\n",
            " example04.html (爬蟲抓取用範例)\n",
            " example05.html (爬蟲抓取用範例)\n",
            " Classic HTML 範例 (爬蟲抓取用範例)\n",
            " Ajax 範例 (爬蟲抓取用範例)\n",
            " HTTP GET 方法說明\n",
            " HTTP POST 方法說明\n"
          ]
        }
      ]
    },
    {
      "cell_type": "code",
      "source": [
        "for i,x in enumerate(soup.select(\"li\")):\n",
        "   print(i, \":\",x.text)"
      ],
      "metadata": {
        "colab": {
          "base_uri": "https://localhost:8080/"
        },
        "id": "wlv0Y5yfpWQz",
        "outputId": "11ae5e1f-ccf7-4492-f7ab-b6cfd5aaee56"
      },
      "execution_count": 54,
      "outputs": [
        {
          "output_type": "stream",
          "name": "stdout",
          "text": [
            "0 :  HTML 範例\n",
            "1 :  HTML + CSS 範例\n",
            "2 :  HTML + CSS + Javascript 範例\n",
            "3 :  example01.html (爬蟲抓取用範例)\n",
            "4 :  example02.html (爬蟲抓取用範例)\n",
            "5 :  example03.html (爬蟲抓取用範例)\n",
            "6 :  example04.html (爬蟲抓取用範例)\n",
            "7 :  example05.html (爬蟲抓取用範例)\n",
            "8 :  Classic HTML 範例 (爬蟲抓取用範例)\n",
            "9 :  Ajax 範例 (爬蟲抓取用範例)\n",
            "10 :  HTTP GET 方法說明\n",
            "11 :  HTTP POST 方法說明\n"
          ]
        }
      ]
    },
    {
      "cell_type": "code",
      "source": [
        "for i, x in enumerate(soup.select(\"li\")):\n",
        "  print(f\"{i:2}\", \":\", x.text)"
      ],
      "metadata": {
        "colab": {
          "base_uri": "https://localhost:8080/"
        },
        "id": "xLY10Xu6p0Qh",
        "outputId": "6ba43f95-ebc1-4d50-f046-23093ec9e4d1"
      },
      "execution_count": 55,
      "outputs": [
        {
          "output_type": "stream",
          "name": "stdout",
          "text": [
            " 0 :  HTML 範例\n",
            " 1 :  HTML + CSS 範例\n",
            " 2 :  HTML + CSS + Javascript 範例\n",
            " 3 :  example01.html (爬蟲抓取用範例)\n",
            " 4 :  example02.html (爬蟲抓取用範例)\n",
            " 5 :  example03.html (爬蟲抓取用範例)\n",
            " 6 :  example04.html (爬蟲抓取用範例)\n",
            " 7 :  example05.html (爬蟲抓取用範例)\n",
            " 8 :  Classic HTML 範例 (爬蟲抓取用範例)\n",
            " 9 :  Ajax 範例 (爬蟲抓取用範例)\n",
            "10 :  HTTP GET 方法說明\n",
            "11 :  HTTP POST 方法說明\n"
          ]
        }
      ]
    },
    {
      "cell_type": "code",
      "source": [
        "for i, x in enumerate(soup.select(\"li\")):\n",
        "  print(f\"{i:2}: x.text)"
      ],
      "metadata": {
        "colab": {
          "base_uri": "https://localhost:8080/",
          "height": 136
        },
        "id": "-0HMJe4zqG2E",
        "outputId": "07db5343-f4b1-4f60-8878-af2902766152"
      },
      "execution_count": 56,
      "outputs": [
        {
          "output_type": "error",
          "ename": "SyntaxError",
          "evalue": "ignored",
          "traceback": [
            "\u001b[0;36m  File \u001b[0;32m\"<ipython-input-56-4e8c2853ce2f>\"\u001b[0;36m, line \u001b[0;32m2\u001b[0m\n\u001b[0;31m    print(f\"{i:2}: x.text)\u001b[0m\n\u001b[0m                          ^\u001b[0m\n\u001b[0;31mSyntaxError\u001b[0m\u001b[0;31m:\u001b[0m EOL while scanning string literal\n"
          ]
        }
      ]
    },
    {
      "cell_type": "markdown",
      "source": [
        "# 關於字串格式化"
      ],
      "metadata": {
        "id": "bElPhNedqQOI"
      }
    },
    {
      "cell_type": "code",
      "source": [
        "x = 1\n",
        "y = 1.23\n",
        "z = True\n",
        "w = \"dog\""
      ],
      "metadata": {
        "id": "3zNytLEyqJGa"
      },
      "execution_count": 58,
      "outputs": []
    },
    {
      "cell_type": "code",
      "source": [
        "print(x, y, z, w)"
      ],
      "metadata": {
        "colab": {
          "base_uri": "https://localhost:8080/"
        },
        "id": "l2SkJ873uVT7",
        "outputId": "125a2114-72fe-48f8-f757-08dae7701052"
      },
      "execution_count": 59,
      "outputs": [
        {
          "output_type": "stream",
          "name": "stdout",
          "text": [
            "1 1.23 True dog\n"
          ]
        }
      ]
    },
    {
      "cell_type": "code",
      "source": [
        "print(x, y, z, w, sep=\"\")"
      ],
      "metadata": {
        "colab": {
          "base_uri": "https://localhost:8080/"
        },
        "id": "7s5pB55cuo1c",
        "outputId": "c079bdf7-ff2d-43c5-fe9f-365527084f59"
      },
      "execution_count": 60,
      "outputs": [
        {
          "output_type": "stream",
          "name": "stdout",
          "text": [
            "11.23Truedog\n"
          ]
        }
      ]
    },
    {
      "cell_type": "code",
      "source": [
        "print(x, y, z, w, sep=\"+\")"
      ],
      "metadata": {
        "colab": {
          "base_uri": "https://localhost:8080/"
        },
        "id": "Ytdw8TckuvVo",
        "outputId": "0f7b388e-9cee-4af3-ffb8-df0c671cd19a"
      },
      "execution_count": 61,
      "outputs": [
        {
          "output_type": "stream",
          "name": "stdout",
          "text": [
            "1+1.23+True+dog\n"
          ]
        }
      ]
    },
    {
      "cell_type": "markdown",
      "source": [
        "### f-string(3.5+)"
      ],
      "metadata": {
        "id": "QISIVHl7vEOb"
      }
    },
    {
      "cell_type": "code",
      "source": [
        "print(f\"{x}, {y}, {z}, {w}\")"
      ],
      "metadata": {
        "colab": {
          "base_uri": "https://localhost:8080/"
        },
        "id": "gZmhn0devNj5",
        "outputId": "6050f64b-3153-4360-8f3d-4ac3be9baa33"
      },
      "execution_count": 62,
      "outputs": [
        {
          "output_type": "stream",
          "name": "stdout",
          "text": [
            "1, 1.23, True, dog\n"
          ]
        }
      ]
    },
    {
      "cell_type": "code",
      "source": [
        "print(\"{x}, {y}, {z}, {w}\")"
      ],
      "metadata": {
        "colab": {
          "base_uri": "https://localhost:8080/"
        },
        "id": "1MjwpkAhvZ6g",
        "outputId": "54447ad2-7424-4fb9-c082-7c0af6ba9c1f"
      },
      "execution_count": 63,
      "outputs": [
        {
          "output_type": "stream",
          "name": "stdout",
          "text": [
            "{x}, {y}, {z}, {w}\n"
          ]
        }
      ]
    },
    {
      "cell_type": "code",
      "source": [
        "print(f\"{x}, {y}, {z}, {w}\")\n",
        "print(f\"{x:5}, {y}, {z}, {w}\")\n",
        "print(f\"{x:05}, {y}, {z}, {w}\")"
      ],
      "metadata": {
        "colab": {
          "base_uri": "https://localhost:8080/"
        },
        "id": "TeLzZJG8vrkI",
        "outputId": "493186ca-6cdd-4e15-e275-e1e0e4bd4103"
      },
      "execution_count": 67,
      "outputs": [
        {
          "output_type": "stream",
          "name": "stdout",
          "text": [
            "1, 1.23, True, dog\n",
            "    1, 1.23, True, dog\n",
            "00001, 1.23, True, dog\n"
          ]
        }
      ]
    },
    {
      "cell_type": "code",
      "source": [
        "print(f\"{x}, {y}, {z}, {w}\")\n",
        "print(f\"{x}, {y:7.2f}, {z}, {w}\")\n",
        "print(f\"{x}, {y:07.2f}, {z}, {w}\")"
      ],
      "metadata": {
        "colab": {
          "base_uri": "https://localhost:8080/"
        },
        "id": "mxFk0T0MwBub",
        "outputId": "24026ff7-034f-4079-a9df-2628d23a8bad"
      },
      "execution_count": 69,
      "outputs": [
        {
          "output_type": "stream",
          "name": "stdout",
          "text": [
            "1, 1.23, True, dog\n",
            "1,    1.23, True, dog\n",
            "1, 0001.23, True, dog\n"
          ]
        }
      ]
    },
    {
      "cell_type": "code",
      "source": [
        "print(f\"{x}, {y}, {z}, {w}\")\n",
        "print(f\"{x}, {y}, {z}, {w:10}\")\n",
        "print(f\"{x}, {y}, {z}, {w:>10}\")"
      ],
      "metadata": {
        "colab": {
          "base_uri": "https://localhost:8080/"
        },
        "id": "zQ0xsXmcwU6I",
        "outputId": "5863d0eb-9e3b-4219-b656-134c0b37c326"
      },
      "execution_count": 70,
      "outputs": [
        {
          "output_type": "stream",
          "name": "stdout",
          "text": [
            "1, 1.23, True, dog\n",
            "1, 1.23, True, dog       \n",
            "1, 1.23, True,        dog\n"
          ]
        }
      ]
    },
    {
      "cell_type": "markdown",
      "source": [
        "### string.format"
      ],
      "metadata": {
        "id": "bd6M69Axu875"
      }
    },
    {
      "cell_type": "code",
      "source": [
        "print (\"{}, {}, {}, {}\".format(x, y, z, w))"
      ],
      "metadata": {
        "colab": {
          "base_uri": "https://localhost:8080/"
        },
        "id": "VMvVOPowuy-M",
        "outputId": "6a5ab5e2-7a5e-4ed1-98a9-36684f0ae16d"
      },
      "execution_count": 71,
      "outputs": [
        {
          "output_type": "stream",
          "name": "stdout",
          "text": [
            "1, 1.23, True, dog\n"
          ]
        }
      ]
    },
    {
      "cell_type": "code",
      "source": [
        "print (\"{}, {}, {}, {}, {}\".format(x, y, z, w))"
      ],
      "metadata": {
        "colab": {
          "base_uri": "https://localhost:8080/",
          "height": 173
        },
        "id": "93Vh7pc6xzWW",
        "outputId": "8205c071-4a24-4024-d6c9-1b2cc3580648"
      },
      "execution_count": 72,
      "outputs": [
        {
          "output_type": "error",
          "ename": "IndexError",
          "evalue": "ignored",
          "traceback": [
            "\u001b[0;31m---------------------------------------------------------------------------\u001b[0m",
            "\u001b[0;31mIndexError\u001b[0m                                Traceback (most recent call last)",
            "\u001b[0;32m<ipython-input-72-d7c7968c073b>\u001b[0m in \u001b[0;36m<module>\u001b[0;34m\u001b[0m\n\u001b[0;32m----> 1\u001b[0;31m \u001b[0mprint\u001b[0m \u001b[0;34m(\u001b[0m\u001b[0;34m\"{}, {}, {}, {}, {}\"\u001b[0m\u001b[0;34m.\u001b[0m\u001b[0mformat\u001b[0m\u001b[0;34m(\u001b[0m\u001b[0mx\u001b[0m\u001b[0;34m,\u001b[0m \u001b[0my\u001b[0m\u001b[0;34m,\u001b[0m \u001b[0mz\u001b[0m\u001b[0;34m,\u001b[0m \u001b[0mw\u001b[0m\u001b[0;34m)\u001b[0m\u001b[0;34m)\u001b[0m\u001b[0;34m\u001b[0m\u001b[0;34m\u001b[0m\u001b[0m\n\u001b[0m",
            "\u001b[0;31mIndexError\u001b[0m: Replacement index 4 out of range for positional args tuple"
          ]
        }
      ]
    },
    {
      "cell_type": "code",
      "source": [
        "print (\"{}, {}, {}\".format(x, y, z, w))"
      ],
      "metadata": {
        "colab": {
          "base_uri": "https://localhost:8080/"
        },
        "id": "J72awZcnx_F-",
        "outputId": "4e6cd41a-5a41-4d41-b66f-91df87b63e32"
      },
      "execution_count": 73,
      "outputs": [
        {
          "output_type": "stream",
          "name": "stdout",
          "text": [
            "1, 1.23, True\n"
          ]
        }
      ]
    },
    {
      "cell_type": "code",
      "source": [
        "print (\"{0}, {1}, {2}, {3}\".format(x, y, z, w))"
      ],
      "metadata": {
        "colab": {
          "base_uri": "https://localhost:8080/"
        },
        "id": "-fWQ1CUhyCSf",
        "outputId": "56272f58-a16a-416e-c963-e4a7b4ff5179"
      },
      "execution_count": 74,
      "outputs": [
        {
          "output_type": "stream",
          "name": "stdout",
          "text": [
            "1, 1.23, True, dog\n"
          ]
        }
      ]
    },
    {
      "cell_type": "code",
      "source": [
        "print (\"{a}, {b}, {c}, {d}\".format(a=x, b=y, c=z, d=w))"
      ],
      "metadata": {
        "colab": {
          "base_uri": "https://localhost:8080/"
        },
        "id": "UXH7IIwDyHBx",
        "outputId": "94cbb0ff-a683-4290-b328-058b4fb170e0"
      },
      "execution_count": 75,
      "outputs": [
        {
          "output_type": "stream",
          "name": "stdout",
          "text": [
            "1, 1.23, True, dog\n"
          ]
        }
      ]
    },
    {
      "cell_type": "markdown",
      "source": [
        "### 練習"
      ],
      "metadata": {
        "id": "G6Taj0nnCKr0"
      }
    },
    {
      "cell_type": "code",
      "source": [
        "popularity = [[\"Language\", 2017, 2012, 2007, 2002, 1997, 1992, 1987], \n",
        "          [\"Java\", 1, 2, 1, 1, 15, 0, 0],\n",
        "          [\"C\", 2, 1, 2, 2, 1, 1, 1],\n",
        "          [\"C++\", 3, 3, 3, 3, 2, 2, 5],\n",
        "          [\"C#\", 4, 4, 7, 13, 0, 0, 0],\n",
        "          [\"Python\", 5, 7, 6, 11, 27, 0, 0],\n",
        "          [\"Visual Basic .NET\", 6, 17, 0, 0, 0, 0, 0],\n",
        "          [\"PHP\", 7, 6, 4, 5, 0, 0, 0],\n",
        "          [\"JavaScript\", 8, 9, 8, 7, 23, 0, 0],\n",
        "          [\"Perl\", 9, 8, 5, 4, 4, 10, 0]]\n",
        "\n",
        "format_string = \"{:<20}  {:>4}  {:>4}  {:>4}  {:>4}  {:>4}  {:>4}  {:>4}\""
      ],
      "metadata": {
        "id": "rAlckBZnySzb"
      },
      "execution_count": 76,
      "outputs": []
    },
    {
      "cell_type": "code",
      "source": [
        "for i in popularity:\n",
        "  print(format_string.format(i[0], i[1], i[2], i[3], i[4], i[5], i[6], i[7]))"
      ],
      "metadata": {
        "colab": {
          "base_uri": "https://localhost:8080/"
        },
        "id": "DEDoSRBoC593",
        "outputId": "9c3a046f-6cb9-45c7-91ea-53850f857bb6"
      },
      "execution_count": 78,
      "outputs": [
        {
          "output_type": "stream",
          "name": "stdout",
          "text": [
            "Language              2017  2012  2007  2002  1997  1992  1987\n",
            "Java                     1     2     1     1    15     0     0\n",
            "C                        2     1     2     2     1     1     1\n",
            "C++                      3     3     3     3     2     2     5\n",
            "C#                       4     4     7    13     0     0     0\n",
            "Python                   5     7     6    11    27     0     0\n",
            "Visual Basic .NET        6    17     0     0     0     0     0\n",
            "PHP                      7     6     4     5     0     0     0\n",
            "JavaScript               8     9     8     7    23     0     0\n",
            "Perl                     9     8     5     4     4    10     0\n"
          ]
        }
      ]
    },
    {
      "cell_type": "code",
      "source": [
        "# 使用 * unpack list\n",
        "for i in popularity:\n",
        "  print(format_string.format(*i))\n"
      ],
      "metadata": {
        "colab": {
          "base_uri": "https://localhost:8080/"
        },
        "id": "_9TsXsNJCV8U",
        "outputId": "c79bd719-7c55-4600-c55b-f5fe419b2225"
      },
      "execution_count": 77,
      "outputs": [
        {
          "output_type": "stream",
          "name": "stdout",
          "text": [
            "Language              2017  2012  2007  2002  1997  1992  1987\n",
            "Java                     1     2     1     1    15     0     0\n",
            "C                        2     1     2     2     1     1     1\n",
            "C++                      3     3     3     3     2     2     5\n",
            "C#                       4     4     7    13     0     0     0\n",
            "Python                   5     7     6    11    27     0     0\n",
            "Visual Basic .NET        6    17     0     0     0     0     0\n",
            "PHP                      7     6     4     5     0     0     0\n",
            "JavaScript               8     9     8     7    23     0     0\n",
            "Perl                     9     8     5     4     4    10     0\n"
          ]
        }
      ]
    },
    {
      "cell_type": "code",
      "source": [
        "format_string = \"{:<20}{:>6}{:>6}{:>6}{:>6}{:>6}{:>6}{:>6}\"\n",
        "for i in popularity:\n",
        "  print(format_string.format(*i))\n"
      ],
      "metadata": {
        "colab": {
          "base_uri": "https://localhost:8080/"
        },
        "id": "lCg-G0HgCnHP",
        "outputId": "db5e5bf1-4173-4b00-f46e-4eee05978620"
      },
      "execution_count": 79,
      "outputs": [
        {
          "output_type": "stream",
          "name": "stdout",
          "text": [
            "Language              2017  2012  2007  2002  1997  1992  1987\n",
            "Java                     1     2     1     1    15     0     0\n",
            "C                        2     1     2     2     1     1     1\n",
            "C++                      3     3     3     3     2     2     5\n",
            "C#                       4     4     7    13     0     0     0\n",
            "Python                   5     7     6    11    27     0     0\n",
            "Visual Basic .NET        6    17     0     0     0     0     0\n",
            "PHP                      7     6     4     5     0     0     0\n",
            "JavaScript               8     9     8     7    23     0     0\n",
            "Perl                     9     8     5     4     4    10     0\n"
          ]
        }
      ]
    },
    {
      "cell_type": "markdown",
      "source": [
        "## 使用CSS selector 來剖析資料\n",
        "\n",
        "https://www.w3schools.com/cssref/css_selectors.php"
      ],
      "metadata": {
        "id": "5uHxohuKEOP0"
      }
    },
    {
      "cell_type": "code",
      "source": [
        "url = \"https://victorgau.github.io/khpy_web_intro/\""
      ],
      "metadata": {
        "id": "bt1WMtpvDyK3"
      },
      "execution_count": 80,
      "outputs": []
    },
    {
      "cell_type": "code",
      "source": [
        "r = requests.get(url)"
      ],
      "metadata": {
        "id": "ldWQRPEOHGai"
      },
      "execution_count": 81,
      "outputs": []
    },
    {
      "cell_type": "code",
      "source": [
        "soup = BeautifulSoup(r.text)"
      ],
      "metadata": {
        "id": "C5tuN3EAHLcZ"
      },
      "execution_count": 82,
      "outputs": []
    },
    {
      "cell_type": "code",
      "source": [
        "soup.select(\"li\")"
      ],
      "metadata": {
        "colab": {
          "base_uri": "https://localhost:8080/"
        },
        "id": "uZDvy3KpHYbT",
        "outputId": "862f7967-7476-43eb-a02f-b719a0ee86b9"
      },
      "execution_count": 83,
      "outputs": [
        {
          "output_type": "execute_result",
          "data": {
            "text/plain": [
              "[<li class=\"list-group-item\"><i class=\"bi bi-globe\"></i> <a href=\"html_only.html\">HTML 範例</a></li>,\n",
              " <li class=\"list-group-item\"><i class=\"bi bi-globe\"></i> <a href=\"html_css.html\">HTML + CSS 範例</a></li>,\n",
              " <li class=\"list-group-item\"><i class=\"bi bi-globe\"></i> <a href=\"html_css_javascript.html\">HTML + CSS + Javascript 範例</a></li>,\n",
              " <li class=\"list-group-item\"><i class=\"bi bi-bug\"></i> <a href=\"example01.html\">example01.html (爬蟲抓取用範例)</a></li>,\n",
              " <li class=\"list-group-item\"><i class=\"bi bi-bug\"></i> <a href=\"example02.html\">example02.html (爬蟲抓取用範例)</a></li>,\n",
              " <li class=\"list-group-item\"><i class=\"bi bi-bug\"></i> <a href=\"example03.html\">example03.html (爬蟲抓取用範例)</a></li>,\n",
              " <li class=\"list-group-item\"><i class=\"bi bi-bug\"></i> <a href=\"example04.html\">example04.html (爬蟲抓取用範例)</a></li>,\n",
              " <li class=\"list-group-item\"><i class=\"bi bi-bug\"></i> <a href=\"example05.html\">example05.html (爬蟲抓取用範例)</a></li>,\n",
              " <li class=\"list-group-item\"><i class=\"bi bi-bug\"></i> <a href=\"spy.html\">Classic HTML 範例 (爬蟲抓取用範例)</a></li>,\n",
              " <li class=\"list-group-item\"><i class=\"bi bi-bug\"></i> <a href=\"spy_ajax.html\">Ajax 範例 (爬蟲抓取用範例)</a></li>,\n",
              " <li class=\"list-group-item\"><i class=\"bi bi-bug\"></i> <a href=\"form_get.html\">HTTP GET 方法說明</a></li>,\n",
              " <li class=\"list-group-item\"><i class=\"bi bi-bug\"></i> <a href=\"form_post.html\">HTTP POST 方法說明</a></li>]"
            ]
          },
          "metadata": {},
          "execution_count": 83
        }
      ]
    },
    {
      "cell_type": "markdown",
      "source": [
        "## 抓取露天拍賣資料\n",
        "\n",
        "https://www.ruten.com.tw/category/0011\n"
      ],
      "metadata": {
        "id": "hRKuhbGjH8yZ"
      }
    },
    {
      "cell_type": "code",
      "source": [
        "url = \"https://www.ruten.com.tw/category/0011\""
      ],
      "metadata": {
        "id": "GsEKwB45Hbew"
      },
      "execution_count": 84,
      "outputs": []
    },
    {
      "cell_type": "code",
      "source": [
        "headers = {'user-agent':'Mozilla/5.0 (Windows NT 10.0; Win64; x64) AppleWebKit/537.36 (KHTML, like Gecko) Chrome/110.0.0.0 Safari/537.36'}"
      ],
      "metadata": {
        "id": "opBPWX-aIfZ_"
      },
      "execution_count": 86,
      "outputs": []
    },
    {
      "cell_type": "code",
      "source": [
        "r = requests.get(url, headers=headers)"
      ],
      "metadata": {
        "id": "2dqw3IHGILt0"
      },
      "execution_count": 88,
      "outputs": []
    },
    {
      "cell_type": "code",
      "source": [
        "r.text"
      ],
      "metadata": {
        "colab": {
          "base_uri": "https://localhost:8080/",
          "height": 145
        },
        "id": "JyD0DJaAJDmp",
        "outputId": "0e5d24d2-aca1-465f-a38a-d9eb315d855a"
      },
      "execution_count": 89,
      "outputs": [
        {
          "output_type": "execute_result",
          "data": {
            "text/plain": [
              "'<!DOCTYPE html>\\n<html lang=\"zh-Hant-TW\" >\\n\\n<head>\\n  <meta charset=\"utf-8\" />\\n  <meta http-equiv=\"X-UA-Compatible\" content=\"IE=edge\" />\\n<title>電腦電子 - 人氣推薦 | 露天市集</title>\\n  <meta name=\"description\" content=\"電腦電子\"/>\\n  <meta itemprop=\"name\" content=\"電腦電子 - 人氣推薦 | 露天市集\">\\n  <meta itemprop=\"description\" content=\"電腦電子\">\\n  <meta property=\"og:title\" content=\"電腦電子 - 人氣推薦\"/>\\n  <meta property=\"og:description\" content=\"電腦電子\"/>\\n  <meta property=\"og:url\" content=\"https://www.ruten.com.tw/category/0011\"/>\\n  <meta property=\"og:site_name\" content=\"露天市集\">\\n  <meta property=\"og:type\" content=\"website\"/>\\n  <link rel=\"canonical\" href=\"https://www.ruten.com.tw/category/0011\">\\n<link href=\"https://www.ruten.com.tw/css/d/v2/style-reset.css?v=20171123\" rel=\"stylesheet\" type=\"text/css\" />\\n<link href=\"https://www.ruten.com.tw/css/d/v2/style-base.css?v=20221025_f6ba51d7be\" rel=\"stylesheet\" type=\"text/css\" />\\n<link href=\"https://www.ruten.com.tw/css/d/v2/style-grid.css?v=20201012_9a8032d22c\" rel=\"stylesheet\" type=\"text/css\" />\\n<link href=\"https://www.ruten.com.tw/css/d/v2/style-class.css?v=20220914_c2e769902c\" rel=\"stylesheet\" type=\"text/css\" />\\n<link href=\"https://www.ruten.com.tw/css/d/v2/style-class-main.css?v=20220808_cd79bd9c92\" rel=\"stylesheet\" type=\"text/css\" />\\n\\n  <!-- Google Tag Manager -->\\n  <script>(function(w,d,s,l,i){w[l]=w[l]||[];w[l].push({\\'gtm.start\\':\\n  new Date().getTime(),event:\\'gtm.js\\'});var f=d.getElementsByTagName(s)[0],\\n  j=d.createElement(s),dl=l!=\\'dataLayer\\'?\\'&l=\\'+l:\\'\\';j.async=true;j.src=\\n  \\'https://www.googletagmanager.com/gtm.js?id=\\'+i+dl;f.parentNode.insertBefore(j,f);\\n  })(window,document,\\'script\\',\\'dataLayer\\',\\'GTM-5BBDQCT\\');</script>\\n  <!-- End Google Tag Manager -->\\n\\n  <script type=\"text/javascript\" src=\"https://www.ruten.com.tw/js/goodbye-ie.js\"></script>\\n</head>\\n\\n<body onLoad=\"onLoad()\" >\\n<!-- Google Tag Manager (noscript) -->\\n<noscript><iframe src=\"https://www.googletagmanager.com/ns.html?id=GTM-5BBDQCT\" height=\"0\" width=\"0\"\\n    style=\"display:none;visibility:hidden\"></iframe></noscript>\\n<!-- End Google Tag Manager (noscript) -->\\n  <div class=\"rt-page\">\\n    <header class=\"rt-header-top\">\\n      <div class=\"rt-header-inner\">\\n        <div class=\"rt-header-part\">\\n          <ul class=\"rt-header-topnav\">\\n            <li class=\"rt-header-topnav-item\">\\n              <a class=\"rt-header-topnav-link\" href=\"https://www.ruten.com.tw/system/notice.php\" title=\"前往公告區\">公告</a>\\n            </li>\\n            <li class=\"rt-header-topnav-item rt-header-dropdown-wrap\">\\n              <a class=\"rt-header-topnav-link rt-header-dropdown-icon\" id=\"header_service\" title=\"前往露天市集客戶服務中心\" href=\"https://www.ruten.com.tw/system/index.html\">客服中心</a>\\n              <div class=\"rt-header-dropdown\">\\n                <ul class=\"rt-header-dropdown-menu\">\\n                  <li class=\"dropdown-menu-item\">\\n                    <a class=\"dropdown-menu-link\" title=\"客服中心\" href=\"https://www.ruten.com.tw/system/index.html\">客服中心</a>\\n                  </li>\\n                  <li class=\"dropdown-menu-item\">\\n                    <a class=\"dropdown-menu-link\" title=\"海外代購售後服務\" href=\"https://mybid.ruten.com.tw/daigou/case_list.php\">海外代購售後服務</a>\\n                  </li>\\n                </ul>\\n              </div>\\n            </li>\\n            <li class=\"rt-header-topnav-item\">\\n              <a class=\"rt-header-topnav-link\" title=\"前往露天市集賣家中心\" href=\"https://seller.ruten.com.tw\">賣家中心</a>\\n            </li>\\n            <li class=\"rt-header-topnav-item\">\\n              <a class=\"rt-header-topnav-link rt-header-event-welcome\" title=\"前往$0開店送廣告活動頁\" href=\"https://pub.ruten.com.tw/welcome_new/\">$0開店送廣告</a>\\n            </li>\\n          </ul>\\n        </div>\\n        <div class=\"rt-header-part\">\\n          <div class=\"rt-header-daigou\">\\n            <a class=\"rt-header-topnav-link rt-header-daigou-ebay\" href=\"https://pub.pchomeus.com/ebayglobal-day/index.html\" title=\"前往海外代購EBAY專頁\"></a>\\n          </div>\\n          <div class=\"rt-header-daigou\">\\n            <a class=\"rt-header-topnav-link rt-header-daigou-gmarket\" href=\"https://pub.pchomeus.com/gmarket/index.html\" title=\"前往海外代購Gmarket專頁\"></a>\\n          </div>\\n          <div class=\"rt-header-daigou\">\\n            <a class=\"rt-header-topnav-link rt-header-daigou-pchomethai\" href=\"https://www.ruten.com.tw/store/agent@pchomethai\" title=\"前往海外代購PChome Thai泰國購物專頁\"></a>\\n          </div>\\n          <div class=\"rt-header-login rt-header-top-divider\" id=\"header_login_info\">\\n            <div class=\"rt-header-loading\" title=\"執行中，請稍候\">\\n              <span class=\"rt-header-loading-icon\"></span>\\n            </div>\\n            <div class=\"rt-header-loaded rt-header-dropdown-wrap\">\\n              <a class=\"rt-header-topnav-link rt-header-dropdown-icon rt-header-user-nick rt-align-right\" id=\"header_user_nick\" title=\"前往個人賣場\"></a>\\n              <div class=\"rt-header-dropdown\">\\n                <ul class=\"rt-header-dropdown-menu\">\\n                  <li class=\"dropdown-menu-item\">\\n                    <a class=\"dropdown-menu-link\" id=\"header_rpoint_record\" href=\"https://www.ruten.com.tw/event/rpoint_record.php\" title=\"前往我的露幣\">\\n                      <span>露幣</span>\\n                      <div class=\"dropdown-menu-link-info\">\\n                        <i class=\"angle-left-icon\"></i>\\n                      </div>\\n                    </a>\\n                  </li>\\n                  <li class=\"dropdown-menu-item\">\\n                    <a class=\"dropdown-menu-link\" id=\"header_user_store\" title=\"前往個人賣場\">我的賣場</a>\\n                  </li>\\n                  <li class=\"dropdown-menu-item\">\\n                    <a class=\"dropdown-menu-link\" id=\"header_credit_user_nick\" title=\"前往評價頁\">我的評價</a>\\n                  </li>\\n                  <li class=\"dropdown-menu-item dropdown-menu-logout\">\\n                    <a class=\"dropdown-menu-link dropdown-menu-logout-link\" id=\"header_logout_link\" href=\"https://member.ruten.com.tw/user/logout.php\" title=\"登出頁面\" data-type=\"logout-link\">登出</a>\\n                  </li>\\n                </ul>\\n              </div>\\n            </div>\\n            <div class=\"rt-header-not-loaded\">\\n              <div class=\"rt-header-login-item\">\\n                <a class=\"rt-header-topnav-link\" href=\"https://member.ruten.com.tw/user/register_step1.htm\" rel=\"nofollow\" title=\"免費註冊\">免費註冊</a>\\n              </div>\\n              <div class=\"rt-header-login-item\">\\n                <a class=\"rt-header-topnav-link\" href=\"https://member.ruten.com.tw/user/login.htm\" rel=\"nofollow\" title=\"登入頁面\">登入</a>\\n              </div>\\n            </div>\\n            <div class=\"rt-header-error\">\\n              <div class=\"rt-header-login-item\">\\n                <a class=\"rt-header-topnav-link\" href=\"https://member.ruten.com.tw/user/login.htm\" rel=\"nofollow\" title=\"登入頁面\">登入</a>\\n              </div>\\n            </div>\\n          </div>\\n        </div>\\n      </div>\\n    </header>\\n    <header class=\"rt-header\">\\n      <div class=\"rt-header-inner\">\\n        <div class=\"rt-header-heading\">\\n          <h1 itemscope itemtype=\"http://schema.org/WPHeader\">\\n            <a class=\"rt-header-logo\" href=\"https://www.ruten.com.tw\" title=\"前往露天市集首頁\" itemprop=\"url\">\\n              <span class=\"rt-logo-title\" itemprop=\"name\">露天市集</span>\\n            </a>\\n          </h1>\\n        </div>\\n        <!-- <div class=\"rt-header-search\" id=\"searchForm\" name=\"searchForm\" method=\"GET\" action=\"https://www.ruten.com.tw/find/\" accept-charset=\"utf-8\">\\n          <input type=\"hidden\" id=\"searchfrom\" name=\"searchfrom\" value=\"indexbar\" /> -->\\n    \\n        <div class=\"rt-header-search\" id=\"searchForm\">\\n          <div class=\"rt-header-search-keyword-wrap search-bar-keyword-wrap\">\\n            <input id=\"searchKeyword\" class=\"rt-header-search-input\" name=\"q\" accesskey=\"4\" type=\"text\" placeholder=\"\" data-type=\"keyword-input\" autocomplete=\"off\">\\n            <ul id=\"suggestions\" class=\"search-bar-keyword-list\"></ul>\\n          </div>\\n            <input type=\"hidden\" id=\"searchTargetCategory\" value=\"0011\" />\\n    \\n          <div class=\"rt-header-search-select-wrap\">\\n            <select id=\"searchType\" class=\"rt-header-search-select\" title=\"搜尋項目下拉選單\">\\n              <option value=\"0\">搜全站</option>\\n              <option value=\"1\">搜帳號</option>\\n                <option value=\"3\">搜本類</option>\\n            </select>\\n            <div class=\"rt-header-search-select-icon\"></div>\\n          </div>\\n          <input id=\"searchFormSubmit\" class=\"rt-header-search-submit\" type=\"button\" value=\"\" title=\"搜尋\" />\\n          <div id=\"historyWrap\" class=\"rt-header-search-history-wrap hide\">\\n            <ul id=\"historyKeywords\" class=\"rt-header-search-history-list\"></ul>\\n            <div class=\"rt-header-search-history-title\">\\n              <span class=\"rt-text-small\">歷史搜尋</span>\\n              <i id=\"historyClear\" class=\"rt-header-search-history-clear\"></i>\\n            </div>\\n          </div>\\n        </div>\\n    \\n        <ul class=\"rt-nav\">\\n          <li class=\"rt-nav-item\">\\n            <div class=\"rt-header-sell rt-header-dropdown-wrap\">\\n              <a class=\"rt-nav-link\" id=\"header_sell\" rel=\"nofollow\" title=\"我要賣東西\" itemprop=\"url\">\\n                <div class=\"rt-nav-icon-wrap\">\\n                  <span class=\"rt-header-sell-icon\"></span>\\n                </div>\\n                <div class=\"rt-nav-name\" itemprop=\"name\">賣東西</div>\\n              </a>\\n              <div class=\"rt-header-dropdown\">\\n                <ul class=\"rt-header-dropdown-menu\">\\n                  <li class=\"dropdown-menu-item\">\\n                    <a class=\"dropdown-menu-link\" href=\"https://mybidu.ruten.com.tw/upload/item_initial.php\">單品上架</a>\\n                  </li>\\n                  <li class=\"dropdown-menu-item\">\\n                    <a class=\"dropdown-menu-link\" href=\"https://mybidu.ruten.com.tw/upload/easy_text2.htm?g_mode=B\">超簡易上架</a>\\n                  </li>\\n                  <li class=\"dropdown-menu-item\">\\n                    <a class=\"dropdown-menu-link\" href=\"https://mass.ruten.com.tw/y/start.php\">Excel&nbsp;上架</a>\\n                  </li>\\n                </ul>\\n              </div>\\n            </div>\\n          </li>\\n          <li class=\"rt-nav-item\">\\n            <div class=\"rt-header-mybid rt-header-dropdown-wrap\">\\n              <a class=\"rt-nav-link\" id=\"header_mybid\" rel=\"nofollow\" title=\"進入我的拍賣管理中心\" itemprop=\"url\">\\n                <div class=\"rt-nav-icon-wrap\">\\n                  <span class=\"rt-header-mybid-icon\"></span>\\n                </div>\\n                <div class=\"rt-nav-name\" itemprop=\"name\">我的拍賣</div>\\n              </a>\\n              <div class=\"rt-header-dropdown\">\\n                <div class=\"rt-header-dropdown-grid\">\\n                  <div class=\"grid-item-width-1-2\">\\n                    <h3 class=\"rt-header-dropdown-title\">買家</h3>\\n                    <ul class=\"rt-header-dropdown-menu\">\\n                      <li class=\"dropdown-menu-item\">\\n                        <a class=\"dropdown-menu-link\" href=\"https://mybid.ruten.com.tw/master/my.php?l_type=buy_notpaid\">待結帳</a>\\n                      </li>\\n                      <li class=\"dropdown-menu-item\">\\n                        <a class=\"dropdown-menu-link\" href=\"https://mybid.ruten.com.tw/master/my.php?l_type=buy_full\">已購買</a>\\n                      </li>\\n                      <li class=\"dropdown-menu-item\">\\n                        <a class=\"dropdown-menu-link\" href=\"https://mybid.ruten.com.tw/master/my.php?l_type=buy_tracing\">追蹤中</a>\\n                      </li>\\n                      <li class=\"dropdown-menu-item\">\\n                        <a class=\"dropdown-menu-link\" href=\"https://mybid.ruten.com.tw/master/my_shipping_voucher.php\">我的優惠券</a>\\n                      </li>\\n                      <li class=\"dropdown-menu-item\">\\n                        <a class=\"dropdown-menu-link\" href=\"https://www.ruten.com.tw/event/rpoint_record.php\">我的露幣</a>\\n                      </li>\\n                      <li class=\"dropdown-menu-item\">\\n                        <a class=\"dropdown-menu-link dropdown-menu-item-mgm\" href=\"https://www.ruten.com.tw/event/mgm.php\">推薦好友<span class=\"dropdown-menu-item-mgm-primary-badge\">New</span></a>\\n                      </li>\\n                      <li class=\"dropdown-menu-item\">\\n                        <a class=\"dropdown-menu-link dropdown-menu-item-mgm\" href=\"https://www.ruten.com.tw/event/daily_mission.php\">天天簽到<span class=\"dropdown-menu-item-mgm-primary-badge\">New</span></a>\\n                      </li>\\n                    </ul>\\n                  </div>\\n                  <div class=\"grid-item-width-1-2\">\\n                    <h3 class=\"rt-header-dropdown-title\">賣家</h3>\\n                    <ul class=\"rt-header-dropdown-menu\">\\n                      <li class=\"dropdown-menu-item\">\\n                        <a class=\"dropdown-menu-link dropdown-menu-item-mgm\" href=\"https://seller.ruten.com.tw\">賣家中心<span class=\"dropdown-menu-item-mgm-primary-badge\">New</span></a>\\n                      </li>\\n                      <li class=\"dropdown-menu-item\">\\n                        <a class=\"dropdown-menu-link\" href=\"https://mybid.ruten.com.tw/master/my.php?l_type=sel_wait_confirm\">訂單管理</a>\\n                      </li>\\n                      <li class=\"dropdown-menu-item\">\\n                        <a class=\"dropdown-menu-link\" href=\"https://mybid.ruten.com.tw/master/my.php?l_type=sel_selling\">商品管理</a>\\n                      </li>\\n                      <li class=\"dropdown-menu-item\">\\n                        <a class=\"dropdown-menu-link\" href=\"https://point.ruten.com.tw/es_account/index.php\">收款管理中心</a>\\n                      </li>\\n                      <li class=\"dropdown-menu-item\">\\n                        <a class=\"dropdown-menu-link\" href=\"https://point.ruten.com.tw/account/fee.php\">計費中心</a>\\n                      </li>\\n                      <li class=\"dropdown-menu-item\">\\n                        <a class=\"dropdown-menu-link\" href=\"https://mybid.ruten.com.tw/datacube/\">錢進趨勢</a>\\n                      </li>\\n                      <li class=\"dropdown-menu-item dropdown-menu-item-buyad\">\\n                        <a class=\"dropdown-menu-link\" href=\"https://promote.ruten.com.tw/rtb/dashboard.php\" rel=\"nofollow\" title=\"廣告中心\" target=\"_blank\" itemprop=\"url\"><span itemprop=\"name\">廣告中心</span></a>\\n                      </li>\\n                    </ul>\\n                  </div>\\n                </div>\\n              </div>\\n            </div>\\n          </li>\\n    \\n          <li id=\"rtChatMountPoint\"\\n              class=\"rt-nav-item\"\\n              onclick=\"rtChat.openChat(\\'\\', event)\">\\n            <div class=\"rt-header-messenger rt-nav-link rt-messenger-inbox\" id=\"header_messenger\"\\n                 style=\"position: relative;\"\\n                 onclick=\"rtChat.openChat(\\'\\', event)\">\\n              <div class=\"rt-messenger-icon-anchor rt-nav-icon-wrap\"\\n                   onclick=\"rtChat.openChat(\\'\\', event)\">\\n                <div class=\"rt-messenger-icon-static rt-messenger-chat-icon\"\\n                     onclick=\"rtChat.openChat(\\'\\', event)\"></div>\\n                <div class=\"rt-messenger-inbox-notification-dot\"\\n                     onclick=\"rtChat.openChat(\\'\\', event)\"></div>\\n                <span class=\"item-count\" id=\"unread-message-count\"\\n                      onclick=\"rtChat.openChat(\\'\\', event)\"></span>\\n              </div>\\n              <div class=\"rt-nav-name\" onclick=\"rtChat.openChat(\\'\\', event)\">\\n                露露通\\n              </div>\\n            </div>\\n          </li>\\n    \\n          <li class=\"rt-nav-item\">\\n            <div class=\"rt-header-shopping-cart\">\\n              <a class=\"rt-nav-link\" id=\"header_cart\" href=\"https://mybid.ruten.com.tw/deliver/list_cart.php\">\\n                <div class=\"rt-nav-icon-wrap shopping-cart target\">\\n                  <span class=\"rt-shopping-cart-icon\"></span>\\n                  <span class=\"item-count\" id=\"goods-count\"></span>\\n                </div>\\n                <div class=\"rt-nav-name\">購物車</div>\\n              </a>\\n            </div>\\n          </li>\\n        </ul>\\n      </div>\\n    </header>\\n\\n\\n    <div class=\"rt-wrap rt-wrap-class-main theme-category11\" data-module=\"page-class-main\">\\n      <!-- <div class=\"rt-ad rt-ad-text-only\">\\n        <ul class=\"rt-ad-list\">\\n          <li class=\"rt-ad-item hide\" data-adid=\"2\"></li>\\n          <li class=\"rt-ad-item hide\" data-adid=\"3\"></li>\\n          <li class=\"rt-ad-item hide\" data-adid=\"4\"></li>\\n          <li class=\"rt-ad-item hide\" data-adid=\"5\"></li>\\n        </ul>\\n      </div> -->\\n      <div class=\"rt-exclusive-store\">\\n  <h2 class=\"rt-exclusive-store-heading\"><span>今日熱搜</span></h2>\\n  <div class=\"rt-exclusive-store-list\">\\n    <style type=\"text/css\">\\n.promo-bar ul,\\n.promo-bar h2,\\n.promo-bar h3 {\\n  margin: 0;\\n  padding: 0;\\n  border: 0;\\n  outline: 0;\\n  font-size: 13px;\\n  vertical-align: baseline;\\n  background: transparent;\\n}\\n.promo-bar ul {list-style:none outside none;}\\n\\n.promo-bar a {text-decoration:none;}\\n\\n.promo-bar {\\n  height: 32px;\\n  width: 1250px;\\n  margin-top: 0;\\n}\\n.promo-bar h2 {\\n  display: inline-block;\\n  width: 68px;\\n  height: 26px;\\n  background: url(\"https://www.ruten.com.tw/resource/loader.php?folder=component/theme/&file=bg-main-index.gif&v=20230304000201\") -300px -360px no-repeat;\\n  text-indent: -9999px;\\n  vertical-align: top;\\n  margin-top: 6px;\\n}\\n.promo-bar ul {\\n  display: inline-block;\\n  width: 1200px;\\n  height: 27px;\\n  margin-top: 6px;\\n  overflow: hidden;\\n}\\n\\n.promo-bar .cp {\\n    display: inline-block;\\n    height: 29px;\\n    min-width: 72px;\\n    width: auto;\\n    background: none;\\n    text-align: center;\\n    display: block;\\n    float: left;\\n    margin-right: 7px;\\n    border-width: 1px;\\n    border-left-width: 13px;\\n    border-color: #333;\\n    border-style: solid;\\n    border-radius: 5px;\\n    position: relative;\\n}\\n\\n.promo-bar .cp h3:before {\\n    left: -8px;\\n    top: 14px;\\n    border: solid transparent;\\n    content: \" \";\\n    height: 0;\\n    width: 0;\\n    position: absolute;\\n    border-left-color: #fff;\\n    border-width: 3px;\\n    margin-top: -3px;\\n}\\n\\n.promo-bar .cp a {\\n    display: inline-block;\\n    vertical-align: middle;\\n    margin: 0 8px;\\n    font-weight: 400;\\n    padding: 7px 0;\\n    padding: 9px 0 5px \\\\9;\\n    color: #7e7e7e;\\n}\\n\\n.promo-bar .cp.promoAd {\\n    background: none;\\n    display: block;\\n    border: 0;\\n    min-width: auto;\\n}\\n\\n.promo-bar .cp.promoAd h3:before {\\n    display: none;\\n}\\n\\n.promo-bar .promoAd a {\\n    margin: 0;\\n    padding: 0;\\n}\\n\\n.promo-bar .cp-female {\\n    border-color: #ff2888;\\n}\\n\\n.promo-bar .cp-female a:hover {\\n    color: #ff2888;\\n}\\n\\n.promo-bar .cp-male {\\n    border-color: #02a3ff;\\n}\\n\\n.promo-bar .cp-male a:hover {\\n    color: #02a3ff;\\n}\\n\\n.promo-bar .cp-3c {\\n    border-color: #7adf3e;\\n}\\n\\n.promo-bar .cp-3c a:hover {\\n    color: #7adf3e;\\n}\\n\\n.promo-bar .cp-life {\\n    border-color: #ff9900;\\n}\\n\\n.promo-bar .cp-life a:hover {\\n    color: #ff9900;\\n}\\n\\n.promo-bar .cp-baby {\\n    border-color: #bc64f9;\\n}\\n\\n.promo-bar .cp-baby a:hover {\\n    color: #bc64f9;\\n}\\n\\n.promo-bar .cp-toy {\\n    border-color: #ababab;\\n}\\n\\n.promo-bar .cp-toy a:hover {\\n    color: #ababab;\\n}\\n\\n.promo-bar .cp-car {\\n    border-color: #1ab4ab;\\n}\\n\\n.promo-bar .cp-car a:hover {\\n    color: #1ab4ab;\\n}\\n\\n.promo-bar .cp-sport {\\n    border-color: #6a80a7;\\n}\\n\\n.promo-bar .cp-sport a:hover {\\n    color: #6a80a7;\\n}\\n\\n.promo-bar .cp-library {\\n    border-color: #9e6f4a;\\n}\\n\\n.promo-bar .cp-library a:hover {\\n    color: #9e6f4a;\\n}\\n\\n.promo-bar .cp-pchomepay {\\n    border-color: #6EBF00\\n}\\n\\n</style>\\n\\n<ul class=\"promo-bar\">\\n  <li class=\"cp promoAd\"><h3><a target=\"_blank\" href=\"https://www.ruten.com.tw/event/top_search.php?id=1&type=手機通訊\"><img src=\"https://www.ruten.com.tw/resource/loader.php?folder=component/theme/&file=06f794742a7607b1e8770223ec71fa21.jpg&v=20230304000201\"></a></h3></li>\\n  <li class=\"cp promoAd\"><h3><a target=\"_blank\" href=\"https://pub.ruten.com.tw/homeflagship/\"><img src=\"https://www.ruten.com.tw/resource/loader.php?folder=component/theme/&file=47290fcc54bc08fd75d5408a980bb579.jpg&v=20230304000201\"></a></h3></li>\\n  <li class=\"cp promoAd\"><h3><a target=\"_blank\" href=\"https://pub.ruten.com.tw/motorcycle0207/\"><img src=\"https://www.ruten.com.tw/resource/loader.php?folder=component/theme/&file=5ccc07e4792fd6bc16a7d4ab713e8095.jpg&v=20230304000201\"></a></h3></li>\\n  <li class=\"cp promoAd\"><h3><a target=\"_blank\" href=\"https://www.ruten.com.tw/event/top_search.php?id=5&type=電腦電器\"><img src=\"https://www.ruten.com.tw/resource/loader.php?folder=component/theme/&file=e810986b57c7d8e0076a4e128aa92527.jpg&v=20230304000201\"></a></h3></li>\\n  <li class=\"cp promoAd\"><h3><a target=\"_blank\" href=\"https://pub.ruten.com.tw/toys/\"><img src=\"https://www.ruten.com.tw/resource/loader.php?folder=component/theme/&file=21e313e902dbf97f34296e97a17c0751.jpg&v=20230304000201\"></a></h3></li>\\n  <li class=\"cp promoAd\"><h3><a target=\"_blank\" href=\"https://pub.pchomeus.com/gmarket/index.html\"><img src=\"https://www.ruten.com.tw/resource/loader.php?folder=component/theme/&file=c25e6b9a0cebfc446d7d97eee514b273.jpg&v=20230304000201\"></a></h3></li>\\n  <li class=\"cp promoAd\"><h3><a target=\"_blank\" href=\"https://pub.ruten.com.tw/2202brandsale/\"><img src=\"https://www.ruten.com.tw/resource/loader.php?folder=component/theme/&file=738c5172270d4ebc47da2fff3d9aaa03.jpg&v=20230304000201\"></a></h3></li>\\n  <li class=\"cp promoAd\"><h3><a target=\"_blank\" href=\"https://theme.ruten.com.tw/promo/?id=20211111000001\"><img src=\"https://www.ruten.com.tw/resource/loader.php?folder=component/theme/&file=5c7e519b98de59dd710017d84bcc04dc.jpg&v=20230304000201\"></a></h3></li>\\n  <li class=\"cp promoAd\"><h3><a target=\"_blank\" href=\"https://www.ruten.com.tw/store/sharp2022/\"><img src=\"https://www.ruten.com.tw/resource/loader.php?folder=component/theme/&file=57ec4e4a81480b26c16a973865413532.jpg&v=20230304000201\"></a></h3></li>\\n  <li class=\"cp promoAd\"><h3><a target=\"_blank\" href=\"https://pub.ruten.com.tw/taaze\"><img src=\"https://www.ruten.com.tw/resource/loader.php?folder=component/theme/&file=394423e0d8ecd0639b85be7d87272cc7.jpg&v=20230304000201\"></a></h3></li>\\n</ul>\\n  </div>\\n</div> \\n      <div class=\"rt-subcategory rt-subcategory-default\">\\n        <div class=\"rt-subcategory-search\">\\n          <h2 class=\"rt-subcategory-title\">\\n            <span class=\"icon icon-category-11\"></span>\\n            <ul class=\"rt-breadcrumb\" itemscope itemtype=\"http://schema.org/BreadcrumbList\">\\n              <li itemprop=\"itemListElement\" itemscope itemtype=\"http://schema.org/ListItem\">\\n                <h1><span class=\"rt-breadcrumb-static\"> 電腦電子 </span></h1>\\n              </li>\\n            </ul>\\n            <span class=\"rti rti-arrow-right-blank\"></span>\\n          </h2>\\n          <!--\\n            <form class=\"rt-site-search inlb\" id=\"class_search_form\" action=\"https://find.ruten.com.tw/search/s000.php\">\\n              <input type=\"hidden\" name=\"enc\" value=\"u\">\\n              <input type=\"hidden\" name=\"searchfrom\" value=\"classf\">\\n              <input type=\"hidden\" name=\"enc\" value=\"u\">\\n              <input type=\"hidden\" name=\"c\" value=\"0011\">\\n              <label for=\"search_input\" class=\"rt-filter-form-label vmiddle\">在本分類搜尋</label>\\n              <div class=\"search-bar-keyword-wrap\" v-clickaway=\"closeSuggestion\">\\n                <input id=\"search_input\" name=\"k\" type=\"text\" class=\"rt-filter-form-input\" placeholder=\"請輸入關鍵字\" autocomplete=\"off\"\\n                v-model=\"keywordInput\"\\n                @focus=\"openSuggestion\"\\n                @keydown.up.prevent=\"selectPrevious\"\\n                @keydown.down.prevent=\"selectNext\"\\n                @keydown.enter=\"selectionSubmitting\">\\n                <suggestion-keyword-template :suggestion-keyword-array=\"suggestionKeywordArray\" :is-open=\"isOpen\" :keyword-input=\"keywordInput\" :current-selected-item-index=\"currentSelectedItemIndex\" @choose-search-keyword-item=\"chooseSearchKeywordItem\" @clear-current-selected-item-index=\"clearCurrentSelectedItemIndex\"></suggestion-keyword-template>\\n              </div>\\n              <button type=\"submit\" class=\"rt-button rt-button-gradient rt-button-small rt-site-search-submit\">再搜尋</button>\\n            </form>\\n          -->\\n        </div>\\n        <div class=\"rt-subcategory-list\">\\n          <ul class=\"rt-grid\" itemscope itemtype=\"http://schema.org/CreativeWork\">\\n            <li class=\"rt-grid-1-6\">\\n              <div class=\"rt-subcategory-item\">\\n                <a href=\"https://www.ruten.com.tw/category/00110002/list\" itemprop=\"url\">\\n                  <h3 class=\"rt-subcategory-item-name\" itemprop=\"keywords\">筆記型電腦</h3>\\n                  <small class=\"rt-text-small rt-text-notice\">(162349)</small>\\n                </a>\\n              </div>\\n            </li>\\n            <li class=\"rt-grid-1-6\">\\n              <div class=\"rt-subcategory-item\">\\n                <a href=\"https://www.ruten.com.tw/category/00110020/list\" itemprop=\"url\">\\n                  <h3 class=\"rt-subcategory-item-name\" itemprop=\"keywords\">筆記型電腦專用配件</h3>\\n                  <small class=\"rt-text-small rt-text-notice\">(2012368)</small>\\n                </a>\\n              </div>\\n            </li>\\n            <li class=\"rt-grid-1-6\">\\n              <div class=\"rt-subcategory-item\">\\n                <a href=\"https://www.ruten.com.tw/category/00110013/list\" itemprop=\"url\">\\n                  <h3 class=\"rt-subcategory-item-name\" itemprop=\"keywords\">平板電腦</h3>\\n                  <small class=\"rt-text-small rt-text-notice\">(360130)</small>\\n                </a>\\n              </div>\\n            </li>\\n            <li class=\"rt-grid-1-6\">\\n              <div class=\"rt-subcategory-item\">\\n                <a href=\"https://www.ruten.com.tw/category/00110001/list\" itemprop=\"url\">\\n                  <h3 class=\"rt-subcategory-item-name\" itemprop=\"keywords\">桌上型電腦</h3>\\n                  <small class=\"rt-text-small rt-text-notice\">(59250)</small>\\n                </a>\\n              </div>\\n            </li>\\n            <li class=\"rt-grid-1-6\">\\n              <div class=\"rt-subcategory-item\">\\n                <a href=\"https://www.ruten.com.tw/category/00110003/list\" itemprop=\"url\">\\n                  <h3 class=\"rt-subcategory-item-name\" itemprop=\"keywords\">電腦周邊設備</h3>\\n                  <small class=\"rt-text-small rt-text-notice\">(2565576)</small>\\n                </a>\\n              </div>\\n            </li>\\n            <li class=\"rt-grid-1-6\">\\n              <div class=\"rt-subcategory-item\">\\n                <a href=\"https://www.ruten.com.tw/category/00110004/list\" itemprop=\"url\">\\n                  <h3 class=\"rt-subcategory-item-name\" itemprop=\"keywords\">電腦周邊耗材</h3>\\n                  <small class=\"rt-text-small rt-text-notice\">(703662)</small>\\n                </a>\\n              </div>\\n            </li>\\n            <li class=\"rt-grid-1-6\">\\n              <div class=\"rt-subcategory-item\">\\n                <a href=\"https://www.ruten.com.tw/category/00110006/list\" itemprop=\"url\">\\n                  <h3 class=\"rt-subcategory-item-name\" itemprop=\"keywords\">電腦軟體</h3>\\n                  <small class=\"rt-text-small rt-text-notice\">(92193)</small>\\n                </a>\\n              </div>\\n            </li>\\n            <li class=\"rt-grid-1-6\">\\n              <div class=\"rt-subcategory-item\">\\n                <a href=\"https://www.ruten.com.tw/category/00110014/list\" itemprop=\"url\">\\n                  <h3 class=\"rt-subcategory-item-name\" itemprop=\"keywords\">租賃、出租</h3>\\n                  <small class=\"rt-text-small rt-text-notice\">(613)</small>\\n                </a>\\n              </div>\\n            </li>\\n            <li class=\"rt-grid-1-6\">\\n              <div class=\"rt-subcategory-item\">\\n                <a href=\"https://www.ruten.com.tw/category/00110005/list\" itemprop=\"url\">\\n                  <h3 class=\"rt-subcategory-item-name\" itemprop=\"keywords\">電腦零組件</h3>\\n                  <small class=\"rt-text-small rt-text-notice\">(4399481)</small>\\n                </a>\\n              </div>\\n            </li>\\n            <li class=\"rt-grid-1-6\">\\n              <div class=\"rt-subcategory-item\">\\n                <a href=\"https://www.ruten.com.tw/category/00110016/list\" itemprop=\"url\">\\n                  <h3 class=\"rt-subcategory-item-name\" itemprop=\"keywords\">電子零件、材料</h3>\\n                  <small class=\"rt-text-small rt-text-notice\">(25457094)</small>\\n                </a>\\n              </div>\\n            </li>\\n            <li class=\"rt-grid-1-6\">\\n              <div class=\"rt-subcategory-item\">\\n                <a href=\"https://www.ruten.com.tw/category/00110009/list\" itemprop=\"url\">\\n                  <h3 class=\"rt-subcategory-item-name\" itemprop=\"keywords\">電子字典</h3>\\n                  <small class=\"rt-text-small rt-text-notice\">(14050)</small>\\n                </a>\\n              </div>\\n            </li>\\n            <li class=\"rt-grid-1-6\">\\n              <div class=\"rt-subcategory-item\">\\n                <a href=\"https://www.ruten.com.tw/category/00110022/list\" itemprop=\"url\">\\n                  <h3 class=\"rt-subcategory-item-name\" itemprop=\"keywords\">電腦保養</h3>\\n                  <small class=\"rt-text-small rt-text-notice\">(10420)</small>\\n                </a>\\n              </div>\\n            </li>\\n            <li class=\"rt-grid-1-6\">\\n              <div class=\"rt-subcategory-item\">\\n                <a href=\"https://www.ruten.com.tw/category/00110007/list\" itemprop=\"url\">\\n                  <h3 class=\"rt-subcategory-item-name\" itemprop=\"keywords\">網路設備</h3>\\n                  <small class=\"rt-text-small rt-text-notice\">(820969)</small>\\n                </a>\\n              </div>\\n            </li>\\n            <li class=\"rt-grid-1-6\">\\n              <div class=\"rt-subcategory-item\">\\n                <a href=\"https://www.ruten.com.tw/category/00110018/list\" itemprop=\"url\">\\n                  <h3 class=\"rt-subcategory-item-name\" itemprop=\"keywords\">電子儀器、測量</h3>\\n                  <small class=\"rt-text-small rt-text-notice\">(2257024)</small>\\n                </a>\\n              </div>\\n            </li>\\n            <li class=\"rt-grid-1-6\">\\n              <div class=\"rt-subcategory-item\">\\n                <a href=\"https://www.ruten.com.tw/category/00110021/list\" itemprop=\"url\">\\n                  <h3 class=\"rt-subcategory-item-name\" itemprop=\"keywords\">貿易製造</h3>\\n                  <small class=\"rt-text-small rt-text-notice\">(93426)</small>\\n                </a>\\n              </div>\\n            </li>\\n            <li class=\"rt-grid-1-6\">\\n              <div class=\"rt-subcategory-item\">\\n                <a href=\"https://www.ruten.com.tw/category/00110023/list\" itemprop=\"url\">\\n                  <h3 class=\"rt-subcategory-item-name\" itemprop=\"keywords\">化工、容器材料、儀器</h3>\\n                  <small class=\"rt-text-small rt-text-notice\">(140357)</small>\\n                </a>\\n              </div>\\n            </li>\\n            <li class=\"rt-grid-1-6\">\\n              <div class=\"rt-subcategory-item\">\\n                <a href=\"https://www.ruten.com.tw/category/00110017/list\" itemprop=\"url\">\\n                  <h3 class=\"rt-subcategory-item-name\" itemprop=\"keywords\">線材、轉接頭</h3>\\n                  <small class=\"rt-text-small rt-text-notice\">(700346)</small>\\n                </a>\\n              </div>\\n            </li>\\n            <li class=\"rt-grid-1-6\">\\n              <div class=\"rt-subcategory-item\">\\n                <a href=\"https://www.ruten.com.tw/category/00110019/list\" itemprop=\"url\">\\n                  <h3 class=\"rt-subcategory-item-name\" itemprop=\"keywords\">高科技、機器人</h3>\\n                  <small class=\"rt-text-small rt-text-notice\">(53817)</small>\\n                </a>\\n              </div>\\n            </li>\\n            <li class=\"rt-grid-1-6\">\\n              <div class=\"rt-subcategory-item\">\\n                <a href=\"https://www.ruten.com.tw/category/00110008/list\" itemprop=\"url\">\\n                  <h3 class=\"rt-subcategory-item-name\" itemprop=\"keywords\">GPS / 穿戴 / 導航</h3>\\n                  <small class=\"rt-text-small rt-text-notice\">(249474)</small>\\n                </a>\\n              </div>\\n            </li>\\n            <li class=\"rt-grid-1-6\">\\n              <div class=\"rt-subcategory-item\">\\n                <a href=\"https://www.ruten.com.tw/category/0007002200020001/list\" itemprop=\"url\">\\n                  <h3 class=\"rt-subcategory-item-name\" itemprop=\"keywords\">電腦、網路諮詢@</h3>\\n                  <small class=\"rt-text-small rt-text-notice\">(0)</small>\\n                </a>\\n              </div>\\n            </li>\\n            <li class=\"rt-grid-1-6\">\\n              <div class=\"rt-subcategory-item\">\\n                <a href=\"https://www.ruten.com.tw/category/00110015/list\" itemprop=\"url\">\\n                  <h3 class=\"rt-subcategory-item-name\" itemprop=\"keywords\">代買、海外代購</h3>\\n                  <small class=\"rt-text-small rt-text-notice\">(11167)</small>\\n                </a>\\n              </div>\\n            </li>\\n            <li class=\"rt-grid-1-6\">\\n              <div class=\"rt-subcategory-item\">\\n                <a href=\"https://www.ruten.com.tw/category/00110024/list\" itemprop=\"url\">\\n                  <h3 class=\"rt-subcategory-item-name\" itemprop=\"keywords\">工商設備</h3>\\n                  <small class=\"rt-text-small rt-text-notice\">(300789)</small>\\n                </a>\\n              </div>\\n            </li>\\n          </ul>\\n        </div>\\n      </div>\\n      <div id=\"ad-flash\" class=\"rt-ad rt-ad-flash hide\">\\n        <div class=\"rt-ad-heading\">店鋪賣家</div>\\n        <ul class=\"rt-ad-list js-ad-list\">\\n        </ul>\\n      </div>\\n      <div class=\"rt-ad rt-ad-product-list rt-flagship hide\" data-module=\"class-main-flagship\">\\n        <div class=\"rt-ad-heading-wrapper\">\\n          <h1 class=\"rt-ad-heading\">露天旗艦店</h1>\\n        </div>\\n        <div class=\"rt-ad-list js-flagship-list\" >\\n        </div>\\n      </div>\\n      <div class=\"featured-products-list\">\\n        <div class=\"spotlight-area\">\\n          <div id=\"ad-slideshow\" class=\"slideshow js-slideshow\" data-module=\"class-main-slideshow\">\\n            <ul class=\"slides\">\\n            </ul>\\n            <div class=\"control\">\\n            </div>\\n          </div>\\n          <div id=\"ad-promote\" class=\"promoted-product-list\"></div>\\n        </div>\\n        <div class=\"special-collection\">\\n          <div id=\"ad-special\" class=\"special-list\"></div>\\n          <div id=\"ad-hotsale\" class=\"hot-stuff hide\">\\n            <div class=\"hot-sale js-ad-list\">\\n            </div>\\n            <div class=\"hot-sale-gallery js-gallery\" data-module=\"class-main-gallery\">\\n              <div id=\"ad-gallery\" class=\"hot-sale-gallery-list\">\\n              </div>\\n              <a class=\"hot-sale-gallery-prev rti rti-chevron-left-ad js-btn-prev\" href=\"#\" title=\"上一則\"></a>\\n              <a class=\"hot-sale-gallery-next rti rti-chevron-right-ad js-btn-next\" href=\"#\" title=\"下一則\"></a>\\n            </div>\\n          </div>\\n        </div>\\n      </div>\\n\\n      <div id=\"shoppingMall\">\\n        <shopping-mall :category-id=\"cateId\"></shopping-mall>\\n      </div>\\n\\n      <div class=\"main-content\">\\n        <div class=\"main-list\">\\n          <div id=\"ad-featured-list\" class=\"rt-ad rt-ad-product-list featrued-list hide\">\\n            <div class=\"rt-ad-heading-wrapper\">\\n              <h1 class=\"rt-ad-heading\">精彩推薦</h1>\\n            </div>\\n            <div class=\"rt-ad-list js-ad-list\">\\n            </div>\\n          </div>\\n        </div>\\n\\n        <div class=\"sidebar\">\\n          <div class=\"rt-ad rt-ad-product-list top-sell\">\\n            <div class=\"rt-ad-heading-wrapper\">\\n              <h1 class=\"rt-ad-heading\">熱銷商品</h1>\\n            </div>\\n            <div class=\"rt-ad-list\">\\n              <div class=\"rt-ad-item\">\\n                <div class=\"rt-ad-item-image-wrapper\">\\n                    <a class=\"rt-ad-item-link\" title=\"✚久大電池❚ 法國 SAFT LS-14250 1/2AA 3.6V 1.2Ah 一次性鋰電 【PLC工控電池】 SA1\" href=\"https://www.ruten.com.tw/item/show?21629155486289\">\\n                    <img class=\"rt-ad-item-image\" src=\"https://image.ruten.com.tw/g1/5/a2/51/21629155486289_505_s.png\" alt=\"✚久大電池❚ 法國 SAFT LS-14250 1/2AA 3.6V 1.2Ah 一次性鋰電 【PLC工控電池】 SA1\">\\n                  </a>\\n                </div>\\n                <div class=\"rt-ad-item-content-wrapper\">\\n                  <h2 class=\"rt-ad-item-name\">\\n                      <a title=\"✚久大電池❚ 法國 SAFT LS-14250 1/2AA 3.6V 1.2Ah 一次性鋰電 【PLC工控電池】 SA1\" href=\"https://www.ruten.com.tw/item/show?21629155486289\">✚久大電池❚ 法國 SAFT LS-14250 1/2AA 3.6V 1.2Ah 一次性鋰電 【PLC工控電池】 SA1</a>\\n                  </h2>\\n                  <div class=\"rt-text-price-no-currency\">$95</div>\\n                </div>\\n              </div>\\n              <div class=\"rt-ad-item\">\\n                <div class=\"rt-ad-item-image-wrapper\">\\n                    <a class=\"rt-ad-item-link\" title=\"katfile.com 高級會員帳號出租一天24小時 50G流量 隨時有貨\" href=\"https://www.ruten.com.tw/item/show?21825217753845\">\\n                    <img class=\"rt-ad-item-image\" src=\"https://image.ruten.com.tw/g1/0/9a/f5/21825217753845_747_s.jpg\" alt=\"katfile.com 高級會員帳號出租一天24小時 50G流量 隨時有貨\">\\n                  </a>\\n                </div>\\n                <div class=\"rt-ad-item-content-wrapper\">\\n                  <h2 class=\"rt-ad-item-name\">\\n                      <a title=\"katfile.com 高級會員帳號出租一天24小時 50G流量 隨時有貨\" href=\"https://www.ruten.com.tw/item/show?21825217753845\">katfile.com 高級會員帳號出租一天24小時 50G流量 隨時有貨</a>\\n                  </h2>\\n                  <div class=\"rt-text-price-no-currency\">$89</div>\\n                </div>\\n              </div>\\n              <div class=\"rt-ad-item\">\\n                <div class=\"rt-ad-item-image-wrapper\">\\n                    <a class=\"rt-ad-item-link\" title=\"Instagram 行銷 Ins 粉絲 按讚 經營 愛心 台灣粉絲 追蹤 觀看 流量 瀏覽 IG\" href=\"https://www.ruten.com.tw/item/show?22204863063118\">\\n                    <img class=\"rt-ad-item-image\" src=\"https://a.rimg.com.tw/s6/0c6/1fd/boosea/4/4e/22204863063118_178_s.jpg\" alt=\"Instagram 行銷 Ins 粉絲 按讚 經營 愛心 台灣粉絲 追蹤 觀看 流量 瀏覽 IG\">\\n                  </a>\\n                </div>\\n                <div class=\"rt-ad-item-content-wrapper\">\\n                  <h2 class=\"rt-ad-item-name\">\\n                      <a title=\"Instagram 行銷 Ins 粉絲 按讚 經營 愛心 台灣粉絲 追蹤 觀看 流量 瀏覽 IG\" href=\"https://www.ruten.com.tw/item/show?22204863063118\">Instagram 行銷 Ins 粉絲 按讚 經營 愛心 台灣粉絲 追蹤 觀看 流量 瀏覽 IG</a>\\n                  </h2>\\n                  <div class=\"rt-text-price-no-currency\">$1</div>\\n                </div>\\n              </div>\\n              <div class=\"rt-ad-item\">\\n                <div class=\"rt-ad-item-image-wrapper\">\\n                    <a class=\"rt-ad-item-link\" title=\"全場最低價』 DCARD 低卡 迪卡 狄卡 帳號 正規國內外大學老帳號\" href=\"https://www.ruten.com.tw/item/show?22209055431878\">\\n                    <img class=\"rt-ad-item-image\" src=\"https://image.ruten.com.tw/g9/0f2/877/11qq11/c/c6/22209055431878_143_s.png\" alt=\"全場最低價』 DCARD 低卡 迪卡 狄卡 帳號 正規國內外大學老帳號\">\\n                  </a>\\n                </div>\\n                <div class=\"rt-ad-item-content-wrapper\">\\n                  <h2 class=\"rt-ad-item-name\">\\n                      <a title=\"全場最低價』 DCARD 低卡 迪卡 狄卡 帳號 正規國內外大學老帳號\" href=\"https://www.ruten.com.tw/item/show?22209055431878\">全場最低價』 DCARD 低卡 迪卡 狄卡 帳號 正規國內外大學老帳號</a>\\n                  </h2>\\n                  <div class=\"rt-text-price-no-currency\">$500</div>\\n                </div>\\n              </div>\\n              <div class=\"rt-ad-item\">\\n                <div class=\"rt-ad-item-image-wrapper\">\\n                    <a class=\"rt-ad-item-link\" title=\"趨勢科技 PC-Cillin 2023 雲端版 防毒軟體支援行動裝置 1年1機和1年3機\" href=\"https://www.ruten.com.tw/item/show?22027789682700\">\\n                    <img class=\"rt-ad-item-image\" src=\"https://image.ruten.com.tw/g0/029/d21/deke419/d/20/0c/22027789682700_954_s.jpg\" alt=\"趨勢科技 PC-Cillin 2023 雲端版 防毒軟體支援行動裝置 1年1機和1年3機\">\\n                  </a>\\n                </div>\\n                <div class=\"rt-ad-item-content-wrapper\">\\n                  <h2 class=\"rt-ad-item-name\">\\n                      <a title=\"趨勢科技 PC-Cillin 2023 雲端版 防毒軟體支援行動裝置 1年1機和1年3機\" href=\"https://www.ruten.com.tw/item/show?22027789682700\">趨勢科技 PC-Cillin 2023 雲端版 防毒軟體支援行動裝置 1年1機和1年3機</a>\\n                  </h2>\\n                  <div class=\"rt-text-price-no-currency\">$79 - $99</div>\\n                </div>\\n              </div>\\n              <div class=\"rt-ad-item\">\\n                <div class=\"rt-ad-item-image-wrapper\">\\n                    <a class=\"rt-ad-item-link\" title=\"Rapidgator Premium會員帳號出租／8H 50G／請一定要先看物品說明\" href=\"https://www.ruten.com.tw/item/show?21748378999456\">\\n                    <img class=\"rt-ad-item-image\" src=\"https://image.ruten.com.tw/g2/d/62/a0/21748378999456_799_s.png\" alt=\"Rapidgator Premium會員帳號出租／8H 50G／請一定要先看物品說明\">\\n                  </a>\\n                </div>\\n                <div class=\"rt-ad-item-content-wrapper\">\\n                  <h2 class=\"rt-ad-item-name\">\\n                      <a title=\"Rapidgator Premium會員帳號出租／8H 50G／請一定要先看物品說明\" href=\"https://www.ruten.com.tw/item/show?21748378999456\">Rapidgator Premium會員帳號出租／8H 50G／請一定要先看物品說明</a>\\n                  </h2>\\n                  <div class=\"rt-text-price-no-currency\">$35</div>\\n                </div>\\n              </div>\\n              <div class=\"rt-ad-item\">\\n                <div class=\"rt-ad-item-image-wrapper\">\\n                    <a class=\"rt-ad-item-link\" title=\"呆呆熊 Windows win 10 11 7 Office 365 2021 2019 2016 序號 金鑰 專業版\" href=\"https://www.ruten.com.tw/item/show?22236293750023\">\\n                    <img class=\"rt-ad-item-image\" src=\"https://a.rimg.com.tw/s6/040/f20/niniwu886/1/07/22236293750023_785_s.jpg\" alt=\"呆呆熊 Windows win 10 11 7 Office 365 2021 2019 2016 序號 金鑰 專業版\">\\n                  </a>\\n                </div>\\n                <div class=\"rt-ad-item-content-wrapper\">\\n                  <h2 class=\"rt-ad-item-name\">\\n                      <a title=\"呆呆熊 Windows win 10 11 7 Office 365 2021 2019 2016 序號 金鑰 專業版\" href=\"https://www.ruten.com.tw/item/show?22236293750023\">呆呆熊 Windows win 10 11 7 Office 365 2021 2019 2016 序號 金鑰 專業版</a>\\n                  </h2>\\n                  <div class=\"rt-text-price-no-currency\">$199 - $999</div>\\n                </div>\\n              </div>\\n              <div class=\"rt-ad-item\">\\n                <div class=\"rt-ad-item-image-wrapper\">\\n                    <a class=\"rt-ad-item-link\" title=\"呆呆熊 正版序號 AIDA64 Extreme Engineer 效能監控軟體 遊戲FPS顯示 燒機測試\" href=\"https://www.ruten.com.tw/item/show?22301908713095\">\\n                    <img class=\"rt-ad-item-image\" src=\"https://a.rimg.com.tw/s6/040/f20/niniwu886/6/87/22301908713095_482_s.jpg\" alt=\"呆呆熊 正版序號 AIDA64 Extreme Engineer 效能監控軟體 遊戲FPS顯示 燒機測試\">\\n                  </a>\\n                </div>\\n                <div class=\"rt-ad-item-content-wrapper\">\\n                  <h2 class=\"rt-ad-item-name\">\\n                      <a title=\"呆呆熊 正版序號 AIDA64 Extreme Engineer 效能監控軟體 遊戲FPS顯示 燒機測試\" href=\"https://www.ruten.com.tw/item/show?22301908713095\">呆呆熊 正版序號 AIDA64 Extreme Engineer 效能監控軟體 遊戲FPS顯示 燒機測試</a>\\n                  </h2>\\n                  <div class=\"rt-text-price-no-currency\">$55 - $159</div>\\n                </div>\\n              </div>\\n              <div class=\"rt-ad-item\">\\n                <div class=\"rt-ad-item-image-wrapper\">\\n                    <a class=\"rt-ad-item-link\" title=\"►1394-1395 1831-1833◄4MM香蕉插座 香蕉座 香蕉頭插座 接線柱 香蕉插座 紅/黑/黃/綠/藍色\" href=\"https://www.ruten.com.tw/item/show?21843868181897\">\\n                    <img class=\"rt-ad-item-image\" src=\"https://image.ruten.com.tw/g1/f/c5/89/21843868181897_491_s.jpg\" alt=\"►1394-1395 1831-1833◄4MM香蕉插座 香蕉座 香蕉頭插座 接線柱 香蕉插座 紅/黑/黃/綠/藍色\">\\n                  </a>\\n                </div>\\n                <div class=\"rt-ad-item-content-wrapper\">\\n                  <h2 class=\"rt-ad-item-name\">\\n                      <a title=\"►1394-1395 1831-1833◄4MM香蕉插座 香蕉座 香蕉頭插座 接線柱 香蕉插座 紅/黑/黃/綠/藍色\" href=\"https://www.ruten.com.tw/item/show?21843868181897\">►1394-1395 1831-1833◄4MM香蕉插座 香蕉座 香蕉頭插座 接線柱 香蕉插座 紅/黑/黃/綠/藍色</a>\\n                  </h2>\\n                  <div class=\"rt-text-price-no-currency\">$3</div>\\n                </div>\\n              </div>\\n              <div class=\"rt-ad-item\">\\n                <div class=\"rt-ad-item-image-wrapper\">\\n                    <a class=\"rt-ad-item-link\" title=\"Keep2Share pro版高級會員升級碼1個月-1年k2s.cc激活碼(50G/天)\" href=\"https://www.ruten.com.tw/item/show?22230901836398\">\\n                    <img class=\"rt-ad-item-image\" src=\"https://image.ruten.com.tw/g7/a55/cf1/legend1999/e/6e/22230901836398_131_s.png\" alt=\"Keep2Share pro版高級會員升級碼1個月-1年k2s.cc激活碼(50G/天)\">\\n                  </a>\\n                </div>\\n                <div class=\"rt-ad-item-content-wrapper\">\\n                  <h2 class=\"rt-ad-item-name\">\\n                      <a title=\"Keep2Share pro版高級會員升級碼1個月-1年k2s.cc激活碼(50G/天)\" href=\"https://www.ruten.com.tw/item/show?22230901836398\">Keep2Share pro版高級會員升級碼1個月-1年k2s.cc激活碼(50G/天)</a>\\n                  </h2>\\n                  <div class=\"rt-text-price-no-currency\">$800 - $4897</div>\\n                </div>\\n              </div>\\n            </div>\\n          </div>\\n        </div>\\n      </div>\\n\\n      <div class=\"rt-ad rt-ad-search-keyword\">\\n        <div class=\"rt-ad-heading\">更多相關商品：</div>\\n        <ul class=\"rt-ad-list\">\\n          <li class=\"rt-ad-item\">\\n            <a href=\"https://find.ruten.com.tw/search/s000.php?enc=u&searchfrom=classf&k=ddr3+8g\" title=\"ddr3 8g\" target=\"_blank\">ddr3 8g</a>\\n          </li>\\n          <li class=\"rt-ad-item\">\\n            <a href=\"https://find.ruten.com.tw/search/s000.php?enc=u&searchfrom=classf&k=ddr3+4g\" title=\"ddr3 4g\" target=\"_blank\">ddr3 4g</a>\\n          </li>\\n          <li class=\"rt-ad-item\">\\n            <a href=\"https://find.ruten.com.tw/search/s000.php?enc=u&searchfrom=classf&k=%E5%B9%B3%E6%9D%BF%E9%9B%BB%E8%85%A6\" title=\"平板電腦\" target=\"_blank\">平板電腦</a>\\n          </li>\\n          <li class=\"rt-ad-item\">\\n            <a href=\"https://find.ruten.com.tw/search/s000.php?enc=u&searchfrom=classf&k=%E9%9B%BB%E8%85%A6%E8%9E%A2%E5%B9%95\" title=\"電腦螢幕\" target=\"_blank\">電腦螢幕</a>\\n          </li>\\n          <li class=\"rt-ad-item\">\\n            <a href=\"https://find.ruten.com.tw/search/s000.php?enc=u&searchfrom=classf&k=%E9%9B%BB%E8%85%A6%E4%B8%BB%E6%A9%9F\" title=\"電腦主機\" target=\"_blank\">電腦主機</a>\\n          </li>\\n          <li class=\"rt-ad-item\">\\n            <a href=\"https://find.ruten.com.tw/search/s000.php?enc=u&searchfrom=classf&k=%E9%9B%BB%E8%85%A6\" title=\"電腦\" target=\"_blank\">電腦</a>\\n          </li>\\n          <li class=\"rt-ad-item\">\\n            <a href=\"https://find.ruten.com.tw/search/s000.php?enc=u&searchfrom=classf&k=%E9%9B%BB%E8%85%A6%E6%A9%9F%E6%AE%BC\" title=\"電腦機殼\" target=\"_blank\">電腦機殼</a>\\n          </li>\\n          <li class=\"rt-ad-item\">\\n            <a href=\"https://find.ruten.com.tw/search/s000.php?enc=u&searchfrom=classf&k=%E6%A9%9F%E6%A2%B0%E9%8D%B5%E7%9B%A4\" title=\"機械鍵盤\" target=\"_blank\">機械鍵盤</a>\\n          </li>\\n          <li class=\"rt-ad-item\">\\n            <a href=\"https://find.ruten.com.tw/search/s000.php?enc=u&searchfrom=classf&k=%E7%AD%86%E8%A8%98%E5%9E%8B%E9%9B%BB%E8%85%A6\" title=\"筆記型電腦\" target=\"_blank\">筆記型電腦</a>\\n          </li>\\n          <li class=\"rt-ad-item\">\\n            <a href=\"https://find.ruten.com.tw/search/s000.php?enc=u&searchfrom=classf&k=ddr2+4g\" title=\"ddr2 4g\" target=\"_blank\">ddr2 4g</a>\\n          </li>\\n          <li class=\"rt-ad-item\">\\n            <a href=\"https://find.ruten.com.tw/search/s000.php?enc=u&searchfrom=classf&k=%E9%8D%B5%E7%9B%A4\" title=\"鍵盤\" target=\"_blank\">鍵盤</a>\\n          </li>\\n          <li class=\"rt-ad-item\">\\n            <a href=\"https://find.ruten.com.tw/search/s000.php?enc=u&searchfrom=classf&k=%E7%84%A1%E7%B7%9A%E6%BB%91%E9%BC%A0\" title=\"無線滑鼠\" target=\"_blank\">無線滑鼠</a>\\n          </li>\\n          <li class=\"rt-ad-item\">\\n            <a href=\"https://find.ruten.com.tw/search/s000.php?enc=u&searchfrom=classf&k=%E8%B2%BC%E7%89%87\" title=\"貼片\" target=\"_blank\">貼片</a>\\n          </li>\\n          <li class=\"rt-ad-item\">\\n            <a href=\"https://find.ruten.com.tw/search/s000.php?enc=u&searchfrom=classf&k=%E4%BA%8C%E6%89%8B%E7%AD%86%E9%9B%BB\" title=\"二手筆電\" target=\"_blank\">二手筆電</a>\\n          </li>\\n          <li class=\"rt-ad-item\">\\n            <a href=\"https://find.ruten.com.tw/search/s000.php?enc=u&searchfrom=classf&k=%E9%9B%BB%E6%BA%90%E4%BE%9B%E6%87%89%E5%99%A8\" title=\"電源供應器\" target=\"_blank\">電源供應器</a>\\n          </li>\\n        </ul>\\n      </div>\\n    </div>\\n\\n    <div class=\"rt-footer\">\\n      <div class=\"rt-footer-inner\">\\n        <div class=\"rt-footer-section\">\\n          <ul class=\"rt-footer-nav\" itemscope itemtype=\"http://schema.org/WPFooter\">\\n            <li class=\"about rt-footer-nav-item\">\\n              <a href=\"https://pub.ruten.com.tw/about/index.html\" title=\"關於露天市集\" itemprop=\"url\">\\n                <span class=\"rt-footer-nav-name\" itemprop=\"name\">關於露天</span>\\n              </a>\\n            </li>\\n            <li class=\"cm rt-footer-nav-item\">\\n              <a href=\"https://www.ruten.com.tw/system/index.html\" title=\"露天客服中心\" itemprop=\"url\">\\n                <span class=\"rt-footer-nav-name\" itemprop=\"name\">客服中心</span>\\n              </a>\\n            </li>\\n            <li class=\"qa rt-footer-nav-item\">\\n              <a href=\"https://www.ruten.com.tw/system/server_center.htm?000500010001\" title=\"網站常見問題\" itemprop=\"url\">\\n                <span class=\"rt-footer-nav-name\" itemprop=\"name\">常見問題</span>\\n              </a>\\n            </li>\\n            <li class=\"security rt-footer-nav-item\">\\n              <a href=\"https://www.ruten.com.tw/security/index.html\" title=\"關於交易安全說明\" itemprop=\"url\">\\n                <span class=\"rt-footer-nav-name\" itemprop=\"name\">交易安全</span>\\n              </a>\\n            </li>\\n            <li class=\"member rt-footer-nav-item\">\\n              <a href=\"https://www.ruten.com.tw/system/server_center.htm?agreements\" title=\"會員合約內容\" itemprop=\"url\">\\n                <span class=\"rt-footer-nav-name\" itemprop=\"name\">會員合約</span>\\n              </a>\\n            </li>\\n            <li class=\"privacy rt-footer-nav-item\">\\n              <a href=\"https://www.ruten.com.tw/system/server_center.htm?00060002\" title=\"隱私權聲明項目\" itemprop=\"url\">\\n                <span class=\"rt-footer-nav-name\" itemprop=\"name\">隱私權聲明</span>\\n              </a>\\n            </li>\\n            <li class=\"ipr rt-footer-nav-item\">\\n              <a href=\"https://www.ruten.com.tw/system/server_center.htm?000600050032\" title=\"智慧財產權保護傘\" itemprop=\"url\">\\n                <span class=\"rt-footer-nav-name\" itemprop=\"name\">智慧財產權保護傘</span>\\n              </a>\\n            </li>\\n            <li class=\"jobs rt-footer-nav-item\">\\n              <a href=\"http://www.104.com.tw/jobbank/cust_job/introduce.cfm?j=5a3a432634463e6956583a1d1d1d1d5f2443a363189j97\" target=\"_blank\" itemprop=\"url\">\\n                <span class=\"rt-footer-nav-name\" itemprop=\"name\">徵才</span>\\n              </a>\\n            </li>\\n            <li class=\"export rt-footer-nav-item\">\\n              <a href=\"http://twexport.ebay.com/\" title=\"eBay跨國交易服務\" target=\"_blank\" itemprop=\"url\">\\n                <span class=\"rt-footer-nav-name\" itemprop=\"name\">eBay&nbsp;跨國交易</span>\\n              </a>\\n            </li>\\n            <li class=\"pchomepay rt-footer-nav-item\">\\n              <a href=\"https://www.pchomepay.com.tw/\" title=\"支付連\" target=\"_blank\" itemprop=\"url\">\\n                <span class=\"rt-footer-nav-name\" itemprop=\"name\">支付連</span>\\n              </a>\\n            </li>\\n            <li class=\"pchome rt-footer-nav-item\">\\n              <a href=\"http://www.pchome.com.tw/\" title=\"PChome\" target=\"_blank\" itemprop=\"url\">\\n                <span class=\"rt-footer-nav-name\" itemprop=\"name\">PChome</span>\\n              </a>\\n            </li>\\n            <li class=\"marketing rt-footer-nav-item\">\\n              <a href=\"https://www.ruten.com.tw/system/advertisement/marketing.html\" title=\"廣告合作\" target=\"_blank\" itemprop=\"url\">\\n                <span class=\"rt-footer-nav-name\" itemprop=\"name\">廣告合作</span>\\n              </a>\\n            </li>\\n          </ul>\\n        </div>\\n    \\n        <div class=\"rt-footer-section\">\\n          <div class=\"rt-footer-copyright\">\\n            <p class=\"copyright-item copyright-item-notice\">客戶服務專線：02-55589168&nbsp;&nbsp;服務時間：週一&nbsp;~&nbsp;五&nbsp;9:00&nbsp;~&nbsp;18:00</p>\\n            <p class=\"copyright-item\">露天市集國際資訊股份有限公司版權所有，轉載必究&nbsp;•&nbsp;Copyright&nbsp;&copy;&nbsp;PChome&nbsp;eBay&nbsp;Co.,&nbsp;Ltd.</p>\\n          </div>\\n          <div class=\"rt-footer-green-mark\">\\n            <div class=\"rt-footer-green-mark-icon\" title=\"露天包裝減量標章\"></div>\\n            <p class=\"rt-footer-green-mark-title\">露天包裝減量標章</p>\\n          </div>\\n          <div class=\"rt-footer-download\">\\n            <div class=\"download-app\">\\n              <h4 class=\"download-app-title\">下載露天市集APP</h4>\\n              <div class=\"download-app-content\">\\n                <a class=\"download-app-android\" href=\"https://play.google.com/store/apps/details?id=com.ruten.android.rutengoods.rutenbid\" target=\"_blank\" title=\"前往Google Play下載 Android 版本 APP\"></a>\\n                <a class=\"download-app-ios\" href=\"https://itunes.apple.com/tw/app/%E9%9C%B2%E5%A4%A9%E6%8B%8D%E8%B3%A3/id981799568?mt=8\" target=\"_blank\" title=\"前往APP Store 下載 IOS 版本 APP\"></a>\\n              </div>\\n            </div>\\n            <div class=\"download-qrcode\" title=\"QR Code\"></div>\\n          </div>\\n        </div>\\n      </div>\\n    </div>\\n    \\n<script type=\"text/javascript\">\\n  window.RT = window.RT || {};\\n  RT.config = {\\n    www_host           : \\'https://www.ruten.com.tw\\',\\n    search_host        : \\'https://find.ruten.com.tw\\',\\n    member_host        : \\'https://member.ruten.com.tw\\',\\n    mobile_host        : \\'https://m.ruten.com.tw\\',\\n    goods_host         : \\'https://goods.ruten.com.tw\\',\\n    www_pchomeus_host  : \\'https://www.pchomeus.com\\',\\n    mybid_host         : \\'https://mybid.ruten.com.tw\\',\\n    mybidu_host        : \\'https://mybidu.ruten.com.tw\\',\\n    point_host         : \\'https://point.ruten.com.tw\\',\\n    class_host         : \\'https://class.ruten.com.tw\\',\\n    pub_host           : \\'https://pub.ruten.com.tw\\',\\n    ad_host            : \\'https://ahd.ruten.com.tw\\',\\n    ahd_host           : \\'https://ahd.ruten.com.tw\\',\\n    kwad_host          : \\'http://kwad.ruten.com.tw\\',\\n    bid_img_dir        : \\'https://www.ruten.com.tw/images\\',\\n    alert_host         : \\'https://alert.ruten.com.tw\\',\\n    im_host            : \\'https://im.ruten.com.tw\\',\\n    rtapi_host         : \\'https://rtapi.ruten.com.tw\\',\\n    rapi_host          : \\'https://rapi.ruten.com.tw\\',\\n    img_host           : \\'https://a.rimg.com.tw\\',\\n    upload_host        : \\'https://upload.ruten.com.tw\\',\\n    promote_host       : \\'https://promote.ruten.com.tw\\',\\n    seller_host        : \\'https://seller.ruten.com.tw\\',\\n    mass_host          : \\'https://mass.ruten.com.tw\\'\\n  };\\n  RT.config.env = \\'main\\';\\n  RT.config.ppPayway = [\\n    \\'PAYLINK\\',\\n    \\'PP_PI\\',\\n    \\'PL_ATM\\',\\n    \\'PL_ACCOUNT\\',\\n    \\'PL_POSTATM\\',\\n    \\'PP_CRD\\',\\n    \\'PP_CRD_N3\\',\\n    \\'PP_CRD_N6\\',\\n    \\'PP_CRD_N12\\',\\n    \\'PP_EACH\\'\\n  ];\\n  RT.config.ppRelatedPayway = RT.config.ppPayway.concat([\\n    \\'CVS_COD\\',\\n    \\'SEVEN\\',\\n    \\'SEVEN_COD\\',\\n    \\'TCAT_COD\\',\\n    \\'PP_CPON\\'\\n  ]);\\n  if(window.Box) {\\n    RT.App = Box.Application;\\n\\n    RT.App.initBroadcast = function(name, obj) {\\n      setTimeout(function() {\\n        RT.App.broadcast(name, obj)\\n      });\\n    };\\n  }\\n</script>\\n    \\n    <div data-ts-log-type=\"anchor\" data-ts-log-position=\"top\" class=\"back-to-top-wrap back-to-top-hide\" id=\"back_to_top_wrap\">\\n      <div class=\"back-to-top\">\\n        <p class=\"back-to-top-text\">TOP</p>\\n      </div>\\n    </div>\\n    \\n<script type=\"text/javascript\" src=\"https://www.ruten.com.tw/js/vue-2.6.10.min.js\" charset=\"utf-8\"></script>\\n    <script type=\"text/javascript\" src=\"https://www.ruten.com.tw/js/vuex-2.1.2.min.js?v=20171123\"></script>\\n    <script type=\"text/javascript\" src=\"https://www.ruten.com.tw/js/js.cookie-2.1.2.min.js?v=20171123\"></script>\\n    <script type=\"text/javascript\" src=\"https://www.ruten.com.tw/js/jquery-1.7.1.min.js\"></script>\\n    \\n<script type=\"text/javascript\">\\n/*<![CDATA[*/setTimeout(function(){(function() {\\nvar script = document.createElement(\\'script\\'), event;\\nscript.setAttribute(\\'type\\', \\'text/javascript\\');\\nscript.setAttribute(\\'src\\', \\'https://www.ruten.com.tw/js/lib/rtchat_vendors.min.js?v=f394c02deb0696ed81b2\\');\\nif(typeof window.Event === \\'function\\') {\\n  event = new Event(\\'rtchat_vendors.min.js:loaded\\');\\n} else {\\n  event = document.createEvent(\\'Event\\');\\n  event.initEvent(\\'rtchat_vendors.min.js:loaded\\', true, true);\\n}\\nscript.onload = function(e) {window.dispatchEvent(event);e.target.complete=true;}\\ndocument.documentElement.appendChild(script);\\n})();(function() {\\nvar script = document.createElement(\\'script\\'), event;\\nscript.setAttribute(\\'type\\', \\'text/javascript\\');\\nscript.setAttribute(\\'src\\', \\'https://www.ruten.com.tw/js/lib/rtchat_teddy.min.js?v=9d98c4240d0d0ac9c65b\\');\\nif(typeof window.Event === \\'function\\') {\\n  event = new Event(\\'rtchat_teddy.min.js:loaded\\');\\n} else {\\n  event = document.createEvent(\\'Event\\');\\n  event.initEvent(\\'rtchat_teddy.min.js:loaded\\', true, true);\\n}\\nscript.onload = function(e) {window.dispatchEvent(event);e.target.complete=true;}\\ndocument.documentElement.appendChild(script);\\n})();})/*]]>*/\\n</script>\\n    \\n      <script type=\"text/javascript\" src=\"https://www.ruten.com.tw/js/t3-jquery.min.js\"></script>\\n    \\n<script type=\"text/javascript\" src=\"https://www.ruten.com.tw/js/d/desktop.js?v=962d8f64a37d53559aec\" charset=\"utf-8\"></script>\\n    \\n<!-- ts code start -->\\n<script type=\"text/javascript\">\\n(function(R,u,t,e,n,T,S){\\nt=R[t]=function(){(t.queue=t.queue||[]).push(arguments);};\\nt.host=n;T=u.createElement(e);T.async=1;T.src=n+\\'/ts_async.js?24\\';\\nS=u.getElementsByTagName(e)[0];S.parentNode.insertBefore(T,S);\\n}(window,document,\\'_ts_js_fn\\',\\'script\\',\\'https://ts.ruten.com.tw\\'));\\n\\n_ts_js_fn(\\'init\\');\\n_ts_js_fn(\\'run\\');\\n\\n(function(i,s,o,g,r,a,m){i[\\'GoogleAnalyticsObject\\']=r;i[r]=i[r]||function(){\\n(i[r].q=i[r].q||[]).push(arguments)},i[r].l=1*new Date();a=s.createElement(o),\\nm=s.getElementsByTagName(o)[0];a.async=1;a.src=g;m.parentNode.insertBefore(a,m)\\n})(window,document,\\'script\\',\\'//www.google-analytics.com/analytics.js\\',\\'ga\\');\\n\\n!function(f,b,e,v,n,t,s)\\n{if(f.fbq)return;n=f.fbq=function(){n.callMethod?\\nn.callMethod.apply(n,arguments):n.queue.push(arguments)};\\nif(!f._fbq)f._fbq=n;n.push=n;n.loaded=!0;n.version=\\'2.0\\';\\nn.queue=[];t=b.createElement(e);t.async=!0;\\nt.src=v;s=b.documentElement;\\ns.appendChild(t)}(window, document,\\'script\\',\\n\\'https://connect.facebook.net/en_US/fbevents.js\\');\\nfbq(\\'init\\', \\'1609625759130349\\');\\nfbq(\\'track\\', \\'PageView\\');\\n</script>\\n\\n<script type=\"text/javascript\">\\n/*<![CDATA[*/setTimeout(function(){(function() {\\nvar script = document.createElement(\\'script\\'), event;\\nscript.setAttribute(\\'type\\', \\'text/javascript\\');\\nscript.setAttribute(\\'src\\', \\'https://www.ruten.com.tw/js/lib/rt_analytics.min.js?v=0426740745835996a436\\');\\nif(typeof window.Event === \\'function\\') {\\n  event = new Event(\\'rt_analytics.min.js:loaded\\');\\n} else {\\n  event = document.createEvent(\\'Event\\');\\n  event.initEvent(\\'rt_analytics.min.js:loaded\\', true, true);\\n}\\nscript.onload = function(e) {window.dispatchEvent(event);e.target.complete=true;}\\ndocument.documentElement.appendChild(script);\\n})();})/*]]>*/\\n</script>\\n  </div>\\n<script>\\n  window.RT = window.RT || {};\\n  RT.context = {\"g_class_val\":\"0011\",\"ahd_host\":\"https:\\\\/\\\\/ahd.ruten.com.tw\",\"point_host\":\"https:\\\\/\\\\/point.ruten.com.tw\",\"class_host\":\"https:\\\\/\\\\/class.ruten.com.tw\",\"tab_val\":1,\"p\":1};\\n</script>\\n<script src=\"https://www.ruten.com.tw/js/mustache-2.1.2.min.js\"></script>\\n<script src=\\'https://www.ruten.com.tw/js/ahd_flash.js\\'></script>\\n<script src=\"https://www.ruten.com.tw/js/gads_loader.js\"></script>\\n<script type=\"text/javascript\" src=\"https://www.ruten.com.tw/js/lib/rt_utility.min.js?v=3609957ceba01903e76e\" charset=\"utf-8\"></script>\\n<script type=\"text/javascript\" src=\"https://www.ruten.com.tw/js/lib/jquery.ruten.ruten_ad.min.js?v=ddde7dff1b294b9a36a7\" charset=\"utf-8\"></script>\\n<script type=\"text/javascript\" src=\"https://www.ruten.com.tw/js/lib/rt_adslot.min.js?v=5352806f0ee1b82a3b8f\" charset=\"utf-8\"></script>\\n<script type=\"text/javascript\" src=\"https://www.ruten.com.tw/js/d/www/main.view.js?v=782d475a059e03176b89\" charset=\"utf-8\"></script>\\n</body>\\n\\n</html>'"
            ],
            "application/vnd.google.colaboratory.intrinsic+json": {
              "type": "string"
            }
          },
          "metadata": {},
          "execution_count": 89
        }
      ]
    },
    {
      "cell_type": "code",
      "source": [
        "'凸頭' in r.text"
      ],
      "metadata": {
        "colab": {
          "base_uri": "https://localhost:8080/"
        },
        "id": "OMDfIKZVJTZH",
        "outputId": "e780120b-863d-4550-c513-9bbfa6fc40de"
      },
      "execution_count": 90,
      "outputs": [
        {
          "output_type": "execute_result",
          "data": {
            "text/plain": [
              "False"
            ]
          },
          "metadata": {},
          "execution_count": 90
        }
      ]
    },
    {
      "cell_type": "code",
      "source": [
        "url = \"https://rapi.ruten.com.tw/api/items/v2/list?gno=21203073884581,21203073855084,22243606777400,22244608865692,22302937500980,22306987134735,22308073518043,22134699516389,22238403273488,21945822081428,22115680698839&level=detail\""
      ],
      "metadata": {
        "id": "IUj13j5lKb_a"
      },
      "execution_count": 91,
      "outputs": []
    },
    {
      "cell_type": "code",
      "source": [
        "data = requests.get(url, headers=headers).json()"
      ],
      "metadata": {
        "id": "3ocDWbRyKfRT"
      },
      "execution_count": 92,
      "outputs": []
    },
    {
      "cell_type": "code",
      "source": [
        "data"
      ],
      "metadata": {
        "colab": {
          "base_uri": "https://localhost:8080/"
        },
        "id": "5HEZWBZlKhxD",
        "outputId": "6197d307-b252-448d-c815-39ce52df31e9"
      },
      "execution_count": 93,
      "outputs": [
        {
          "output_type": "execute_result",
          "data": {
            "text/plain": [
              "{'status': 'success',\n",
              " 'data': [{'id': '21203073884581',\n",
              "   'class': '001100030010',\n",
              "   'name': '凸頭 18650電池 可開發票 尖頭 鋰電池 充電電池 3000mAh 3.7v 高容量 手電筒 電風扇 Li-ion',\n",
              "   'num': 90438,\n",
              "   'images': {'filename': '21203073884581_115.jpg,21203073884581_785.jpg,21203073884581_909.jpg,21203073884581_937.jpg',\n",
              "    'url': ['https://image.ruten.com.tw/g1/7/c1/a5/21203073884581_115.jpg',\n",
              "     'https://image.ruten.com.tw/g1/7/c1/a5/21203073884581_785.jpg',\n",
              "     'https://image.ruten.com.tw/g1/7/c1/a5/21203073884581_909.jpg',\n",
              "     'https://image.ruten.com.tw/g1/7/c1/a5/21203073884581_937.jpg'],\n",
              "    'm_url': ['https://image.ruten.com.tw/g1/7/c1/a5/21203073884581_115_m.jpg',\n",
              "     'https://image.ruten.com.tw/g1/7/c1/a5/21203073884581_785_m.jpg',\n",
              "     'https://image.ruten.com.tw/g1/7/c1/a5/21203073884581_909_m.jpg',\n",
              "     'https://image.ruten.com.tw/g1/7/c1/a5/21203073884581_937_m.jpg']},\n",
              "   'currency': 'TWD',\n",
              "   'goods_price': 8,\n",
              "   'goods_ori_price': 8,\n",
              "   'goods_price_range': {'min': 8, 'max': 24, 'ori_min': 8, 'ori_max': 24},\n",
              "   'watch_num': 437,\n",
              "   'sold_num': 15427,\n",
              "   'buyer_limit_num': 0,\n",
              "   'stock_status': 1,\n",
              "   'pre_order_ship_date': None,\n",
              "   'fast_ship': 0,\n",
              "   'free_shipping': 0,\n",
              "   'youtube_link': '',\n",
              "   'video_link': '',\n",
              "   'ncc_check_code': '',\n",
              "   'bsmi_code': '',\n",
              "   'goods_no': '',\n",
              "   'available': True,\n",
              "   'post_time': '1331093175',\n",
              "   'spec_type': 'R',\n",
              "   'deliver_way': {'SEVEN_COD': 60,\n",
              "    'SEVEN': 60,\n",
              "    'FAMI_COD': 60,\n",
              "    'FAMI': 60,\n",
              "    'HILIFE_COD': 45,\n",
              "    'HILIFE': 45,\n",
              "    'HOUSE': 90,\n",
              "    'ISLAND': 120},\n",
              "   'mode': 'B',\n",
              "   'ship': 'A',\n",
              "   'platform': 'RUTEN',\n",
              "   'ctrl_rowid': '1832576',\n",
              "   'user': 'partsworld66',\n",
              "   'user_credit': 210310,\n",
              "   'pay_way': ['PP_PI',\n",
              "    'PP_CRD',\n",
              "    'PAYLINK',\n",
              "    'SEVEN_COD',\n",
              "    'FAMI_COD',\n",
              "    'HILIFE_COD',\n",
              "    'ATM',\n",
              "    'PS'],\n",
              "   'title_style': '0',\n",
              "   'selling_g_now_price': 8,\n",
              "   'item_remaining_time': 467979089,\n",
              "   'translation_type': None,\n",
              "   'translated_name': None,\n",
              "   'min_estimated_delivery_date': None,\n",
              "   'max_estimated_delivery_date': None,\n",
              "   'update_time': '2023-03-03',\n",
              "   'is_brand_seller': False,\n",
              "   'is_goods_from_oversea': False,\n",
              "   'location': '台北市',\n",
              "   'condition': 'B',\n",
              "   'codition': 'B',\n",
              "   'accept_shiprule': True,\n",
              "   'user_class': '3172882',\n",
              "   'close_no': None,\n",
              "   'description_url': 'https://www.ruten.com.tw/item/goods_comments.php?id=21203073884581&k=025d98b2&o=1645411722',\n",
              "   'spec_info': {'level': 1,\n",
              "    'structure': {'203358040772539': [], '213931129134267': []},\n",
              "    'specs': {'203358040772539': {'spec_id': '203358040772539',\n",
              "      'parent_id': '0',\n",
              "      'spec_name': '18650充電電池-單入(19-310)',\n",
              "      'spec_num': 89670,\n",
              "      'spec_price': 24,\n",
              "      'spec_status': 'Y',\n",
              "      'spec_ext': {'goods_no': '19-310'},\n",
              "      'childs': [],\n",
              "      'spec_ori_price': 24},\n",
              "     '213931129134267': {'spec_id': '213931129134267',\n",
              "      'parent_id': '0',\n",
              "      'spec_name': '18650電池盒可放2入，不挑色',\n",
              "      'spec_num': 768,\n",
              "      'spec_price': 8,\n",
              "      'spec_status': 'Y',\n",
              "      'spec_ext': {'goods_no': '34-709'},\n",
              "      'childs': [],\n",
              "      'spec_ori_price': 8}},\n",
              "    'map': {'spec': {'18650充電電池-單入(19-310)': ['203358040772539'],\n",
              "      '18650電池盒可放2入，不挑色': ['213931129134267']}}},\n",
              "   'text2': '\\n&lt;style type=&quot;text/css&quot;&gt;&lt;!--\\ndiv.tidied-202102253878-6 {text-align: center;}\\n table.tidied-202102253878-5 {background-color: #c4cde4;}\\n table.tidied-202102253878-4 {background-color: #ffffff;}\\n span.tidied-202102253878-3 {color: #3155ad; font-size: medium;}\\n span.tidied-202102253878-2 {color: #3155ad; font-size: x-large;}\\n span.tidied-202102253878-1 {color: #bd2029; font-size: medium;} span.tidied-202202215869-1 {color: #202124; font-size: 16px; font-family: arial, sans-serif;}\\n--&gt;&lt;/style&gt;&lt;div&gt;\\n&lt;div class=&quot;tidied-201904095077-1&quot;&gt;\\n&lt;div&gt;\\n&lt;table&gt;&lt;tbody&gt;&lt;tr&gt;&lt;td class=&quot;tidied-201904099749-1&quot;&gt;&lt;a  href=&quot;https://class.ruten.com.tw/user/index00.php?s=partsworld66&amp;amp;d=2373672&amp;amp;o=0&amp;amp;m=1&quot; target=&quot;_blank&quot;&gt;&lt;img class=&quot;tidied-201711305395-1&quot;  src=&quot;https://www.mydashop.info/extra/20190409.jpg&quot; border=&quot;0&quot;&gt;&lt;/a&gt;&lt;/td&gt;\\n&lt;td class=&quot;tidied-201904099749-1&quot;&gt;&lt;a  href=&quot;https://class.ruten.com.tw/user/index00.php?s=partsworld66&amp;amp;d=3394489&amp;amp;o=0&amp;amp;m=1&quot; target=&quot;_blank&quot;&gt;&lt;img class=&quot;tidied-201711305395-1&quot;  src=&quot;https://www.mydashop.info/extra/20190409-1.jpg&quot; border=&quot;0&quot;&gt;&lt;/a&gt;&lt;/td&gt;\\n&lt;td class=&quot;tidied-201904099749-1&quot;&gt;&lt;a  href=&quot;https://class.ruten.com.tw/user/index00.php?s=partsworld66&amp;amp;d=3458889&amp;amp;o=0&amp;amp;m=1&quot; target=&quot;_blank&quot;&gt;&lt;img class=&quot;tidied-201711305395-1&quot;  src=&quot;https://www.mydashop.info/extra/20190409-3.jpg&quot; border=&quot;0&quot;&gt;&lt;/a&gt;&lt;/td&gt;\\n&lt;td class=&quot;tidied-201904099749-1&quot;&gt;&lt;a  href=&quot;https://class.ruten.com.tw/user/index00.php?s=partsworld66&amp;amp;d=5177518&amp;amp;o=0&amp;amp;m=1&quot; target=&quot;_blank&quot;&gt;&lt;img class=&quot;tidied-201711305395-1&quot;  src=&quot;https://www.mydashop.info/extra/20190409-2.jpg&quot; border=&quot;0&quot;&gt;&lt;/a&gt;&lt;/td&gt;\\n&lt;/tr&gt;&lt;/tbody&gt;&lt;/table&gt;&lt;/div&gt;\\n&lt;/div&gt;\\n&lt;/div&gt;\\n&lt;div class=&quot;tidied-202102253878-6&quot;&gt;\\n&lt;table class=&quot;tidied-202102253878-5&quot; border=&quot;0&quot; cellpadding=&quot;0&quot; cellspacing=&quot;5&quot; width=&quot;800&quot;&gt;&lt;tbody&gt;&lt;tr&gt;&lt;td&gt;&lt;img  src=&quot;https://www.mydashop.info/im2/t/part/pyh2.jpg&quot; border=&quot;0&quot;&gt;&lt;table class=&quot;tidied-202102253878-4&quot; border=&quot;0&quot; cellpadding=&quot;0&quot; cellspacing=&quot;0&quot; width=&quot;100%&quot;&gt;&lt;tbody&gt;&lt;tr&gt;&lt;td&gt;\\n&lt;p align=&quot;center&quot;&gt;&lt;img  src=&quot;https://www.mydashop.info/promo/promor01.png&quot; border=&quot;0&quot;&gt;&lt;/p&gt;\\n&lt;/td&gt;\\n&lt;/tr&gt;&lt;tr&gt;&lt;td align=&quot;left&quot;&gt;&lt;img  src=&quot;https://www.mydashop.info/im2/t/part/pyn2.jpg&quot; border=&quot;0&quot;&gt;&lt;/td&gt;\\n&lt;/tr&gt;&lt;tr&gt;&lt;td align=&quot;left&quot;&gt;&lt;span class=&quot;tidied-202102253878-1&quot;&gt;&lt;br&gt;&lt;b&gt;&nbsp;&nbsp;產品編號&nbsp;&nbsp;19-310&lt;/b&gt;&lt;/span&gt;&lt;/td&gt;\\n&lt;/tr&gt;&lt;tr&gt;&lt;td width=&quot;720&quot; align=&quot;center&quot;&gt;&lt;span class=&quot;tidied-202102253878-2&quot;&gt;&lt;br&gt;&lt;b&gt;18650 強化 藍色 高容量 3000mAh 3.7V Li-ion 充電電池&lt;/b&gt;&lt;/span&gt;&lt;/td&gt;\\n&lt;/tr&gt;&lt;tr&gt;&lt;td&gt;&lt;/td&gt;\\n&lt;/tr&gt;&lt;tr&gt;&lt;td align=&quot;left&quot;&gt;&lt;span class=&quot;tidied-202102253878-3&quot;&gt;&lt;br&gt;&lt;b&gt;&nbsp;&nbsp;產品特色&nbsp;&nbsp;&lt;/b&gt;&lt;/span&gt;&lt;/td&gt;\\n&lt;/tr&gt;&lt;tr&gt;&lt;td align=&quot;left&quot;&gt;&lt;br&gt;&lt;ul class=&quot;style2&quot;&gt;&lt;li class=&quot;style1&quot;&gt;3000mAh 高容量，使用時間更耐久&lt;/li&gt;\\n&lt;li class=&quot;style1&quot;&gt;適用手電筒，供電設備使用&lt;/li&gt;\\n&lt;/ul&gt;&lt;/td&gt;\\n&lt;/tr&gt;&lt;tr&gt;&lt;td&gt;&lt;/td&gt;\\n&lt;/tr&gt;&lt;tr&gt;&lt;td align=&quot;left&quot;&gt;&lt;span class=&quot;tidied-202102253878-3&quot;&gt;&lt;br&gt;&lt;b&gt;&nbsp;&nbsp;產品規格&nbsp;&nbsp;&lt;/b&gt;&lt;/span&gt;&lt;/td&gt;\\n&lt;/tr&gt;&lt;tr&gt;&lt;td align=&quot;left&quot;&gt;&lt;br&gt;&lt;ul class=&quot;style2&quot;&gt;&lt;li class=&quot;style1&quot;&gt;尺寸： &lt;span class=&quot;tidied-202202215869-1&quot;&gt;電池直徑為1.8cm，電池長度為6.5cm&lt;/span&gt;&lt;/li&gt;\\n&lt;li class=&quot;style1&quot;&gt;淨重： 41 g&lt;/li&gt;\\n&lt;li class=&quot;style1&quot;&gt;電壓： 3.7V&lt;/li&gt;\\n&lt;li class=&quot;style1&quot;&gt;電容量：3000mAh&lt;/li&gt;\\n&lt;/ul&gt;&lt;/td&gt;\\n&lt;/tr&gt;&lt;tr&gt;&lt;td&gt;&lt;/td&gt;\\n&lt;/tr&gt;&lt;tr&gt;&lt;td align=&quot;left&quot;&gt;&lt;span class=&quot;tidied-202102253878-3&quot;&gt;&lt;br&gt;&lt;b&gt;&nbsp;&nbsp;產品內容&nbsp;&nbsp;&lt;/b&gt;&lt;/span&gt;&lt;/td&gt;\\n&lt;/tr&gt;&lt;tr&gt;&lt;td align=&quot;left&quot;&gt;&lt;br&gt;&lt;ul class=&quot;style2&quot;&gt;&lt;li class=&quot;style1&quot;&gt;1 x 18650 強化 藍色 高容量 3000mAh 3.7V Li-ion 充電電池&lt;/li&gt;\\n&lt;/ul&gt;&lt;/td&gt;\\n&lt;/tr&gt;&lt;tr&gt;&lt;td&gt;&lt;/td&gt;\\n&lt;/tr&gt;&lt;/tbody&gt;&lt;/table&gt;&lt;/td&gt;\\n&lt;/tr&gt;&lt;/tbody&gt;&lt;/table&gt;&lt;/div&gt;\\n'},\n",
              "  {'id': '21203073855084',\n",
              "   'class': '001100170011',\n",
              "   'name': '18650充電電池 高容量 4000mAh 電池 鋰電池 充電電池 3.7V Li-ion 尖頭 凸頭 充電器 USB',\n",
              "   'num': 27070,\n",
              "   'images': {'filename': '21203073855084_668.jpg,21203073855084_115.jpg,21203073855084_770.jpg,21203073855084_528.jpg,21203073855084_810.jpg',\n",
              "    'url': ['https://image.ruten.com.tw/g2/7/4e/6c/21203073855084_668.jpg',\n",
              "     'https://image.ruten.com.tw/g2/7/4e/6c/21203073855084_115.jpg',\n",
              "     'https://image.ruten.com.tw/g2/7/4e/6c/21203073855084_770.jpg',\n",
              "     'https://image.ruten.com.tw/g2/7/4e/6c/21203073855084_528.jpg',\n",
              "     'https://image.ruten.com.tw/g2/7/4e/6c/21203073855084_810.jpg'],\n",
              "    'm_url': ['https://image.ruten.com.tw/g2/7/4e/6c/21203073855084_668_m.jpg',\n",
              "     'https://image.ruten.com.tw/g2/7/4e/6c/21203073855084_115_m.jpg',\n",
              "     'https://image.ruten.com.tw/g2/7/4e/6c/21203073855084_770_m.jpg',\n",
              "     'https://image.ruten.com.tw/g2/7/4e/6c/21203073855084_528_m.jpg',\n",
              "     'https://image.ruten.com.tw/g2/7/4e/6c/21203073855084_810_m.jpg']},\n",
              "   'currency': 'TWD',\n",
              "   'goods_price': 39,\n",
              "   'goods_ori_price': 39,\n",
              "   'goods_price_range': {'min': 39, 'max': 119, 'ori_min': 39, 'ori_max': 119},\n",
              "   'watch_num': 190,\n",
              "   'sold_num': 3041,\n",
              "   'buyer_limit_num': 0,\n",
              "   'stock_status': 1,\n",
              "   'pre_order_ship_date': None,\n",
              "   'fast_ship': 0,\n",
              "   'free_shipping': 0,\n",
              "   'youtube_link': '',\n",
              "   'video_link': '',\n",
              "   'ncc_check_code': '',\n",
              "   'bsmi_code': '',\n",
              "   'goods_no': '',\n",
              "   'available': True,\n",
              "   'post_time': '1331092327',\n",
              "   'spec_type': 'R',\n",
              "   'deliver_way': {'SEVEN_COD': 60,\n",
              "    'SEVEN': 60,\n",
              "    'FAMI_COD': 60,\n",
              "    'FAMI': 60,\n",
              "    'HILIFE_COD': 45,\n",
              "    'HILIFE': 45,\n",
              "    'HOUSE': 90,\n",
              "    'ISLAND': 120},\n",
              "   'mode': 'B',\n",
              "   'ship': 'A',\n",
              "   'platform': 'RUTEN',\n",
              "   'ctrl_rowid': '1832576',\n",
              "   'user': 'partsworld66',\n",
              "   'user_credit': 210310,\n",
              "   'pay_way': ['PP_PI',\n",
              "    'PP_CRD',\n",
              "    'PAYLINK',\n",
              "    'SEVEN_COD',\n",
              "    'FAMI_COD',\n",
              "    'HILIFE_COD',\n",
              "    'ATM',\n",
              "    'PS'],\n",
              "   'title_style': '0',\n",
              "   'selling_g_now_price': 39,\n",
              "   'item_remaining_time': 467979089,\n",
              "   'translation_type': None,\n",
              "   'translated_name': None,\n",
              "   'min_estimated_delivery_date': None,\n",
              "   'max_estimated_delivery_date': None,\n",
              "   'update_time': '2023-03-04',\n",
              "   'is_brand_seller': False,\n",
              "   'is_goods_from_oversea': False,\n",
              "   'location': '台北市',\n",
              "   'condition': 'B',\n",
              "   'codition': 'B',\n",
              "   'accept_shiprule': True,\n",
              "   'user_class': '3172882',\n",
              "   'close_no': None,\n",
              "   'description_url': 'https://www.ruten.com.tw/item/goods_comments.php?id=21203073855084&k=51aa9bcb&o=1624346373',\n",
              "   'spec_info': {'level': 1,\n",
              "    'structure': {'204163653034782': [],\n",
              "     '204163653034793': [],\n",
              "     '204163653034805': []},\n",
              "    'specs': {'204163653034782': {'spec_id': '204163653034782',\n",
              "      'parent_id': '0',\n",
              "      'spec_name': '18650充電電池',\n",
              "      'spec_num': 7283,\n",
              "      'spec_price': 39,\n",
              "      'spec_status': 'Y',\n",
              "      'spec_ext': {'goods_no': '19-311'},\n",
              "      'childs': [],\n",
              "      'spec_ori_price': 39},\n",
              "     '204163653034793': {'spec_id': '204163653034793',\n",
              "      'parent_id': '0',\n",
              "      'spec_name': '單買 【18650鋰電池充電器】',\n",
              "      'spec_num': 9970,\n",
              "      'spec_price': 89,\n",
              "      'spec_status': 'Y',\n",
              "      'spec_ext': {'goods_no': '80-3703'},\n",
              "      'childs': [],\n",
              "      'spec_ori_price': 89},\n",
              "     '204163653034805': {'spec_id': '204163653034805',\n",
              "      'parent_id': '0',\n",
              "      'spec_name': '【優惠價】充電電池*1顆+充電器*1個',\n",
              "      'spec_num': 9817,\n",
              "      'spec_price': 119,\n",
              "      'spec_status': 'Y',\n",
              "      'spec_ext': {'goods_no': 'C01-0637'},\n",
              "      'childs': [],\n",
              "      'spec_ori_price': 119}},\n",
              "    'map': {'spec': {'18650充電電池': ['204163653034782'],\n",
              "      '單買 【18650鋰電池充電器】': ['204163653034793'],\n",
              "      '【優惠價】充電電池*1顆+充電器*1個': ['204163653034805']}}},\n",
              "   'text2': '\\n&lt;style type=&quot;text/css&quot;&gt;&lt;!--\\ndiv.tidied-201710038060-7 {text-align: center;} table.tidied-201710038060-6 {background-color: #c4cde4;} table.tidied-201710038060-5 {background-color: #ffffff;} span.tidied-201710038060-4 {color: #3155ad; font-size: medium;} span.tidied-201710038060-3 {color: #3155ad; font-size: x-large;} span.tidied-201710038060-2 {color: #bd2029; font-size: medium;} p.tidied-201710038060-1 {text-align: center} div.tidied-201711305395-4 {width: 100%;} table.tidied-201711305395-3 {width: 100%;} td.tidied-201711305395-2 {width: 49%;} img.tidied-201711305395-1 {width: 100%;} span.tidied-201711307329-2 {color: #ff0000;} span.tidied-201711307329-1 {font-size: 36pt;} ul.tidied-202008054183-5 {text-align: -webkit-left;} li.tidied-202008054183-4 {text-align: center;} strong.tidied-202008054183-3 {color: #0000ff;} span.tidied-202008054183-2 {color: #0000ff;} span.tidied-202008054183-1 {font-size: 18pt;}\\n--&gt;&lt;/style&gt;&lt;div&gt;\\n&lt;p&gt;&lt;a  href=&quot;https://theme.ruten.com.tw/promo/?id=20200525000004&quot; target=&quot;_blank&quot; rel=&quot;nofollow&quot;&gt;&lt;img  src=&quot;http://o.mydashop.info/extra/DADA.jpg&quot; border=&quot;0&quot;&gt;&lt;/a&gt;&lt;/p&gt;\\n&lt;div&gt;\\n&lt;div class=&quot;tidied-201711305395-4&quot;&gt;&lt;img  src=&quot;http://o.mydashop.info/extra/aboutplus.jpg&quot; border=&quot;0&quot; alt=&quot;&quot;&gt;&lt;br&gt;&lt;table class=&quot;tidied-201711305395-3&quot;&gt;&lt;tbody&gt;&lt;tr&gt;&lt;td class=&quot;tidied-201711305395-2&quot;&gt;&lt;a  href=&quot;http://goods.ruten.com.tw/item/show?21203073869988&quot; target=&quot;_blank&quot;&gt;&lt;img class=&quot;tidied-201711305395-1&quot;  src=&quot;http://o.mydashop.info/extra/19-443plus.jpg&quot; border=&quot;0&quot;&gt;&lt;/a&gt;&lt;/td&gt;\\n&lt;td class=&quot;tidied-201711305395-2&quot;&gt;&lt;a  href=&quot;http://goods.ruten.com.tw/item/show?21203073889441&quot; target=&quot;_blank&quot;&gt;&lt;img class=&quot;tidied-201711305395-1&quot;  src=&quot;http://o.mydashop.info/extra/25-223plus.jpg&quot; border=&quot;0&quot;&gt;&lt;/a&gt;&lt;/td&gt;\\n&lt;/tr&gt;&lt;tr&gt;&lt;td class=&quot;tidied-201711305395-2&quot;&gt;&lt;a  href=&quot;http://goods.ruten.com.tw/item/show?21203073869023&quot; target=&quot;_blank&quot;&gt;&lt;img class=&quot;tidied-201711305395-1&quot;  src=&quot;http://o.mydashop.info/extra/19-298plus.jpg&quot; border=&quot;0&quot;&gt;&lt;/a&gt;&lt;/td&gt;\\n&lt;td class=&quot;tidied-201711305395-2&quot;&gt;&lt;a  href=&quot;http://goods.ruten.com.tw/item/show?21208100511449&quot; target=&quot;_blank&quot;&gt;&lt;img class=&quot;tidied-201711305395-1&quot;  src=&quot;http://o.mydashop.info/extra/78-0642plus.jpg&quot; border=&quot;0&quot;&gt;&lt;/a&gt;&lt;/td&gt;\\n&lt;/tr&gt;&lt;tr&gt;&lt;td class=&quot;tidied-201711305395-2&quot;&gt;&lt;a  href=&quot;http://goods.ruten.com.tw/item/show?21203073869865&quot; target=&quot;_blank&quot;&gt;&lt;img class=&quot;tidied-201711305395-1&quot;  src=&quot;http://o.mydashop.info/extra/19-404plus.jpg&quot; border=&quot;0&quot;&gt;&lt;/a&gt;&lt;/td&gt;\\n&lt;td class=&quot;tidied-201711305395-2&quot;&gt;&lt;a  href=&quot;http://goods.ruten.com.tw/item/show?21208100511438&quot; target=&quot;_blank&quot;&gt;&lt;img class=&quot;tidied-201711305395-1&quot;  src=&quot;http://o.mydashop.info/extra/78-0641plus.jpg&quot; border=&quot;0&quot;&gt;&lt;/a&gt;&lt;/td&gt;\\n&lt;/tr&gt;&lt;/tbody&gt;&lt;/table&gt;&lt;div class=&quot;tidied-201710038060-7&quot;&gt;\\n&lt;table class=&quot;tidied-201710038060-6&quot; border=&quot;0&quot; cellpadding=&quot;0&quot; cellspacing=&quot;5&quot; width=&quot;800&quot;&gt;&lt;tbody&gt;&lt;tr&gt;&lt;td&gt;&lt;br&gt;&lt;table class=&quot;tidied-201710038060-5&quot; border=&quot;0&quot; cellpadding=&quot;0&quot; cellspacing=&quot;0&quot; width=&quot;100%&quot;&gt;&lt;tbody&gt;&lt;tr&gt;&lt;td&gt;\\n&lt;p class=&quot;tidied-201710038060-1&quot;&gt;&lt;a&gt;&lt;img  src=&quot;http://p.mydashop.info/promo/promor01.png&quot; border=&quot;0&quot;&gt;&lt;/a&gt;&lt;/p&gt;\\n&lt;/td&gt;\\n&lt;/tr&gt;&lt;tr&gt;&lt;td align=&quot;left&quot;&gt;&lt;img  src=&quot;http://o.mydashop.info/im2/t/part/pyn2.jpg&quot; border=&quot;0&quot;&gt;&lt;/td&gt;\\n&lt;/tr&gt;&lt;tr&gt;&lt;td align=&quot;left&quot;&gt;&lt;/td&gt;\\n&lt;/tr&gt;&lt;tr&gt;&lt;td width=&quot;720&quot; align=&quot;center&quot;&gt;\\n&lt;p&gt;&lt;span class=&quot;tidied-201710038060-3&quot;&gt;&lt;br&gt;&lt;b&gt;單入 18650 高容量 充電電池 4000mAh 3.7V Li-ion&lt;/b&gt;&lt;br&gt;&lt;/span&gt;&lt;/p&gt;\\n&lt;ul class=&quot;style2 tidied-202008054183-5&quot;&gt;&lt;li class=&quot;style1 tidied-202008054183-4&quot;&gt;&lt;span class=&quot;tidied-202008054183-2&quot;&gt;&lt;strong&gt;&lt;span class=&quot;tidied-202008054183-1&quot;&gt;充&lt;/span&gt;&lt;/strong&gt;&lt;/span&gt;&lt;strong class=&quot;tidied-202008054183-3&quot;&gt;&lt;span class=&quot;tidied-202008054183-1&quot;&gt;電器&lt;/span&gt;&lt;/strong&gt;&lt;strong class=&quot;tidied-202008054183-3&quot;&gt;&lt;span class=&quot;tidied-202008054183-1&quot;&gt;要另&lt;/span&gt;&lt;/strong&gt;&lt;strong class=&quot;tidied-202008054183-3&quot;&gt;&lt;span class=&quot;tidied-202008054183-1&quot;&gt;外加購&lt;/span&gt;&lt;/strong&gt;&lt;/li&gt;\\n&lt;/ul&gt;&lt;/td&gt;\\n&lt;/tr&gt;&lt;tr&gt;&lt;td&gt;&lt;/td&gt;\\n&lt;/tr&gt;&lt;tr&gt;&lt;td align=&quot;left&quot;&gt;&lt;span class=&quot;tidied-201710038060-4&quot;&gt;&lt;br&gt;&lt;b&gt;&nbsp;&nbsp;產品特色&nbsp;&nbsp;&lt;/b&gt;&lt;/span&gt;&lt;/td&gt;\\n&lt;/tr&gt;&lt;tr&gt;&lt;td align=&quot;left&quot;&gt;&lt;br&gt;&lt;ul class=&quot;style2&quot;&gt;&lt;li class=&quot;style1&quot;&gt;4000mAh 高容量，使用時間超耐久&lt;/li&gt;\\n&lt;li class=&quot;style1&quot;&gt;適用手電筒，供電設備使用&lt;/li&gt;\\n&lt;li class=&quot;style1&quot;&gt;&lt;strong&gt;注意! 附有充電保護晶片相較於一般18650電池長度更長，&lt;/strong&gt;&lt;strong&gt;若有特別的規格尺寸請參考適用的尺寸後再購買&lt;/strong&gt;&lt;/li&gt;\\n&lt;/ul&gt;&lt;/td&gt;\\n&lt;/tr&gt;&lt;tr&gt;&lt;td&gt;&lt;/td&gt;\\n&lt;/tr&gt;&lt;tr&gt;&lt;td align=&quot;left&quot;&gt;&lt;span class=&quot;tidied-201710038060-4&quot;&gt;&lt;br&gt;&lt;b&gt;&nbsp;&nbsp;產品規格&nbsp;&nbsp;&lt;/b&gt;&lt;/span&gt;&lt;/td&gt;\\n&lt;/tr&gt;&lt;tr&gt;&lt;td align=&quot;left&quot;&gt;&lt;br&gt;&lt;ul class=&quot;style2&quot;&gt;&lt;li class=&quot;style1&quot;&gt;尺寸： 高 x 直徑 - 6.7 x 1.8cm&lt;/li&gt;\\n&lt;li class=&quot;style1&quot;&gt;淨重： 41 g&lt;/li&gt;\\n&lt;li class=&quot;style1&quot;&gt;電壓： 3.7V&lt;/li&gt;\\n&lt;li class=&quot;style1&quot;&gt;電容量：4000mAh&lt;/li&gt;\\n&lt;/ul&gt;&lt;/td&gt;\\n&lt;/tr&gt;&lt;tr&gt;&lt;td&gt;&lt;/td&gt;\\n&lt;/tr&gt;&lt;tr&gt;&lt;td align=&quot;left&quot;&gt;&lt;span class=&quot;tidied-201710038060-4&quot;&gt;&lt;br&gt;&lt;b&gt;&nbsp;&nbsp;產品內容&nbsp;&nbsp;&lt;/b&gt;&lt;/span&gt;&lt;/td&gt;\\n&lt;/tr&gt;&lt;tr&gt;&lt;td align=&quot;left&quot;&gt;&lt;br&gt;&lt;ul class=&quot;style2&quot;&gt;&lt;li class=&quot;style1&quot;&gt;1 x 18650 高容量 4000 mAh 黑色 3.7V 充電電池&lt;/li&gt;\\n&lt;/ul&gt;&lt;/td&gt;\\n&lt;/tr&gt;&lt;tr&gt;&lt;td&gt;&lt;/td&gt;\\n&lt;/tr&gt;&lt;/tbody&gt;&lt;/table&gt;&lt;/td&gt;\\n&lt;/tr&gt;&lt;/tbody&gt;&lt;/table&gt;&lt;/div&gt;\\n&lt;/div&gt;\\n&lt;/div&gt;\\n&lt;/div&gt;\\n'},\n",
              "  {'id': '22243606777400',\n",
              "   'class': '001100160008',\n",
              "   'name': '三菱電機HC-BH023-S12   99新',\n",
              "   'num': 20,\n",
              "   'images': {'filename': '22243606777400_201.jpg,22243606777400_508.jpg,22243606777400_662.jpg',\n",
              "    'url': ['https://a.rimg.com.tw/s6/06f/f81/sssq9393436/e/38/22243606777400_201.jpg',\n",
              "     'https://a.rimg.com.tw/s6/06f/f81/sssq9393436/e/38/22243606777400_508.jpg',\n",
              "     'https://a.rimg.com.tw/s6/06f/f81/sssq9393436/e/38/22243606777400_662.jpg'],\n",
              "    'm_url': ['https://a.rimg.com.tw/s6/06f/f81/sssq9393436/e/38/22243606777400_201_m.jpg',\n",
              "     'https://a.rimg.com.tw/s6/06f/f81/sssq9393436/e/38/22243606777400_508_m.jpg',\n",
              "     'https://a.rimg.com.tw/s6/06f/f81/sssq9393436/e/38/22243606777400_662_m.jpg']},\n",
              "   'currency': 'TWD',\n",
              "   'goods_price': 39000,\n",
              "   'goods_ori_price': 39000,\n",
              "   'goods_price_range': {'min': 39000,\n",
              "    'max': 40950,\n",
              "    'ori_min': 39000,\n",
              "    'ori_max': 40950},\n",
              "   'watch_num': 0,\n",
              "   'sold_num': 0,\n",
              "   'buyer_limit_num': 0,\n",
              "   'stock_status': 1,\n",
              "   'pre_order_ship_date': None,\n",
              "   'fast_ship': 0,\n",
              "   'free_shipping': 1,\n",
              "   'youtube_link': '',\n",
              "   'video_link': '',\n",
              "   'ncc_check_code': '',\n",
              "   'bsmi_code': '',\n",
              "   'goods_no': '',\n",
              "   'available': True,\n",
              "   'post_time': '1667143598',\n",
              "   'spec_type': 'R',\n",
              "   'deliver_way': {'SEVEN_COD': 0,\n",
              "    'SEVEN': 0,\n",
              "    'FAMI_COD': 0,\n",
              "    'HILIFE_COD': 45,\n",
              "    'HILIFE': 45,\n",
              "    'HOUSE': 0,\n",
              "    'COD': 0},\n",
              "   'mode': 'B',\n",
              "   'ship': 'A',\n",
              "   'platform': 'RUTEN',\n",
              "   'ctrl_rowid': '18576028',\n",
              "   'user': 'sssq9393436',\n",
              "   'user_credit': 265,\n",
              "   'pay_way': ['PP_PI',\n",
              "    'PP_CRD',\n",
              "    'PAYLINK',\n",
              "    'SEVEN_COD',\n",
              "    'FAMI_COD',\n",
              "    'HILIFE_COD',\n",
              "    'COD'],\n",
              "   'title_style': '0',\n",
              "   'selling_g_now_price': 39000,\n",
              "   'item_remaining_time': 467979089,\n",
              "   'translation_type': None,\n",
              "   'translated_name': None,\n",
              "   'min_estimated_delivery_date': None,\n",
              "   'max_estimated_delivery_date': None,\n",
              "   'update_time': '2023-01-29',\n",
              "   'is_brand_seller': False,\n",
              "   'is_goods_from_oversea': False,\n",
              "   'location': '台北市',\n",
              "   'condition': 'B',\n",
              "   'codition': 'B',\n",
              "   'accept_shiprule': True,\n",
              "   'user_class': '0',\n",
              "   'close_no': None,\n",
              "   'description_url': 'https://www.ruten.com.tw/item/goods_comments.php?id=22243606777400&k=270e8d14&o=1667143598',\n",
              "   'spec_info': {'level': 1,\n",
              "    'structure': {'224300797476955': [], '224300797476966': []},\n",
              "    'specs': {'224300797476955': {'spec_id': '224300797476955',\n",
              "      'parent_id': '0',\n",
              "      'spec_name': 'HC-BH023-S12不含稅',\n",
              "      'spec_num': 10,\n",
              "      'spec_price': 39000,\n",
              "      'spec_status': 'Y',\n",
              "      'spec_ext': [],\n",
              "      'childs': [],\n",
              "      'spec_ori_price': 39000},\n",
              "     '224300797476966': {'spec_id': '224300797476966',\n",
              "      'parent_id': '0',\n",
              "      'spec_name': 'HC-BH023-S12  含稅',\n",
              "      'spec_num': 9,\n",
              "      'spec_price': 40950,\n",
              "      'spec_status': 'Y',\n",
              "      'spec_ext': [],\n",
              "      'childs': [],\n",
              "      'spec_ori_price': 40950}},\n",
              "    'map': {'spec': {'HC-BH023-S12不含稅': ['224300797476955'],\n",
              "      'HC-BH023-S12  含稅': ['224300797476966']}}},\n",
              "   'text2': '\\n\\n'},\n",
              "  {'id': '22244608865692',\n",
              "   'class': '0011001600120009',\n",
              "   'name': '【秀秀】三菱PLC模塊 QJ72LP25-25 全新',\n",
              "   'num': 29,\n",
              "   'images': {'filename': '22244608865692_668.jpg',\n",
              "    'url': ['https://a.rimg.com.tw/s6/06f/f81/sssq9393436/5/9c/22244608865692_668.jpg'],\n",
              "    'm_url': ['https://a.rimg.com.tw/s6/06f/f81/sssq9393436/5/9c/22244608865692_668_m.jpg']},\n",
              "   'currency': 'TWD',\n",
              "   'goods_price': 33000,\n",
              "   'goods_ori_price': 33000,\n",
              "   'goods_price_range': {'min': 33000,\n",
              "    'max': 33000,\n",
              "    'ori_min': 33000,\n",
              "    'ori_max': 33000},\n",
              "   'watch_num': 0,\n",
              "   'sold_num': 0,\n",
              "   'buyer_limit_num': 0,\n",
              "   'stock_status': 1,\n",
              "   'pre_order_ship_date': None,\n",
              "   'fast_ship': 0,\n",
              "   'free_shipping': 0,\n",
              "   'youtube_link': '',\n",
              "   'video_link': '',\n",
              "   'ncc_check_code': '',\n",
              "   'bsmi_code': '',\n",
              "   'goods_no': '',\n",
              "   'available': True,\n",
              "   'post_time': '1667187876',\n",
              "   'spec_type': 'N',\n",
              "   'deliver_way': {'SEVEN_COD': 60,\n",
              "    'SEVEN': 60,\n",
              "    'FAMI_COD': 60,\n",
              "    'HOUSE': 60,\n",
              "    'ISLAND': 300,\n",
              "    'COD': 60},\n",
              "   'mode': 'B',\n",
              "   'ship': 'A',\n",
              "   'platform': 'RUTEN',\n",
              "   'ctrl_rowid': '18576028',\n",
              "   'user': 'sssq9393436',\n",
              "   'user_credit': 265,\n",
              "   'pay_way': ['PP_PI', 'PP_CRD', 'PAYLINK', 'SEVEN_COD', 'FAMI_COD', 'COD'],\n",
              "   'title_style': '0',\n",
              "   'selling_g_now_price': 33000,\n",
              "   'item_remaining_time': 467979089,\n",
              "   'translation_type': None,\n",
              "   'translated_name': None,\n",
              "   'min_estimated_delivery_date': None,\n",
              "   'max_estimated_delivery_date': None,\n",
              "   'update_time': '2023-01-29',\n",
              "   'is_brand_seller': False,\n",
              "   'is_goods_from_oversea': False,\n",
              "   'location': '台北市',\n",
              "   'condition': 'B',\n",
              "   'codition': 'B',\n",
              "   'accept_shiprule': True,\n",
              "   'user_class': '5881825',\n",
              "   'close_no': None,\n",
              "   'description_url': 'https://www.ruten.com.tw/item/goods_comments.php?id=22244608865692&k=af16d4a6&o=1667187876',\n",
              "   'spec_info': [],\n",
              "   'text2': '\\n&lt;div&gt;品牌:三菱&lt;br&gt;&lt;p&gt;三菱PLC模塊 QJ72LP25-25 全新 質保1年&lt;/p&gt;\\n&lt;/div&gt;\\n'},\n",
              "  {'id': '22302937500980',\n",
              "   'class': '0011000100100004',\n",
              "   'name': '(辦公首選華碩I7商務桌機 獨家送微軟OFFICE)I7-11700時脈4.9G/16核心/16G/256G+1TB電腦',\n",
              "   'num': 12,\n",
              "   'images': {'filename': '22302937500980_152.jpg,22302937500980_594.jpg,22302937500980_781.jpg,22302937500980_291.jpg,22302937500980_804.jpg,22302937500980_698.jpg,22302937500980_306.jpg',\n",
              "    'url': ['https://image.ruten.com.tw/g2/6/b5/34/22302937500980_152.jpg',\n",
              "     'https://image.ruten.com.tw/g2/6/b5/34/22302937500980_594.jpg',\n",
              "     'https://image.ruten.com.tw/g2/6/b5/34/22302937500980_781.jpg',\n",
              "     'https://image.ruten.com.tw/g2/6/b5/34/22302937500980_291.jpg',\n",
              "     'https://image.ruten.com.tw/g2/6/b5/34/22302937500980_804.jpg',\n",
              "     'https://image.ruten.com.tw/g2/6/b5/34/22302937500980_698.jpg',\n",
              "     'https://image.ruten.com.tw/g2/6/b5/34/22302937500980_306.jpg'],\n",
              "    'm_url': ['https://image.ruten.com.tw/g2/6/b5/34/22302937500980_152_m.jpg',\n",
              "     'https://image.ruten.com.tw/g2/6/b5/34/22302937500980_594_m.jpg',\n",
              "     'https://image.ruten.com.tw/g2/6/b5/34/22302937500980_781_m.jpg',\n",
              "     'https://image.ruten.com.tw/g2/6/b5/34/22302937500980_291_m.jpg',\n",
              "     'https://image.ruten.com.tw/g2/6/b5/34/22302937500980_804_m.jpg',\n",
              "     'https://image.ruten.com.tw/g2/6/b5/34/22302937500980_698_m.jpg',\n",
              "     'https://image.ruten.com.tw/g2/6/b5/34/22302937500980_306_m.jpg']},\n",
              "   'currency': 'TWD',\n",
              "   'goods_price': 25900,\n",
              "   'goods_ori_price': 25900,\n",
              "   'goods_price_range': {'min': 25900,\n",
              "    'max': 29900,\n",
              "    'ori_min': 25900,\n",
              "    'ori_max': 29900},\n",
              "   'watch_num': 3,\n",
              "   'sold_num': 0,\n",
              "   'buyer_limit_num': 0,\n",
              "   'stock_status': 0,\n",
              "   'pre_order_ship_date': None,\n",
              "   'fast_ship': 0,\n",
              "   'free_shipping': 1,\n",
              "   'youtube_link': '',\n",
              "   'video_link': '',\n",
              "   'ncc_check_code': '',\n",
              "   'bsmi_code': '',\n",
              "   'goods_no': '',\n",
              "   'available': True,\n",
              "   'post_time': '1673653228',\n",
              "   'spec_type': 'R',\n",
              "   'deliver_way': {'HOUSE': 0},\n",
              "   'mode': 'B',\n",
              "   'ship': 'A',\n",
              "   'platform': 'RUTEN',\n",
              "   'ctrl_rowid': '2923085',\n",
              "   'user': 'kleist',\n",
              "   'user_credit': 317,\n",
              "   'pay_way': ['PP_PI', 'PP_CRD', 'PAYLINK', 'ATM', 'PS'],\n",
              "   'title_style': '0',\n",
              "   'selling_g_now_price': 25900,\n",
              "   'item_remaining_time': 467979089,\n",
              "   'translation_type': None,\n",
              "   'translated_name': None,\n",
              "   'min_estimated_delivery_date': None,\n",
              "   'max_estimated_delivery_date': None,\n",
              "   'update_time': '2023-02-19',\n",
              "   'is_brand_seller': False,\n",
              "   'is_goods_from_oversea': False,\n",
              "   'location': 'on',\n",
              "   'condition': 'B',\n",
              "   'codition': 'B',\n",
              "   'accept_shiprule': False,\n",
              "   'user_class': '0',\n",
              "   'close_no': None,\n",
              "   'description_url': 'https://www.ruten.com.tw/item/goods_comments.php?id=22302937500980&k=ebf48cea&o=1673653496',\n",
              "   'spec_info': {'level': 2,\n",
              "    'structure': {'230206641128881': {'230206641128915': [],\n",
              "      '230206641128948': []},\n",
              "     '230206641128892': {'230206641128926': [], '230206641128959': []},\n",
              "     '230206641128904': {'230206641128937': [], '230206641128960': []}},\n",
              "    'specs': {'230206641128881': {'spec_id': '230206641128881',\n",
              "      'parent_id': '0',\n",
              "      'spec_name': '(預設)256G M2 SSD',\n",
              "      'spec_num': 0,\n",
              "      'spec_price': 25900,\n",
              "      'spec_status': 'Y',\n",
              "      'spec_ext': [],\n",
              "      'childs': {'230206641128915': [], '230206641128948': []},\n",
              "      'spec_ori_price': 25900},\n",
              "     '230206641128892': {'spec_id': '230206641128892',\n",
              "      'parent_id': '0',\n",
              "      'spec_name': '(升級)500G M2 SSD',\n",
              "      'spec_num': 0,\n",
              "      'spec_price': 25900,\n",
              "      'spec_status': 'Y',\n",
              "      'spec_ext': [],\n",
              "      'childs': {'230206641128926': [], '230206641128959': []},\n",
              "      'spec_ori_price': 25900},\n",
              "     '230206641128904': {'spec_id': '230206641128904',\n",
              "      'parent_id': '0',\n",
              "      'spec_name': '(旗艦)1TB M2 SSD',\n",
              "      'spec_num': 0,\n",
              "      'spec_price': 25900,\n",
              "      'spec_status': 'Y',\n",
              "      'spec_ext': [],\n",
              "      'childs': {'230206641128937': [], '230206641128960': []},\n",
              "      'spec_ori_price': 25900},\n",
              "     '230206641128915': {'spec_id': '230206641128915',\n",
              "      'parent_id': '230206641128881',\n",
              "      'spec_name': '原廠8G免費加碼到16G記憶體',\n",
              "      'spec_num': 2,\n",
              "      'spec_price': 25900,\n",
              "      'spec_status': 'Y',\n",
              "      'spec_ext': [],\n",
              "      'childs': [],\n",
              "      'spec_ori_price': 25900},\n",
              "     '230206641128926': {'spec_id': '230206641128926',\n",
              "      'parent_id': '230206641128892',\n",
              "      'spec_name': '原廠8G免費加碼到16G記憶體',\n",
              "      'spec_num': 2,\n",
              "      'spec_price': 26900,\n",
              "      'spec_status': 'Y',\n",
              "      'spec_ext': [],\n",
              "      'childs': [],\n",
              "      'spec_ori_price': 26900},\n",
              "     '230206641128937': {'spec_id': '230206641128937',\n",
              "      'parent_id': '230206641128904',\n",
              "      'spec_name': '原廠8G免費加碼到16G記憶體',\n",
              "      'spec_num': 2,\n",
              "      'spec_price': 27900,\n",
              "      'spec_status': 'Y',\n",
              "      'spec_ext': [],\n",
              "      'childs': [],\n",
              "      'spec_ori_price': 27900},\n",
              "     '230206641128948': {'spec_id': '230206641128948',\n",
              "      'parent_id': '230206641128881',\n",
              "      'spec_name': '(升級)32G D4 記憶體',\n",
              "      'spec_num': 2,\n",
              "      'spec_price': 27900,\n",
              "      'spec_status': 'Y',\n",
              "      'spec_ext': [],\n",
              "      'childs': [],\n",
              "      'spec_ori_price': 27900},\n",
              "     '230206641128959': {'spec_id': '230206641128959',\n",
              "      'parent_id': '230206641128892',\n",
              "      'spec_name': '(升級)32G D4 記憶體',\n",
              "      'spec_num': 2,\n",
              "      'spec_price': 28900,\n",
              "      'spec_status': 'Y',\n",
              "      'spec_ext': [],\n",
              "      'childs': [],\n",
              "      'spec_ori_price': 28900},\n",
              "     '230206641128960': {'spec_id': '230206641128960',\n",
              "      'parent_id': '230206641128904',\n",
              "      'spec_name': '(升級)32G D4 記憶體',\n",
              "      'spec_num': 2,\n",
              "      'spec_price': 29900,\n",
              "      'spec_status': 'Y',\n",
              "      'spec_ext': [],\n",
              "      'childs': [],\n",
              "      'spec_ori_price': 29900}},\n",
              "    'map': {'spec': {'(預設)256G M2 SSD': ['230206641128915', '230206641128948'],\n",
              "      '(升級)500G M2 SSD': ['230206641128926', '230206641128959'],\n",
              "      '(旗艦)1TB M2 SSD': ['230206641128937', '230206641128960']},\n",
              "     'spec_sub': {'原廠8G免費加碼到16G記憶體': ['230206641128915',\n",
              "       '230206641128926',\n",
              "       '230206641128937'],\n",
              "      '(升級)32G D4 記憶體': ['230206641128948',\n",
              "       '230206641128959',\n",
              "       '230206641128960']}}},\n",
              "   'text2': '\\n&lt;style type=&quot;text/css&quot;&gt;&lt;!--\\nspan.tidied-202301144823-2 {color: #333333; font-size: 14.0pt; font-family: 標楷體;}\\n span.tidied-202301144823-1 {font-size: 14.0pt; font-family: 標楷體;} span.tidied-202301143760-1 {color: #ff0000;}\\n--&gt;&lt;/style&gt;&lt;div&gt;\\n&lt;p class=&quot;MsoNormal&quot;&gt;&lt;span class=&quot;tidied-202301144823-1&quot;&gt;挑戰&lt;span&gt;2023&lt;/span&gt;年最強商務桌機&lt;/span&gt;&lt;/p&gt;\\n&lt;p class=&quot;MsoNormal&quot;&gt;&lt;span class=&quot;tidied-202301144823-1&quot;&gt;&nbsp;&lt;/span&gt;&lt;/p&gt;\\n&lt;p class=&quot;MsoNormal&quot;&gt;&lt;span class=&quot;tidied-202301144823-1&quot;&gt;本賣場慶新年，並且為了滿足電腦買家要求操作快速的需求，特別推出&lt;span class=&quot;tidied-202301143760-1&quot;&gt;最強I7商務桌機&lt;/span&gt;，預設搭配&lt;span&gt;256G&lt;/span&gt;高速&lt;span&gt;SSD&lt;/span&gt;加&lt;span&gt;1TB&lt;/span&gt;大容量，讓您不論是平常文書還是商務辦公，都能享受到最快的速度，現在購買還加送&lt;span&gt;office365&lt;/span&gt;終生使用，市價&lt;span&gt;4990&lt;/span&gt;元，真的是買到賺到，產品數量有限，要買要快喔。&lt;/span&gt;&lt;/p&gt;\\n&lt;p class=&quot;MsoNormal&quot;&gt;&lt;span class=&quot;tidied-202301144823-1&quot;&gt;&nbsp;&lt;/span&gt;&lt;/p&gt;\\n&lt;p class=&quot;MsoNormal&quot;&gt;&lt;span class=&quot;tidied-202301144823-1&quot;&gt;&lt;span class=&quot;tidied-202301143760-1&quot;&gt;獨家贈送 &ldquo;微軟OFFICE365企業終生版&rdquo; 市價4990元&lt;/span&gt; 文書無煩惱&lt;/span&gt;&lt;/p&gt;\\n&lt;p class=&quot;MsoNormal&quot;&gt;&lt;span class=&quot;tidied-202301144823-1&quot;&gt;&nbsp;&lt;/span&gt;&lt;/p&gt;\\n&lt;p class=&quot;MsoNormal&quot;&gt;&lt;span class=&quot;tidied-202301144823-1&quot;&gt;過年加碼贈送 &lt;span&gt;&rdquo;&lt;/span&gt;高傳輸&lt;span&gt;USB&lt;/span&gt;無線網卡一隻&lt;span&gt;&rdquo;&lt;/span&gt;市價&lt;span&gt;499&lt;/span&gt;元&lt;/span&gt;&lt;/p&gt;\\n&lt;p class=&quot;MsoNormal&quot;&gt;&lt;span class=&quot;tidied-202301144823-1&quot;&gt;&nbsp;&lt;/span&gt;&lt;/p&gt;\\n&lt;p class=&quot;MsoNormal&quot;&gt;&lt;span class=&quot;tidied-202301144823-1&quot;&gt;&nbsp;&lt;/span&gt;&lt;/p&gt;\\n&lt;p class=&quot;MsoNormal&quot;&gt;&lt;span class=&quot;tidied-202301144823-1&quot;&gt;&lt;span class=&quot;tidied-202301143760-1&quot;&gt;過年驚爆價NT:25900&lt;/span&gt; 含稅開發票&nbsp;&lt;/span&gt;&lt;/p&gt;\\n&lt;p class=&quot;MsoNormal&quot;&gt;&lt;span class=&quot;tidied-202301144823-1&quot;&gt;&nbsp;&lt;/span&gt;&lt;/p&gt;\\n&lt;p class=&quot;MsoNormal&quot;&gt;&lt;span class=&quot;tidied-202301144823-1&quot;&gt;&nbsp;&lt;/span&gt;&lt;/p&gt;\\n&lt;p class=&quot;MsoNormal&quot;&gt;&lt;span class=&quot;tidied-202301144823-1&quot;&gt;電腦規格&lt;/span&gt;&lt;/p&gt;\\n&lt;p class=&quot;MsoNormal&quot;&gt;&lt;span class=&quot;tidied-202301144823-1&quot;&gt;&nbsp;&lt;/span&gt;&lt;/p&gt;\\n&lt;p class=&quot;MsoNormal&quot;&gt;&lt;span class=&quot;tidied-202301144823-1&quot;&gt;搭載&lt;span class=&quot;tidied-202301143760-1&quot;&gt;INTEL 11代處理器&lt;/span&gt;&lt;span&gt;&lt;span class=&quot;tidied-202301143760-1&quot;&gt;I7-11700&lt;/span&gt; 8&lt;/span&gt;核心&lt;span&gt;16&lt;/span&gt;執行緒 最高時脈&lt;span&gt;4.9GHz&lt;/span&gt;&lt;/span&gt;&lt;/p&gt;\\n&lt;p class=&quot;MsoNormal&quot;&gt;&lt;span class=&quot;tidied-202301144823-1&quot;&gt;&nbsp;&lt;/span&gt;&lt;/p&gt;\\n&lt;p class=&quot;MsoNormal&quot;&gt;&lt;span class=&quot;tidied-202301144823-1&quot;&gt;&nbsp;&lt;/span&gt;&lt;/p&gt;\\n&lt;p class=&quot;MsoNormal&quot;&gt;&lt;span class=&quot;tidied-202301144823-1&quot;&gt;原廠預設&lt;span&gt;8G&lt;/span&gt;記憶體 本賣場&lt;span class=&quot;tidied-202301143760-1&quot;&gt;免費加碼到&lt;/span&gt;&lt;span&gt;&lt;span class=&quot;tidied-202301143760-1&quot;&gt;16G&lt;/span&gt; DDR4&lt;/span&gt;記憶體&lt;/span&gt;&lt;/p&gt;\\n&lt;p class=&quot;MsoNormal&quot;&gt;&lt;span class=&quot;tidied-202301144823-1&quot;&gt;&nbsp;&lt;/span&gt;&lt;/p&gt;\\n&lt;p class=&quot;MsoNormal&quot;&gt;&lt;span class=&quot;tidied-202301144823-1&quot;&gt;如有更高需求 可以加價&lt;span&gt;NT:2000&lt;/span&gt;升級&lt;span&gt;32G DDR4&lt;/span&gt;記憶體&lt;/span&gt;&lt;/p&gt;\\n&lt;p class=&quot;MsoNormal&quot;&gt;&lt;span class=&quot;tidied-202301144823-1&quot;&gt;&nbsp;&lt;/span&gt;&lt;/p&gt;\\n&lt;p class=&quot;MsoNormal&quot;&gt;&lt;span class=&quot;tidied-202301144823-1&quot;&gt;&nbsp;&lt;/span&gt;&lt;/p&gt;\\n&lt;p class=&quot;MsoNormal&quot;&gt;&lt;span class=&quot;tidied-202301144823-1&quot;&gt;預設&lt;span&gt;256G M2&lt;/span&gt;高速&lt;span&gt;SSD&lt;/span&gt; 保證快的跟鬼一樣&lt;/span&gt;&lt;/p&gt;\\n&lt;p class=&quot;MsoNormal&quot;&gt;&lt;span class=&quot;tidied-202301144823-1&quot;&gt;&nbsp;&lt;/span&gt;&lt;/p&gt;\\n&lt;p class=&quot;MsoNormal&quot;&gt;&lt;span class=&quot;tidied-202301144823-1&quot;&gt;可以加價&lt;span&gt;NT:1000&lt;/span&gt;升級&lt;span&gt;500G M2 SSD&lt;/span&gt;&lt;/span&gt;&lt;/p&gt;\\n&lt;p class=&quot;MsoNormal&quot;&gt;&lt;span class=&quot;tidied-202301144823-1&quot;&gt;可以加價&lt;span&gt;NT:2000&lt;/span&gt;升級&lt;span&gt;1TB &lt;span&gt;&nbsp;&lt;/span&gt;M2 SSD&lt;/span&gt;&lt;/span&gt;&lt;/p&gt;\\n&lt;p class=&quot;MsoNormal&quot;&gt;&lt;span class=&quot;tidied-202301144823-1&quot;&gt;&nbsp;&lt;/span&gt;&lt;/p&gt;\\n&lt;p class=&quot;MsoNormal&quot;&gt;&lt;span class=&quot;tidied-202301144823-1&quot;&gt;&nbsp;&lt;/span&gt;&lt;/p&gt;\\n&lt;p class=&quot;MsoNormal&quot;&gt;&lt;span class=&quot;tidied-202301144823-1&quot;&gt;預設&lt;span&gt;1TB&lt;/span&gt;傳統硬碟 資料再多也不怕&lt;/span&gt;&lt;/p&gt;\\n&lt;p class=&quot;MsoNormal&quot;&gt;&lt;span class=&quot;tidied-202301144823-1&quot;&gt;&nbsp;&lt;/span&gt;&lt;/p&gt;\\n&lt;p class=&quot;MsoNormal&quot;&gt;&lt;span class=&quot;tidied-202301144823-1&quot;&gt;&nbsp;&lt;/span&gt;&lt;/p&gt;\\n&lt;p class=&quot;MsoNormal&quot;&gt;&lt;span class=&quot;tidied-202301144823-1&quot;&gt;系統&lt;span&gt;:&lt;/span&gt;搭載&lt;span&gt;WIN10&lt;/span&gt;專業版 可升級&lt;span&gt;WIN11&lt;/span&gt;專業版&lt;/span&gt;&lt;/p&gt;\\n&lt;p class=&quot;MsoNormal&quot;&gt;&lt;span class=&quot;tidied-202301144823-1&quot;&gt;&nbsp;&lt;/span&gt;&lt;/p&gt;\\n&lt;p class=&quot;MsoNormal&quot;&gt;&lt;span class=&quot;tidied-202301144823-1&quot;&gt;&nbsp;&lt;/span&gt;&lt;/p&gt;\\n&lt;p class=&quot;MsoNormal&quot;&gt;&lt;span class=&quot;tidied-202301144823-1&quot;&gt;附原廠鍵鼠組&lt;/span&gt;&lt;/p&gt;\\n&lt;p class=&quot;MsoNormal&quot;&gt;&lt;span class=&quot;tidied-202301144823-1&quot;&gt;&nbsp;&lt;/span&gt;&lt;/p&gt;\\n&lt;p class=&quot;MsoNormal&quot;&gt;&lt;span class=&quot;tidied-202301144823-1&quot;&gt;&nbsp;&lt;/span&gt;&lt;/p&gt;\\n&lt;p class=&quot;MsoNormal&quot;&gt;&lt;span class=&quot;tidied-202301144823-1&quot;&gt;保固&lt;span&gt;:&lt;/span&gt;原廠&lt;span class=&quot;tidied-202301143760-1&quot;&gt;三年全機保固到府維修&lt;/span&gt;&lt;/span&gt;&lt;/p&gt;\\n&lt;p class=&quot;MsoNormal&quot;&gt;&lt;span class=&quot;tidied-202301144823-1&quot;&gt;&nbsp;&lt;/span&gt;&lt;/p&gt;\\n&lt;p class=&quot;MsoNormal&quot;&gt;&lt;span class=&quot;tidied-202301144823-1&quot;&gt;本賣場獨家再送三年遠端維修 市價&lt;span&gt;2000&lt;/span&gt;元 其他家沒有喔&lt;/span&gt;&lt;/p&gt;\\n&lt;p class=&quot;MsoNormal&quot;&gt;&lt;span class=&quot;tidied-202301144823-1&quot;&gt;&nbsp;&lt;/span&gt;&lt;/p&gt;\\n&lt;p class=&quot;MsoNormal&quot;&gt;&lt;span class=&quot;tidied-202301144823-1&quot;&gt;&nbsp;&lt;/span&gt;&lt;/p&gt;\\n&lt;p class=&quot;MsoNormal&quot;&gt;&lt;span class=&quot;tidied-202301144823-1&quot;&gt;商務桌機官方詳細資料如下&lt;span&gt;:&lt;/span&gt;&lt;/span&gt;&lt;/p&gt;\\n&lt;p class=&quot;MsoNormal&quot;&gt;&lt;span class=&quot;tidied-202301144823-1&quot;&gt;&nbsp;&lt;/span&gt;&lt;/p&gt;\\n&lt;p class=&quot;MsoNormal&quot;&gt;&lt;span class=&quot;tidied-202301144823-2&quot;&gt;型號：&lt;span&gt;M900MC&lt;/span&gt;&lt;/span&gt;&lt;/p&gt;\\n&lt;p class=&quot;MsoNormal&quot;&gt;&lt;span class=&quot;tidied-202301144823-2&quot;&gt;處理器：&lt;span&gt;Intel&reg; Core&trade; i7-11700 Processor 2.5GHz (16M Cache, up to 4.9 GHz, 8 cores)&lt;/span&gt;&lt;/span&gt;&lt;/p&gt;\\n&lt;p class=&quot;MsoNormal&quot;&gt;&lt;span class=&quot;tidied-202301144823-2&quot;&gt;作業系統：&lt;span&gt;Windows 10 Pro (Win 11 Pro DG Win 10 Pro)&lt;/span&gt;&lt;/span&gt;&lt;/p&gt;\\n&lt;p class=&quot;MsoNormal&quot;&gt;&lt;span class=&quot;tidied-202301144823-2&quot;&gt;晶片組：&lt;span&gt;Intel&reg; Q570 Chipset&lt;/span&gt;&lt;/span&gt;&lt;/p&gt;\\n&lt;p class=&quot;MsoNormal&quot;&gt;&lt;span class=&quot;tidied-202301144823-2&quot;&gt;記憶體： &lt;span&gt;8GB DDR4 U-DIMM,&lt;/span&gt; 加碼&lt;span&gt;16GB DDR4&lt;/span&gt;&lt;/span&gt;&lt;/p&gt;\\n&lt;p class=&quot;MsoNormal&quot;&gt;&lt;span class=&quot;tidied-202301144823-2&quot;&gt;固態硬碟&lt;span&gt;: 256G M2&lt;/span&gt; 高速&lt;span&gt;SSD(&lt;/span&gt;獨家搭載&lt;span&gt;)&lt;/span&gt;&lt;/span&gt;&lt;/p&gt;\\n&lt;p class=&quot;MsoNormal&quot;&gt;&lt;span class=&quot;tidied-202301144823-2&quot;&gt;硬碟：&lt;span&gt;1TB SATA 7200RPM 3.5&lt;/span&gt; 吋 &lt;span&gt;HDD&lt;/span&gt;&lt;/span&gt;&lt;/p&gt;\\n&lt;p class=&quot;MsoNormal&quot;&gt;&lt;span class=&quot;tidied-202301144823-2&quot;&gt;顯示卡 &lt;span&gt;/&lt;/span&gt; 繪圖支援：&lt;span&gt;&lt;span&gt;&nbsp;&lt;/span&gt; Intel Graphic HD ,&lt;/span&gt; 支援&lt;span&gt;DirectX12&lt;/span&gt;&lt;/span&gt;&lt;/p&gt;\\n&lt;p class=&quot;MsoNormal&quot;&gt;&lt;span class=&quot;tidied-202301144823-2&quot;&gt;光碟機：&lt;span&gt;SuperMulti DVD RW&lt;/span&gt;&lt;/span&gt;&lt;/p&gt;\\n&lt;p class=&quot;MsoNormal&quot;&gt;&lt;span class=&quot;tidied-202301144823-2&quot;&gt;電腦滑鼠&lt;span&gt;&lt;span&gt;&nbsp;&lt;/span&gt;&lt;/span&gt; ：有&lt;/span&gt;&lt;/p&gt;\\n&lt;p class=&quot;MsoNormal&quot;&gt;&lt;span class=&quot;tidied-202301144823-2&quot;&gt;電腦鍵盤&lt;span&gt;&lt;span&gt;&nbsp;&lt;/span&gt;&lt;/span&gt; ：有&lt;/span&gt;&lt;/p&gt;\\n&lt;p class=&quot;MsoNormal&quot;&gt;&lt;span class=&quot;tidied-202301144823-2&quot;&gt;音訊：&lt;span&gt;High-Definition Audio,7 Channels&lt;/span&gt;&lt;/span&gt;&lt;/p&gt;\\n&lt;p class=&quot;MsoNormal&quot;&gt;&lt;span class=&quot;tidied-202301144823-2&quot;&gt;讀卡機：內接&lt;span&gt;IC&lt;/span&gt;卡讀卡機及記憶卡讀卡機&lt;/span&gt;&lt;/p&gt;\\n&lt;p class=&quot;MsoNormal&quot;&gt;&lt;span class=&quot;tidied-202301144823-2&quot;&gt;網路：&lt;span&gt;Intel I219LM 10 / 100 / 1000Mbps Lan&lt;/span&gt;乙太網路控制器，含網路喚醒功能 &lt;span&gt;WOL&lt;/span&gt;&lt;/span&gt;&lt;/p&gt;\\n&lt;p class=&quot;MsoNormal&quot;&gt;&lt;span class=&quot;tidied-202301144823-2&quot;&gt;電源規格：&lt;span&gt;300W&lt;/span&gt; 電源供應器 &lt;span&gt;(80+&lt;/span&gt; 白金，最高 &lt;span&gt;390W)&lt;/span&gt;&lt;/span&gt;&lt;/p&gt;\\n&lt;p class=&quot;MsoNormal&quot;&gt;&lt;span class=&quot;tidied-202301144823-2&quot;&gt;前面板輸出端子：&lt;/span&gt;&lt;/p&gt;\\n&lt;p class=&quot;MsoNormal&quot;&gt;&lt;span class=&quot;tidied-202301144823-2&quot;&gt;1x&lt;/span&gt; &lt;span class=&quot;tidied-202301144823-2&quot;&gt;耳機&lt;/span&gt;&lt;/p&gt;\\n&lt;p class=&quot;MsoNormal&quot;&gt;&lt;span class=&quot;tidied-202301144823-2&quot;&gt;1x 3.5mm&lt;/span&gt; &lt;span class=&quot;tidied-202301144823-2&quot;&gt;複合音源線插孔&lt;/span&gt;&lt;/p&gt;\\n&lt;p class=&quot;MsoNormal&quot;&gt;&lt;span class=&quot;tidied-202301144823-2&quot;&gt;1x USB 3.2 Gen 2 Type-C&lt;/span&gt;&lt;/p&gt;\\n&lt;p class=&quot;MsoNormal&quot;&gt;&lt;span class=&quot;tidied-202301144823-2&quot;&gt;2x USB 3.2 Gen 2 Type-A&lt;/span&gt;&lt;/p&gt;\\n&lt;p class=&quot;MsoNormal&quot;&gt;&lt;span class=&quot;tidied-202301144823-2&quot;&gt;4x USB 3.2 Gen 1 Type-A&lt;/span&gt;&lt;/p&gt;\\n&lt;p class=&quot;MsoNormal&quot;&gt;&lt;span class=&quot;tidied-202301144823-2&quot;&gt;後面板輸出端子：&lt;/span&gt;&lt;/p&gt;\\n&lt;p class=&quot;MsoNormal&quot;&gt;&lt;span class=&quot;tidied-202301144823-2&quot;&gt;1x RJ45 GB&lt;/span&gt; &lt;span class=&quot;tidied-202301144823-2&quot;&gt;乙太網路&lt;/span&gt;&lt;/p&gt;\\n&lt;p class=&quot;MsoNormal&quot;&gt;&lt;span class=&quot;tidied-202301144823-2&quot;&gt;1x HDMI 1.4&lt;/span&gt;&lt;/p&gt;\\n&lt;p class=&quot;MsoNormal&quot;&gt;&lt;span class=&quot;tidied-202301144823-2&quot;&gt;1x VGA&lt;/span&gt; &lt;span class=&quot;tidied-202301144823-2&quot;&gt;連接埠&lt;/span&gt;&lt;/p&gt;\\n&lt;p class=&quot;MsoNormal&quot;&gt;&lt;span class=&quot;tidied-202301144823-2&quot;&gt;2x DisplayPort 1.2&lt;/span&gt;&lt;/p&gt;\\n&lt;p class=&quot;MsoNormal&quot;&gt;&lt;span class=&quot;tidied-202301144823-2&quot;&gt;2x PS2&lt;/span&gt;&lt;/p&gt;\\n&lt;p class=&quot;MsoNormal&quot;&gt;&lt;span class=&quot;tidied-202301144823-2&quot;&gt;3 x&lt;/span&gt; &lt;span class=&quot;tidied-202301144823-2&quot;&gt;音源線插孔&lt;/span&gt;&lt;/p&gt;\\n&lt;p class=&quot;MsoNormal&quot;&gt;&lt;span class=&quot;tidied-202301144823-2&quot;&gt;2x USB 2.0 Type-A&lt;/span&gt;&lt;/p&gt;\\n&lt;p class=&quot;MsoNormal&quot;&gt;&lt;span class=&quot;tidied-202301144823-2&quot;&gt;2x USB 3.2 Gen 1 Type-A&lt;/span&gt;&lt;/p&gt;\\n&lt;p class=&quot;MsoNormal&quot;&gt;&lt;span class=&quot;tidied-202301144823-2&quot;&gt;2x Display port 1.2&lt;/span&gt;&lt;/p&gt;\\n&lt;p class=&quot;MsoNormal&quot;&gt;&lt;span class=&quot;tidied-202301144823-2&quot;&gt;重量：&lt;span&gt;6.00 kg (13.23 lbs)&lt;/span&gt;&lt;/span&gt;&lt;/p&gt;\\n&lt;p class=&quot;MsoNormal&quot;&gt;&lt;span class=&quot;tidied-202301144823-2&quot;&gt;產品尺寸 &lt;span&gt;(&lt;/span&gt;寬&lt;span&gt;x&lt;/span&gt;長&lt;span&gt;x&lt;/span&gt;高&lt;span&gt;)&lt;/span&gt;：&lt;span&gt;16.20 x 29.13 x 35.50 cm (6.38&quot; x 11.47&quot; x 13.98&quot;)&lt;/span&gt;&lt;/span&gt;&lt;/p&gt;\\n&lt;p class=&quot;MsoNormal&quot;&gt;&lt;span class=&quot;tidied-202301144823-2&quot;&gt;隨附軟體：&lt;span&gt;ASUS Business Manager - ASUS&lt;/span&gt;獨家商務套件&lt;/span&gt;&lt;/p&gt;\\n&lt;p class=&quot;MsoNormal&quot;&gt;&lt;span class=&quot;tidied-202301144823-2&quot;&gt;保固：三年（&lt;span&gt;3&lt;/span&gt;年到府維修／原廠客服&lt;span&gt;0800-093-456&lt;/span&gt;）&lt;/span&gt;&lt;/p&gt;\\n&lt;p class=&quot;MsoNormal&quot;&gt;&lt;span class=&quot;tidied-202301144823-1&quot;&gt;&nbsp;&lt;/span&gt;&lt;/p&gt;\\n&lt;/div&gt;\\n'},\n",
              "  {'id': '22306987134735',\n",
              "   'class': '00110005001700010008',\n",
              "   'name': 'WD西部數據NAS硬盤12T服務器硬盤12t網絡硬盤紅盤Pro WD121KFBX',\n",
              "   'num': 20,\n",
              "   'images': {'filename': '22306987134735_414.jpg,22306987134735_439.jpg',\n",
              "    'url': ['https://image.ruten.com.tw/g0/012/80d/kial1/7/37/0f/22306987134735_414.jpg',\n",
              "     'https://image.ruten.com.tw/g0/012/80d/kial1/7/37/0f/22306987134735_439.jpg'],\n",
              "    'm_url': ['https://image.ruten.com.tw/g0/012/80d/kial1/7/37/0f/22306987134735_414_m.jpg',\n",
              "     'https://image.ruten.com.tw/g0/012/80d/kial1/7/37/0f/22306987134735_439_m.jpg']},\n",
              "   'currency': 'TWD',\n",
              "   'goods_price': 50760,\n",
              "   'goods_ori_price': 50760,\n",
              "   'goods_price_range': {'min': 50760,\n",
              "    'max': 50760,\n",
              "    'ori_min': 50760,\n",
              "    'ori_max': 50760},\n",
              "   'watch_num': 0,\n",
              "   'sold_num': 0,\n",
              "   'buyer_limit_num': 0,\n",
              "   'stock_status': 1,\n",
              "   'pre_order_ship_date': None,\n",
              "   'fast_ship': 0,\n",
              "   'free_shipping': 0,\n",
              "   'youtube_link': '',\n",
              "   'video_link': '',\n",
              "   'ncc_check_code': '',\n",
              "   'bsmi_code': '',\n",
              "   'goods_no': '',\n",
              "   'available': True,\n",
              "   'post_time': '1675870037',\n",
              "   'spec_type': 'R',\n",
              "   'deliver_way': {'SEVEN_COD': 60,\n",
              "    'SEVEN': 60,\n",
              "    'FAMI_COD': 60,\n",
              "    'FAMI': 60,\n",
              "    'HILIFE_COD': 45,\n",
              "    'HILIFE': 45},\n",
              "   'mode': 'B',\n",
              "   'ship': 'A',\n",
              "   'platform': 'RUTEN',\n",
              "   'ctrl_rowid': '18225721',\n",
              "   'user': 'kial1',\n",
              "   'user_credit': 2,\n",
              "   'pay_way': ['PAYLINK', 'SEVEN_COD', 'FAMI_COD', 'HILIFE_COD'],\n",
              "   'title_style': '0',\n",
              "   'selling_g_now_price': 50760,\n",
              "   'item_remaining_time': 467979089,\n",
              "   'translation_type': None,\n",
              "   'translated_name': None,\n",
              "   'min_estimated_delivery_date': None,\n",
              "   'max_estimated_delivery_date': None,\n",
              "   'update_time': '2023-02-26',\n",
              "   'is_brand_seller': False,\n",
              "   'is_goods_from_oversea': False,\n",
              "   'location': '台北市',\n",
              "   'condition': 'B',\n",
              "   'codition': 'B',\n",
              "   'accept_shiprule': True,\n",
              "   'user_class': '0',\n",
              "   'close_no': None,\n",
              "   'description_url': 'https://www.ruten.com.tw/item/goods_comments.php?id=22306987134735&k=d2ae8b17&o=1675870038',\n",
              "   'spec_info': {'level': 1,\n",
              "    'structure': {'230607448688804': []},\n",
              "    'specs': {'230607448688804': {'spec_id': '230607448688804',\n",
              "      'parent_id': '0',\n",
              "      'spec_name': '西數NAS紅盤Pro 12T',\n",
              "      'spec_num': 20,\n",
              "      'spec_price': 50760,\n",
              "      'spec_status': 'Y',\n",
              "      'spec_ext': [],\n",
              "      'childs': [],\n",
              "      'spec_ori_price': 50760}},\n",
              "    'map': {'spec': {'西數NAS紅盤Pro 12T': ['230607448688804']}}},\n",
              "   'text2': '\\n&lt;div&gt;\\n&lt;p&gt;&lt;strong&gt;服務承諾：&lt;/strong&gt;&lt;/p&gt;\\n&lt;p&gt;&lt;strong&gt;▶本店承諾，原版正品，優良品質，折扣價&lt;/strong&gt;&lt;/p&gt;\\n&lt;p&gt;&lt;strong&gt;▶優質售前，售後迅速，只換不修，免費固保&lt;/strong&gt;&lt;/p&gt;\\n&lt;p&gt;&lt;strong&gt;運輸/庫存：&lt;/strong&gt;&lt;/p&gt;\\n&lt;p&gt;&lt;strong&gt;▶下標後2個工作日出貨，2-4個工作日送達門市/宅配地址&lt;/strong&gt;&lt;/p&gt;\\n&lt;p&gt;&lt;strong&gt;▶如有特殊預購/預定產品，客服妹妹會提前通知&lt;/strong&gt;&lt;/p&gt;\\n&lt;p&gt;&lt;strong&gt;▶賣場產品庫存數量有的，都是有貨直接下標即可&lt;/strong&gt;&lt;/p&gt;\\n&lt;p&gt;&lt;strong&gt;▶下標前請註意：超商寄件最大材積限制≦45*30*30且重量&amp;lt;&amp;gt;&lt;/strong&gt;&lt;/p&gt;\\n&lt;p&gt;&lt;strong&gt;▶支持大量採購 量大從優&lt;/strong&gt;&lt;/p&gt;\\n&lt;p&gt;&lt;strong&gt;▶館長客服上班時間：早上10:30~下午23：30&lt;/strong&gt;&lt;/p&gt;\\n&lt;p&gt;&lt;strong&gt;▶售前咨詢/產品資料詢問，聊聊客服會盡快回復&lt;/strong&gt;&lt;/p&gt;\\n&lt;p&gt;&lt;strong&gt;▶售後問題，請先聯繫客服妹妹，一定竭力幫您處理&lt;/strong&gt;&lt;/p&gt;\\n&lt;p&gt;&lt;strong&gt;【購買需知】&lt;/strong&gt;&lt;/p&gt;\\n&lt;p&gt;&lt;strong&gt;▶出貨時間為週一到週日&lt;/strong&gt;&lt;/p&gt;\\n&lt;p&gt;&lt;strong&gt;▶兩個工作日內出貨，三到四個工作日會送達，因出貨後無法追回貨物，若急單請勿下標！&lt;/strong&gt;&lt;/p&gt;\\n&lt;p&gt;&lt;strong&gt;▶購買時請確認商品顏色型號及數量，下單後不受理私聊或訂單備註變更，出貨皆已訂單選項出貨。&lt;/strong&gt;&lt;/p&gt;\\n&lt;p&gt;&lt;strong&gt;▶.商品圖片為原廠提供，圖片與實品有些許落差，歡迎詢問。&lt;/strong&gt;&lt;/p&gt;\\n&lt;p&gt;&lt;strong&gt;▶.商品售出後如有問題，歡迎詢問，勿用評價溝通。&lt;/strong&gt;&lt;/p&gt;\\n&lt;p&gt;&lt;strong&gt;▶.本商品可與其他商品合併購買，購物金額未滿300（不含運費）不出貨&lt;/strong&gt;&lt;/p&gt;\\n&lt;p&gt;&lt;strong&gt;▶如商品短缺或破損低於80元以下時，一律以退款方式處理，不便之處敬請見諒。&lt;/strong&gt;&lt;/p&gt;\\n&lt;/div&gt;\\n'},\n",
              "  {'id': '22308073518043',\n",
              "   'class': '001100010011',\n",
              "   'name': '全新零刻 SEi8 i5-8279U 酷睿i5辦公電腦微型主機 Intel 辦公電腦 迷你電腦 小電腦 微電腦',\n",
              "   'num': 99,\n",
              "   'images': {'filename': '22308073518043_877.jpg,22308073518043_491.jpg,22308073518043_225.jpg,22308073518043_148.jpg,22308073518043_628.jpg,22308073518043_373.jpg',\n",
              "    'url': ['https://image.ruten.com.tw/g1/8/1b/db/22308073518043_877.jpg',\n",
              "     'https://image.ruten.com.tw/g1/8/1b/db/22308073518043_491.jpg',\n",
              "     'https://image.ruten.com.tw/g1/8/1b/db/22308073518043_225.jpg',\n",
              "     'https://image.ruten.com.tw/g1/8/1b/db/22308073518043_148.jpg',\n",
              "     'https://image.ruten.com.tw/g1/8/1b/db/22308073518043_628.jpg',\n",
              "     'https://image.ruten.com.tw/g1/8/1b/db/22308073518043_373.jpg'],\n",
              "    'm_url': ['https://image.ruten.com.tw/g1/8/1b/db/22308073518043_877_m.jpg',\n",
              "     'https://image.ruten.com.tw/g1/8/1b/db/22308073518043_491_m.jpg',\n",
              "     'https://image.ruten.com.tw/g1/8/1b/db/22308073518043_225_m.jpg',\n",
              "     'https://image.ruten.com.tw/g1/8/1b/db/22308073518043_148_m.jpg',\n",
              "     'https://image.ruten.com.tw/g1/8/1b/db/22308073518043_628_m.jpg',\n",
              "     'https://image.ruten.com.tw/g1/8/1b/db/22308073518043_373_m.jpg']},\n",
              "   'currency': 'TWD',\n",
              "   'goods_price': 23692,\n",
              "   'goods_ori_price': 23692,\n",
              "   'goods_price_range': {'min': 23692,\n",
              "    'max': 23692,\n",
              "    'ori_min': 23692,\n",
              "    'ori_max': 23692},\n",
              "   'watch_num': 0,\n",
              "   'sold_num': 0,\n",
              "   'buyer_limit_num': 0,\n",
              "   'stock_status': 0,\n",
              "   'pre_order_ship_date': None,\n",
              "   'fast_ship': 0,\n",
              "   'free_shipping': 1,\n",
              "   'youtube_link': '',\n",
              "   'video_link': '',\n",
              "   'ncc_check_code': '',\n",
              "   'bsmi_code': '',\n",
              "   'goods_no': '',\n",
              "   'available': True,\n",
              "   'post_time': '1677143179',\n",
              "   'spec_type': 'R',\n",
              "   'deliver_way': {'SEVEN_COD': 60,\n",
              "    'SEVEN': 60,\n",
              "    'FAMI_COD': 60,\n",
              "    'FAMI': 60,\n",
              "    'HILIFE_COD': 45,\n",
              "    'HILIFE': 45,\n",
              "    'HOUSE': 0,\n",
              "    'COD': 60},\n",
              "   'mode': 'B',\n",
              "   'ship': 'A',\n",
              "   'platform': 'RUTEN',\n",
              "   'ctrl_rowid': '10707658',\n",
              "   'user': 'secadd17',\n",
              "   'user_credit': 29,\n",
              "   'pay_way': ['PP_PI',\n",
              "    'PP_CRD',\n",
              "    'PP_CRD_ZERO',\n",
              "    'PP_CRD_N3',\n",
              "    'PP_CRD_N6',\n",
              "    'PP_CRD_N12',\n",
              "    'PAYLINK',\n",
              "    'SEVEN_COD',\n",
              "    'FAMI_COD',\n",
              "    'HILIFE_COD',\n",
              "    'COD'],\n",
              "   'title_style': '0',\n",
              "   'selling_g_now_price': 23692,\n",
              "   'item_remaining_time': 467979089,\n",
              "   'translation_type': None,\n",
              "   'translated_name': None,\n",
              "   'min_estimated_delivery_date': None,\n",
              "   'max_estimated_delivery_date': None,\n",
              "   'update_time': '2023-02-24',\n",
              "   'is_brand_seller': False,\n",
              "   'is_goods_from_oversea': False,\n",
              "   'location': '桃園市',\n",
              "   'condition': 'B',\n",
              "   'codition': 'B',\n",
              "   'accept_shiprule': True,\n",
              "   'user_class': '6050057',\n",
              "   'close_no': None,\n",
              "   'description_url': 'https://www.ruten.com.tw/item/goods_comments.php?id=22308073518043&k=8fc300b9&o=1677215628',\n",
              "   'spec_info': {'level': 2,\n",
              "    'structure': {'230808759276906': {'230808759276917': []}},\n",
              "    'specs': {'230808759276906': {'spec_id': '230808759276906',\n",
              "      'parent_id': '0',\n",
              "      'spec_name': '16G/500G',\n",
              "      'spec_num': 0,\n",
              "      'spec_price': 23692,\n",
              "      'spec_status': 'Y',\n",
              "      'spec_ext': [],\n",
              "      'childs': {'230808759276917': []},\n",
              "      'spec_ori_price': 23692},\n",
              "     '230808759276917': {'spec_id': '230808759276917',\n",
              "      'parent_id': '230808759276906',\n",
              "      'spec_name': '套餐壹',\n",
              "      'spec_num': 99,\n",
              "      'spec_price': 23692,\n",
              "      'spec_status': 'Y',\n",
              "      'spec_ext': [],\n",
              "      'childs': [],\n",
              "      'spec_ori_price': 23692}},\n",
              "    'map': {'spec': {'16G/500G': ['230808759276917']},\n",
              "     'spec_sub': {'套餐壹': ['230808759276917']}}},\n",
              "   'text2': \"\\n&lt;style type=&quot;text/css&quot;&gt;&lt;!--\\nimg.tidied-202302232093-5 {width: 750px; height: 750px;}\\n span.tidied-202302232093-4 {color: #ff0000; background-color: #ffff00;}\\n span.tidied-202302232093-3 {background-color: #ffff00;}\\n p.tidied-202302232093-2 {font-size: 12px; font-family: 'sans serif', tahoma, verdana, helvetica;}\\n span.tidied-202302232093-1 {color: #ff0000;}\\n--&gt;&lt;/style&gt;&lt;div&gt;\\n&lt;p class=&quot;tidied-202302232093-2&quot;&gt;&lt;span class=&quot;tidied-202302232093-1&quot;&gt;&lt;strong&gt;歡迎光顧&lt;/strong&gt;&lt;strong&gt;優選K8生活館&lt;/strong&gt;&lt;/span&gt;&lt;/p&gt;\\n&lt;p class=&quot;tidied-202302232093-2&quot;&gt;&lt;span class=&quot;tidied-202302232093-1&quot;&gt;&lt;strong&gt;&lt;span class=&quot;tidied-202302232093-3&quot;&gt;商品問題/尺寸建議/出貨時間/訂單細節&lt;/span&gt;，&lt;/strong&gt;&lt;/span&gt;&lt;/p&gt;\\n&lt;p class=&quot;tidied-202302232093-2&quot;&gt;&lt;span class=&quot;tidied-202302232093-1&quot;&gt;&lt;strong&gt;&nbsp;歡迎露露通咨詢/&lt;/strong&gt;&lt;strong&gt;更多好物點擊下方直達賣場&nbsp;&nbsp;&lt;/strong&gt;&lt;/span&gt;&lt;/p&gt;\\n&lt;p class=&quot;tidied-202302232093-2&quot;&gt;&lt;span class=&quot;tidied-202302232093-4&quot;&gt;&lt;strong&gt;&lt;a  href=&quot;https://www.ruten.com.tw/store/secadd17/list?sort=new%2Fdc&amp;amp;cateid.seller=6050057&amp;amp;p=1&quot; target=&quot;_blank&quot;&gt;https://www.ruten.com.tw/store/secadd17/list?sort=new%2Fdc&amp;amp;cateid.seller=6050057&amp;amp;p=1&lt;/a&gt;&lt;/strong&gt;&lt;/span&gt;&lt;/p&gt;\\n&lt;p class=&quot;tidied-202302232093-2&quot;&gt;&lt;span class=&quot;tidied-202302232093-1&quot;&gt;&lt;strong&gt;&nbsp;&nbsp;&lt;/strong&gt;&lt;strong&gt;&nbsp;&nbsp;&lt;/strong&gt;&lt;strong&gt;商品任何問題，請務必和我們溝通~請勿以負面言語來溝通問題~感謝您的配合!!&nbsp;&lt;/strong&gt;&lt;/span&gt;&lt;/p&gt;\\n&lt;p class=&quot;tidied-202302232093-2&quot;&gt;&lt;br&gt;&lt;span class=&quot;tidied-202302232093-1&quot;&gt;&lt;strong&gt;&nbsp;&nbsp;&lt;/strong&gt;&lt;strong&gt;可用超商免運卷，全場商品含運！最終價格以訂單價為準！&lt;/strong&gt;&lt;/span&gt;&lt;br&gt;&lt;br&gt;&lt;span class=&quot;tidied-202302232093-1&quot;&gt;&lt;strong&gt;&nbsp;&nbsp;&lt;/strong&gt;&lt;strong&gt;============大尺寸商品需要選擇宅配，謝謝您&lt;/strong&gt;&lt;strong&gt;============&lt;/strong&gt;&lt;/span&gt;&lt;/p&gt;\\n&lt;p class=&quot;tidied-202302232093-2&quot;&gt;&lt;span class=&quot;tidied-202302232093-1&quot;&gt;&lt;strong&gt;&nbsp;&nbsp;&lt;/strong&gt;&lt;strong&gt;---願到店顧客們&nbsp; 好運連連~&lt;/strong&gt;&lt;/span&gt;&lt;br&gt;&lt;br&gt;&lt;span class=&quot;tidied-202302232093-1&quot;&gt;&lt;strong&gt;&nbsp;&lt;span class=&quot;tidied-202302232093-3&quot;&gt;&nbsp;&lt;/span&gt;&lt;/strong&gt;&lt;span class=&quot;tidied-202302232093-3&quot;&gt;&lt;strong&gt;---超商&nbsp;重量：不能超（5KG）如不清楚露露通咨詢客服&lt;/strong&gt;&lt;/span&gt;&lt;/span&gt;&lt;br&gt;&lt;br&gt;&lt;span class=&quot;tidied-202302232093-4&quot;&gt;&lt;strong&gt;&nbsp;&nbsp;&lt;/strong&gt;&lt;strong&gt;---超商規格：長*寬*高（45cm*30cm*30cm）&lt;/strong&gt;&lt;strong&gt;如不清楚露露通咨詢客服&lt;/strong&gt;&lt;/span&gt;&lt;/p&gt;\\n&lt;img  src=&quot;https://d931.com/gin678696/i/2023/02/23/mqp.png&quot; border=&quot;0&quot; alt=&quot;https://d931.com/gin678696/i/2023/02/23/mqp.png&quot; width=&quot;188&quot; height=&quot;236&quot;&gt;&lt;br&gt;&lt;img class=&quot;tidied-202302232093-5&quot;  src=&quot;http://img.alicdn.com/imgextra/i3/2213329888154/O1CN01fkhacH2A6aIKhwOxG_!!2213329888154.jpg&quot; border=&quot;0&quot;&gt;&lt;br&gt;&lt;img class=&quot;tidied-202302232093-5&quot;  src=&quot;http://img.alicdn.com/imgextra/i4/2213329888154/O1CN01eXADnd2A6aIBKxkMH_!!2213329888154.jpg&quot; border=&quot;0&quot;&gt;&lt;br&gt;&lt;img class=&quot;tidied-202302232093-5&quot;  src=&quot;http://img.alicdn.com/imgextra/i1/2213329888154/O1CN015LtJlm2A6aIFsDr1S_!!2213329888154.jpg&quot; border=&quot;0&quot;&gt;&lt;br&gt;&lt;img class=&quot;tidied-202302232093-5&quot;  src=&quot;http://img.alicdn.com/imgextra/i3/2213329888154/O1CN01v0Q6Iq2A6aIJsMS9H_!!2213329888154.jpg&quot; border=&quot;0&quot;&gt;&lt;br&gt;&lt;img class=&quot;tidied-202302232093-5&quot;  src=&quot;http://img.alicdn.com/imgextra/i1/2213329888154/O1CN01B1bGAQ2A6aI8HB1qe_!!2213329888154.jpg&quot; border=&quot;0&quot;&gt;&lt;br&gt;&lt;img class=&quot;tidied-202302232093-5&quot;  src=&quot;http://img.alicdn.com/imgextra/i2/2213329888154/O1CN01wL4Axs2A6aI8H9cXV_!!2213329888154.jpg&quot; border=&quot;0&quot;&gt;&lt;br&gt;&lt;img class=&quot;tidied-202302232093-5&quot;  src=&quot;http://img.alicdn.com/imgextra/i2/2213329888154/O1CN01gYGt572A6aIBL0pfw_!!2213329888154.jpg&quot; border=&quot;0&quot;&gt;&lt;br&gt;&lt;img class=&quot;tidied-202302232093-5&quot;  src=&quot;http://img.alicdn.com/imgextra/i3/2213329888154/O1CN01TQiw712A6aIBKyYGN_!!2213329888154.jpg&quot; border=&quot;0&quot;&gt;&lt;br&gt;&lt;img class=&quot;tidied-202302232093-5&quot;  src=&quot;http://img.alicdn.com/imgextra/i4/2213329888154/O1CN01Uq5Hff2A6aIHqYMuk_!!2213329888154.jpg&quot; border=&quot;0&quot;&gt;&lt;br&gt;&lt;img class=&quot;tidied-202302232093-5&quot;  src=&quot;http://img.alicdn.com/imgextra/i2/2213329888154/O1CN01IJ5Kmv2A6aIGiXeph_!!2213329888154.jpg&quot; border=&quot;0&quot;&gt;&lt;br&gt;&lt;img class=&quot;tidied-202302232093-5&quot;  src=&quot;http://img.alicdn.com/imgextra/i4/2213329888154/O1CN01Ba6ngB2A6aIKhvjR1_!!2213329888154.jpg&quot; border=&quot;0&quot;&gt;&lt;/div&gt;\\n\"},\n",
              "  {'id': '22134699516389',\n",
              "   'class': '001100190005',\n",
              "   'name': '【樂意創客官方店】《附發票》AI機械手臂 樹莓派 4B Raspberry 視覺識別 ArmPi-FPV (豪華版本)',\n",
              "   'num': 2998,\n",
              "   'images': {'filename': '22134699516389_285.jpg,22134699516389_688.jpg,22134699516389_980.jpg,22134699516389_381.jpg,22134699516389_542.jpg',\n",
              "    'url': ['https://a.rimg.com.tw/s6/df5/a7f/mirotekco/d/e5/22134699516389_285.jpg',\n",
              "     'https://a.rimg.com.tw/s6/df5/a7f/mirotekco/d/e5/22134699516389_688.jpg',\n",
              "     'https://a.rimg.com.tw/s6/df5/a7f/mirotekco/d/e5/22134699516389_980.jpg',\n",
              "     'https://a.rimg.com.tw/s6/df5/a7f/mirotekco/d/e5/22134699516389_381.jpg',\n",
              "     'https://a.rimg.com.tw/s6/df5/a7f/mirotekco/d/e5/22134699516389_542.jpg'],\n",
              "    'm_url': ['https://a.rimg.com.tw/s6/df5/a7f/mirotekco/d/e5/22134699516389_285_m.jpg',\n",
              "     'https://a.rimg.com.tw/s6/df5/a7f/mirotekco/d/e5/22134699516389_688_m.jpg',\n",
              "     'https://a.rimg.com.tw/s6/df5/a7f/mirotekco/d/e5/22134699516389_980_m.jpg',\n",
              "     'https://a.rimg.com.tw/s6/df5/a7f/mirotekco/d/e5/22134699516389_381_m.jpg',\n",
              "     'https://a.rimg.com.tw/s6/df5/a7f/mirotekco/d/e5/22134699516389_542_m.jpg']},\n",
              "   'currency': 'TWD',\n",
              "   'goods_price': 22800,\n",
              "   'goods_ori_price': 22800,\n",
              "   'goods_price_range': {'min': 22800,\n",
              "    'max': 22800,\n",
              "    'ori_min': 22800,\n",
              "    'ori_max': 22800},\n",
              "   'watch_num': 14,\n",
              "   'sold_num': 2,\n",
              "   'buyer_limit_num': 0,\n",
              "   'stock_status': 1,\n",
              "   'pre_order_ship_date': None,\n",
              "   'fast_ship': 0,\n",
              "   'free_shipping': 1,\n",
              "   'youtube_link': 'v72W9cii-D8',\n",
              "   'video_link': 'https://youtu.be/v72W9cii-D8',\n",
              "   'ncc_check_code': '',\n",
              "   'bsmi_code': '',\n",
              "   'goods_no': '100041',\n",
              "   'available': True,\n",
              "   'post_time': '1629881049',\n",
              "   'spec_type': 'N',\n",
              "   'deliver_way': {'POST': 0},\n",
              "   'mode': 'B',\n",
              "   'ship': 'A',\n",
              "   'platform': 'RUTEN',\n",
              "   'ctrl_rowid': '14142621',\n",
              "   'user': 'mirotekco',\n",
              "   'user_credit': 9351,\n",
              "   'pay_way': ['PP_PI', 'PP_CRD', 'PAYLINK', 'ATM', 'F2F'],\n",
              "   'title_style': '0',\n",
              "   'selling_g_now_price': 22800,\n",
              "   'item_remaining_time': 467979089,\n",
              "   'translation_type': None,\n",
              "   'translated_name': None,\n",
              "   'min_estimated_delivery_date': None,\n",
              "   'max_estimated_delivery_date': None,\n",
              "   'update_time': '2023-02-15',\n",
              "   'is_brand_seller': False,\n",
              "   'is_goods_from_oversea': False,\n",
              "   'location': '台北市',\n",
              "   'condition': 'B',\n",
              "   'codition': 'B',\n",
              "   'accept_shiprule': True,\n",
              "   'user_class': '5770823',\n",
              "   'close_no': None,\n",
              "   'description_url': 'https://www.ruten.com.tw/item/goods_comments.php?id=22134699516389&k=b8c7e82b&o=1676459097',\n",
              "   'spec_info': [],\n",
              "   'text2': \"\\n&lt;style type=&quot;text/css&quot;&gt;&lt;!--\\nspan.tidied-202108318527-2 {color: red; font-size: 18.0pt; font-family: '新細明體',serif;} span.tidied-202108318527-1 {color: red; font-size: 18.0pt;} ul.tidied-202108319545-18 {width: fit-content;} span.tidied-202108319545-17 {color: #333e48; font-size: 25px; font-weight: bold; text-align: center;} div.tidied-202108319545-16 {color: #333e48; font-size: 14px; width: 504.492px;} div.tidied-202108319545-15 {width: 484.297px;} div.tidied-202108319545-14 {color: #101010; font-size: 18px;} div.tidied-202108319545-13 {font-size: 25px; font-weight: bold; text-align: center;} img.tidied-202108319545-12 {height: auto; display: block;} div.tidied-202108319545-11 {font-size: 18px; background-color: #ffffff;} div.tidied-202108319545-10 {color: #333e48; font-size: 30px; font-weight: bold; text-align: center; background-color: #ffffff;} div.tidied-202108319545-9 {color: #101010; font-size: 16px; font-family: 'Open Sans', sans-serif;} div.tidied-202108319545-8 {color: #333e48; font-size: 20px; font-family: 'Open Sans', sans-serif; font-weight: bold;} div.tidied-202108319545-7 {font-size: 16px;} div.tidied-202108319545-6 {color: #333e48; font-size: 20px; font-weight: bold;} span.tidied-202108319545-5 {font-size: 16px;} span.tidied-202108319545-4 {color: #333e48; font-size: 20px; font-weight: bold;} div.tidied-202108319545-3 {color: #333e48; font-size: 30px; font-weight: bold; text-align: center;} div.tidied-202108319545-2 {color: #101010; font-size: 18px; font-family: 'Open Sans', sans-serif; background-color: #ffffff;} div.tidied-202108319545-1 {color: #333e48; font-size: 30px; font-family: 'Open Sans', sans-serif; font-weight: bold; text-align: center; background-color: #ffffff;} strong.tidied-202108318269-1 {color: #101010; font-size: 18px;} div.tidied-202108317824-2 {color: #101010;} div.tidied-202108317824-1 {color: #101010; font-family: 'Open Sans', sans-serif;} strong.tidied-202108312855-1 {font-size: 18px;} span.tidied-202108311389-1 {color: #222222; font-size: 12.0pt; font-family: '新細明體',serif;} span.tidied-202109104950-1 {font-size: 14pt;}\\n--&gt;&lt;/style&gt;&lt;div&gt;\\n&lt;p class=&quot;MsoNormal&quot;&gt;&lt;b&gt;&lt;span class=&quot;tidied-202108318527-1&quot;&gt;Note:&lt;/span&gt;&lt;/b&gt;&lt;b&gt;&lt;span class=&quot;tidied-202108318527-2&quot;&gt;所有商品已含稅並開立發票，報帳用請備註留言『抬頭』及『統編』&lt;/span&gt;&lt;/b&gt;&lt;b&gt;&lt;span class=&quot;tidied-202108318527-1&quot;&gt;!&lt;/span&gt;&lt;/b&gt;&lt;/p&gt;\\n&lt;h3&gt;&lt;strong&gt;【商品說明】&lt;/strong&gt;&lt;/h3&gt;\\n&lt;p&gt;&lt;strong&gt;&nbsp;&nbsp; ArmPi FPV 是您使用 Raspbery Pi 4B 控制器開始和繼續冒險所需的一切！ 使用OpenCV處理圖像，加載高清120度攝影機，具有ROS操作系統，內置MoveIt，支援Python程式。 提供人臉識別、撿獲等AI視覺遊戲，&lt;/strong&gt;&lt;b&gt;&lt;span class=&quot;tidied-202108311389-1&quot;&gt;豪華版本額外提供了語音識別功能，&lt;/span&gt;&lt;/b&gt;&lt;strong&gt;開源供您學習！&lt;/strong&gt;&lt;/p&gt;\\n&lt;p&gt;&lt;strong&gt;&nbsp;&lt;/strong&gt;&lt;/p&gt;\\n&lt;h3&gt;&lt;strong&gt;【產品特性】&lt;/strong&gt;&lt;/h3&gt;\\n&lt;ul&gt;&lt;li&gt;&lt;strong&gt;機器人套件包括 Raspberry Pi 4B 4GB 開發板板&lt;/strong&gt;&lt;/li&gt;\\n&lt;li&gt;&lt;strong&gt;帶有 MoveIt 的 ROS 機器人操作系統，和逆向運動學&lt;/strong&gt;&lt;/li&gt;\\n&lt;li&gt;&lt;strong&gt;提供Python程式和詳細教學&lt;/strong&gt;&lt;/li&gt;\\n&lt;li&gt;&lt;strong&gt;安裝高清攝影機捕捉實時圖像&lt;/strong&gt;&lt;/li&gt;\\n&lt;li&gt;&lt;strong&gt;高精度、數據反饋、接線友好的智能serial bus servo&lt;/strong&gt;&lt;/li&gt;\\n&lt;li&gt;&lt;strong&gt;支援PC軟體、手機App和VNC遠端桌面控制&lt;/strong&gt;&lt;/li&gt;\\n&lt;/ul&gt;&lt;p&gt;&nbsp;&lt;/p&gt;\\n&lt;h3&gt;&lt;strong&gt;【發貨清單】&lt;/strong&gt;&lt;/h3&gt;\\n&lt;ul&gt;&lt;li&gt;&lt;strong&gt;ArmPi FPV 手臂(已組裝完成) * 1&lt;/strong&gt;&lt;/li&gt;\\n&lt;li&gt;&lt;strong&gt;5V/6A電源 * 1&lt;/strong&gt;&lt;/li&gt;\\n&lt;li&gt;&lt;strong&gt;地圖 * 1&lt;/strong&gt;&lt;/li&gt;\\n&lt;li&gt;&lt;strong&gt;3*3CM彩色方塊 *3&lt;/strong&gt;&lt;/li&gt;\\n&lt;li&gt;&lt;strong&gt;彩色球 * 3&lt;/strong&gt;&lt;/li&gt;\\n&lt;li&gt;&lt;strong&gt;木方塊 * 3&lt;/strong&gt;&lt;/li&gt;\\n&lt;li&gt;&lt;strong&gt;QR-CODE * 3&lt;/strong&gt;&lt;/li&gt;\\n&lt;li&gt;&lt;strong&gt;16G隨身碟(教學資料) * 1&lt;/strong&gt;&lt;/li&gt;\\n&lt;li&gt;&lt;strong&gt;SD讀卡器 * 1&lt;/strong&gt;&lt;/li&gt;\\n&lt;li&gt;&lt;strong&gt;束線帶 * 1&lt;/strong&gt;&lt;/li&gt;\\n&lt;li&gt;&lt;strong&gt;十字螺絲起子 * 1&lt;/strong&gt;&lt;/li&gt;\\n&lt;li&gt;&lt;strong&gt;樹莓派入門手冊 * 1&lt;/strong&gt;&lt;/li&gt;\\n&lt;li&gt;&lt;strong&gt;貨架 (未組裝) * 1&lt;/strong&gt;&lt;/li&gt;\\n&lt;li&gt;&lt;strong&gt;語音識別模組 * 1&lt;/strong&gt;&lt;/li&gt;\\n&lt;li&gt;&lt;strong&gt;語音合成模組 * 1&lt;/strong&gt;&lt;/li&gt;\\n&lt;li&gt;&lt;strong&gt;4PIN線 * 1&lt;/strong&gt;&lt;/li&gt;\\n&lt;/ul&gt;&lt;p&gt;&lt;strong&gt;&lt;img  src=&quot;https://cdn.shopifycdn.net/s/files/1/0084/2799/5187/files/1_65ca1383-3b98-4d1e-ac00-1c676128be14.jpg?v=1625120704&quot; border=&quot;0&quot; alt=&quot;&quot; width=&quot;800&quot; height=&quot;328&quot;&gt;&lt;/strong&gt;&lt;/p&gt;\\n&lt;p&gt;&lt;img  src=&quot;https://cdn.shopifycdn.net/s/files/1/0084/2799/5187/files/e2c5988ccf69350d46f88effb3ca3e48_9846a156-b9af-4b94-ac48-a9c927894bdf.gif?v=1625123235&quot; border=&quot;0&quot; alt=&quot;Facial Recognition&quot; width=&quot;450&quot; height=&quot;253&quot;&gt;&lt;/p&gt;\\n&lt;p&gt;&lt;span class=&quot;tidied-202109104950-1&quot;&gt;&lt;strong&gt;人臉識別&lt;/strong&gt;&lt;/span&gt;&lt;/p&gt;\\n&lt;p&gt;&lt;img  src=&quot;https://cdn.shopifycdn.net/s/files/1/0084/2799/5187/files/a5ff5e83ee3757382c27ba2c74c4f2df_129305bc-1c6f-4ff3-8a34-bd3930e5736c.gif?v=1625121456&quot; border=&quot;0&quot; width=&quot;450&quot; height=&quot;253&quot;&gt;&lt;/p&gt;\\n&lt;p&gt;&lt;span class=&quot;tidied-202109104950-1&quot;&gt;&lt;strong&gt;標籤識別&lt;/strong&gt;&lt;/span&gt;&lt;/p&gt;\\n&lt;div class=&quot;desc tidied-202108319545-2&quot;&gt;&lt;img  src=&quot;https://cdn.shopifycdn.net/s/files/1/0084/2799/5187/files/f37a634b778bec5ac41dcf458ec7fb95.gif?v=1625123920&quot; border=&quot;0&quot; width=&quot;450&quot; height=&quot;253&quot;&gt;&lt;/div&gt;\\n&lt;div class=&quot;desc tidied-202108319545-2&quot;&gt;&lt;span class=&quot;tidied-202109104950-1&quot;&gt;&lt;strong&gt;智能分類&lt;/strong&gt;&lt;/span&gt;&lt;/div&gt;\\n&lt;div class=&quot;desc tidied-202108319545-2&quot;&gt;&lt;img  src=&quot;https://cdn.shopifycdn.net/s/files/1/0084/2799/5187/files/f8a8d9227bcc3c4ef9aa5fcc9a210865.gif?v=1625128773&quot; border=&quot;0&quot; width=&quot;450&quot; height=&quot;253&quot;&gt;&lt;/div&gt;\\n&lt;div class=&quot;desc tidied-202108319545-2&quot;&gt;&lt;strong&gt;智能堆疊&lt;/strong&gt;&lt;/div&gt;\\n&lt;div class=&quot;desc tidied-202108319545-2&quot;&gt;&lt;strong&gt;&nbsp;&lt;/strong&gt;&lt;/div&gt;\\n&lt;div class=&quot;desc tidied-202108319545-2&quot;&gt;\\n&lt;div class=&quot;desc&quot;&gt;&lt;img  src=&quot;https://cdn.shopifycdn.net/s/files/1/0084/2799/5187/files/3_cddfd1ee-6ec9-41df-8e8d-0ea584487e74.jpg?v=1625120985&quot; border=&quot;0&quot; alt=&quot;&quot; width=&quot;800&quot; height=&quot;330&quot;&gt;&lt;/div&gt;\\n&lt;/div&gt;\\n&lt;div class=&quot;desc tidied-202108319545-2&quot;&gt;&lt;strong&gt;&nbsp; ●&lt;/strong&gt;&lt;span class=&quot;tidied-202108319545-4&quot;&gt;Stock Enter&lt;/span&gt;&lt;/div&gt;\\n&lt;div class=&quot;desc tidied-202108319545-2&quot;&gt;&lt;span class=&quot;tidied-202108319545-5&quot;&gt;Drag the block to shelf in the APP interface and then ArmPi FPV will pick the block according the command.&lt;/span&gt;&lt;/div&gt;\\n&lt;br&gt;&lt;div class=&quot;desc tidied-202108319545-7 tidied-202108317824-1&quot;&gt;&lt;strong class=&quot;tidied-202108312855-1&quot;&gt;&lt;img  src=&quot;https://cdn.shopifycdn.net/s/files/1/0084/2799/5187/files/4_cc830b3b-e4d3-412d-8261-6491ca7ef86d.jpg?v=1625121007&quot; border=&quot;0&quot; alt=&quot;&quot; width=&quot;800&quot; height=&quot;330&quot;&gt;&nbsp; &nbsp; &nbsp; &nbsp; &nbsp; &nbsp; &nbsp; &nbsp; &nbsp; &nbsp; &nbsp; &nbsp; &nbsp; &nbsp; &nbsp; &nbsp; &nbsp; &nbsp; &nbsp; &nbsp; &nbsp; &nbsp; &nbsp; &nbsp; &nbsp; &nbsp; &nbsp;&lt;/strong&gt;&lt;/div&gt;\\n&lt;div class=&quot;desc tidied-202108319545-2&quot;&gt;\\n&lt;div class=&quot;head tidied-202108319545-6&quot;&gt;&nbsp;&lt;strong class=&quot;tidied-202108318269-1&quot;&gt;&nbsp;●&lt;/strong&gt;Stock Deliver&lt;/div&gt;\\n&lt;div class=&quot;desc tidied-202108319545-7&quot;&gt;Choose the shelf No. in the interface. ArmPi FPV will take out the block in corresponding stock.&lt;/div&gt;\\n&lt;br&gt;&lt;div class=&quot;desc tidied-202108319545-7&quot;&gt;&lt;img  src=&quot;https://cdn.shopifycdn.net/s/files/1/0084/2799/5187/files/5_dfd79ceb-354e-43a7-9b7f-7d93d5047e1d.jpg?v=1625121025&quot; border=&quot;0&quot; alt=&quot;&quot; width=&quot;800&quot; height=&quot;330&quot;&gt;&lt;/div&gt;\\n&lt;/div&gt;\\n&lt;div class=&quot;head tidied-202108319545-8&quot;&gt;&lt;strong class=&quot;tidied-202108318269-1&quot;&gt;&nbsp;●&lt;/strong&gt;Stock Transfer&lt;/div&gt;\\n&lt;div class=&quot;desc tidied-202108319545-9&quot;&gt;Set warehouse number for the goods deliver and enter in APP. ArmPi FPV will transfer the block intelligently.&lt;/div&gt;\\n&lt;br&gt;&lt;div class=&quot;desc tidied-202108319545-9&quot;&gt;&lt;img  src=&quot;https://cdn.shopifycdn.net/s/files/1/0084/2799/5187/files/6_61e65aff-07fd-4e3d-90c7-e8eca81f046c.jpg?v=1625121047&quot; border=&quot;0&quot; alt=&quot;&quot; width=&quot;800&quot; height=&quot;330&quot;&gt;&lt;/div&gt;\\n&lt;div class=&quot;desc tidied-202108319545-9&quot;&gt;\\n&lt;div class=&quot;head tidied-202108319545-10&quot;&gt;&lt;/div&gt;\\n&lt;div class=&quot;head tidied-202108319545-10&quot;&gt;ROS Robot Operating System&lt;/div&gt;\\n&lt;div class=&quot;desc tidied-202108319545-11&quot;&gt;ROS (Robot Operation System) is an open source robotics middleware suite. It provides services designed such as hardware abstraction, low-level device control, implementation of commonly used functionality, message-passing between processes, and package management. ROS contributes to robot research and development.&lt;/div&gt;\\n&lt;br&gt;&lt;div class=&quot;desc tidied-202108319545-11&quot;&gt;\\n&lt;div class=&quot;imageItem tidied-202108319545-16&quot;&gt;\\n&lt;div class=&quot;desc tidied-202108319545-7 tidied-202108317824-2&quot;&gt;&lt;/div&gt;\\n&lt;div class=&quot;desc tidied-202108319545-7 tidied-202108317824-2&quot;&gt;&lt;/div&gt;\\n&lt;img class=&quot;border tidied-202108319545-12&quot;  src=&quot;https://cdn.shopifycdn.net/s/files/1/0084/2799/5187/files/13_6de0e380-346e-465a-88ec-d7c89748f831.jpg?v=1625121178&quot; border=&quot;0&quot;&gt;&lt;div class=&quot;imageDescContainer tidied-202108319545-15&quot;&gt;\\n&lt;div class=&quot;desc tidied-202108319545-7 tidied-202108317824-2&quot;&gt;&lt;/div&gt;\\n&lt;div class=&quot;desc tidied-202108319545-7 tidied-202108317824-2&quot;&gt;&lt;/div&gt;\\n&lt;div class=&quot;head tidied-202108319545-13&quot;&gt;MoveIt! Kinematics&lt;/div&gt;\\n&lt;div class=&quot;desc tidied-202108319545-14&quot;&gt;ArmPi FPV robotic arm uses MoveIt! Provided by ROS system for motion planning&lt;/div&gt;\\n&lt;/div&gt;\\n&lt;/div&gt;\\n&lt;div class=&quot;imageItem tidied-202108319545-16&quot;&gt;&lt;img class=&quot;border tidied-202108319545-12&quot;  src=&quot;https://cdn.shopifycdn.net/s/files/1/0084/2799/5187/files/12_1c12ee10-1f8f-48c0-9082-f0fa8e6b8cca.jpg?v=1625121151&quot; border=&quot;0&quot;&gt;&lt;div class=&quot;imageDescContainer tidied-202108319545-15&quot;&gt;\\n&lt;div class=&quot;head tidied-202108319545-13&quot;&gt;Inverse Kinematics&lt;/div&gt;\\n&lt;div class=&quot;desc tidied-202108319545-14&quot;&gt;With inverse kinematics, ArmPi FPV is very precise and agile in objects tracking and gripping&lt;/div&gt;\\n&lt;div class=&quot;desc tidied-202108319545-7 tidied-202108317824-2&quot;&gt;&lt;/div&gt;\\n&lt;div class=&quot;desc tidied-202108319545-7 tidied-202108317824-2&quot;&gt;&lt;/div&gt;\\n&lt;div class=&quot;desc tidied-202108319545-14&quot;&gt;&lt;img  src=&quot;https://cdn.shopifycdn.net/s/files/1/0084/2799/5187/files/bae4541f7938cffbc1f270ea0f67069a.gif?v=1625122054&quot; border=&quot;0&quot; width=&quot;350&quot; height=&quot;197&quot;&gt;&lt;/div&gt;\\n&lt;div class=&quot;desc tidied-202108319545-14&quot;&gt;&lt;span class=&quot;tidied-202108319545-17&quot;&gt;APP Remote Control&lt;/span&gt;&lt;/div&gt;\\n&lt;div class=&quot;desc tidied-202108319545-14&quot;&gt;&lt;img  src=&quot;https://cdn.shopifycdn.net/s/files/1/0084/2799/5187/files/43f0861c85adb7d67d3cf2b1e23bd140.gif?v=1625128749&quot; border=&quot;0&quot; width=&quot;350&quot; height=&quot;197&quot;&gt;&lt;/div&gt;\\n&lt;div class=&quot;desc tidied-202108319545-14&quot;&gt;&lt;span class=&quot;tidied-202108319545-17&quot;&gt;PC Remote Control&lt;/span&gt;&lt;/div&gt;\\n&lt;div class=&quot;desc tidied-202108319545-14&quot;&gt;&lt;img  src=&quot;https://cdn.shopifycdn.net/s/files/1/0084/2799/5187/files/1_eeda89c6-e8f0-49d8-b707-925861b88cb2.gif?v=1625123815&quot; border=&quot;0&quot; width=&quot;350&quot; height=&quot;197&quot;&gt;&lt;/div&gt;\\n&lt;div class=&quot;desc tidied-202108319545-14&quot;&gt;&lt;span class=&quot;tidied-202108319545-17&quot;&gt;PC Software&lt;/span&gt;&lt;/div&gt;\\n&lt;div class=&quot;desc tidied-202108319545-14&quot;&gt;&lt;/div&gt;\\n&lt;div class=&quot;desc tidied-202108319545-14&quot;&gt;&lt;span class=&quot;tidied-202108319545-17&quot;&gt;&lt;img  src=&quot;https://cdn.shopifycdn.net/s/files/1/0084/2799/5187/files/8_fc5283d0-b46d-4c5b-b9db-cf2e719a92b8.jpg?v=1625121080&quot; border=&quot;0&quot; alt=&quot;&quot; width=&quot;800&quot; height=&quot;328&quot;&gt;&lt;/span&gt;&lt;/div&gt;\\n&lt;div class=&quot;desc tidied-202108319545-14&quot;&gt;&lt;/div&gt;\\n&lt;/div&gt;\\n&lt;/div&gt;\\n&lt;/div&gt;\\n&lt;div class=&quot;desc tidied-202108319545-11&quot;&gt;\\n&lt;div class=&quot;head tidied-202108319545-3&quot;&gt;Intelligent Bus Servo &nbsp;Powerful Core&lt;/div&gt;\\n&lt;div class=&quot;desc&quot;&gt;Robot arm uses intelligent serial bus servo with high precision, feedback function and convenient wiring which reduces the friction between wire and brackets. The servo at the base is upgraded to a 25KG torque servo so that ArmPi FPV can grab more than 250g and the movement is more steady.&lt;/div&gt;\\n&lt;div class=&quot;desc&quot;&gt;&lt;/div&gt;\\n&lt;div class=&quot;desc&quot;&gt;&lt;img  src=&quot;https://cdn.shopifycdn.net/s/files/1/0084/2799/5187/files/9_e428cb46-59b0-499b-9a35-e4229d1d1b1d.jpg?v=1625121097&quot; border=&quot;0&quot; alt=&quot;&quot; width=&quot;800&quot; height=&quot;328&quot;&gt;&lt;/div&gt;\\n&lt;div class=&quot;desc&quot;&gt;\\n&lt;div class=&quot;head tidied-202108319545-3&quot;&gt;Powerful Control System&lt;/div&gt;\\n&lt;ul class=&quot;ulDesc tidied-202108319545-18&quot;&gt;&lt;li&gt;The associated MCU shunts Raspberry Pi workload and reduced resource usage&lt;/li&gt;\\n&lt;li&gt;Built-in RGB, buzzer, LED and other response devices&lt;/li&gt;\\n&lt;li&gt;Three IIC ports for extension&lt;/li&gt;\\n&lt;li&gt;Lead out GPIO pints to your development&lt;/li&gt;\\n&lt;li&gt;4PIN ports are compatible with Hiwonder sensors&lt;/li&gt;\\n&lt;/ul&gt;&lt;p&gt;&lt;img  src=&quot;https://cdn.shopifycdn.net/s/files/1/0084/2799/5187/files/10_706c6283-5192-4fbb-babe-db25becebd82.jpg?v=1625121116&quot; border=&quot;0&quot; alt=&quot;&quot; width=&quot;800&quot; height=&quot;316&quot;&gt;&lt;/p&gt;\\n&lt;p&gt;&lt;img  src=&quot;https://shop.mirotek.com.tw/wp-content/uploads/2021/08/100041-10.jpg&quot; border=&quot;0&quot; alt=&quot;&quot; width=&quot;750&quot; height=&quot;864&quot;&gt;&lt;/p&gt;\\n&lt;/div&gt;\\n&lt;/div&gt;\\n&lt;/div&gt;\\n&lt;div class=&quot;desc tidied-202108319545-9&quot;&gt;&lt;/div&gt;\\n&lt;/div&gt;\\n\"},\n",
              "  {'id': '22238403273488',\n",
              "   'class': '001100070013',\n",
              "   'name': 'KINGHOPE KH-82膽機組合音響發燒hifi藍牙書架音箱功放CD/DVD套裝',\n",
              "   'num': 20,\n",
              "   'images': {'filename': '22238403273488_660.jpg,22238403273488_425.jpg,22238403273488_344.jpg,22238403273488_861.jpg,22238403273488_644.jpg,22238403273488_801.jpg',\n",
              "    'url': ['https://a.rimg.com.tw/s6/eac/1db/yjt591117/7/10/22238403273488_660.jpg',\n",
              "     'https://a.rimg.com.tw/s6/eac/1db/yjt591117/7/10/22238403273488_425.jpg',\n",
              "     'https://a.rimg.com.tw/s6/eac/1db/yjt591117/7/10/22238403273488_344.jpg',\n",
              "     'https://a.rimg.com.tw/s6/eac/1db/yjt591117/7/10/22238403273488_861.jpg',\n",
              "     'https://a.rimg.com.tw/s6/eac/1db/yjt591117/7/10/22238403273488_644.jpg',\n",
              "     'https://a.rimg.com.tw/s6/eac/1db/yjt591117/7/10/22238403273488_801.jpg'],\n",
              "    'm_url': ['https://a.rimg.com.tw/s6/eac/1db/yjt591117/7/10/22238403273488_660_m.jpg',\n",
              "     'https://a.rimg.com.tw/s6/eac/1db/yjt591117/7/10/22238403273488_425_m.jpg',\n",
              "     'https://a.rimg.com.tw/s6/eac/1db/yjt591117/7/10/22238403273488_344_m.jpg',\n",
              "     'https://a.rimg.com.tw/s6/eac/1db/yjt591117/7/10/22238403273488_861_m.jpg',\n",
              "     'https://a.rimg.com.tw/s6/eac/1db/yjt591117/7/10/22238403273488_644_m.jpg',\n",
              "     'https://a.rimg.com.tw/s6/eac/1db/yjt591117/7/10/22238403273488_801_m.jpg']},\n",
              "   'currency': 'TWD',\n",
              "   'goods_price': 38280,\n",
              "   'goods_ori_price': 38280,\n",
              "   'goods_price_range': {'min': 38280,\n",
              "    'max': 38280,\n",
              "    'ori_min': 38280,\n",
              "    'ori_max': 38280},\n",
              "   'watch_num': 0,\n",
              "   'sold_num': 0,\n",
              "   'buyer_limit_num': 0,\n",
              "   'stock_status': 1,\n",
              "   'pre_order_ship_date': None,\n",
              "   'fast_ship': 0,\n",
              "   'free_shipping': 0,\n",
              "   'youtube_link': '',\n",
              "   'video_link': '',\n",
              "   'ncc_check_code': '',\n",
              "   'bsmi_code': '',\n",
              "   'goods_no': '',\n",
              "   'available': True,\n",
              "   'post_time': '1664008643',\n",
              "   'spec_type': 'R',\n",
              "   'deliver_way': {'SEVEN_COD': 60,\n",
              "    'SEVEN': 60,\n",
              "    'FAMI_COD': 60,\n",
              "    'FAMI': 60,\n",
              "    'HOUSE': 60,\n",
              "    'COD': 60},\n",
              "   'mode': 'B',\n",
              "   'ship': 'A',\n",
              "   'platform': 'RUTEN',\n",
              "   'ctrl_rowid': '19271782',\n",
              "   'user': 'yjt591117',\n",
              "   'user_credit': 28,\n",
              "   'pay_way': ['PP_PI',\n",
              "    'PP_CRD',\n",
              "    'PP_CRD_ZERO',\n",
              "    'PP_CRD_N3',\n",
              "    'PAYLINK',\n",
              "    'SEVEN_COD',\n",
              "    'FAMI_COD',\n",
              "    'COD'],\n",
              "   'title_style': '0',\n",
              "   'selling_g_now_price': 38280,\n",
              "   'item_remaining_time': 467979089,\n",
              "   'translation_type': None,\n",
              "   'translated_name': None,\n",
              "   'min_estimated_delivery_date': None,\n",
              "   'max_estimated_delivery_date': None,\n",
              "   'update_time': '2022-12-28',\n",
              "   'is_brand_seller': False,\n",
              "   'is_goods_from_oversea': False,\n",
              "   'location': '苗栗縣',\n",
              "   'condition': 'B',\n",
              "   'codition': 'B',\n",
              "   'accept_shiprule': True,\n",
              "   'user_class': '6012549',\n",
              "   'close_no': None,\n",
              "   'description_url': 'https://www.ruten.com.tw/item/goods_comments.php?id=22238403273488&k=cecfb4e7&o=1664008710',\n",
              "   'spec_info': {'level': 1,\n",
              "    'structure': {'223896659929000': []},\n",
              "    'specs': {'223896659929000': {'spec_id': '223896659929000',\n",
              "      'parent_id': '0',\n",
              "      'spec_name': 'KH82+109膽機+109DVD',\n",
              "      'spec_num': 20,\n",
              "      'spec_price': 38280,\n",
              "      'spec_status': 'Y',\n",
              "      'spec_ext': [],\n",
              "      'childs': [],\n",
              "      'spec_ori_price': 38280}},\n",
              "    'map': {'spec': {'KH82+109膽機+109DVD': ['223896659929000']}}},\n",
              "   'text2': '\\n&lt;div&gt;\\n&lt;p&gt;&lt;img  src=&quot;https://img.pddpic.com/mms-material-img/2022-05-10/d004fd88-6ecf-490c-8021-efda7c9e9f60.png&quot;&gt;&lt;br&gt;&lt;img  src=&quot;https://img.pddpic.com/open-gw/2022-05-10/b910b4c9-aeaf-4a16-a556-5410b23e94dd.jpeg&quot;&gt;&lt;br&gt;&lt;img  src=&quot;https://img.pddpic.com/open-gw/2022-05-10/482e8a81-24f7-4d4e-b41a-a2eb5631ba40.jpeg&quot;&gt;&lt;br&gt;&lt;img  src=&quot;https://img.pddpic.com/open-gw/2022-05-10/29d0704a-dda0-4df7-868b-d16820c01cbb.jpeg&quot;&gt;&lt;br&gt;&lt;img  src=&quot;https://img.pddpic.com/open-gw/2022-05-10/4bb33ce0-b603-48fd-8cb9-d74db1b38f8f.jpeg&quot;&gt;&lt;br&gt;&lt;img  src=&quot;https://img.pddpic.com/open-gw/2022-05-10/d6e88091-21e3-4089-8992-74f32c2950ba.jpeg&quot;&gt;&lt;br&gt;&lt;img  src=&quot;https://img.pddpic.com/open-gw/2022-05-10/cbca6dea-b9b3-470b-a3c5-9dee5039f1f8.jpeg&quot;&gt;&lt;br&gt;&lt;img  src=&quot;https://img.pddpic.com/open-gw/2022-05-10/3f16a957-c4af-4c93-9458-ee4e311225e9.jpeg&quot;&gt;&lt;br&gt;&lt;img  src=&quot;https://img.pddpic.com/open-gw/2022-05-10/cb04a0bf-5e38-45f4-b453-106731bcecdc.jpeg&quot;&gt;&lt;br&gt;&lt;img  src=&quot;https://img.pddpic.com/open-gw/2022-05-10/f8b7e735-afdd-42c2-a70b-39f3f8706b76.jpeg&quot;&gt;&lt;br&gt;&lt;img  src=&quot;https://img.pddpic.com/open-gw/2022-05-10/e6d3ccf4-bfab-4ec7-86de-b4c2a7b6c75c.jpeg&quot;&gt;&lt;br&gt;&lt;img  src=&quot;https://img.pddpic.com/open-gw/2022-05-10/0b123bff-56f6-4ab6-bfa6-5e19190e96a2.jpeg&quot;&gt;&lt;br&gt;&lt;img  src=&quot;https://img.pddpic.com/open-gw/2022-05-10/6cb4e92e-88cc-40e0-8820-771fc50bd75c.jpeg&quot;&gt;&lt;br&gt;&lt;img  src=&quot;https://img.pddpic.com/open-gw/2022-05-10/71610a3e-1046-4ec7-ba38-d630125dd082.jpeg&quot;&gt;&lt;br&gt;&lt;img  src=&quot;https://img.pddpic.com/open-gw/2022-05-10/ad83dca2-1489-4288-aae2-85d637ee46da.jpeg&quot;&gt;&lt;br&gt;&lt;img  src=&quot;https://img.pddpic.com/open-gw/2022-05-10/e4f3e9f8-d64b-4662-b101-b19f6973b8d9.jpeg&quot;&gt;&lt;br&gt;&lt;img  src=&quot;https://img.pddpic.com/open-gw/2022-05-10/f8e5489c-d416-4ab8-89fe-1fbcd9b4bca2.jpeg&quot;&gt;&lt;br&gt;&lt;img  src=&quot;https://img.pddpic.com/open-gw/2022-05-10/6044ba22-4548-4b18-8fa9-458972d47487.jpeg&quot;&gt;&lt;br&gt;&lt;img  src=&quot;https://img.pddpic.com/mms-material-img/2022-05-11/8f39314e-2634-42b1-b7a4-80c196f2613f.jpeg.a.jpeg&quot;&gt;&lt;br&gt;&lt;img  src=&quot;https://img.pddpic.com/mms-material-img/2022-05-11/9e819a9e-f45c-4987-8abe-ac67e5891ab6.jpeg.a.jpeg&quot;&gt;&lt;br&gt;&lt;img  src=&quot;https://img.pddpic.com/mms-material-img/2022-05-11/c6a3ee1f-dcbb-4471-8850-35f78c12a2de.jpeg.a.jpeg&quot;&gt;&lt;br&gt;&lt;img  src=&quot;https://img.pddpic.com/mms-material-img/2022-05-11/07fea482-0202-4036-988b-aaf6169e3357.jpeg.a.jpeg&quot;&gt;&lt;br&gt;&lt;img  src=&quot;https://img.pddpic.com/mms-material-img/2022-05-11/b021fe54-7779-4307-8aea-4691c7b3999e.jpeg.a.jpeg&quot;&gt;&lt;br&gt;&lt;img  src=&quot;https://img.pddpic.com/mms-material-img/2022-05-11/663f2adf-7d20-47f1-9be8-606d5ff3a2ee.jpeg.a.jpeg&quot;&gt;&lt;br&gt;&lt;img  src=&quot;https://img.pddpic.com/mms-material-img/2022-05-11/f0e589bb-4d31-44d5-a28f-a56ef568b64a.jpeg.a.jpeg&quot;&gt;&lt;br&gt;&lt;img  src=&quot;https://img.pddpic.com/mms-material-img/2022-05-11/1186955b-de92-4c9b-b13e-055bcd37c01d.jpeg.a.jpeg&quot;&gt;&lt;br&gt;&lt;img  src=&quot;https://img.pddpic.com/mms-material-img/2022-05-11/9f0cb2a7-2f07-4367-b4a7-6ebf04680898.jpeg.a.jpeg&quot;&gt;&lt;br&gt;&lt;img  src=&quot;https://img.pddpic.com/mms-material-img/2022-05-11/affd292a-f541-4d86-a6c9-9d9ff711a895.jpeg.a.jpeg&quot;&gt;&lt;br&gt;&lt;img  src=&quot;https://img.pddpic.com/mms-material-img/2022-05-11/bbc3a1c8-b175-4752-99e9-53798edab6ff.jpeg.a.jpeg&quot;&gt;&lt;br&gt;&lt;/p&gt;\\n&lt;/div&gt;\\n'},\n",
              "  {'id': '21945822081428',\n",
              "   'class': '00110003001300010005',\n",
              "   'name': '【24H出貨】(公司貨) iMICE X7 電競滑鼠 2400DPI 呼吸燈 電腦滑鼠 光學滑鼠 有線滑鼠 競技滑鼠',\n",
              "   'num': 767,\n",
              "   'images': {'filename': '21945822081428_650.jpg,21945822081428_633.jpg,21945822081428_984.jpg,21945822081428_316.jpg,21945822081428_955.jpg,21945822081428_489.jpg,21945822081428_925.jpg,21945822081428_220.jpg',\n",
              "    'url': ['https://image.ruten.com.tw/g2/5/e9/94/21945822081428_650.jpg',\n",
              "     'https://image.ruten.com.tw/g2/5/e9/94/21945822081428_633.jpg',\n",
              "     'https://image.ruten.com.tw/g2/5/e9/94/21945822081428_984.jpg',\n",
              "     'https://image.ruten.com.tw/g2/5/e9/94/21945822081428_316.jpg',\n",
              "     'https://image.ruten.com.tw/g2/5/e9/94/21945822081428_955.jpg',\n",
              "     'https://image.ruten.com.tw/g2/5/e9/94/21945822081428_489.jpg',\n",
              "     'https://image.ruten.com.tw/g2/5/e9/94/21945822081428_925.jpg',\n",
              "     'https://image.ruten.com.tw/g2/5/e9/94/21945822081428_220.jpg'],\n",
              "    'm_url': ['https://image.ruten.com.tw/g2/5/e9/94/21945822081428_650_m.jpg',\n",
              "     'https://image.ruten.com.tw/g2/5/e9/94/21945822081428_633_m.jpg',\n",
              "     'https://image.ruten.com.tw/g2/5/e9/94/21945822081428_984_m.jpg',\n",
              "     'https://image.ruten.com.tw/g2/5/e9/94/21945822081428_316_m.jpg',\n",
              "     'https://image.ruten.com.tw/g2/5/e9/94/21945822081428_955_m.jpg',\n",
              "     'https://image.ruten.com.tw/g2/5/e9/94/21945822081428_489_m.jpg',\n",
              "     'https://image.ruten.com.tw/g2/5/e9/94/21945822081428_925_m.jpg',\n",
              "     'https://image.ruten.com.tw/g2/5/e9/94/21945822081428_220_m.jpg']},\n",
              "   'currency': 'TWD',\n",
              "   'goods_price': 155,\n",
              "   'goods_ori_price': 155,\n",
              "   'goods_price_range': {'min': 155,\n",
              "    'max': 155,\n",
              "    'ori_min': 155,\n",
              "    'ori_max': 155},\n",
              "   'watch_num': 121,\n",
              "   'sold_num': 518,\n",
              "   'buyer_limit_num': 0,\n",
              "   'stock_status': 1,\n",
              "   'pre_order_ship_date': None,\n",
              "   'fast_ship': 1,\n",
              "   'free_shipping': 0,\n",
              "   'youtube_link': '',\n",
              "   'video_link': '',\n",
              "   'ncc_check_code': '',\n",
              "   'bsmi_code': '',\n",
              "   'goods_no': '',\n",
              "   'available': True,\n",
              "   'post_time': '1573105382',\n",
              "   'spec_type': 'R',\n",
              "   'deliver_way': {'SEVEN_COD': 60,\n",
              "    'SEVEN': 60,\n",
              "    'HILIFE_COD': 45,\n",
              "    'HILIFE': 45,\n",
              "    'HOUSE': 85,\n",
              "    'ISLAND': 100,\n",
              "    'COD': 150},\n",
              "   'mode': 'B',\n",
              "   'ship': 'A',\n",
              "   'platform': 'RUTEN',\n",
              "   'ctrl_rowid': '2138343',\n",
              "   'user': 'pop99883',\n",
              "   'user_credit': 42839,\n",
              "   'pay_way': ['PP_PI',\n",
              "    'PP_CRD',\n",
              "    'PP_CRD_ZERO',\n",
              "    'PP_CRD_N3',\n",
              "    'PAYLINK',\n",
              "    'SEVEN_COD',\n",
              "    'HILIFE_COD',\n",
              "    'COD'],\n",
              "   'title_style': '0',\n",
              "   'selling_g_now_price': 155,\n",
              "   'item_remaining_time': 467979088,\n",
              "   'translation_type': None,\n",
              "   'translated_name': None,\n",
              "   'min_estimated_delivery_date': None,\n",
              "   'max_estimated_delivery_date': None,\n",
              "   'update_time': '2023-03-04',\n",
              "   'is_brand_seller': False,\n",
              "   'is_goods_from_oversea': False,\n",
              "   'location': '基隆市',\n",
              "   'condition': 'B',\n",
              "   'codition': 'B',\n",
              "   'accept_shiprule': True,\n",
              "   'user_class': '5363602',\n",
              "   'close_no': None,\n",
              "   'description_url': 'https://www.ruten.com.tw/item/goods_comments.php?id=21945822081428&k=e791ca17&o=1676276385',\n",
              "   'spec_info': {'level': 1,\n",
              "    'structure': {'194545871226701': []},\n",
              "    'specs': {'194545871226701': {'spec_id': '194545871226701',\n",
              "      'parent_id': '0',\n",
              "      'spec_name': '豪華版-X7競技滑鼠',\n",
              "      'spec_num': 767,\n",
              "      'spec_price': 155,\n",
              "      'spec_status': 'Y',\n",
              "      'spec_ext': [],\n",
              "      'childs': [],\n",
              "      'spec_ori_price': 155}},\n",
              "    'map': {'spec': {'豪華版-X7競技滑鼠': ['194545871226701']}}},\n",
              "   'text2': '\\n&lt;div&gt;\\n&lt;p&gt;【SUPER家居】生活旗艦館&lt;/p&gt;\\n&lt;p&gt;.&lt;/p&gt;\\n&lt;p&gt;高靈敏度，4段DPI調整(最高2400DPI)&lt;/p&gt;\\n&lt;p&gt;抗拉防爆USB編織鋼線，搭配炫彩RGB呼吸燈&lt;/p&gt;\\n&lt;p&gt;雙向防滑滾輪，遊戲級芯片&lt;/p&gt;\\n&lt;p&gt;.&lt;/p&gt;\\n&lt;p&gt;品名: 電競滑鼠&lt;/p&gt;\\n&lt;p&gt;品牌: iMICE&lt;/p&gt;\\n&lt;p&gt;型號: X7&lt;/p&gt;\\n&lt;p&gt;貨源: 公司貨&lt;/p&gt;\\n&lt;p&gt;尺寸: 130*86*39 (mm)&lt;/p&gt;\\n&lt;p&gt;材質: ABS&lt;/p&gt;\\n&lt;p&gt;人體工學 : 是&lt;/p&gt;\\n&lt;p&gt;傳輸方式: 有線USB&lt;/p&gt;\\n&lt;p&gt;光學分辨率: 800/1200/1600/2400 DPI&lt;/p&gt;\\n&lt;p&gt;線材: 1.8米防爆尼龍線&lt;/p&gt;\\n&lt;p&gt;呼吸燈: LED炫彩自動呼吸燈&lt;/p&gt;\\n&lt;p&gt;產地: 中國&lt;/p&gt;\\n&lt;p&gt;保固：自購買日起一個月，人為因素不再此限&lt;/p&gt;\\n&lt;p&gt;保存方法: 放置於乾燥陰涼處&lt;/p&gt;\\n&lt;p&gt;保存期限: 一年&lt;/p&gt;\\n&lt;p&gt;是否需要組裝: 不需要&lt;/p&gt;\\n&lt;p&gt;NCC字號: CCAL19LP1280T4&lt;/p&gt;\\n&lt;p&gt;.&lt;/p&gt;\\n&lt;p&gt;注意事項&lt;/p&gt;\\n&lt;p&gt;．離島配送請選擇【中華郵政】&lt;/p&gt;\\n&lt;p&gt;．請勿讓兒童單獨使用&lt;/p&gt;\\n&lt;p&gt;.&lt;/p&gt;\\n&lt;p&gt;※本產品鑑賞期非試用期。&lt;/p&gt;\\n&lt;p&gt;※隨機出貨款，若收到產品中有重複款式者，恕不做為替換貨理由，請見諒!&lt;/p&gt;\\n&lt;p&gt;.&lt;/p&gt;\\n&lt;p&gt;#電競滑鼠 #2400DPI #呼吸燈光 #電腦滑鼠 #光學滑鼠 #有線滑鼠 #競技滑鼠&lt;/p&gt;\\n&lt;/div&gt;\\n'},\n",
              "  {'id': '22115680698839',\n",
              "   'class': '001100050012',\n",
              "   'name': 'Renova Zero Pod 煙彈 空煙彈 空倉 空夾 空彈',\n",
              "   'num': 801,\n",
              "   'images': {'filename': '22115680698839_102.jpg',\n",
              "    'url': ['https://a.rimg.com.tw/s5/6aa/c96/tcwd110/8/95/d7/22115680698839_102.jpg'],\n",
              "    'm_url': ['https://a.rimg.com.tw/s5/6aa/c96/tcwd110/8/95/d7/22115680698839_102_m.jpg']},\n",
              "   'currency': 'TWD',\n",
              "   'goods_price': 199,\n",
              "   'goods_ori_price': 199,\n",
              "   'goods_price_range': {'min': 199,\n",
              "    'max': 230,\n",
              "    'ori_min': 199,\n",
              "    'ori_max': 230},\n",
              "   'watch_num': 20,\n",
              "   'sold_num': 440,\n",
              "   'buyer_limit_num': 0,\n",
              "   'stock_status': 0,\n",
              "   'pre_order_ship_date': None,\n",
              "   'fast_ship': 0,\n",
              "   'free_shipping': 0,\n",
              "   'youtube_link': '',\n",
              "   'video_link': '',\n",
              "   'ncc_check_code': '',\n",
              "   'bsmi_code': '',\n",
              "   'goods_no': '',\n",
              "   'available': True,\n",
              "   'post_time': '1618162680',\n",
              "   'spec_type': 'R',\n",
              "   'deliver_way': {'SEVEN_COD': 60, 'SEVEN': 60},\n",
              "   'mode': 'B',\n",
              "   'ship': 'A',\n",
              "   'platform': 'RUTEN',\n",
              "   'ctrl_rowid': '18094602',\n",
              "   'user': 'tcwd110',\n",
              "   'user_credit': 45,\n",
              "   'pay_way': ['PAYLINK', 'SEVEN_COD'],\n",
              "   'title_style': '0',\n",
              "   'selling_g_now_price': 199,\n",
              "   'item_remaining_time': 467979088,\n",
              "   'translation_type': None,\n",
              "   'translated_name': None,\n",
              "   'min_estimated_delivery_date': None,\n",
              "   'max_estimated_delivery_date': None,\n",
              "   'update_time': '2023-03-04',\n",
              "   'is_brand_seller': False,\n",
              "   'is_goods_from_oversea': False,\n",
              "   'location': '苗栗縣',\n",
              "   'condition': 'B',\n",
              "   'codition': 'B',\n",
              "   'accept_shiprule': True,\n",
              "   'user_class': '0',\n",
              "   'close_no': None,\n",
              "   'description_url': 'https://www.ruten.com.tw/item/goods_comments.php?id=22115680698839&k=b36f93b8&o=1673856110',\n",
              "   'spec_info': {'level': 1,\n",
              "    'structure': {'211586434881821': [],\n",
              "     '211586434881832': [],\n",
              "     '211586434881843': [],\n",
              "     '211586434881854': [],\n",
              "     '211586434881865': [],\n",
              "     '211586434881876': [],\n",
              "     '211586434881887': [],\n",
              "     '222882507009038': [],\n",
              "     '222882507009049': [],\n",
              "     '222882507009050': [],\n",
              "     '222882507009061': []},\n",
              "    'specs': {'211586434881821': {'spec_id': '211586434881821',\n",
              "      'parent_id': '0',\n",
              "      'spec_name': '新版黑色套裝',\n",
              "      'spec_num': 11,\n",
              "      'spec_price': 649,\n",
              "      'spec_status': 'N',\n",
              "      'spec_ext': [],\n",
              "      'childs': [],\n",
              "      'spec_ori_price': 649},\n",
              "     '211586434881832': {'spec_id': '211586434881832',\n",
              "      'parent_id': '0',\n",
              "      'spec_name': '新版彩鈦色套裝',\n",
              "      'spec_num': 11,\n",
              "      'spec_price': 649,\n",
              "      'spec_status': 'N',\n",
              "      'spec_ext': [],\n",
              "      'childs': [],\n",
              "      'spec_ori_price': 649},\n",
              "     '211586434881843': {'spec_id': '211586434881843',\n",
              "      'parent_id': '0',\n",
              "      'spec_name': '新版漸層紫色套裝',\n",
              "      'spec_num': 11,\n",
              "      'spec_price': 649,\n",
              "      'spec_status': 'N',\n",
              "      'spec_ext': [],\n",
              "      'childs': [],\n",
              "      'spec_ori_price': 649},\n",
              "     '211586434881854': {'spec_id': '211586434881854',\n",
              "      'parent_id': '0',\n",
              "      'spec_name': '新版漸層紅色套裝',\n",
              "      'spec_num': 12,\n",
              "      'spec_price': 649,\n",
              "      'spec_status': 'N',\n",
              "      'spec_ext': [],\n",
              "      'childs': [],\n",
              "      'spec_ori_price': 649},\n",
              "     '211586434881865': {'spec_id': '211586434881865',\n",
              "      'parent_id': '0',\n",
              "      'spec_name': '新版漸層綠套裝',\n",
              "      'spec_num': 2,\n",
              "      'spec_price': 649,\n",
              "      'spec_status': 'N',\n",
              "      'spec_ext': [],\n",
              "      'childs': [],\n",
              "      'spec_ori_price': 649},\n",
              "     '211586434881876': {'spec_id': '211586434881876',\n",
              "      'parent_id': '0',\n",
              "      'spec_name': '新版漸層藍套裝',\n",
              "      'spec_num': 1,\n",
              "      'spec_price': 649,\n",
              "      'spec_status': 'N',\n",
              "      'spec_ext': [],\n",
              "      'childs': [],\n",
              "      'spec_ori_price': 649},\n",
              "     '211586434881887': {'spec_id': '211586434881887',\n",
              "      'parent_id': '0',\n",
              "      'spec_name': '新版銀色套裝',\n",
              "      'spec_num': 0,\n",
              "      'spec_price': 649,\n",
              "      'spec_status': 'N',\n",
              "      'spec_ext': [],\n",
              "      'childs': [],\n",
              "      'spec_ori_price': 649},\n",
              "     '222882507009038': {'spec_id': '222882507009038',\n",
              "      'parent_id': '0',\n",
              "      'spec_name': '一代陶瓷芯(通用一二代主機)',\n",
              "      'spec_num': 0,\n",
              "      'spec_price': 199,\n",
              "      'spec_status': 'Y',\n",
              "      'spec_ext': [],\n",
              "      'childs': [],\n",
              "      'spec_ori_price': 199},\n",
              "     '222882507009049': {'spec_id': '222882507009049',\n",
              "      'parent_id': '0',\n",
              "      'spec_name': '一代鋼網芯(通用一二代主機)',\n",
              "      'spec_num': 336,\n",
              "      'spec_price': 199,\n",
              "      'spec_status': 'Y',\n",
              "      'spec_ext': [],\n",
              "      'childs': [],\n",
              "      'spec_ori_price': 199},\n",
              "     '222882507009050': {'spec_id': '222882507009050',\n",
              "      'parent_id': '0',\n",
              "      'spec_name': '二代陶瓷芯(通用一二代主機)',\n",
              "      'spec_num': 465,\n",
              "      'spec_price': 230,\n",
              "      'spec_status': 'Y',\n",
              "      'spec_ext': [],\n",
              "      'childs': [],\n",
              "      'spec_ori_price': 230},\n",
              "     '222882507009061': {'spec_id': '222882507009061',\n",
              "      'parent_id': '0',\n",
              "      'spec_name': '二代鋼網芯(通用一二代主機)',\n",
              "      'spec_num': 0,\n",
              "      'spec_price': 230,\n",
              "      'spec_status': 'Y',\n",
              "      'spec_ext': [],\n",
              "      'childs': [],\n",
              "      'spec_ori_price': 230}},\n",
              "    'map': {'spec': {'新版黑色套裝': ['211586434881821'],\n",
              "      '新版彩鈦色套裝': ['211586434881832'],\n",
              "      '新版漸層紫色套裝': ['211586434881843'],\n",
              "      '新版漸層紅色套裝': ['211586434881854'],\n",
              "      '新版漸層綠套裝': ['211586434881865'],\n",
              "      '新版漸層藍套裝': ['211586434881876'],\n",
              "      '新版銀色套裝': ['211586434881887'],\n",
              "      '一代陶瓷芯(通用一二代主機)': ['222882507009038'],\n",
              "      '一代鋼網芯(通用一二代主機)': ['222882507009049'],\n",
              "      '二代陶瓷芯(通用一二代主機)': ['222882507009050'],\n",
              "      '二代鋼網芯(通用一二代主機)': ['222882507009061']}}},\n",
              "   'text2': '\\n&lt;div&gt;\\n&lt;p&gt;煙彈一盒兩顆&lt;/p&gt;\\n&lt;/div&gt;\\n'}]}"
            ]
          },
          "metadata": {},
          "execution_count": 93
        }
      ]
    },
    {
      "cell_type": "code",
      "source": [
        "type(data)"
      ],
      "metadata": {
        "colab": {
          "base_uri": "https://localhost:8080/"
        },
        "id": "s83mK4_wKjmj",
        "outputId": "00760fe8-5e5c-4dba-d711-00a0548f8991"
      },
      "execution_count": 94,
      "outputs": [
        {
          "output_type": "execute_result",
          "data": {
            "text/plain": [
              "dict"
            ]
          },
          "metadata": {},
          "execution_count": 94
        }
      ]
    },
    {
      "cell_type": "code",
      "source": [
        "data.keys()"
      ],
      "metadata": {
        "colab": {
          "base_uri": "https://localhost:8080/"
        },
        "id": "jpb_gMLvKnxB",
        "outputId": "1c0dd839-6551-4221-c31c-95bc36fd957a"
      },
      "execution_count": 95,
      "outputs": [
        {
          "output_type": "execute_result",
          "data": {
            "text/plain": [
              "dict_keys(['status', 'data'])"
            ]
          },
          "metadata": {},
          "execution_count": 95
        }
      ]
    },
    {
      "cell_type": "code",
      "source": [
        "type(data['data'])"
      ],
      "metadata": {
        "colab": {
          "base_uri": "https://localhost:8080/"
        },
        "id": "KEQeVMEYKrds",
        "outputId": "4d684c31-47fb-48ee-df1f-0ce7ae67dfa1"
      },
      "execution_count": 96,
      "outputs": [
        {
          "output_type": "execute_result",
          "data": {
            "text/plain": [
              "list"
            ]
          },
          "metadata": {},
          "execution_count": 96
        }
      ]
    },
    {
      "cell_type": "code",
      "source": [
        "data['data'][0].keys()"
      ],
      "metadata": {
        "colab": {
          "base_uri": "https://localhost:8080/"
        },
        "id": "Ph7BlJ8AKzPd",
        "outputId": "6b2bb5fa-e742-4af2-a9ef-4497d418e342"
      },
      "execution_count": 97,
      "outputs": [
        {
          "output_type": "execute_result",
          "data": {
            "text/plain": [
              "dict_keys(['id', 'class', 'name', 'num', 'images', 'currency', 'goods_price', 'goods_ori_price', 'goods_price_range', 'watch_num', 'sold_num', 'buyer_limit_num', 'stock_status', 'pre_order_ship_date', 'fast_ship', 'free_shipping', 'youtube_link', 'video_link', 'ncc_check_code', 'bsmi_code', 'goods_no', 'available', 'post_time', 'spec_type', 'deliver_way', 'mode', 'ship', 'platform', 'ctrl_rowid', 'user', 'user_credit', 'pay_way', 'title_style', 'selling_g_now_price', 'item_remaining_time', 'translation_type', 'translated_name', 'min_estimated_delivery_date', 'max_estimated_delivery_date', 'update_time', 'is_brand_seller', 'is_goods_from_oversea', 'location', 'condition', 'codition', 'accept_shiprule', 'user_class', 'close_no', 'description_url', 'spec_info', 'text2'])"
            ]
          },
          "metadata": {},
          "execution_count": 97
        }
      ]
    },
    {
      "cell_type": "code",
      "source": [
        "for i in data['data']:\n",
        "  print(f\"{i['name']}:{i['goods_price']}\")"
      ],
      "metadata": {
        "colab": {
          "base_uri": "https://localhost:8080/"
        },
        "id": "raHFrtsIK6U9",
        "outputId": "786c2d32-ff1a-4ae3-afad-e304f08a53cd"
      },
      "execution_count": 100,
      "outputs": [
        {
          "output_type": "stream",
          "name": "stdout",
          "text": [
            "凸頭 18650電池 可開發票 尖頭 鋰電池 充電電池 3000mAh 3.7v 高容量 手電筒 電風扇 Li-ion:8\n",
            "18650充電電池 高容量 4000mAh 電池 鋰電池 充電電池 3.7V Li-ion 尖頭 凸頭 充電器 USB:39\n",
            "三菱電機HC-BH023-S12   99新:39000\n",
            "【秀秀】三菱PLC模塊 QJ72LP25-25 全新:33000\n",
            "(辦公首選華碩I7商務桌機 獨家送微軟OFFICE)I7-11700時脈4.9G/16核心/16G/256G+1TB電腦:25900\n",
            "WD西部數據NAS硬盤12T服務器硬盤12t網絡硬盤紅盤Pro WD121KFBX:50760\n",
            "全新零刻 SEi8 i5-8279U 酷睿i5辦公電腦微型主機 Intel 辦公電腦 迷你電腦 小電腦 微電腦:23692\n",
            "【樂意創客官方店】《附發票》AI機械手臂 樹莓派 4B Raspberry 視覺識別 ArmPi-FPV (豪華版本):22800\n",
            "KINGHOPE KH-82膽機組合音響發燒hifi藍牙書架音箱功放CD/DVD套裝:38280\n",
            "【24H出貨】(公司貨) iMICE X7 電競滑鼠 2400DPI 呼吸燈 電腦滑鼠 光學滑鼠 有線滑鼠 競技滑鼠:155\n",
            "Renova Zero Pod 煙彈 空煙彈 空倉 空夾 空彈:199\n"
          ]
        }
      ]
    },
    {
      "cell_type": "code",
      "source": [
        "for i in data['data']:\n",
        "  print(f\"{i['name']}==>{i['goods_price_range']}\")"
      ],
      "metadata": {
        "colab": {
          "base_uri": "https://localhost:8080/"
        },
        "id": "OFoauwDLLP4T",
        "outputId": "918b0e6d-dfee-4709-e2ab-7577879771b1"
      },
      "execution_count": 103,
      "outputs": [
        {
          "output_type": "stream",
          "name": "stdout",
          "text": [
            "凸頭 18650電池 可開發票 尖頭 鋰電池 充電電池 3000mAh 3.7v 高容量 手電筒 電風扇 Li-ion==>{'min': 8, 'max': 24, 'ori_min': 8, 'ori_max': 24}\n",
            "18650充電電池 高容量 4000mAh 電池 鋰電池 充電電池 3.7V Li-ion 尖頭 凸頭 充電器 USB==>{'min': 39, 'max': 119, 'ori_min': 39, 'ori_max': 119}\n",
            "三菱電機HC-BH023-S12   99新==>{'min': 39000, 'max': 40950, 'ori_min': 39000, 'ori_max': 40950}\n",
            "【秀秀】三菱PLC模塊 QJ72LP25-25 全新==>{'min': 33000, 'max': 33000, 'ori_min': 33000, 'ori_max': 33000}\n",
            "(辦公首選華碩I7商務桌機 獨家送微軟OFFICE)I7-11700時脈4.9G/16核心/16G/256G+1TB電腦==>{'min': 25900, 'max': 29900, 'ori_min': 25900, 'ori_max': 29900}\n",
            "WD西部數據NAS硬盤12T服務器硬盤12t網絡硬盤紅盤Pro WD121KFBX==>{'min': 50760, 'max': 50760, 'ori_min': 50760, 'ori_max': 50760}\n",
            "全新零刻 SEi8 i5-8279U 酷睿i5辦公電腦微型主機 Intel 辦公電腦 迷你電腦 小電腦 微電腦==>{'min': 23692, 'max': 23692, 'ori_min': 23692, 'ori_max': 23692}\n",
            "【樂意創客官方店】《附發票》AI機械手臂 樹莓派 4B Raspberry 視覺識別 ArmPi-FPV (豪華版本)==>{'min': 22800, 'max': 22800, 'ori_min': 22800, 'ori_max': 22800}\n",
            "KINGHOPE KH-82膽機組合音響發燒hifi藍牙書架音箱功放CD/DVD套裝==>{'min': 38280, 'max': 38280, 'ori_min': 38280, 'ori_max': 38280}\n",
            "【24H出貨】(公司貨) iMICE X7 電競滑鼠 2400DPI 呼吸燈 電腦滑鼠 光學滑鼠 有線滑鼠 競技滑鼠==>{'min': 155, 'max': 155, 'ori_min': 155, 'ori_max': 155}\n",
            "Renova Zero Pod 煙彈 空煙彈 空倉 空夾 空彈==>{'min': 199, 'max': 230, 'ori_min': 199, 'ori_max': 230}\n"
          ]
        }
      ]
    },
    {
      "cell_type": "code",
      "source": [
        "for i in data['data']:\n",
        "  print(f\"{i['name']}for i in data['data']:\n",
        "  print(f\"{i['name']}==>{i['goods_price_range']}\"))format_string.format(i[0], i[1], i[2], i[3], i[4], i[5], i[6], i[7]))\n"
      ],
      "metadata": {
        "colab": {
          "base_uri": "https://localhost:8080/",
          "height": 136
        },
        "id": "dnU1maNPQkim",
        "outputId": "dde5da1c-84d3-4747-e0ef-f05612c8b9df"
      },
      "execution_count": 124,
      "outputs": [
        {
          "output_type": "error",
          "ename": "SyntaxError",
          "evalue": "ignored",
          "traceback": [
            "\u001b[0;36m  File \u001b[0;32m\"<ipython-input-124-65326068b82d>\"\u001b[0;36m, line \u001b[0;32m2\u001b[0m\n\u001b[0;31m    print(f\"{i['name']}for i in data['data']:\u001b[0m\n\u001b[0m                                             ^\u001b[0m\n\u001b[0;31mSyntaxError\u001b[0m\u001b[0;31m:\u001b[0m EOL while scanning string literal\n"
          ]
        }
      ]
    },
    {
      "cell_type": "markdown",
      "source": [
        "## 抓取政府電子採購網資料\n",
        "\n"
      ],
      "metadata": {
        "id": "6upG76eMOCIZ"
      }
    },
    {
      "cell_type": "code",
      "source": [
        "url = \"https://web.pcc.gov.tw/prkms/tender/common/bulletion/readBulletion?querySentence=%E9%9B%BB%E8%85%A6&tenderStatusType=%E6%8B%9B%E6%A8%99&sortCol=TENDER_NOTICE_DATE&timeRange=112&pageSize=10\""
      ],
      "metadata": {
        "id": "yp8MEv-sNooa"
      },
      "execution_count": 108,
      "outputs": []
    },
    {
      "cell_type": "code",
      "source": [
        "dfs = pd.read_html(url, encoding=\"utf-8\")"
      ],
      "metadata": {
        "id": "EyeTn8o4ONHP"
      },
      "execution_count": 110,
      "outputs": []
    },
    {
      "cell_type": "code",
      "source": [
        "dfs[4]"
      ],
      "metadata": {
        "colab": {
          "base_uri": "https://localhost:8080/",
          "height": 598
        },
        "id": "67RXpvhWOhXq",
        "outputId": "90aa441c-365f-4f83-d2f9-07e95b349c03"
      },
      "execution_count": 112,
      "outputs": [
        {
          "output_type": "execute_result",
          "data": {
            "text/plain": [
              "   項次    種類             機關名稱  \\\n",
              "0   1  招標公告    臺北市政府工務局新建工程處   \n",
              "1   2  招標公告  交通部公路總局第五區養護工程處   \n",
              "2   3  招標公告         高雄市立民生醫院   \n",
              "3   4  招標公告    國立臺灣大學醫學院附設醫院   \n",
              "4   5  招標公告       台灣電力股份有限公司   \n",
              "5   6  招標公告         臺北市政府工務局   \n",
              "6   7  招標公告  交通部公路總局第二區養護工程處   \n",
              "7   8  招標公告     臺中市大里區立新國民小學   \n",
              "8   9  招標公告         桃園市平鎮區公所   \n",
              "9  10  招標公告     臺北大眾捷運股份有限公司   \n",
              "\n",
              "                                            標案案號標案名稱     招標公告日期  決標或無法決標公告  \\\n",
              "0  11211  var hw = Geps3.CNS.pageCode2Img(\"容積代金基金...  112/03/03        NaN   \n",
              "1  112010008  var hw = Geps3.CNS.pageCode2Img(\"11...  112/03/03        NaN   \n",
              "2  KMSH11023  var hw = Geps3.CNS.pageCode2Img(\"電腦...  112/03/03        NaN   \n",
              "3  PA2200704  var hw = Geps3.CNS.pageCode2Img(\"高劑...  112/03/03        NaN   \n",
              "4  0061100014  var hw = Geps3.CNS.pageCode2Img(\"電...  112/03/03        NaN   \n",
              "5  1120210S0036  var hw = Geps3.CNS.pageCode2Img(...  112/03/03        NaN   \n",
              "6  112-08007  var hw = Geps3.CNS.pageCode2Img(\"第二...  112/03/03        NaN   \n",
              "7  1120302  var hw = Geps3.CNS.pageCode2Img(\"112年...  112/03/03        NaN   \n",
              "8  1120109001  var hw = Geps3.CNS.pageCode2Img(\"1...  112/03/03        NaN   \n",
              "9  C12B00276  var hw = Geps3.CNS.pageCode2Img(\"錢幣...  112/03/03        NaN   \n",
              "\n",
              "      截止投標日期  公開閱覽/徵求日期  預告公告日期 功能選項  \n",
              "0  112/03/13        NaN     NaN   檢視  \n",
              "1  112/03/21        NaN     NaN   檢視  \n",
              "2  112/03/08        NaN     NaN   檢視  \n",
              "3  112/03/10        NaN     NaN   檢視  \n",
              "4  112/03/20        NaN     NaN   檢視  \n",
              "5  112/03/28        NaN     NaN   檢視  \n",
              "6  112/03/21        NaN     NaN   檢視  \n",
              "7  112/03/07        NaN     NaN   檢視  \n",
              "8  112/03/09        NaN     NaN   檢視  \n",
              "9  112/03/16        NaN     NaN   檢視  "
            ],
            "text/html": [
              "\n",
              "  <div id=\"df-e9ea2197-8724-434c-9bff-ac8a845a74c5\">\n",
              "    <div class=\"colab-df-container\">\n",
              "      <div>\n",
              "<style scoped>\n",
              "    .dataframe tbody tr th:only-of-type {\n",
              "        vertical-align: middle;\n",
              "    }\n",
              "\n",
              "    .dataframe tbody tr th {\n",
              "        vertical-align: top;\n",
              "    }\n",
              "\n",
              "    .dataframe thead th {\n",
              "        text-align: right;\n",
              "    }\n",
              "</style>\n",
              "<table border=\"1\" class=\"dataframe\">\n",
              "  <thead>\n",
              "    <tr style=\"text-align: right;\">\n",
              "      <th></th>\n",
              "      <th>項次</th>\n",
              "      <th>種類</th>\n",
              "      <th>機關名稱</th>\n",
              "      <th>標案案號標案名稱</th>\n",
              "      <th>招標公告日期</th>\n",
              "      <th>決標或無法決標公告</th>\n",
              "      <th>截止投標日期</th>\n",
              "      <th>公開閱覽/徵求日期</th>\n",
              "      <th>預告公告日期</th>\n",
              "      <th>功能選項</th>\n",
              "    </tr>\n",
              "  </thead>\n",
              "  <tbody>\n",
              "    <tr>\n",
              "      <th>0</th>\n",
              "      <td>1</td>\n",
              "      <td>招標公告</td>\n",
              "      <td>臺北市政府工務局新建工程處</td>\n",
              "      <td>11211  var hw = Geps3.CNS.pageCode2Img(\"容積代金基金...</td>\n",
              "      <td>112/03/03</td>\n",
              "      <td>NaN</td>\n",
              "      <td>112/03/13</td>\n",
              "      <td>NaN</td>\n",
              "      <td>NaN</td>\n",
              "      <td>檢視</td>\n",
              "    </tr>\n",
              "    <tr>\n",
              "      <th>1</th>\n",
              "      <td>2</td>\n",
              "      <td>招標公告</td>\n",
              "      <td>交通部公路總局第五區養護工程處</td>\n",
              "      <td>112010008  var hw = Geps3.CNS.pageCode2Img(\"11...</td>\n",
              "      <td>112/03/03</td>\n",
              "      <td>NaN</td>\n",
              "      <td>112/03/21</td>\n",
              "      <td>NaN</td>\n",
              "      <td>NaN</td>\n",
              "      <td>檢視</td>\n",
              "    </tr>\n",
              "    <tr>\n",
              "      <th>2</th>\n",
              "      <td>3</td>\n",
              "      <td>招標公告</td>\n",
              "      <td>高雄市立民生醫院</td>\n",
              "      <td>KMSH11023  var hw = Geps3.CNS.pageCode2Img(\"電腦...</td>\n",
              "      <td>112/03/03</td>\n",
              "      <td>NaN</td>\n",
              "      <td>112/03/08</td>\n",
              "      <td>NaN</td>\n",
              "      <td>NaN</td>\n",
              "      <td>檢視</td>\n",
              "    </tr>\n",
              "    <tr>\n",
              "      <th>3</th>\n",
              "      <td>4</td>\n",
              "      <td>招標公告</td>\n",
              "      <td>國立臺灣大學醫學院附設醫院</td>\n",
              "      <td>PA2200704  var hw = Geps3.CNS.pageCode2Img(\"高劑...</td>\n",
              "      <td>112/03/03</td>\n",
              "      <td>NaN</td>\n",
              "      <td>112/03/10</td>\n",
              "      <td>NaN</td>\n",
              "      <td>NaN</td>\n",
              "      <td>檢視</td>\n",
              "    </tr>\n",
              "    <tr>\n",
              "      <th>4</th>\n",
              "      <td>5</td>\n",
              "      <td>招標公告</td>\n",
              "      <td>台灣電力股份有限公司</td>\n",
              "      <td>0061100014  var hw = Geps3.CNS.pageCode2Img(\"電...</td>\n",
              "      <td>112/03/03</td>\n",
              "      <td>NaN</td>\n",
              "      <td>112/03/20</td>\n",
              "      <td>NaN</td>\n",
              "      <td>NaN</td>\n",
              "      <td>檢視</td>\n",
              "    </tr>\n",
              "    <tr>\n",
              "      <th>5</th>\n",
              "      <td>6</td>\n",
              "      <td>招標公告</td>\n",
              "      <td>臺北市政府工務局</td>\n",
              "      <td>1120210S0036  var hw = Geps3.CNS.pageCode2Img(...</td>\n",
              "      <td>112/03/03</td>\n",
              "      <td>NaN</td>\n",
              "      <td>112/03/28</td>\n",
              "      <td>NaN</td>\n",
              "      <td>NaN</td>\n",
              "      <td>檢視</td>\n",
              "    </tr>\n",
              "    <tr>\n",
              "      <th>6</th>\n",
              "      <td>7</td>\n",
              "      <td>招標公告</td>\n",
              "      <td>交通部公路總局第二區養護工程處</td>\n",
              "      <td>112-08007  var hw = Geps3.CNS.pageCode2Img(\"第二...</td>\n",
              "      <td>112/03/03</td>\n",
              "      <td>NaN</td>\n",
              "      <td>112/03/21</td>\n",
              "      <td>NaN</td>\n",
              "      <td>NaN</td>\n",
              "      <td>檢視</td>\n",
              "    </tr>\n",
              "    <tr>\n",
              "      <th>7</th>\n",
              "      <td>8</td>\n",
              "      <td>招標公告</td>\n",
              "      <td>臺中市大里區立新國民小學</td>\n",
              "      <td>1120302  var hw = Geps3.CNS.pageCode2Img(\"112年...</td>\n",
              "      <td>112/03/03</td>\n",
              "      <td>NaN</td>\n",
              "      <td>112/03/07</td>\n",
              "      <td>NaN</td>\n",
              "      <td>NaN</td>\n",
              "      <td>檢視</td>\n",
              "    </tr>\n",
              "    <tr>\n",
              "      <th>8</th>\n",
              "      <td>9</td>\n",
              "      <td>招標公告</td>\n",
              "      <td>桃園市平鎮區公所</td>\n",
              "      <td>1120109001  var hw = Geps3.CNS.pageCode2Img(\"1...</td>\n",
              "      <td>112/03/03</td>\n",
              "      <td>NaN</td>\n",
              "      <td>112/03/09</td>\n",
              "      <td>NaN</td>\n",
              "      <td>NaN</td>\n",
              "      <td>檢視</td>\n",
              "    </tr>\n",
              "    <tr>\n",
              "      <th>9</th>\n",
              "      <td>10</td>\n",
              "      <td>招標公告</td>\n",
              "      <td>臺北大眾捷運股份有限公司</td>\n",
              "      <td>C12B00276  var hw = Geps3.CNS.pageCode2Img(\"錢幣...</td>\n",
              "      <td>112/03/03</td>\n",
              "      <td>NaN</td>\n",
              "      <td>112/03/16</td>\n",
              "      <td>NaN</td>\n",
              "      <td>NaN</td>\n",
              "      <td>檢視</td>\n",
              "    </tr>\n",
              "  </tbody>\n",
              "</table>\n",
              "</div>\n",
              "      <button class=\"colab-df-convert\" onclick=\"convertToInteractive('df-e9ea2197-8724-434c-9bff-ac8a845a74c5')\"\n",
              "              title=\"Convert this dataframe to an interactive table.\"\n",
              "              style=\"display:none;\">\n",
              "        \n",
              "  <svg xmlns=\"http://www.w3.org/2000/svg\" height=\"24px\"viewBox=\"0 0 24 24\"\n",
              "       width=\"24px\">\n",
              "    <path d=\"M0 0h24v24H0V0z\" fill=\"none\"/>\n",
              "    <path d=\"M18.56 5.44l.94 2.06.94-2.06 2.06-.94-2.06-.94-.94-2.06-.94 2.06-2.06.94zm-11 1L8.5 8.5l.94-2.06 2.06-.94-2.06-.94L8.5 2.5l-.94 2.06-2.06.94zm10 10l.94 2.06.94-2.06 2.06-.94-2.06-.94-.94-2.06-.94 2.06-2.06.94z\"/><path d=\"M17.41 7.96l-1.37-1.37c-.4-.4-.92-.59-1.43-.59-.52 0-1.04.2-1.43.59L10.3 9.45l-7.72 7.72c-.78.78-.78 2.05 0 2.83L4 21.41c.39.39.9.59 1.41.59.51 0 1.02-.2 1.41-.59l7.78-7.78 2.81-2.81c.8-.78.8-2.07 0-2.86zM5.41 20L4 18.59l7.72-7.72 1.47 1.35L5.41 20z\"/>\n",
              "  </svg>\n",
              "      </button>\n",
              "      \n",
              "  <style>\n",
              "    .colab-df-container {\n",
              "      display:flex;\n",
              "      flex-wrap:wrap;\n",
              "      gap: 12px;\n",
              "    }\n",
              "\n",
              "    .colab-df-convert {\n",
              "      background-color: #E8F0FE;\n",
              "      border: none;\n",
              "      border-radius: 50%;\n",
              "      cursor: pointer;\n",
              "      display: none;\n",
              "      fill: #1967D2;\n",
              "      height: 32px;\n",
              "      padding: 0 0 0 0;\n",
              "      width: 32px;\n",
              "    }\n",
              "\n",
              "    .colab-df-convert:hover {\n",
              "      background-color: #E2EBFA;\n",
              "      box-shadow: 0px 1px 2px rgba(60, 64, 67, 0.3), 0px 1px 3px 1px rgba(60, 64, 67, 0.15);\n",
              "      fill: #174EA6;\n",
              "    }\n",
              "\n",
              "    [theme=dark] .colab-df-convert {\n",
              "      background-color: #3B4455;\n",
              "      fill: #D2E3FC;\n",
              "    }\n",
              "\n",
              "    [theme=dark] .colab-df-convert:hover {\n",
              "      background-color: #434B5C;\n",
              "      box-shadow: 0px 1px 3px 1px rgba(0, 0, 0, 0.15);\n",
              "      filter: drop-shadow(0px 1px 2px rgba(0, 0, 0, 0.3));\n",
              "      fill: #FFFFFF;\n",
              "    }\n",
              "  </style>\n",
              "\n",
              "      <script>\n",
              "        const buttonEl =\n",
              "          document.querySelector('#df-e9ea2197-8724-434c-9bff-ac8a845a74c5 button.colab-df-convert');\n",
              "        buttonEl.style.display =\n",
              "          google.colab.kernel.accessAllowed ? 'block' : 'none';\n",
              "\n",
              "        async function convertToInteractive(key) {\n",
              "          const element = document.querySelector('#df-e9ea2197-8724-434c-9bff-ac8a845a74c5');\n",
              "          const dataTable =\n",
              "            await google.colab.kernel.invokeFunction('convertToInteractive',\n",
              "                                                     [key], {});\n",
              "          if (!dataTable) return;\n",
              "\n",
              "          const docLinkHtml = 'Like what you see? Visit the ' +\n",
              "            '<a target=\"_blank\" href=https://colab.research.google.com/notebooks/data_table.ipynb>data table notebook</a>'\n",
              "            + ' to learn more about interactive tables.';\n",
              "          element.innerHTML = '';\n",
              "          dataTable['output_type'] = 'display_data';\n",
              "          await google.colab.output.renderOutput(dataTable, element);\n",
              "          const docLink = document.createElement('div');\n",
              "          docLink.innerHTML = docLinkHtml;\n",
              "          element.appendChild(docLink);\n",
              "        }\n",
              "      </script>\n",
              "    </div>\n",
              "  </div>\n",
              "  "
            ]
          },
          "metadata": {},
          "execution_count": 112
        }
      ]
    },
    {
      "cell_type": "code",
      "source": [
        "dfs[4]['標案案號標案名稱'][0]"
      ],
      "metadata": {
        "colab": {
          "base_uri": "https://localhost:8080/",
          "height": 36
        },
        "id": "Qb56ZZKdOrGv",
        "outputId": "1f880568-b4b8-487c-f28c-ef3e6cc29086"
      },
      "execution_count": 113,
      "outputs": [
        {
          "output_type": "execute_result",
          "data": {
            "text/plain": [
              "'11211  var hw = Geps3.CNS.pageCode2Img(\"容積代金基金採購私有公共設施保留地線上投標系統案\");$(\"#1\").html(hw);'"
            ],
            "application/vnd.google.colaboratory.intrinsic+json": {
              "type": "string"
            }
          },
          "metadata": {},
          "execution_count": 113
        }
      ]
    },
    {
      "cell_type": "markdown",
      "source": [
        "## 讀取政府資料開放平台實價登陸資料\n",
        "\n",
        "https://data.kcg.gov.tw/dataset/d7bfc353-1617-42d8-a0e3-3cd2d99edb10/resource/20387f3d-6970-40a4-86f0-a5c33546e75d/download/111q2.csv"
      ],
      "metadata": {
        "id": "cREEIIwrUc2g"
      }
    },
    {
      "cell_type": "code",
      "source": [
        "url = \"https://data.kcg.gov.tw/dataset/d7bfc353-1617-42d8-a0e3-3cd2d99edb10/resource/20387f3d-6970-40a4-86f0-a5c33546e75d/download/111q2.csv\""
      ],
      "metadata": {
        "id": "GPol9dB4O_PX"
      },
      "execution_count": 130,
      "outputs": []
    },
    {
      "cell_type": "code",
      "source": [
        "df = pd.read_csv(url)"
      ],
      "metadata": {
        "id": "6VvH2vxHUxjY"
      },
      "execution_count": 147,
      "outputs": []
    },
    {
      "cell_type": "code",
      "source": [
        "df.head()"
      ],
      "metadata": {
        "id": "vMv3nrpvU6dZ"
      },
      "execution_count": null,
      "outputs": []
    },
    {
      "cell_type": "markdown",
      "source": [
        "### 將dataFrame 轉存成不同格式,\n",
        "\n",
        "pandas.DataFrame.to_excel\n",
        "DataFrame.to_excel(excel_writer, sheet_name='Sheet1', na_rep='', float_format=None, columns=None, header=True, index=True, index_label=None, startrow=0, startcol=0, engine=None, merge_cells=True, encoding=_NoDefault.no_default, inf_rep='inf', verbose=_NoDefault.no_default, freeze_panes=None, storage_options=None)[source]\n"
      ],
      "metadata": {
        "id": "3kJqHWb-VaNe"
      }
    },
    {
      "cell_type": "code",
      "source": [
        "df.to_excel('實價登錄資料.xlsx')"
      ],
      "metadata": {
        "id": "eUpGiYWNU9B7"
      },
      "execution_count": 132,
      "outputs": []
    },
    {
      "cell_type": "code",
      "source": [
        "df.head(100).to_html('實價登陸前一百筆資料.html')"
      ],
      "metadata": {
        "id": "W8gv1kotV9kJ"
      },
      "execution_count": 134,
      "outputs": []
    },
    {
      "cell_type": "code",
      "source": [
        "df.head(100).to_html('實價登陸前一百筆資料.json')"
      ],
      "metadata": {
        "id": "hL22VnYoWcUM"
      },
      "execution_count": 135,
      "outputs": []
    },
    {
      "cell_type": "markdown",
      "source": [
        "## 檔案的IO\n",
        "\n"
      ],
      "metadata": {
        "id": "mnngqtVLYpNr"
      }
    },
    {
      "cell_type": "markdown",
      "source": [],
      "metadata": {
        "id": "wqGoqO2jZqzW"
      }
    },
    {
      "cell_type": "markdown",
      "source": [
        "### 文字檔\n"
      ],
      "metadata": {
        "id": "lPHoMgwBYvRp"
      }
    },
    {
      "cell_type": "markdown",
      "source": [
        "一般性做法\n",
        "```python\n",
        "f=open('test.txt','w')\n",
        "f.write(data)\n",
        "f.close()\n",
        "```"
      ],
      "metadata": {
        "id": "Rwro1nN5ZuDi"
      }
    },
    {
      "cell_type": "markdown",
      "source": [
        "替代性作法:\n",
        "```python\n",
        "with open('test.txt','w') as f:\n",
        "   f.write(data)\n",
        "```"
      ],
      "metadata": {
        "id": "XSDoMWPkZM9l"
      }
    },
    {
      "cell_type": "code",
      "source": [
        "open?"
      ],
      "metadata": {
        "id": "VbSC6v79Z67E"
      },
      "execution_count": 136,
      "outputs": []
    },
    {
      "cell_type": "markdown",
      "source": [
        "### 二進位檔 (Binary Files)\n",
        "\n",
        "譬如:圖片,excel檔等"
      ],
      "metadata": {
        "id": "fecjb9zwYwfT"
      }
    },
    {
      "cell_type": "markdown",
      "source": [
        "一般性做法\n",
        "```python\n",
        "f=open('test.jpg','wb')\n",
        "f.write(data)\n",
        "f.close()\n",
        "```"
      ],
      "metadata": {
        "id": "TBQv1-neaUHy"
      }
    },
    {
      "cell_type": "markdown",
      "source": [
        "替代性作法:\n",
        "```python\n",
        "with open('test.jpg','wb') as f:\n",
        "   f.write(data)\n",
        "```"
      ],
      "metadata": {
        "id": "Z4ESrGu4abNp"
      }
    },
    {
      "cell_type": "markdown",
      "source": [
        "### 抓取網頁原始碼並存取成文字檔"
      ],
      "metadata": {
        "id": "dXKzc3Ixakxg"
      }
    },
    {
      "cell_type": "code",
      "source": [
        "url = \"https://victorgau.github.io/khpy_web_intro/html_only.html\""
      ],
      "metadata": {
        "id": "4KtQzA5gWjV8"
      },
      "execution_count": 137,
      "outputs": []
    },
    {
      "cell_type": "code",
      "source": [
        "r = requests.get(url)"
      ],
      "metadata": {
        "id": "kS32fbslavfP"
      },
      "execution_count": 138,
      "outputs": []
    },
    {
      "cell_type": "code",
      "source": [
        "with open ('index.html', 'w') as f:\n",
        "  f.write(r.text)"
      ],
      "metadata": {
        "id": "1r4VxJn0a4-2"
      },
      "execution_count": 139,
      "outputs": []
    },
    {
      "cell_type": "markdown",
      "source": [
        "### 抓取圖片並存成圖片檔"
      ],
      "metadata": {
        "id": "unZnGGQrbS1U"
      }
    },
    {
      "cell_type": "code",
      "source": [
        "url = \"https://victorgau.github.io/khpy_web_intro/html_only.html\""
      ],
      "metadata": {
        "id": "BBbzd2FNbJ5t"
      },
      "execution_count": 144,
      "outputs": []
    },
    {
      "cell_type": "code",
      "source": [
        "r = requests.get(url)"
      ],
      "metadata": {
        "id": "I2TkpDXubZG2"
      },
      "execution_count": 145,
      "outputs": []
    },
    {
      "cell_type": "code",
      "source": [
        "with open ('nijia.jpg', 'wb') as f:\n",
        "  f.write(r.content)"
      ],
      "metadata": {
        "id": "drsVcvX9baoR"
      },
      "execution_count": 146,
      "outputs": []
    },
    {
      "cell_type": "markdown",
      "source": [
        "# 練習Pandas 的使用"
      ],
      "metadata": {
        "id": "G2WKaSRniAlX"
      }
    },
    {
      "cell_type": "code",
      "source": [
        "import numpy as np\n",
        "import pandas as pd"
      ],
      "metadata": {
        "id": "rT1to9Z9b5JX"
      },
      "execution_count": 148,
      "outputs": []
    },
    {
      "cell_type": "markdown",
      "source": [
        "## 準備資料"
      ],
      "metadata": {
        "id": "SPPJ4sv3j7NG"
      }
    },
    {
      "cell_type": "code",
      "source": [
        "grades = np.random.randint(30, 101, (10, 4))"
      ],
      "metadata": {
        "id": "n0fJu2HoiVIS"
      },
      "execution_count": 150,
      "outputs": []
    },
    {
      "cell_type": "code",
      "source": [
        "grades"
      ],
      "metadata": {
        "colab": {
          "base_uri": "https://localhost:8080/"
        },
        "id": "aES8j5rxiqy5",
        "outputId": "8e0e8b73-aaad-4b0e-b7c4-35aed0c207dc"
      },
      "execution_count": 151,
      "outputs": [
        {
          "output_type": "execute_result",
          "data": {
            "text/plain": [
              "array([[ 95,  62,  65, 100],\n",
              "       [ 80,  59,  64,  70],\n",
              "       [ 41,  72,  92,  69],\n",
              "       [ 44,  62,  59,  66],\n",
              "       [ 37,  48,  87,  81],\n",
              "       [ 47,  34,  76,  75],\n",
              "       [ 33,  32,  41,  91],\n",
              "       [ 31,  73,  42,  81],\n",
              "       [ 68,  45,  97,  38],\n",
              "       [ 89,  54,  60,  54]])"
            ]
          },
          "metadata": {},
          "execution_count": 151
        }
      ]
    },
    {
      "cell_type": "code",
      "source": [
        "df = pd.DataFrame(grades)"
      ],
      "metadata": {
        "id": "vQkg7DwgiyfA"
      },
      "execution_count": 152,
      "outputs": []
    },
    {
      "cell_type": "code",
      "source": [
        "df"
      ],
      "metadata": {
        "colab": {
          "base_uri": "https://localhost:8080/",
          "height": 363
        },
        "id": "VxYtowdki7u7",
        "outputId": "36a00222-8c8d-4861-b93f-b21dea314650"
      },
      "execution_count": 153,
      "outputs": [
        {
          "output_type": "execute_result",
          "data": {
            "text/plain": [
              "    0   1   2    3\n",
              "0  95  62  65  100\n",
              "1  80  59  64   70\n",
              "2  41  72  92   69\n",
              "3  44  62  59   66\n",
              "4  37  48  87   81\n",
              "5  47  34  76   75\n",
              "6  33  32  41   91\n",
              "7  31  73  42   81\n",
              "8  68  45  97   38\n",
              "9  89  54  60   54"
            ],
            "text/html": [
              "\n",
              "  <div id=\"df-b901137a-f3ba-4780-8fe8-6a7b873b3138\">\n",
              "    <div class=\"colab-df-container\">\n",
              "      <div>\n",
              "<style scoped>\n",
              "    .dataframe tbody tr th:only-of-type {\n",
              "        vertical-align: middle;\n",
              "    }\n",
              "\n",
              "    .dataframe tbody tr th {\n",
              "        vertical-align: top;\n",
              "    }\n",
              "\n",
              "    .dataframe thead th {\n",
              "        text-align: right;\n",
              "    }\n",
              "</style>\n",
              "<table border=\"1\" class=\"dataframe\">\n",
              "  <thead>\n",
              "    <tr style=\"text-align: right;\">\n",
              "      <th></th>\n",
              "      <th>0</th>\n",
              "      <th>1</th>\n",
              "      <th>2</th>\n",
              "      <th>3</th>\n",
              "    </tr>\n",
              "  </thead>\n",
              "  <tbody>\n",
              "    <tr>\n",
              "      <th>0</th>\n",
              "      <td>95</td>\n",
              "      <td>62</td>\n",
              "      <td>65</td>\n",
              "      <td>100</td>\n",
              "    </tr>\n",
              "    <tr>\n",
              "      <th>1</th>\n",
              "      <td>80</td>\n",
              "      <td>59</td>\n",
              "      <td>64</td>\n",
              "      <td>70</td>\n",
              "    </tr>\n",
              "    <tr>\n",
              "      <th>2</th>\n",
              "      <td>41</td>\n",
              "      <td>72</td>\n",
              "      <td>92</td>\n",
              "      <td>69</td>\n",
              "    </tr>\n",
              "    <tr>\n",
              "      <th>3</th>\n",
              "      <td>44</td>\n",
              "      <td>62</td>\n",
              "      <td>59</td>\n",
              "      <td>66</td>\n",
              "    </tr>\n",
              "    <tr>\n",
              "      <th>4</th>\n",
              "      <td>37</td>\n",
              "      <td>48</td>\n",
              "      <td>87</td>\n",
              "      <td>81</td>\n",
              "    </tr>\n",
              "    <tr>\n",
              "      <th>5</th>\n",
              "      <td>47</td>\n",
              "      <td>34</td>\n",
              "      <td>76</td>\n",
              "      <td>75</td>\n",
              "    </tr>\n",
              "    <tr>\n",
              "      <th>6</th>\n",
              "      <td>33</td>\n",
              "      <td>32</td>\n",
              "      <td>41</td>\n",
              "      <td>91</td>\n",
              "    </tr>\n",
              "    <tr>\n",
              "      <th>7</th>\n",
              "      <td>31</td>\n",
              "      <td>73</td>\n",
              "      <td>42</td>\n",
              "      <td>81</td>\n",
              "    </tr>\n",
              "    <tr>\n",
              "      <th>8</th>\n",
              "      <td>68</td>\n",
              "      <td>45</td>\n",
              "      <td>97</td>\n",
              "      <td>38</td>\n",
              "    </tr>\n",
              "    <tr>\n",
              "      <th>9</th>\n",
              "      <td>89</td>\n",
              "      <td>54</td>\n",
              "      <td>60</td>\n",
              "      <td>54</td>\n",
              "    </tr>\n",
              "  </tbody>\n",
              "</table>\n",
              "</div>\n",
              "      <button class=\"colab-df-convert\" onclick=\"convertToInteractive('df-b901137a-f3ba-4780-8fe8-6a7b873b3138')\"\n",
              "              title=\"Convert this dataframe to an interactive table.\"\n",
              "              style=\"display:none;\">\n",
              "        \n",
              "  <svg xmlns=\"http://www.w3.org/2000/svg\" height=\"24px\"viewBox=\"0 0 24 24\"\n",
              "       width=\"24px\">\n",
              "    <path d=\"M0 0h24v24H0V0z\" fill=\"none\"/>\n",
              "    <path d=\"M18.56 5.44l.94 2.06.94-2.06 2.06-.94-2.06-.94-.94-2.06-.94 2.06-2.06.94zm-11 1L8.5 8.5l.94-2.06 2.06-.94-2.06-.94L8.5 2.5l-.94 2.06-2.06.94zm10 10l.94 2.06.94-2.06 2.06-.94-2.06-.94-.94-2.06-.94 2.06-2.06.94z\"/><path d=\"M17.41 7.96l-1.37-1.37c-.4-.4-.92-.59-1.43-.59-.52 0-1.04.2-1.43.59L10.3 9.45l-7.72 7.72c-.78.78-.78 2.05 0 2.83L4 21.41c.39.39.9.59 1.41.59.51 0 1.02-.2 1.41-.59l7.78-7.78 2.81-2.81c.8-.78.8-2.07 0-2.86zM5.41 20L4 18.59l7.72-7.72 1.47 1.35L5.41 20z\"/>\n",
              "  </svg>\n",
              "      </button>\n",
              "      \n",
              "  <style>\n",
              "    .colab-df-container {\n",
              "      display:flex;\n",
              "      flex-wrap:wrap;\n",
              "      gap: 12px;\n",
              "    }\n",
              "\n",
              "    .colab-df-convert {\n",
              "      background-color: #E8F0FE;\n",
              "      border: none;\n",
              "      border-radius: 50%;\n",
              "      cursor: pointer;\n",
              "      display: none;\n",
              "      fill: #1967D2;\n",
              "      height: 32px;\n",
              "      padding: 0 0 0 0;\n",
              "      width: 32px;\n",
              "    }\n",
              "\n",
              "    .colab-df-convert:hover {\n",
              "      background-color: #E2EBFA;\n",
              "      box-shadow: 0px 1px 2px rgba(60, 64, 67, 0.3), 0px 1px 3px 1px rgba(60, 64, 67, 0.15);\n",
              "      fill: #174EA6;\n",
              "    }\n",
              "\n",
              "    [theme=dark] .colab-df-convert {\n",
              "      background-color: #3B4455;\n",
              "      fill: #D2E3FC;\n",
              "    }\n",
              "\n",
              "    [theme=dark] .colab-df-convert:hover {\n",
              "      background-color: #434B5C;\n",
              "      box-shadow: 0px 1px 3px 1px rgba(0, 0, 0, 0.15);\n",
              "      filter: drop-shadow(0px 1px 2px rgba(0, 0, 0, 0.3));\n",
              "      fill: #FFFFFF;\n",
              "    }\n",
              "  </style>\n",
              "\n",
              "      <script>\n",
              "        const buttonEl =\n",
              "          document.querySelector('#df-b901137a-f3ba-4780-8fe8-6a7b873b3138 button.colab-df-convert');\n",
              "        buttonEl.style.display =\n",
              "          google.colab.kernel.accessAllowed ? 'block' : 'none';\n",
              "\n",
              "        async function convertToInteractive(key) {\n",
              "          const element = document.querySelector('#df-b901137a-f3ba-4780-8fe8-6a7b873b3138');\n",
              "          const dataTable =\n",
              "            await google.colab.kernel.invokeFunction('convertToInteractive',\n",
              "                                                     [key], {});\n",
              "          if (!dataTable) return;\n",
              "\n",
              "          const docLinkHtml = 'Like what you see? Visit the ' +\n",
              "            '<a target=\"_blank\" href=https://colab.research.google.com/notebooks/data_table.ipynb>data table notebook</a>'\n",
              "            + ' to learn more about interactive tables.';\n",
              "          element.innerHTML = '';\n",
              "          dataTable['output_type'] = 'display_data';\n",
              "          await google.colab.output.renderOutput(dataTable, element);\n",
              "          const docLink = document.createElement('div');\n",
              "          docLink.innerHTML = docLinkHtml;\n",
              "          element.appendChild(docLink);\n",
              "        }\n",
              "      </script>\n",
              "    </div>\n",
              "  </div>\n",
              "  "
            ]
          },
          "metadata": {},
          "execution_count": 153
        }
      ]
    },
    {
      "cell_type": "code",
      "source": [
        "df.columns = ['國文','英文','數學','理化']"
      ],
      "metadata": {
        "id": "HIR4oDF_i849"
      },
      "execution_count": 158,
      "outputs": []
    },
    {
      "cell_type": "code",
      "source": [
        "df"
      ],
      "metadata": {
        "colab": {
          "base_uri": "https://localhost:8080/",
          "height": 363
        },
        "id": "lXMnkJQBjXXJ",
        "outputId": "2654fb30-7d82-4ad4-b579-4e334dadff58"
      },
      "execution_count": 159,
      "outputs": [
        {
          "output_type": "execute_result",
          "data": {
            "text/plain": [
              "   國文  英文  數學   理化\n",
              "0  95  62  65  100\n",
              "1  80  59  64   70\n",
              "2  41  72  92   69\n",
              "3  44  62  59   66\n",
              "4  37  48  87   81\n",
              "5  47  34  76   75\n",
              "6  33  32  41   91\n",
              "7  31  73  42   81\n",
              "8  68  45  97   38\n",
              "9  89  54  60   54"
            ],
            "text/html": [
              "\n",
              "  <div id=\"df-0101b53b-7532-44e8-9149-901e4da01313\">\n",
              "    <div class=\"colab-df-container\">\n",
              "      <div>\n",
              "<style scoped>\n",
              "    .dataframe tbody tr th:only-of-type {\n",
              "        vertical-align: middle;\n",
              "    }\n",
              "\n",
              "    .dataframe tbody tr th {\n",
              "        vertical-align: top;\n",
              "    }\n",
              "\n",
              "    .dataframe thead th {\n",
              "        text-align: right;\n",
              "    }\n",
              "</style>\n",
              "<table border=\"1\" class=\"dataframe\">\n",
              "  <thead>\n",
              "    <tr style=\"text-align: right;\">\n",
              "      <th></th>\n",
              "      <th>國文</th>\n",
              "      <th>英文</th>\n",
              "      <th>數學</th>\n",
              "      <th>理化</th>\n",
              "    </tr>\n",
              "  </thead>\n",
              "  <tbody>\n",
              "    <tr>\n",
              "      <th>0</th>\n",
              "      <td>95</td>\n",
              "      <td>62</td>\n",
              "      <td>65</td>\n",
              "      <td>100</td>\n",
              "    </tr>\n",
              "    <tr>\n",
              "      <th>1</th>\n",
              "      <td>80</td>\n",
              "      <td>59</td>\n",
              "      <td>64</td>\n",
              "      <td>70</td>\n",
              "    </tr>\n",
              "    <tr>\n",
              "      <th>2</th>\n",
              "      <td>41</td>\n",
              "      <td>72</td>\n",
              "      <td>92</td>\n",
              "      <td>69</td>\n",
              "    </tr>\n",
              "    <tr>\n",
              "      <th>3</th>\n",
              "      <td>44</td>\n",
              "      <td>62</td>\n",
              "      <td>59</td>\n",
              "      <td>66</td>\n",
              "    </tr>\n",
              "    <tr>\n",
              "      <th>4</th>\n",
              "      <td>37</td>\n",
              "      <td>48</td>\n",
              "      <td>87</td>\n",
              "      <td>81</td>\n",
              "    </tr>\n",
              "    <tr>\n",
              "      <th>5</th>\n",
              "      <td>47</td>\n",
              "      <td>34</td>\n",
              "      <td>76</td>\n",
              "      <td>75</td>\n",
              "    </tr>\n",
              "    <tr>\n",
              "      <th>6</th>\n",
              "      <td>33</td>\n",
              "      <td>32</td>\n",
              "      <td>41</td>\n",
              "      <td>91</td>\n",
              "    </tr>\n",
              "    <tr>\n",
              "      <th>7</th>\n",
              "      <td>31</td>\n",
              "      <td>73</td>\n",
              "      <td>42</td>\n",
              "      <td>81</td>\n",
              "    </tr>\n",
              "    <tr>\n",
              "      <th>8</th>\n",
              "      <td>68</td>\n",
              "      <td>45</td>\n",
              "      <td>97</td>\n",
              "      <td>38</td>\n",
              "    </tr>\n",
              "    <tr>\n",
              "      <th>9</th>\n",
              "      <td>89</td>\n",
              "      <td>54</td>\n",
              "      <td>60</td>\n",
              "      <td>54</td>\n",
              "    </tr>\n",
              "  </tbody>\n",
              "</table>\n",
              "</div>\n",
              "      <button class=\"colab-df-convert\" onclick=\"convertToInteractive('df-0101b53b-7532-44e8-9149-901e4da01313')\"\n",
              "              title=\"Convert this dataframe to an interactive table.\"\n",
              "              style=\"display:none;\">\n",
              "        \n",
              "  <svg xmlns=\"http://www.w3.org/2000/svg\" height=\"24px\"viewBox=\"0 0 24 24\"\n",
              "       width=\"24px\">\n",
              "    <path d=\"M0 0h24v24H0V0z\" fill=\"none\"/>\n",
              "    <path d=\"M18.56 5.44l.94 2.06.94-2.06 2.06-.94-2.06-.94-.94-2.06-.94 2.06-2.06.94zm-11 1L8.5 8.5l.94-2.06 2.06-.94-2.06-.94L8.5 2.5l-.94 2.06-2.06.94zm10 10l.94 2.06.94-2.06 2.06-.94-2.06-.94-.94-2.06-.94 2.06-2.06.94z\"/><path d=\"M17.41 7.96l-1.37-1.37c-.4-.4-.92-.59-1.43-.59-.52 0-1.04.2-1.43.59L10.3 9.45l-7.72 7.72c-.78.78-.78 2.05 0 2.83L4 21.41c.39.39.9.59 1.41.59.51 0 1.02-.2 1.41-.59l7.78-7.78 2.81-2.81c.8-.78.8-2.07 0-2.86zM5.41 20L4 18.59l7.72-7.72 1.47 1.35L5.41 20z\"/>\n",
              "  </svg>\n",
              "      </button>\n",
              "      \n",
              "  <style>\n",
              "    .colab-df-container {\n",
              "      display:flex;\n",
              "      flex-wrap:wrap;\n",
              "      gap: 12px;\n",
              "    }\n",
              "\n",
              "    .colab-df-convert {\n",
              "      background-color: #E8F0FE;\n",
              "      border: none;\n",
              "      border-radius: 50%;\n",
              "      cursor: pointer;\n",
              "      display: none;\n",
              "      fill: #1967D2;\n",
              "      height: 32px;\n",
              "      padding: 0 0 0 0;\n",
              "      width: 32px;\n",
              "    }\n",
              "\n",
              "    .colab-df-convert:hover {\n",
              "      background-color: #E2EBFA;\n",
              "      box-shadow: 0px 1px 2px rgba(60, 64, 67, 0.3), 0px 1px 3px 1px rgba(60, 64, 67, 0.15);\n",
              "      fill: #174EA6;\n",
              "    }\n",
              "\n",
              "    [theme=dark] .colab-df-convert {\n",
              "      background-color: #3B4455;\n",
              "      fill: #D2E3FC;\n",
              "    }\n",
              "\n",
              "    [theme=dark] .colab-df-convert:hover {\n",
              "      background-color: #434B5C;\n",
              "      box-shadow: 0px 1px 3px 1px rgba(0, 0, 0, 0.15);\n",
              "      filter: drop-shadow(0px 1px 2px rgba(0, 0, 0, 0.3));\n",
              "      fill: #FFFFFF;\n",
              "    }\n",
              "  </style>\n",
              "\n",
              "      <script>\n",
              "        const buttonEl =\n",
              "          document.querySelector('#df-0101b53b-7532-44e8-9149-901e4da01313 button.colab-df-convert');\n",
              "        buttonEl.style.display =\n",
              "          google.colab.kernel.accessAllowed ? 'block' : 'none';\n",
              "\n",
              "        async function convertToInteractive(key) {\n",
              "          const element = document.querySelector('#df-0101b53b-7532-44e8-9149-901e4da01313');\n",
              "          const dataTable =\n",
              "            await google.colab.kernel.invokeFunction('convertToInteractive',\n",
              "                                                     [key], {});\n",
              "          if (!dataTable) return;\n",
              "\n",
              "          const docLinkHtml = 'Like what you see? Visit the ' +\n",
              "            '<a target=\"_blank\" href=https://colab.research.google.com/notebooks/data_table.ipynb>data table notebook</a>'\n",
              "            + ' to learn more about interactive tables.';\n",
              "          element.innerHTML = '';\n",
              "          dataTable['output_type'] = 'display_data';\n",
              "          await google.colab.output.renderOutput(dataTable, element);\n",
              "          const docLink = document.createElement('div');\n",
              "          docLink.innerHTML = docLinkHtml;\n",
              "          element.appendChild(docLink);\n",
              "        }\n",
              "      </script>\n",
              "    </div>\n",
              "  </div>\n",
              "  "
            ]
          },
          "metadata": {},
          "execution_count": 159
        }
      ]
    },
    {
      "cell_type": "code",
      "source": [
        "df.index = [\"郭雅惠\",\"陳欣虹\",\"王孟修\",\"李政勇\",\n",
        "            \"陳仲燦\",\"王寧東\",\"楊雅名\",\"藍冰啟\",\"林玉亨\",\"崔承睿\"]"
      ],
      "metadata": {
        "id": "MXlwjRDCjoOc"
      },
      "execution_count": 160,
      "outputs": []
    },
    {
      "cell_type": "code",
      "source": [
        "df"
      ],
      "metadata": {
        "colab": {
          "base_uri": "https://localhost:8080/",
          "height": 363
        },
        "id": "-9vmURYAj197",
        "outputId": "f6959332-8e97-4044-b6f4-ef9dc776383f"
      },
      "execution_count": 161,
      "outputs": [
        {
          "output_type": "execute_result",
          "data": {
            "text/plain": [
              "     國文  英文  數學   理化\n",
              "郭雅惠  95  62  65  100\n",
              "陳欣虹  80  59  64   70\n",
              "王孟修  41  72  92   69\n",
              "李政勇  44  62  59   66\n",
              "陳仲燦  37  48  87   81\n",
              "王寧東  47  34  76   75\n",
              "楊雅名  33  32  41   91\n",
              "藍冰啟  31  73  42   81\n",
              "林玉亨  68  45  97   38\n",
              "崔承睿  89  54  60   54"
            ],
            "text/html": [
              "\n",
              "  <div id=\"df-2be80edb-94f7-411a-aa9d-b2d2f3971465\">\n",
              "    <div class=\"colab-df-container\">\n",
              "      <div>\n",
              "<style scoped>\n",
              "    .dataframe tbody tr th:only-of-type {\n",
              "        vertical-align: middle;\n",
              "    }\n",
              "\n",
              "    .dataframe tbody tr th {\n",
              "        vertical-align: top;\n",
              "    }\n",
              "\n",
              "    .dataframe thead th {\n",
              "        text-align: right;\n",
              "    }\n",
              "</style>\n",
              "<table border=\"1\" class=\"dataframe\">\n",
              "  <thead>\n",
              "    <tr style=\"text-align: right;\">\n",
              "      <th></th>\n",
              "      <th>國文</th>\n",
              "      <th>英文</th>\n",
              "      <th>數學</th>\n",
              "      <th>理化</th>\n",
              "    </tr>\n",
              "  </thead>\n",
              "  <tbody>\n",
              "    <tr>\n",
              "      <th>郭雅惠</th>\n",
              "      <td>95</td>\n",
              "      <td>62</td>\n",
              "      <td>65</td>\n",
              "      <td>100</td>\n",
              "    </tr>\n",
              "    <tr>\n",
              "      <th>陳欣虹</th>\n",
              "      <td>80</td>\n",
              "      <td>59</td>\n",
              "      <td>64</td>\n",
              "      <td>70</td>\n",
              "    </tr>\n",
              "    <tr>\n",
              "      <th>王孟修</th>\n",
              "      <td>41</td>\n",
              "      <td>72</td>\n",
              "      <td>92</td>\n",
              "      <td>69</td>\n",
              "    </tr>\n",
              "    <tr>\n",
              "      <th>李政勇</th>\n",
              "      <td>44</td>\n",
              "      <td>62</td>\n",
              "      <td>59</td>\n",
              "      <td>66</td>\n",
              "    </tr>\n",
              "    <tr>\n",
              "      <th>陳仲燦</th>\n",
              "      <td>37</td>\n",
              "      <td>48</td>\n",
              "      <td>87</td>\n",
              "      <td>81</td>\n",
              "    </tr>\n",
              "    <tr>\n",
              "      <th>王寧東</th>\n",
              "      <td>47</td>\n",
              "      <td>34</td>\n",
              "      <td>76</td>\n",
              "      <td>75</td>\n",
              "    </tr>\n",
              "    <tr>\n",
              "      <th>楊雅名</th>\n",
              "      <td>33</td>\n",
              "      <td>32</td>\n",
              "      <td>41</td>\n",
              "      <td>91</td>\n",
              "    </tr>\n",
              "    <tr>\n",
              "      <th>藍冰啟</th>\n",
              "      <td>31</td>\n",
              "      <td>73</td>\n",
              "      <td>42</td>\n",
              "      <td>81</td>\n",
              "    </tr>\n",
              "    <tr>\n",
              "      <th>林玉亨</th>\n",
              "      <td>68</td>\n",
              "      <td>45</td>\n",
              "      <td>97</td>\n",
              "      <td>38</td>\n",
              "    </tr>\n",
              "    <tr>\n",
              "      <th>崔承睿</th>\n",
              "      <td>89</td>\n",
              "      <td>54</td>\n",
              "      <td>60</td>\n",
              "      <td>54</td>\n",
              "    </tr>\n",
              "  </tbody>\n",
              "</table>\n",
              "</div>\n",
              "      <button class=\"colab-df-convert\" onclick=\"convertToInteractive('df-2be80edb-94f7-411a-aa9d-b2d2f3971465')\"\n",
              "              title=\"Convert this dataframe to an interactive table.\"\n",
              "              style=\"display:none;\">\n",
              "        \n",
              "  <svg xmlns=\"http://www.w3.org/2000/svg\" height=\"24px\"viewBox=\"0 0 24 24\"\n",
              "       width=\"24px\">\n",
              "    <path d=\"M0 0h24v24H0V0z\" fill=\"none\"/>\n",
              "    <path d=\"M18.56 5.44l.94 2.06.94-2.06 2.06-.94-2.06-.94-.94-2.06-.94 2.06-2.06.94zm-11 1L8.5 8.5l.94-2.06 2.06-.94-2.06-.94L8.5 2.5l-.94 2.06-2.06.94zm10 10l.94 2.06.94-2.06 2.06-.94-2.06-.94-.94-2.06-.94 2.06-2.06.94z\"/><path d=\"M17.41 7.96l-1.37-1.37c-.4-.4-.92-.59-1.43-.59-.52 0-1.04.2-1.43.59L10.3 9.45l-7.72 7.72c-.78.78-.78 2.05 0 2.83L4 21.41c.39.39.9.59 1.41.59.51 0 1.02-.2 1.41-.59l7.78-7.78 2.81-2.81c.8-.78.8-2.07 0-2.86zM5.41 20L4 18.59l7.72-7.72 1.47 1.35L5.41 20z\"/>\n",
              "  </svg>\n",
              "      </button>\n",
              "      \n",
              "  <style>\n",
              "    .colab-df-container {\n",
              "      display:flex;\n",
              "      flex-wrap:wrap;\n",
              "      gap: 12px;\n",
              "    }\n",
              "\n",
              "    .colab-df-convert {\n",
              "      background-color: #E8F0FE;\n",
              "      border: none;\n",
              "      border-radius: 50%;\n",
              "      cursor: pointer;\n",
              "      display: none;\n",
              "      fill: #1967D2;\n",
              "      height: 32px;\n",
              "      padding: 0 0 0 0;\n",
              "      width: 32px;\n",
              "    }\n",
              "\n",
              "    .colab-df-convert:hover {\n",
              "      background-color: #E2EBFA;\n",
              "      box-shadow: 0px 1px 2px rgba(60, 64, 67, 0.3), 0px 1px 3px 1px rgba(60, 64, 67, 0.15);\n",
              "      fill: #174EA6;\n",
              "    }\n",
              "\n",
              "    [theme=dark] .colab-df-convert {\n",
              "      background-color: #3B4455;\n",
              "      fill: #D2E3FC;\n",
              "    }\n",
              "\n",
              "    [theme=dark] .colab-df-convert:hover {\n",
              "      background-color: #434B5C;\n",
              "      box-shadow: 0px 1px 3px 1px rgba(0, 0, 0, 0.15);\n",
              "      filter: drop-shadow(0px 1px 2px rgba(0, 0, 0, 0.3));\n",
              "      fill: #FFFFFF;\n",
              "    }\n",
              "  </style>\n",
              "\n",
              "      <script>\n",
              "        const buttonEl =\n",
              "          document.querySelector('#df-2be80edb-94f7-411a-aa9d-b2d2f3971465 button.colab-df-convert');\n",
              "        buttonEl.style.display =\n",
              "          google.colab.kernel.accessAllowed ? 'block' : 'none';\n",
              "\n",
              "        async function convertToInteractive(key) {\n",
              "          const element = document.querySelector('#df-2be80edb-94f7-411a-aa9d-b2d2f3971465');\n",
              "          const dataTable =\n",
              "            await google.colab.kernel.invokeFunction('convertToInteractive',\n",
              "                                                     [key], {});\n",
              "          if (!dataTable) return;\n",
              "\n",
              "          const docLinkHtml = 'Like what you see? Visit the ' +\n",
              "            '<a target=\"_blank\" href=https://colab.research.google.com/notebooks/data_table.ipynb>data table notebook</a>'\n",
              "            + ' to learn more about interactive tables.';\n",
              "          element.innerHTML = '';\n",
              "          dataTable['output_type'] = 'display_data';\n",
              "          await google.colab.output.renderOutput(dataTable, element);\n",
              "          const docLink = document.createElement('div');\n",
              "          docLink.innerHTML = docLinkHtml;\n",
              "          element.appendChild(docLink);\n",
              "        }\n",
              "      </script>\n",
              "    </div>\n",
              "  </div>\n",
              "  "
            ]
          },
          "metadata": {},
          "execution_count": 161
        }
      ]
    },
    {
      "cell_type": "markdown",
      "source": [
        "## 列出國文不及格同學名單"
      ],
      "metadata": {
        "id": "Pevgdwy6j_mf"
      }
    },
    {
      "cell_type": "code",
      "source": [
        "# 取出國文成績\n",
        "df['國文']"
      ],
      "metadata": {
        "colab": {
          "base_uri": "https://localhost:8080/"
        },
        "id": "f0HMKQe0j2lW",
        "outputId": "ebe03db8-4b9d-4939-b161-487b7ed4c2b0"
      },
      "execution_count": 162,
      "outputs": [
        {
          "output_type": "execute_result",
          "data": {
            "text/plain": [
              "郭雅惠    95\n",
              "陳欣虹    80\n",
              "王孟修    41\n",
              "李政勇    44\n",
              "陳仲燦    37\n",
              "王寧東    47\n",
              "楊雅名    33\n",
              "藍冰啟    31\n",
              "林玉亨    68\n",
              "崔承睿    89\n",
              "Name: 國文, dtype: int64"
            ]
          },
          "metadata": {},
          "execution_count": 162
        }
      ]
    },
    {
      "cell_type": "code",
      "source": [
        "# 判斷國文是否及格: True:不及格 false:及格\n",
        "df['國文'] < 60"
      ],
      "metadata": {
        "colab": {
          "base_uri": "https://localhost:8080/"
        },
        "id": "Y9gNoJnHkGPT",
        "outputId": "6df75c86-86df-41c4-a2b2-b8855ee7d4c4"
      },
      "execution_count": 163,
      "outputs": [
        {
          "output_type": "execute_result",
          "data": {
            "text/plain": [
              "郭雅惠    False\n",
              "陳欣虹    False\n",
              "王孟修     True\n",
              "李政勇     True\n",
              "陳仲燦     True\n",
              "王寧東     True\n",
              "楊雅名     True\n",
              "藍冰啟     True\n",
              "林玉亨    False\n",
              "崔承睿    False\n",
              "Name: 國文, dtype: bool"
            ]
          },
          "metadata": {},
          "execution_count": 163
        }
      ]
    },
    {
      "cell_type": "code",
      "source": [
        "# Filtering\n",
        "df[df['國文'] < 60 ]"
      ],
      "metadata": {
        "colab": {
          "base_uri": "https://localhost:8080/",
          "height": 237
        },
        "id": "IURDUf6rkLqk",
        "outputId": "eb7aa7ae-e9f0-4d17-90cf-fd08c1d790c1"
      },
      "execution_count": 166,
      "outputs": [
        {
          "output_type": "execute_result",
          "data": {
            "text/plain": [
              "     國文  英文  數學  理化\n",
              "王孟修  41  72  92  69\n",
              "李政勇  44  62  59  66\n",
              "陳仲燦  37  48  87  81\n",
              "王寧東  47  34  76  75\n",
              "楊雅名  33  32  41  91\n",
              "藍冰啟  31  73  42  81"
            ],
            "text/html": [
              "\n",
              "  <div id=\"df-364646c3-582c-405a-aa4d-bf4237894e6f\">\n",
              "    <div class=\"colab-df-container\">\n",
              "      <div>\n",
              "<style scoped>\n",
              "    .dataframe tbody tr th:only-of-type {\n",
              "        vertical-align: middle;\n",
              "    }\n",
              "\n",
              "    .dataframe tbody tr th {\n",
              "        vertical-align: top;\n",
              "    }\n",
              "\n",
              "    .dataframe thead th {\n",
              "        text-align: right;\n",
              "    }\n",
              "</style>\n",
              "<table border=\"1\" class=\"dataframe\">\n",
              "  <thead>\n",
              "    <tr style=\"text-align: right;\">\n",
              "      <th></th>\n",
              "      <th>國文</th>\n",
              "      <th>英文</th>\n",
              "      <th>數學</th>\n",
              "      <th>理化</th>\n",
              "    </tr>\n",
              "  </thead>\n",
              "  <tbody>\n",
              "    <tr>\n",
              "      <th>王孟修</th>\n",
              "      <td>41</td>\n",
              "      <td>72</td>\n",
              "      <td>92</td>\n",
              "      <td>69</td>\n",
              "    </tr>\n",
              "    <tr>\n",
              "      <th>李政勇</th>\n",
              "      <td>44</td>\n",
              "      <td>62</td>\n",
              "      <td>59</td>\n",
              "      <td>66</td>\n",
              "    </tr>\n",
              "    <tr>\n",
              "      <th>陳仲燦</th>\n",
              "      <td>37</td>\n",
              "      <td>48</td>\n",
              "      <td>87</td>\n",
              "      <td>81</td>\n",
              "    </tr>\n",
              "    <tr>\n",
              "      <th>王寧東</th>\n",
              "      <td>47</td>\n",
              "      <td>34</td>\n",
              "      <td>76</td>\n",
              "      <td>75</td>\n",
              "    </tr>\n",
              "    <tr>\n",
              "      <th>楊雅名</th>\n",
              "      <td>33</td>\n",
              "      <td>32</td>\n",
              "      <td>41</td>\n",
              "      <td>91</td>\n",
              "    </tr>\n",
              "    <tr>\n",
              "      <th>藍冰啟</th>\n",
              "      <td>31</td>\n",
              "      <td>73</td>\n",
              "      <td>42</td>\n",
              "      <td>81</td>\n",
              "    </tr>\n",
              "  </tbody>\n",
              "</table>\n",
              "</div>\n",
              "      <button class=\"colab-df-convert\" onclick=\"convertToInteractive('df-364646c3-582c-405a-aa4d-bf4237894e6f')\"\n",
              "              title=\"Convert this dataframe to an interactive table.\"\n",
              "              style=\"display:none;\">\n",
              "        \n",
              "  <svg xmlns=\"http://www.w3.org/2000/svg\" height=\"24px\"viewBox=\"0 0 24 24\"\n",
              "       width=\"24px\">\n",
              "    <path d=\"M0 0h24v24H0V0z\" fill=\"none\"/>\n",
              "    <path d=\"M18.56 5.44l.94 2.06.94-2.06 2.06-.94-2.06-.94-.94-2.06-.94 2.06-2.06.94zm-11 1L8.5 8.5l.94-2.06 2.06-.94-2.06-.94L8.5 2.5l-.94 2.06-2.06.94zm10 10l.94 2.06.94-2.06 2.06-.94-2.06-.94-.94-2.06-.94 2.06-2.06.94z\"/><path d=\"M17.41 7.96l-1.37-1.37c-.4-.4-.92-.59-1.43-.59-.52 0-1.04.2-1.43.59L10.3 9.45l-7.72 7.72c-.78.78-.78 2.05 0 2.83L4 21.41c.39.39.9.59 1.41.59.51 0 1.02-.2 1.41-.59l7.78-7.78 2.81-2.81c.8-.78.8-2.07 0-2.86zM5.41 20L4 18.59l7.72-7.72 1.47 1.35L5.41 20z\"/>\n",
              "  </svg>\n",
              "      </button>\n",
              "      \n",
              "  <style>\n",
              "    .colab-df-container {\n",
              "      display:flex;\n",
              "      flex-wrap:wrap;\n",
              "      gap: 12px;\n",
              "    }\n",
              "\n",
              "    .colab-df-convert {\n",
              "      background-color: #E8F0FE;\n",
              "      border: none;\n",
              "      border-radius: 50%;\n",
              "      cursor: pointer;\n",
              "      display: none;\n",
              "      fill: #1967D2;\n",
              "      height: 32px;\n",
              "      padding: 0 0 0 0;\n",
              "      width: 32px;\n",
              "    }\n",
              "\n",
              "    .colab-df-convert:hover {\n",
              "      background-color: #E2EBFA;\n",
              "      box-shadow: 0px 1px 2px rgba(60, 64, 67, 0.3), 0px 1px 3px 1px rgba(60, 64, 67, 0.15);\n",
              "      fill: #174EA6;\n",
              "    }\n",
              "\n",
              "    [theme=dark] .colab-df-convert {\n",
              "      background-color: #3B4455;\n",
              "      fill: #D2E3FC;\n",
              "    }\n",
              "\n",
              "    [theme=dark] .colab-df-convert:hover {\n",
              "      background-color: #434B5C;\n",
              "      box-shadow: 0px 1px 3px 1px rgba(0, 0, 0, 0.15);\n",
              "      filter: drop-shadow(0px 1px 2px rgba(0, 0, 0, 0.3));\n",
              "      fill: #FFFFFF;\n",
              "    }\n",
              "  </style>\n",
              "\n",
              "      <script>\n",
              "        const buttonEl =\n",
              "          document.querySelector('#df-364646c3-582c-405a-aa4d-bf4237894e6f button.colab-df-convert');\n",
              "        buttonEl.style.display =\n",
              "          google.colab.kernel.accessAllowed ? 'block' : 'none';\n",
              "\n",
              "        async function convertToInteractive(key) {\n",
              "          const element = document.querySelector('#df-364646c3-582c-405a-aa4d-bf4237894e6f');\n",
              "          const dataTable =\n",
              "            await google.colab.kernel.invokeFunction('convertToInteractive',\n",
              "                                                     [key], {});\n",
              "          if (!dataTable) return;\n",
              "\n",
              "          const docLinkHtml = 'Like what you see? Visit the ' +\n",
              "            '<a target=\"_blank\" href=https://colab.research.google.com/notebooks/data_table.ipynb>data table notebook</a>'\n",
              "            + ' to learn more about interactive tables.';\n",
              "          element.innerHTML = '';\n",
              "          dataTable['output_type'] = 'display_data';\n",
              "          await google.colab.output.renderOutput(dataTable, element);\n",
              "          const docLink = document.createElement('div');\n",
              "          docLink.innerHTML = docLinkHtml;\n",
              "          element.appendChild(docLink);\n",
              "        }\n",
              "      </script>\n",
              "    </div>\n",
              "  </div>\n",
              "  "
            ]
          },
          "metadata": {},
          "execution_count": 166
        }
      ]
    },
    {
      "cell_type": "markdown",
      "source": [
        "## 列出國文跟英文都不及格的同學名單"
      ],
      "metadata": {
        "id": "1UYFbS3CkyIZ"
      }
    },
    {
      "cell_type": "code",
      "source": [
        "df['英文'] < 60 "
      ],
      "metadata": {
        "colab": {
          "base_uri": "https://localhost:8080/"
        },
        "id": "MTaz9hHLkTK4",
        "outputId": "35128f2d-507d-4d83-eeba-faa4a498f4b1"
      },
      "execution_count": 169,
      "outputs": [
        {
          "output_type": "execute_result",
          "data": {
            "text/plain": [
              "郭雅惠    False\n",
              "陳欣虹     True\n",
              "王孟修    False\n",
              "李政勇    False\n",
              "陳仲燦     True\n",
              "王寧東     True\n",
              "楊雅名     True\n",
              "藍冰啟    False\n",
              "林玉亨     True\n",
              "崔承睿     True\n",
              "Name: 英文, dtype: bool"
            ]
          },
          "metadata": {},
          "execution_count": 169
        }
      ]
    },
    {
      "cell_type": "code",
      "source": [
        "# 使用 & (and) 連接兩個條件 (註: | (or))\n",
        "df[(df['國文'] < 60) & (df['英文'] < 60) ]"
      ],
      "metadata": {
        "colab": {
          "base_uri": "https://localhost:8080/",
          "height": 143
        },
        "id": "zQWo_xw0k6vF",
        "outputId": "05d71e9e-14f5-41dd-ab16-af346569d392"
      },
      "execution_count": 170,
      "outputs": [
        {
          "output_type": "execute_result",
          "data": {
            "text/plain": [
              "     國文  英文  數學  理化\n",
              "陳仲燦  37  48  87  81\n",
              "王寧東  47  34  76  75\n",
              "楊雅名  33  32  41  91"
            ],
            "text/html": [
              "\n",
              "  <div id=\"df-6e126bd1-b202-4301-8aa4-8420b168c68d\">\n",
              "    <div class=\"colab-df-container\">\n",
              "      <div>\n",
              "<style scoped>\n",
              "    .dataframe tbody tr th:only-of-type {\n",
              "        vertical-align: middle;\n",
              "    }\n",
              "\n",
              "    .dataframe tbody tr th {\n",
              "        vertical-align: top;\n",
              "    }\n",
              "\n",
              "    .dataframe thead th {\n",
              "        text-align: right;\n",
              "    }\n",
              "</style>\n",
              "<table border=\"1\" class=\"dataframe\">\n",
              "  <thead>\n",
              "    <tr style=\"text-align: right;\">\n",
              "      <th></th>\n",
              "      <th>國文</th>\n",
              "      <th>英文</th>\n",
              "      <th>數學</th>\n",
              "      <th>理化</th>\n",
              "    </tr>\n",
              "  </thead>\n",
              "  <tbody>\n",
              "    <tr>\n",
              "      <th>陳仲燦</th>\n",
              "      <td>37</td>\n",
              "      <td>48</td>\n",
              "      <td>87</td>\n",
              "      <td>81</td>\n",
              "    </tr>\n",
              "    <tr>\n",
              "      <th>王寧東</th>\n",
              "      <td>47</td>\n",
              "      <td>34</td>\n",
              "      <td>76</td>\n",
              "      <td>75</td>\n",
              "    </tr>\n",
              "    <tr>\n",
              "      <th>楊雅名</th>\n",
              "      <td>33</td>\n",
              "      <td>32</td>\n",
              "      <td>41</td>\n",
              "      <td>91</td>\n",
              "    </tr>\n",
              "  </tbody>\n",
              "</table>\n",
              "</div>\n",
              "      <button class=\"colab-df-convert\" onclick=\"convertToInteractive('df-6e126bd1-b202-4301-8aa4-8420b168c68d')\"\n",
              "              title=\"Convert this dataframe to an interactive table.\"\n",
              "              style=\"display:none;\">\n",
              "        \n",
              "  <svg xmlns=\"http://www.w3.org/2000/svg\" height=\"24px\"viewBox=\"0 0 24 24\"\n",
              "       width=\"24px\">\n",
              "    <path d=\"M0 0h24v24H0V0z\" fill=\"none\"/>\n",
              "    <path d=\"M18.56 5.44l.94 2.06.94-2.06 2.06-.94-2.06-.94-.94-2.06-.94 2.06-2.06.94zm-11 1L8.5 8.5l.94-2.06 2.06-.94-2.06-.94L8.5 2.5l-.94 2.06-2.06.94zm10 10l.94 2.06.94-2.06 2.06-.94-2.06-.94-.94-2.06-.94 2.06-2.06.94z\"/><path d=\"M17.41 7.96l-1.37-1.37c-.4-.4-.92-.59-1.43-.59-.52 0-1.04.2-1.43.59L10.3 9.45l-7.72 7.72c-.78.78-.78 2.05 0 2.83L4 21.41c.39.39.9.59 1.41.59.51 0 1.02-.2 1.41-.59l7.78-7.78 2.81-2.81c.8-.78.8-2.07 0-2.86zM5.41 20L4 18.59l7.72-7.72 1.47 1.35L5.41 20z\"/>\n",
              "  </svg>\n",
              "      </button>\n",
              "      \n",
              "  <style>\n",
              "    .colab-df-container {\n",
              "      display:flex;\n",
              "      flex-wrap:wrap;\n",
              "      gap: 12px;\n",
              "    }\n",
              "\n",
              "    .colab-df-convert {\n",
              "      background-color: #E8F0FE;\n",
              "      border: none;\n",
              "      border-radius: 50%;\n",
              "      cursor: pointer;\n",
              "      display: none;\n",
              "      fill: #1967D2;\n",
              "      height: 32px;\n",
              "      padding: 0 0 0 0;\n",
              "      width: 32px;\n",
              "    }\n",
              "\n",
              "    .colab-df-convert:hover {\n",
              "      background-color: #E2EBFA;\n",
              "      box-shadow: 0px 1px 2px rgba(60, 64, 67, 0.3), 0px 1px 3px 1px rgba(60, 64, 67, 0.15);\n",
              "      fill: #174EA6;\n",
              "    }\n",
              "\n",
              "    [theme=dark] .colab-df-convert {\n",
              "      background-color: #3B4455;\n",
              "      fill: #D2E3FC;\n",
              "    }\n",
              "\n",
              "    [theme=dark] .colab-df-convert:hover {\n",
              "      background-color: #434B5C;\n",
              "      box-shadow: 0px 1px 3px 1px rgba(0, 0, 0, 0.15);\n",
              "      filter: drop-shadow(0px 1px 2px rgba(0, 0, 0, 0.3));\n",
              "      fill: #FFFFFF;\n",
              "    }\n",
              "  </style>\n",
              "\n",
              "      <script>\n",
              "        const buttonEl =\n",
              "          document.querySelector('#df-6e126bd1-b202-4301-8aa4-8420b168c68d button.colab-df-convert');\n",
              "        buttonEl.style.display =\n",
              "          google.colab.kernel.accessAllowed ? 'block' : 'none';\n",
              "\n",
              "        async function convertToInteractive(key) {\n",
              "          const element = document.querySelector('#df-6e126bd1-b202-4301-8aa4-8420b168c68d');\n",
              "          const dataTable =\n",
              "            await google.colab.kernel.invokeFunction('convertToInteractive',\n",
              "                                                     [key], {});\n",
              "          if (!dataTable) return;\n",
              "\n",
              "          const docLinkHtml = 'Like what you see? Visit the ' +\n",
              "            '<a target=\"_blank\" href=https://colab.research.google.com/notebooks/data_table.ipynb>data table notebook</a>'\n",
              "            + ' to learn more about interactive tables.';\n",
              "          element.innerHTML = '';\n",
              "          dataTable['output_type'] = 'display_data';\n",
              "          await google.colab.output.renderOutput(dataTable, element);\n",
              "          const docLink = document.createElement('div');\n",
              "          docLink.innerHTML = docLinkHtml;\n",
              "          element.appendChild(docLink);\n",
              "        }\n",
              "      </script>\n",
              "    </div>\n",
              "  </div>\n",
              "  "
            ]
          },
          "metadata": {},
          "execution_count": 170
        }
      ]
    },
    {
      "cell_type": "markdown",
      "source": [
        "## 計算總分及平均"
      ],
      "metadata": {
        "id": "X_aDOI7rmCSI"
      }
    },
    {
      "cell_type": "code",
      "source": [
        "df"
      ],
      "metadata": {
        "colab": {
          "base_uri": "https://localhost:8080/",
          "height": 363
        },
        "id": "pt1975rulKHp",
        "outputId": "a16be0e0-ad98-401c-a57b-702120c87281"
      },
      "execution_count": 171,
      "outputs": [
        {
          "output_type": "execute_result",
          "data": {
            "text/plain": [
              "     國文  英文  數學   理化\n",
              "郭雅惠  95  62  65  100\n",
              "陳欣虹  80  59  64   70\n",
              "王孟修  41  72  92   69\n",
              "李政勇  44  62  59   66\n",
              "陳仲燦  37  48  87   81\n",
              "王寧東  47  34  76   75\n",
              "楊雅名  33  32  41   91\n",
              "藍冰啟  31  73  42   81\n",
              "林玉亨  68  45  97   38\n",
              "崔承睿  89  54  60   54"
            ],
            "text/html": [
              "\n",
              "  <div id=\"df-b7ee0ee4-22b2-47dc-93c2-7a644b346944\">\n",
              "    <div class=\"colab-df-container\">\n",
              "      <div>\n",
              "<style scoped>\n",
              "    .dataframe tbody tr th:only-of-type {\n",
              "        vertical-align: middle;\n",
              "    }\n",
              "\n",
              "    .dataframe tbody tr th {\n",
              "        vertical-align: top;\n",
              "    }\n",
              "\n",
              "    .dataframe thead th {\n",
              "        text-align: right;\n",
              "    }\n",
              "</style>\n",
              "<table border=\"1\" class=\"dataframe\">\n",
              "  <thead>\n",
              "    <tr style=\"text-align: right;\">\n",
              "      <th></th>\n",
              "      <th>國文</th>\n",
              "      <th>英文</th>\n",
              "      <th>數學</th>\n",
              "      <th>理化</th>\n",
              "    </tr>\n",
              "  </thead>\n",
              "  <tbody>\n",
              "    <tr>\n",
              "      <th>郭雅惠</th>\n",
              "      <td>95</td>\n",
              "      <td>62</td>\n",
              "      <td>65</td>\n",
              "      <td>100</td>\n",
              "    </tr>\n",
              "    <tr>\n",
              "      <th>陳欣虹</th>\n",
              "      <td>80</td>\n",
              "      <td>59</td>\n",
              "      <td>64</td>\n",
              "      <td>70</td>\n",
              "    </tr>\n",
              "    <tr>\n",
              "      <th>王孟修</th>\n",
              "      <td>41</td>\n",
              "      <td>72</td>\n",
              "      <td>92</td>\n",
              "      <td>69</td>\n",
              "    </tr>\n",
              "    <tr>\n",
              "      <th>李政勇</th>\n",
              "      <td>44</td>\n",
              "      <td>62</td>\n",
              "      <td>59</td>\n",
              "      <td>66</td>\n",
              "    </tr>\n",
              "    <tr>\n",
              "      <th>陳仲燦</th>\n",
              "      <td>37</td>\n",
              "      <td>48</td>\n",
              "      <td>87</td>\n",
              "      <td>81</td>\n",
              "    </tr>\n",
              "    <tr>\n",
              "      <th>王寧東</th>\n",
              "      <td>47</td>\n",
              "      <td>34</td>\n",
              "      <td>76</td>\n",
              "      <td>75</td>\n",
              "    </tr>\n",
              "    <tr>\n",
              "      <th>楊雅名</th>\n",
              "      <td>33</td>\n",
              "      <td>32</td>\n",
              "      <td>41</td>\n",
              "      <td>91</td>\n",
              "    </tr>\n",
              "    <tr>\n",
              "      <th>藍冰啟</th>\n",
              "      <td>31</td>\n",
              "      <td>73</td>\n",
              "      <td>42</td>\n",
              "      <td>81</td>\n",
              "    </tr>\n",
              "    <tr>\n",
              "      <th>林玉亨</th>\n",
              "      <td>68</td>\n",
              "      <td>45</td>\n",
              "      <td>97</td>\n",
              "      <td>38</td>\n",
              "    </tr>\n",
              "    <tr>\n",
              "      <th>崔承睿</th>\n",
              "      <td>89</td>\n",
              "      <td>54</td>\n",
              "      <td>60</td>\n",
              "      <td>54</td>\n",
              "    </tr>\n",
              "  </tbody>\n",
              "</table>\n",
              "</div>\n",
              "      <button class=\"colab-df-convert\" onclick=\"convertToInteractive('df-b7ee0ee4-22b2-47dc-93c2-7a644b346944')\"\n",
              "              title=\"Convert this dataframe to an interactive table.\"\n",
              "              style=\"display:none;\">\n",
              "        \n",
              "  <svg xmlns=\"http://www.w3.org/2000/svg\" height=\"24px\"viewBox=\"0 0 24 24\"\n",
              "       width=\"24px\">\n",
              "    <path d=\"M0 0h24v24H0V0z\" fill=\"none\"/>\n",
              "    <path d=\"M18.56 5.44l.94 2.06.94-2.06 2.06-.94-2.06-.94-.94-2.06-.94 2.06-2.06.94zm-11 1L8.5 8.5l.94-2.06 2.06-.94-2.06-.94L8.5 2.5l-.94 2.06-2.06.94zm10 10l.94 2.06.94-2.06 2.06-.94-2.06-.94-.94-2.06-.94 2.06-2.06.94z\"/><path d=\"M17.41 7.96l-1.37-1.37c-.4-.4-.92-.59-1.43-.59-.52 0-1.04.2-1.43.59L10.3 9.45l-7.72 7.72c-.78.78-.78 2.05 0 2.83L4 21.41c.39.39.9.59 1.41.59.51 0 1.02-.2 1.41-.59l7.78-7.78 2.81-2.81c.8-.78.8-2.07 0-2.86zM5.41 20L4 18.59l7.72-7.72 1.47 1.35L5.41 20z\"/>\n",
              "  </svg>\n",
              "      </button>\n",
              "      \n",
              "  <style>\n",
              "    .colab-df-container {\n",
              "      display:flex;\n",
              "      flex-wrap:wrap;\n",
              "      gap: 12px;\n",
              "    }\n",
              "\n",
              "    .colab-df-convert {\n",
              "      background-color: #E8F0FE;\n",
              "      border: none;\n",
              "      border-radius: 50%;\n",
              "      cursor: pointer;\n",
              "      display: none;\n",
              "      fill: #1967D2;\n",
              "      height: 32px;\n",
              "      padding: 0 0 0 0;\n",
              "      width: 32px;\n",
              "    }\n",
              "\n",
              "    .colab-df-convert:hover {\n",
              "      background-color: #E2EBFA;\n",
              "      box-shadow: 0px 1px 2px rgba(60, 64, 67, 0.3), 0px 1px 3px 1px rgba(60, 64, 67, 0.15);\n",
              "      fill: #174EA6;\n",
              "    }\n",
              "\n",
              "    [theme=dark] .colab-df-convert {\n",
              "      background-color: #3B4455;\n",
              "      fill: #D2E3FC;\n",
              "    }\n",
              "\n",
              "    [theme=dark] .colab-df-convert:hover {\n",
              "      background-color: #434B5C;\n",
              "      box-shadow: 0px 1px 3px 1px rgba(0, 0, 0, 0.15);\n",
              "      filter: drop-shadow(0px 1px 2px rgba(0, 0, 0, 0.3));\n",
              "      fill: #FFFFFF;\n",
              "    }\n",
              "  </style>\n",
              "\n",
              "      <script>\n",
              "        const buttonEl =\n",
              "          document.querySelector('#df-b7ee0ee4-22b2-47dc-93c2-7a644b346944 button.colab-df-convert');\n",
              "        buttonEl.style.display =\n",
              "          google.colab.kernel.accessAllowed ? 'block' : 'none';\n",
              "\n",
              "        async function convertToInteractive(key) {\n",
              "          const element = document.querySelector('#df-b7ee0ee4-22b2-47dc-93c2-7a644b346944');\n",
              "          const dataTable =\n",
              "            await google.colab.kernel.invokeFunction('convertToInteractive',\n",
              "                                                     [key], {});\n",
              "          if (!dataTable) return;\n",
              "\n",
              "          const docLinkHtml = 'Like what you see? Visit the ' +\n",
              "            '<a target=\"_blank\" href=https://colab.research.google.com/notebooks/data_table.ipynb>data table notebook</a>'\n",
              "            + ' to learn more about interactive tables.';\n",
              "          element.innerHTML = '';\n",
              "          dataTable['output_type'] = 'display_data';\n",
              "          await google.colab.output.renderOutput(dataTable, element);\n",
              "          const docLink = document.createElement('div');\n",
              "          docLink.innerHTML = docLinkHtml;\n",
              "          element.appendChild(docLink);\n",
              "        }\n",
              "      </script>\n",
              "    </div>\n",
              "  </div>\n",
              "  "
            ]
          },
          "metadata": {},
          "execution_count": 171
        }
      ]
    },
    {
      "cell_type": "code",
      "source": [
        "df.sum()"
      ],
      "metadata": {
        "colab": {
          "base_uri": "https://localhost:8080/"
        },
        "id": "9MIb7syamG6i",
        "outputId": "5178ab31-e2e8-4bb3-e231-6c2410ae8dcf"
      },
      "execution_count": 172,
      "outputs": [
        {
          "output_type": "execute_result",
          "data": {
            "text/plain": [
              "國文    565\n",
              "英文    541\n",
              "數學    683\n",
              "理化    725\n",
              "dtype: int64"
            ]
          },
          "metadata": {},
          "execution_count": 172
        }
      ]
    },
    {
      "cell_type": "code",
      "source": [
        "df.sum?"
      ],
      "metadata": {
        "id": "fxKHdCLamKFK"
      },
      "execution_count": 173,
      "outputs": []
    },
    {
      "cell_type": "code",
      "source": [
        "df.sum(axis=1)"
      ],
      "metadata": {
        "colab": {
          "base_uri": "https://localhost:8080/"
        },
        "id": "1ZhlL5kKmZTj",
        "outputId": "411e73b5-fa91-4097-d01a-77277abe1bb4"
      },
      "execution_count": 174,
      "outputs": [
        {
          "output_type": "execute_result",
          "data": {
            "text/plain": [
              "郭雅惠    322\n",
              "陳欣虹    273\n",
              "王孟修    274\n",
              "李政勇    231\n",
              "陳仲燦    253\n",
              "王寧東    232\n",
              "楊雅名    197\n",
              "藍冰啟    227\n",
              "林玉亨    248\n",
              "崔承睿    257\n",
              "dtype: int64"
            ]
          },
          "metadata": {},
          "execution_count": 174
        }
      ]
    },
    {
      "cell_type": "code",
      "source": [
        "df['總分'] = df.sum(axis=1)"
      ],
      "metadata": {
        "id": "1rOqC9i1mcC2"
      },
      "execution_count": 175,
      "outputs": []
    },
    {
      "cell_type": "code",
      "source": [
        "df"
      ],
      "metadata": {
        "colab": {
          "base_uri": "https://localhost:8080/",
          "height": 363
        },
        "id": "gVLl-yrfmno5",
        "outputId": "0af40963-dc74-4408-a89a-30f5d7b66144"
      },
      "execution_count": 176,
      "outputs": [
        {
          "output_type": "execute_result",
          "data": {
            "text/plain": [
              "     國文  英文  數學   理化   總分\n",
              "郭雅惠  95  62  65  100  322\n",
              "陳欣虹  80  59  64   70  273\n",
              "王孟修  41  72  92   69  274\n",
              "李政勇  44  62  59   66  231\n",
              "陳仲燦  37  48  87   81  253\n",
              "王寧東  47  34  76   75  232\n",
              "楊雅名  33  32  41   91  197\n",
              "藍冰啟  31  73  42   81  227\n",
              "林玉亨  68  45  97   38  248\n",
              "崔承睿  89  54  60   54  257"
            ],
            "text/html": [
              "\n",
              "  <div id=\"df-57229176-0460-42b6-96f5-ffa009d858b9\">\n",
              "    <div class=\"colab-df-container\">\n",
              "      <div>\n",
              "<style scoped>\n",
              "    .dataframe tbody tr th:only-of-type {\n",
              "        vertical-align: middle;\n",
              "    }\n",
              "\n",
              "    .dataframe tbody tr th {\n",
              "        vertical-align: top;\n",
              "    }\n",
              "\n",
              "    .dataframe thead th {\n",
              "        text-align: right;\n",
              "    }\n",
              "</style>\n",
              "<table border=\"1\" class=\"dataframe\">\n",
              "  <thead>\n",
              "    <tr style=\"text-align: right;\">\n",
              "      <th></th>\n",
              "      <th>國文</th>\n",
              "      <th>英文</th>\n",
              "      <th>數學</th>\n",
              "      <th>理化</th>\n",
              "      <th>總分</th>\n",
              "    </tr>\n",
              "  </thead>\n",
              "  <tbody>\n",
              "    <tr>\n",
              "      <th>郭雅惠</th>\n",
              "      <td>95</td>\n",
              "      <td>62</td>\n",
              "      <td>65</td>\n",
              "      <td>100</td>\n",
              "      <td>322</td>\n",
              "    </tr>\n",
              "    <tr>\n",
              "      <th>陳欣虹</th>\n",
              "      <td>80</td>\n",
              "      <td>59</td>\n",
              "      <td>64</td>\n",
              "      <td>70</td>\n",
              "      <td>273</td>\n",
              "    </tr>\n",
              "    <tr>\n",
              "      <th>王孟修</th>\n",
              "      <td>41</td>\n",
              "      <td>72</td>\n",
              "      <td>92</td>\n",
              "      <td>69</td>\n",
              "      <td>274</td>\n",
              "    </tr>\n",
              "    <tr>\n",
              "      <th>李政勇</th>\n",
              "      <td>44</td>\n",
              "      <td>62</td>\n",
              "      <td>59</td>\n",
              "      <td>66</td>\n",
              "      <td>231</td>\n",
              "    </tr>\n",
              "    <tr>\n",
              "      <th>陳仲燦</th>\n",
              "      <td>37</td>\n",
              "      <td>48</td>\n",
              "      <td>87</td>\n",
              "      <td>81</td>\n",
              "      <td>253</td>\n",
              "    </tr>\n",
              "    <tr>\n",
              "      <th>王寧東</th>\n",
              "      <td>47</td>\n",
              "      <td>34</td>\n",
              "      <td>76</td>\n",
              "      <td>75</td>\n",
              "      <td>232</td>\n",
              "    </tr>\n",
              "    <tr>\n",
              "      <th>楊雅名</th>\n",
              "      <td>33</td>\n",
              "      <td>32</td>\n",
              "      <td>41</td>\n",
              "      <td>91</td>\n",
              "      <td>197</td>\n",
              "    </tr>\n",
              "    <tr>\n",
              "      <th>藍冰啟</th>\n",
              "      <td>31</td>\n",
              "      <td>73</td>\n",
              "      <td>42</td>\n",
              "      <td>81</td>\n",
              "      <td>227</td>\n",
              "    </tr>\n",
              "    <tr>\n",
              "      <th>林玉亨</th>\n",
              "      <td>68</td>\n",
              "      <td>45</td>\n",
              "      <td>97</td>\n",
              "      <td>38</td>\n",
              "      <td>248</td>\n",
              "    </tr>\n",
              "    <tr>\n",
              "      <th>崔承睿</th>\n",
              "      <td>89</td>\n",
              "      <td>54</td>\n",
              "      <td>60</td>\n",
              "      <td>54</td>\n",
              "      <td>257</td>\n",
              "    </tr>\n",
              "  </tbody>\n",
              "</table>\n",
              "</div>\n",
              "      <button class=\"colab-df-convert\" onclick=\"convertToInteractive('df-57229176-0460-42b6-96f5-ffa009d858b9')\"\n",
              "              title=\"Convert this dataframe to an interactive table.\"\n",
              "              style=\"display:none;\">\n",
              "        \n",
              "  <svg xmlns=\"http://www.w3.org/2000/svg\" height=\"24px\"viewBox=\"0 0 24 24\"\n",
              "       width=\"24px\">\n",
              "    <path d=\"M0 0h24v24H0V0z\" fill=\"none\"/>\n",
              "    <path d=\"M18.56 5.44l.94 2.06.94-2.06 2.06-.94-2.06-.94-.94-2.06-.94 2.06-2.06.94zm-11 1L8.5 8.5l.94-2.06 2.06-.94-2.06-.94L8.5 2.5l-.94 2.06-2.06.94zm10 10l.94 2.06.94-2.06 2.06-.94-2.06-.94-.94-2.06-.94 2.06-2.06.94z\"/><path d=\"M17.41 7.96l-1.37-1.37c-.4-.4-.92-.59-1.43-.59-.52 0-1.04.2-1.43.59L10.3 9.45l-7.72 7.72c-.78.78-.78 2.05 0 2.83L4 21.41c.39.39.9.59 1.41.59.51 0 1.02-.2 1.41-.59l7.78-7.78 2.81-2.81c.8-.78.8-2.07 0-2.86zM5.41 20L4 18.59l7.72-7.72 1.47 1.35L5.41 20z\"/>\n",
              "  </svg>\n",
              "      </button>\n",
              "      \n",
              "  <style>\n",
              "    .colab-df-container {\n",
              "      display:flex;\n",
              "      flex-wrap:wrap;\n",
              "      gap: 12px;\n",
              "    }\n",
              "\n",
              "    .colab-df-convert {\n",
              "      background-color: #E8F0FE;\n",
              "      border: none;\n",
              "      border-radius: 50%;\n",
              "      cursor: pointer;\n",
              "      display: none;\n",
              "      fill: #1967D2;\n",
              "      height: 32px;\n",
              "      padding: 0 0 0 0;\n",
              "      width: 32px;\n",
              "    }\n",
              "\n",
              "    .colab-df-convert:hover {\n",
              "      background-color: #E2EBFA;\n",
              "      box-shadow: 0px 1px 2px rgba(60, 64, 67, 0.3), 0px 1px 3px 1px rgba(60, 64, 67, 0.15);\n",
              "      fill: #174EA6;\n",
              "    }\n",
              "\n",
              "    [theme=dark] .colab-df-convert {\n",
              "      background-color: #3B4455;\n",
              "      fill: #D2E3FC;\n",
              "    }\n",
              "\n",
              "    [theme=dark] .colab-df-convert:hover {\n",
              "      background-color: #434B5C;\n",
              "      box-shadow: 0px 1px 3px 1px rgba(0, 0, 0, 0.15);\n",
              "      filter: drop-shadow(0px 1px 2px rgba(0, 0, 0, 0.3));\n",
              "      fill: #FFFFFF;\n",
              "    }\n",
              "  </style>\n",
              "\n",
              "      <script>\n",
              "        const buttonEl =\n",
              "          document.querySelector('#df-57229176-0460-42b6-96f5-ffa009d858b9 button.colab-df-convert');\n",
              "        buttonEl.style.display =\n",
              "          google.colab.kernel.accessAllowed ? 'block' : 'none';\n",
              "\n",
              "        async function convertToInteractive(key) {\n",
              "          const element = document.querySelector('#df-57229176-0460-42b6-96f5-ffa009d858b9');\n",
              "          const dataTable =\n",
              "            await google.colab.kernel.invokeFunction('convertToInteractive',\n",
              "                                                     [key], {});\n",
              "          if (!dataTable) return;\n",
              "\n",
              "          const docLinkHtml = 'Like what you see? Visit the ' +\n",
              "            '<a target=\"_blank\" href=https://colab.research.google.com/notebooks/data_table.ipynb>data table notebook</a>'\n",
              "            + ' to learn more about interactive tables.';\n",
              "          element.innerHTML = '';\n",
              "          dataTable['output_type'] = 'display_data';\n",
              "          await google.colab.output.renderOutput(dataTable, element);\n",
              "          const docLink = document.createElement('div');\n",
              "          docLink.innerHTML = docLinkHtml;\n",
              "          element.appendChild(docLink);\n",
              "        }\n",
              "      </script>\n",
              "    </div>\n",
              "  </div>\n",
              "  "
            ]
          },
          "metadata": {},
          "execution_count": 176
        }
      ]
    },
    {
      "cell_type": "code",
      "source": [
        "df.mean(axis=1)"
      ],
      "metadata": {
        "colab": {
          "base_uri": "https://localhost:8080/"
        },
        "id": "yAGkJV4Xmohd",
        "outputId": "b367cf27-4044-4844-9ba2-da285908c238"
      },
      "execution_count": 177,
      "outputs": [
        {
          "output_type": "execute_result",
          "data": {
            "text/plain": [
              "郭雅惠    128.8\n",
              "陳欣虹    109.2\n",
              "王孟修    109.6\n",
              "李政勇     92.4\n",
              "陳仲燦    101.2\n",
              "王寧東     92.8\n",
              "楊雅名     78.8\n",
              "藍冰啟     90.8\n",
              "林玉亨     99.2\n",
              "崔承睿    102.8\n",
              "dtype: float64"
            ]
          },
          "metadata": {},
          "execution_count": 177
        }
      ]
    },
    {
      "cell_type": "code",
      "source": [
        "df[['國文','英文','數學','理化']].mean(axis=1)"
      ],
      "metadata": {
        "colab": {
          "base_uri": "https://localhost:8080/"
        },
        "id": "bHJasrPmm9-y",
        "outputId": "1c43fc9a-a90f-46f8-f0d0-7039b98045cd"
      },
      "execution_count": 179,
      "outputs": [
        {
          "output_type": "execute_result",
          "data": {
            "text/plain": [
              "郭雅惠    80.50\n",
              "陳欣虹    68.25\n",
              "王孟修    68.50\n",
              "李政勇    57.75\n",
              "陳仲燦    63.25\n",
              "王寧東    58.00\n",
              "楊雅名    49.25\n",
              "藍冰啟    56.75\n",
              "林玉亨    62.00\n",
              "崔承睿    64.25\n",
              "dtype: float64"
            ]
          },
          "metadata": {},
          "execution_count": 179
        }
      ]
    },
    {
      "cell_type": "code",
      "source": [
        "df['平均'] = df[['國文','英文','數學','理化']].mean(axis=1)"
      ],
      "metadata": {
        "id": "L-iJtrJhnLyM"
      },
      "execution_count": 180,
      "outputs": []
    },
    {
      "cell_type": "code",
      "source": [
        "df"
      ],
      "metadata": {
        "colab": {
          "base_uri": "https://localhost:8080/",
          "height": 363
        },
        "id": "sk_viTR0nqHo",
        "outputId": "9860f61d-4c98-4e7b-db86-4728defc260e"
      },
      "execution_count": 181,
      "outputs": [
        {
          "output_type": "execute_result",
          "data": {
            "text/plain": [
              "     國文  英文  數學   理化   總分     平均\n",
              "郭雅惠  95  62  65  100  322  80.50\n",
              "陳欣虹  80  59  64   70  273  68.25\n",
              "王孟修  41  72  92   69  274  68.50\n",
              "李政勇  44  62  59   66  231  57.75\n",
              "陳仲燦  37  48  87   81  253  63.25\n",
              "王寧東  47  34  76   75  232  58.00\n",
              "楊雅名  33  32  41   91  197  49.25\n",
              "藍冰啟  31  73  42   81  227  56.75\n",
              "林玉亨  68  45  97   38  248  62.00\n",
              "崔承睿  89  54  60   54  257  64.25"
            ],
            "text/html": [
              "\n",
              "  <div id=\"df-e4d32397-f848-4470-9c7c-e195fdeff709\">\n",
              "    <div class=\"colab-df-container\">\n",
              "      <div>\n",
              "<style scoped>\n",
              "    .dataframe tbody tr th:only-of-type {\n",
              "        vertical-align: middle;\n",
              "    }\n",
              "\n",
              "    .dataframe tbody tr th {\n",
              "        vertical-align: top;\n",
              "    }\n",
              "\n",
              "    .dataframe thead th {\n",
              "        text-align: right;\n",
              "    }\n",
              "</style>\n",
              "<table border=\"1\" class=\"dataframe\">\n",
              "  <thead>\n",
              "    <tr style=\"text-align: right;\">\n",
              "      <th></th>\n",
              "      <th>國文</th>\n",
              "      <th>英文</th>\n",
              "      <th>數學</th>\n",
              "      <th>理化</th>\n",
              "      <th>總分</th>\n",
              "      <th>平均</th>\n",
              "    </tr>\n",
              "  </thead>\n",
              "  <tbody>\n",
              "    <tr>\n",
              "      <th>郭雅惠</th>\n",
              "      <td>95</td>\n",
              "      <td>62</td>\n",
              "      <td>65</td>\n",
              "      <td>100</td>\n",
              "      <td>322</td>\n",
              "      <td>80.50</td>\n",
              "    </tr>\n",
              "    <tr>\n",
              "      <th>陳欣虹</th>\n",
              "      <td>80</td>\n",
              "      <td>59</td>\n",
              "      <td>64</td>\n",
              "      <td>70</td>\n",
              "      <td>273</td>\n",
              "      <td>68.25</td>\n",
              "    </tr>\n",
              "    <tr>\n",
              "      <th>王孟修</th>\n",
              "      <td>41</td>\n",
              "      <td>72</td>\n",
              "      <td>92</td>\n",
              "      <td>69</td>\n",
              "      <td>274</td>\n",
              "      <td>68.50</td>\n",
              "    </tr>\n",
              "    <tr>\n",
              "      <th>李政勇</th>\n",
              "      <td>44</td>\n",
              "      <td>62</td>\n",
              "      <td>59</td>\n",
              "      <td>66</td>\n",
              "      <td>231</td>\n",
              "      <td>57.75</td>\n",
              "    </tr>\n",
              "    <tr>\n",
              "      <th>陳仲燦</th>\n",
              "      <td>37</td>\n",
              "      <td>48</td>\n",
              "      <td>87</td>\n",
              "      <td>81</td>\n",
              "      <td>253</td>\n",
              "      <td>63.25</td>\n",
              "    </tr>\n",
              "    <tr>\n",
              "      <th>王寧東</th>\n",
              "      <td>47</td>\n",
              "      <td>34</td>\n",
              "      <td>76</td>\n",
              "      <td>75</td>\n",
              "      <td>232</td>\n",
              "      <td>58.00</td>\n",
              "    </tr>\n",
              "    <tr>\n",
              "      <th>楊雅名</th>\n",
              "      <td>33</td>\n",
              "      <td>32</td>\n",
              "      <td>41</td>\n",
              "      <td>91</td>\n",
              "      <td>197</td>\n",
              "      <td>49.25</td>\n",
              "    </tr>\n",
              "    <tr>\n",
              "      <th>藍冰啟</th>\n",
              "      <td>31</td>\n",
              "      <td>73</td>\n",
              "      <td>42</td>\n",
              "      <td>81</td>\n",
              "      <td>227</td>\n",
              "      <td>56.75</td>\n",
              "    </tr>\n",
              "    <tr>\n",
              "      <th>林玉亨</th>\n",
              "      <td>68</td>\n",
              "      <td>45</td>\n",
              "      <td>97</td>\n",
              "      <td>38</td>\n",
              "      <td>248</td>\n",
              "      <td>62.00</td>\n",
              "    </tr>\n",
              "    <tr>\n",
              "      <th>崔承睿</th>\n",
              "      <td>89</td>\n",
              "      <td>54</td>\n",
              "      <td>60</td>\n",
              "      <td>54</td>\n",
              "      <td>257</td>\n",
              "      <td>64.25</td>\n",
              "    </tr>\n",
              "  </tbody>\n",
              "</table>\n",
              "</div>\n",
              "      <button class=\"colab-df-convert\" onclick=\"convertToInteractive('df-e4d32397-f848-4470-9c7c-e195fdeff709')\"\n",
              "              title=\"Convert this dataframe to an interactive table.\"\n",
              "              style=\"display:none;\">\n",
              "        \n",
              "  <svg xmlns=\"http://www.w3.org/2000/svg\" height=\"24px\"viewBox=\"0 0 24 24\"\n",
              "       width=\"24px\">\n",
              "    <path d=\"M0 0h24v24H0V0z\" fill=\"none\"/>\n",
              "    <path d=\"M18.56 5.44l.94 2.06.94-2.06 2.06-.94-2.06-.94-.94-2.06-.94 2.06-2.06.94zm-11 1L8.5 8.5l.94-2.06 2.06-.94-2.06-.94L8.5 2.5l-.94 2.06-2.06.94zm10 10l.94 2.06.94-2.06 2.06-.94-2.06-.94-.94-2.06-.94 2.06-2.06.94z\"/><path d=\"M17.41 7.96l-1.37-1.37c-.4-.4-.92-.59-1.43-.59-.52 0-1.04.2-1.43.59L10.3 9.45l-7.72 7.72c-.78.78-.78 2.05 0 2.83L4 21.41c.39.39.9.59 1.41.59.51 0 1.02-.2 1.41-.59l7.78-7.78 2.81-2.81c.8-.78.8-2.07 0-2.86zM5.41 20L4 18.59l7.72-7.72 1.47 1.35L5.41 20z\"/>\n",
              "  </svg>\n",
              "      </button>\n",
              "      \n",
              "  <style>\n",
              "    .colab-df-container {\n",
              "      display:flex;\n",
              "      flex-wrap:wrap;\n",
              "      gap: 12px;\n",
              "    }\n",
              "\n",
              "    .colab-df-convert {\n",
              "      background-color: #E8F0FE;\n",
              "      border: none;\n",
              "      border-radius: 50%;\n",
              "      cursor: pointer;\n",
              "      display: none;\n",
              "      fill: #1967D2;\n",
              "      height: 32px;\n",
              "      padding: 0 0 0 0;\n",
              "      width: 32px;\n",
              "    }\n",
              "\n",
              "    .colab-df-convert:hover {\n",
              "      background-color: #E2EBFA;\n",
              "      box-shadow: 0px 1px 2px rgba(60, 64, 67, 0.3), 0px 1px 3px 1px rgba(60, 64, 67, 0.15);\n",
              "      fill: #174EA6;\n",
              "    }\n",
              "\n",
              "    [theme=dark] .colab-df-convert {\n",
              "      background-color: #3B4455;\n",
              "      fill: #D2E3FC;\n",
              "    }\n",
              "\n",
              "    [theme=dark] .colab-df-convert:hover {\n",
              "      background-color: #434B5C;\n",
              "      box-shadow: 0px 1px 3px 1px rgba(0, 0, 0, 0.15);\n",
              "      filter: drop-shadow(0px 1px 2px rgba(0, 0, 0, 0.3));\n",
              "      fill: #FFFFFF;\n",
              "    }\n",
              "  </style>\n",
              "\n",
              "      <script>\n",
              "        const buttonEl =\n",
              "          document.querySelector('#df-e4d32397-f848-4470-9c7c-e195fdeff709 button.colab-df-convert');\n",
              "        buttonEl.style.display =\n",
              "          google.colab.kernel.accessAllowed ? 'block' : 'none';\n",
              "\n",
              "        async function convertToInteractive(key) {\n",
              "          const element = document.querySelector('#df-e4d32397-f848-4470-9c7c-e195fdeff709');\n",
              "          const dataTable =\n",
              "            await google.colab.kernel.invokeFunction('convertToInteractive',\n",
              "                                                     [key], {});\n",
              "          if (!dataTable) return;\n",
              "\n",
              "          const docLinkHtml = 'Like what you see? Visit the ' +\n",
              "            '<a target=\"_blank\" href=https://colab.research.google.com/notebooks/data_table.ipynb>data table notebook</a>'\n",
              "            + ' to learn more about interactive tables.';\n",
              "          element.innerHTML = '';\n",
              "          dataTable['output_type'] = 'display_data';\n",
              "          await google.colab.output.renderOutput(dataTable, element);\n",
              "          const docLink = document.createElement('div');\n",
              "          docLink.innerHTML = docLinkHtml;\n",
              "          element.appendChild(docLink);\n",
              "        }\n",
              "      </script>\n",
              "    </div>\n",
              "  </div>\n",
              "  "
            ]
          },
          "metadata": {},
          "execution_count": 181
        }
      ]
    },
    {
      "cell_type": "markdown",
      "source": [
        "## 輸出成EXCEL檔"
      ],
      "metadata": {
        "id": "DkB0V_69nur5"
      }
    },
    {
      "cell_type": "code",
      "source": [
        "df.to_excel('成績.xlsx')"
      ],
      "metadata": {
        "id": "ygpkYo3ynq7k"
      },
      "execution_count": 182,
      "outputs": []
    },
    {
      "cell_type": "markdown",
      "source": [
        "## 找出名次"
      ],
      "metadata": {
        "id": "On4AHeQQn-xq"
      }
    },
    {
      "cell_type": "code",
      "source": [
        "df"
      ],
      "metadata": {
        "colab": {
          "base_uri": "https://localhost:8080/",
          "height": 363
        },
        "id": "nsxLrx3roGOE",
        "outputId": "fd173eab-b003-4224-8a48-4a558fb5eb12"
      },
      "execution_count": 184,
      "outputs": [
        {
          "output_type": "execute_result",
          "data": {
            "text/plain": [
              "     國文  英文  數學   理化   總分     平均\n",
              "郭雅惠  95  62  65  100  322  80.50\n",
              "陳欣虹  80  59  64   70  273  68.25\n",
              "王孟修  41  72  92   69  274  68.50\n",
              "李政勇  44  62  59   66  231  57.75\n",
              "陳仲燦  37  48  87   81  253  63.25\n",
              "王寧東  47  34  76   75  232  58.00\n",
              "楊雅名  33  32  41   91  197  49.25\n",
              "藍冰啟  31  73  42   81  227  56.75\n",
              "林玉亨  68  45  97   38  248  62.00\n",
              "崔承睿  89  54  60   54  257  64.25"
            ],
            "text/html": [
              "\n",
              "  <div id=\"df-a2b12284-1379-4a53-9f52-47402aef9800\">\n",
              "    <div class=\"colab-df-container\">\n",
              "      <div>\n",
              "<style scoped>\n",
              "    .dataframe tbody tr th:only-of-type {\n",
              "        vertical-align: middle;\n",
              "    }\n",
              "\n",
              "    .dataframe tbody tr th {\n",
              "        vertical-align: top;\n",
              "    }\n",
              "\n",
              "    .dataframe thead th {\n",
              "        text-align: right;\n",
              "    }\n",
              "</style>\n",
              "<table border=\"1\" class=\"dataframe\">\n",
              "  <thead>\n",
              "    <tr style=\"text-align: right;\">\n",
              "      <th></th>\n",
              "      <th>國文</th>\n",
              "      <th>英文</th>\n",
              "      <th>數學</th>\n",
              "      <th>理化</th>\n",
              "      <th>總分</th>\n",
              "      <th>平均</th>\n",
              "    </tr>\n",
              "  </thead>\n",
              "  <tbody>\n",
              "    <tr>\n",
              "      <th>郭雅惠</th>\n",
              "      <td>95</td>\n",
              "      <td>62</td>\n",
              "      <td>65</td>\n",
              "      <td>100</td>\n",
              "      <td>322</td>\n",
              "      <td>80.50</td>\n",
              "    </tr>\n",
              "    <tr>\n",
              "      <th>陳欣虹</th>\n",
              "      <td>80</td>\n",
              "      <td>59</td>\n",
              "      <td>64</td>\n",
              "      <td>70</td>\n",
              "      <td>273</td>\n",
              "      <td>68.25</td>\n",
              "    </tr>\n",
              "    <tr>\n",
              "      <th>王孟修</th>\n",
              "      <td>41</td>\n",
              "      <td>72</td>\n",
              "      <td>92</td>\n",
              "      <td>69</td>\n",
              "      <td>274</td>\n",
              "      <td>68.50</td>\n",
              "    </tr>\n",
              "    <tr>\n",
              "      <th>李政勇</th>\n",
              "      <td>44</td>\n",
              "      <td>62</td>\n",
              "      <td>59</td>\n",
              "      <td>66</td>\n",
              "      <td>231</td>\n",
              "      <td>57.75</td>\n",
              "    </tr>\n",
              "    <tr>\n",
              "      <th>陳仲燦</th>\n",
              "      <td>37</td>\n",
              "      <td>48</td>\n",
              "      <td>87</td>\n",
              "      <td>81</td>\n",
              "      <td>253</td>\n",
              "      <td>63.25</td>\n",
              "    </tr>\n",
              "    <tr>\n",
              "      <th>王寧東</th>\n",
              "      <td>47</td>\n",
              "      <td>34</td>\n",
              "      <td>76</td>\n",
              "      <td>75</td>\n",
              "      <td>232</td>\n",
              "      <td>58.00</td>\n",
              "    </tr>\n",
              "    <tr>\n",
              "      <th>楊雅名</th>\n",
              "      <td>33</td>\n",
              "      <td>32</td>\n",
              "      <td>41</td>\n",
              "      <td>91</td>\n",
              "      <td>197</td>\n",
              "      <td>49.25</td>\n",
              "    </tr>\n",
              "    <tr>\n",
              "      <th>藍冰啟</th>\n",
              "      <td>31</td>\n",
              "      <td>73</td>\n",
              "      <td>42</td>\n",
              "      <td>81</td>\n",
              "      <td>227</td>\n",
              "      <td>56.75</td>\n",
              "    </tr>\n",
              "    <tr>\n",
              "      <th>林玉亨</th>\n",
              "      <td>68</td>\n",
              "      <td>45</td>\n",
              "      <td>97</td>\n",
              "      <td>38</td>\n",
              "      <td>248</td>\n",
              "      <td>62.00</td>\n",
              "    </tr>\n",
              "    <tr>\n",
              "      <th>崔承睿</th>\n",
              "      <td>89</td>\n",
              "      <td>54</td>\n",
              "      <td>60</td>\n",
              "      <td>54</td>\n",
              "      <td>257</td>\n",
              "      <td>64.25</td>\n",
              "    </tr>\n",
              "  </tbody>\n",
              "</table>\n",
              "</div>\n",
              "      <button class=\"colab-df-convert\" onclick=\"convertToInteractive('df-a2b12284-1379-4a53-9f52-47402aef9800')\"\n",
              "              title=\"Convert this dataframe to an interactive table.\"\n",
              "              style=\"display:none;\">\n",
              "        \n",
              "  <svg xmlns=\"http://www.w3.org/2000/svg\" height=\"24px\"viewBox=\"0 0 24 24\"\n",
              "       width=\"24px\">\n",
              "    <path d=\"M0 0h24v24H0V0z\" fill=\"none\"/>\n",
              "    <path d=\"M18.56 5.44l.94 2.06.94-2.06 2.06-.94-2.06-.94-.94-2.06-.94 2.06-2.06.94zm-11 1L8.5 8.5l.94-2.06 2.06-.94-2.06-.94L8.5 2.5l-.94 2.06-2.06.94zm10 10l.94 2.06.94-2.06 2.06-.94-2.06-.94-.94-2.06-.94 2.06-2.06.94z\"/><path d=\"M17.41 7.96l-1.37-1.37c-.4-.4-.92-.59-1.43-.59-.52 0-1.04.2-1.43.59L10.3 9.45l-7.72 7.72c-.78.78-.78 2.05 0 2.83L4 21.41c.39.39.9.59 1.41.59.51 0 1.02-.2 1.41-.59l7.78-7.78 2.81-2.81c.8-.78.8-2.07 0-2.86zM5.41 20L4 18.59l7.72-7.72 1.47 1.35L5.41 20z\"/>\n",
              "  </svg>\n",
              "      </button>\n",
              "      \n",
              "  <style>\n",
              "    .colab-df-container {\n",
              "      display:flex;\n",
              "      flex-wrap:wrap;\n",
              "      gap: 12px;\n",
              "    }\n",
              "\n",
              "    .colab-df-convert {\n",
              "      background-color: #E8F0FE;\n",
              "      border: none;\n",
              "      border-radius: 50%;\n",
              "      cursor: pointer;\n",
              "      display: none;\n",
              "      fill: #1967D2;\n",
              "      height: 32px;\n",
              "      padding: 0 0 0 0;\n",
              "      width: 32px;\n",
              "    }\n",
              "\n",
              "    .colab-df-convert:hover {\n",
              "      background-color: #E2EBFA;\n",
              "      box-shadow: 0px 1px 2px rgba(60, 64, 67, 0.3), 0px 1px 3px 1px rgba(60, 64, 67, 0.15);\n",
              "      fill: #174EA6;\n",
              "    }\n",
              "\n",
              "    [theme=dark] .colab-df-convert {\n",
              "      background-color: #3B4455;\n",
              "      fill: #D2E3FC;\n",
              "    }\n",
              "\n",
              "    [theme=dark] .colab-df-convert:hover {\n",
              "      background-color: #434B5C;\n",
              "      box-shadow: 0px 1px 3px 1px rgba(0, 0, 0, 0.15);\n",
              "      filter: drop-shadow(0px 1px 2px rgba(0, 0, 0, 0.3));\n",
              "      fill: #FFFFFF;\n",
              "    }\n",
              "  </style>\n",
              "\n",
              "      <script>\n",
              "        const buttonEl =\n",
              "          document.querySelector('#df-a2b12284-1379-4a53-9f52-47402aef9800 button.colab-df-convert');\n",
              "        buttonEl.style.display =\n",
              "          google.colab.kernel.accessAllowed ? 'block' : 'none';\n",
              "\n",
              "        async function convertToInteractive(key) {\n",
              "          const element = document.querySelector('#df-a2b12284-1379-4a53-9f52-47402aef9800');\n",
              "          const dataTable =\n",
              "            await google.colab.kernel.invokeFunction('convertToInteractive',\n",
              "                                                     [key], {});\n",
              "          if (!dataTable) return;\n",
              "\n",
              "          const docLinkHtml = 'Like what you see? Visit the ' +\n",
              "            '<a target=\"_blank\" href=https://colab.research.google.com/notebooks/data_table.ipynb>data table notebook</a>'\n",
              "            + ' to learn more about interactive tables.';\n",
              "          element.innerHTML = '';\n",
              "          dataTable['output_type'] = 'display_data';\n",
              "          await google.colab.output.renderOutput(dataTable, element);\n",
              "          const docLink = document.createElement('div');\n",
              "          docLink.innerHTML = docLinkHtml;\n",
              "          element.appendChild(docLink);\n",
              "        }\n",
              "      </script>\n",
              "    </div>\n",
              "  </div>\n",
              "  "
            ]
          },
          "metadata": {},
          "execution_count": 184
        }
      ]
    },
    {
      "cell_type": "code",
      "source": [
        "df.rank()"
      ],
      "metadata": {
        "colab": {
          "base_uri": "https://localhost:8080/",
          "height": 363
        },
        "id": "dil6lt3Un6Hl",
        "outputId": "65b42945-09a8-492c-b2a2-e0467e61d7f0"
      },
      "execution_count": 183,
      "outputs": [
        {
          "output_type": "execute_result",
          "data": {
            "text/plain": [
              "       國文    英文    數學    理化    總分    平均\n",
              "郭雅惠  10.0   7.5   6.0  10.0  10.0  10.0\n",
              "陳欣虹   8.0   6.0   5.0   5.0   8.0   8.0\n",
              "王孟修   4.0   9.0   9.0   4.0   9.0   9.0\n",
              "李政勇   5.0   7.5   3.0   3.0   3.0   3.0\n",
              "陳仲燦   3.0   4.0   8.0   7.5   6.0   6.0\n",
              "王寧東   6.0   2.0   7.0   6.0   4.0   4.0\n",
              "楊雅名   2.0   1.0   1.0   9.0   1.0   1.0\n",
              "藍冰啟   1.0  10.0   2.0   7.5   2.0   2.0\n",
              "林玉亨   7.0   3.0  10.0   1.0   5.0   5.0\n",
              "崔承睿   9.0   5.0   4.0   2.0   7.0   7.0"
            ],
            "text/html": [
              "\n",
              "  <div id=\"df-bf238a05-aa32-4884-b93e-d9beac1f0363\">\n",
              "    <div class=\"colab-df-container\">\n",
              "      <div>\n",
              "<style scoped>\n",
              "    .dataframe tbody tr th:only-of-type {\n",
              "        vertical-align: middle;\n",
              "    }\n",
              "\n",
              "    .dataframe tbody tr th {\n",
              "        vertical-align: top;\n",
              "    }\n",
              "\n",
              "    .dataframe thead th {\n",
              "        text-align: right;\n",
              "    }\n",
              "</style>\n",
              "<table border=\"1\" class=\"dataframe\">\n",
              "  <thead>\n",
              "    <tr style=\"text-align: right;\">\n",
              "      <th></th>\n",
              "      <th>國文</th>\n",
              "      <th>英文</th>\n",
              "      <th>數學</th>\n",
              "      <th>理化</th>\n",
              "      <th>總分</th>\n",
              "      <th>平均</th>\n",
              "    </tr>\n",
              "  </thead>\n",
              "  <tbody>\n",
              "    <tr>\n",
              "      <th>郭雅惠</th>\n",
              "      <td>10.0</td>\n",
              "      <td>7.5</td>\n",
              "      <td>6.0</td>\n",
              "      <td>10.0</td>\n",
              "      <td>10.0</td>\n",
              "      <td>10.0</td>\n",
              "    </tr>\n",
              "    <tr>\n",
              "      <th>陳欣虹</th>\n",
              "      <td>8.0</td>\n",
              "      <td>6.0</td>\n",
              "      <td>5.0</td>\n",
              "      <td>5.0</td>\n",
              "      <td>8.0</td>\n",
              "      <td>8.0</td>\n",
              "    </tr>\n",
              "    <tr>\n",
              "      <th>王孟修</th>\n",
              "      <td>4.0</td>\n",
              "      <td>9.0</td>\n",
              "      <td>9.0</td>\n",
              "      <td>4.0</td>\n",
              "      <td>9.0</td>\n",
              "      <td>9.0</td>\n",
              "    </tr>\n",
              "    <tr>\n",
              "      <th>李政勇</th>\n",
              "      <td>5.0</td>\n",
              "      <td>7.5</td>\n",
              "      <td>3.0</td>\n",
              "      <td>3.0</td>\n",
              "      <td>3.0</td>\n",
              "      <td>3.0</td>\n",
              "    </tr>\n",
              "    <tr>\n",
              "      <th>陳仲燦</th>\n",
              "      <td>3.0</td>\n",
              "      <td>4.0</td>\n",
              "      <td>8.0</td>\n",
              "      <td>7.5</td>\n",
              "      <td>6.0</td>\n",
              "      <td>6.0</td>\n",
              "    </tr>\n",
              "    <tr>\n",
              "      <th>王寧東</th>\n",
              "      <td>6.0</td>\n",
              "      <td>2.0</td>\n",
              "      <td>7.0</td>\n",
              "      <td>6.0</td>\n",
              "      <td>4.0</td>\n",
              "      <td>4.0</td>\n",
              "    </tr>\n",
              "    <tr>\n",
              "      <th>楊雅名</th>\n",
              "      <td>2.0</td>\n",
              "      <td>1.0</td>\n",
              "      <td>1.0</td>\n",
              "      <td>9.0</td>\n",
              "      <td>1.0</td>\n",
              "      <td>1.0</td>\n",
              "    </tr>\n",
              "    <tr>\n",
              "      <th>藍冰啟</th>\n",
              "      <td>1.0</td>\n",
              "      <td>10.0</td>\n",
              "      <td>2.0</td>\n",
              "      <td>7.5</td>\n",
              "      <td>2.0</td>\n",
              "      <td>2.0</td>\n",
              "    </tr>\n",
              "    <tr>\n",
              "      <th>林玉亨</th>\n",
              "      <td>7.0</td>\n",
              "      <td>3.0</td>\n",
              "      <td>10.0</td>\n",
              "      <td>1.0</td>\n",
              "      <td>5.0</td>\n",
              "      <td>5.0</td>\n",
              "    </tr>\n",
              "    <tr>\n",
              "      <th>崔承睿</th>\n",
              "      <td>9.0</td>\n",
              "      <td>5.0</td>\n",
              "      <td>4.0</td>\n",
              "      <td>2.0</td>\n",
              "      <td>7.0</td>\n",
              "      <td>7.0</td>\n",
              "    </tr>\n",
              "  </tbody>\n",
              "</table>\n",
              "</div>\n",
              "      <button class=\"colab-df-convert\" onclick=\"convertToInteractive('df-bf238a05-aa32-4884-b93e-d9beac1f0363')\"\n",
              "              title=\"Convert this dataframe to an interactive table.\"\n",
              "              style=\"display:none;\">\n",
              "        \n",
              "  <svg xmlns=\"http://www.w3.org/2000/svg\" height=\"24px\"viewBox=\"0 0 24 24\"\n",
              "       width=\"24px\">\n",
              "    <path d=\"M0 0h24v24H0V0z\" fill=\"none\"/>\n",
              "    <path d=\"M18.56 5.44l.94 2.06.94-2.06 2.06-.94-2.06-.94-.94-2.06-.94 2.06-2.06.94zm-11 1L8.5 8.5l.94-2.06 2.06-.94-2.06-.94L8.5 2.5l-.94 2.06-2.06.94zm10 10l.94 2.06.94-2.06 2.06-.94-2.06-.94-.94-2.06-.94 2.06-2.06.94z\"/><path d=\"M17.41 7.96l-1.37-1.37c-.4-.4-.92-.59-1.43-.59-.52 0-1.04.2-1.43.59L10.3 9.45l-7.72 7.72c-.78.78-.78 2.05 0 2.83L4 21.41c.39.39.9.59 1.41.59.51 0 1.02-.2 1.41-.59l7.78-7.78 2.81-2.81c.8-.78.8-2.07 0-2.86zM5.41 20L4 18.59l7.72-7.72 1.47 1.35L5.41 20z\"/>\n",
              "  </svg>\n",
              "      </button>\n",
              "      \n",
              "  <style>\n",
              "    .colab-df-container {\n",
              "      display:flex;\n",
              "      flex-wrap:wrap;\n",
              "      gap: 12px;\n",
              "    }\n",
              "\n",
              "    .colab-df-convert {\n",
              "      background-color: #E8F0FE;\n",
              "      border: none;\n",
              "      border-radius: 50%;\n",
              "      cursor: pointer;\n",
              "      display: none;\n",
              "      fill: #1967D2;\n",
              "      height: 32px;\n",
              "      padding: 0 0 0 0;\n",
              "      width: 32px;\n",
              "    }\n",
              "\n",
              "    .colab-df-convert:hover {\n",
              "      background-color: #E2EBFA;\n",
              "      box-shadow: 0px 1px 2px rgba(60, 64, 67, 0.3), 0px 1px 3px 1px rgba(60, 64, 67, 0.15);\n",
              "      fill: #174EA6;\n",
              "    }\n",
              "\n",
              "    [theme=dark] .colab-df-convert {\n",
              "      background-color: #3B4455;\n",
              "      fill: #D2E3FC;\n",
              "    }\n",
              "\n",
              "    [theme=dark] .colab-df-convert:hover {\n",
              "      background-color: #434B5C;\n",
              "      box-shadow: 0px 1px 3px 1px rgba(0, 0, 0, 0.15);\n",
              "      filter: drop-shadow(0px 1px 2px rgba(0, 0, 0, 0.3));\n",
              "      fill: #FFFFFF;\n",
              "    }\n",
              "  </style>\n",
              "\n",
              "      <script>\n",
              "        const buttonEl =\n",
              "          document.querySelector('#df-bf238a05-aa32-4884-b93e-d9beac1f0363 button.colab-df-convert');\n",
              "        buttonEl.style.display =\n",
              "          google.colab.kernel.accessAllowed ? 'block' : 'none';\n",
              "\n",
              "        async function convertToInteractive(key) {\n",
              "          const element = document.querySelector('#df-bf238a05-aa32-4884-b93e-d9beac1f0363');\n",
              "          const dataTable =\n",
              "            await google.colab.kernel.invokeFunction('convertToInteractive',\n",
              "                                                     [key], {});\n",
              "          if (!dataTable) return;\n",
              "\n",
              "          const docLinkHtml = 'Like what you see? Visit the ' +\n",
              "            '<a target=\"_blank\" href=https://colab.research.google.com/notebooks/data_table.ipynb>data table notebook</a>'\n",
              "            + ' to learn more about interactive tables.';\n",
              "          element.innerHTML = '';\n",
              "          dataTable['output_type'] = 'display_data';\n",
              "          await google.colab.output.renderOutput(dataTable, element);\n",
              "          const docLink = document.createElement('div');\n",
              "          docLink.innerHTML = docLinkHtml;\n",
              "          element.appendChild(docLink);\n",
              "        }\n",
              "      </script>\n",
              "    </div>\n",
              "  </div>\n",
              "  "
            ]
          },
          "metadata": {},
          "execution_count": 183
        }
      ]
    },
    {
      "cell_type": "code",
      "source": [
        "df['總分'].rank(ascending=False)"
      ],
      "metadata": {
        "colab": {
          "base_uri": "https://localhost:8080/"
        },
        "id": "G5s1EA8foCEV",
        "outputId": "15766161-9f32-4778-858b-01263c8a7597"
      },
      "execution_count": 185,
      "outputs": [
        {
          "output_type": "execute_result",
          "data": {
            "text/plain": [
              "郭雅惠     1.0\n",
              "陳欣虹     3.0\n",
              "王孟修     2.0\n",
              "李政勇     8.0\n",
              "陳仲燦     5.0\n",
              "王寧東     7.0\n",
              "楊雅名    10.0\n",
              "藍冰啟     9.0\n",
              "林玉亨     6.0\n",
              "崔承睿     4.0\n",
              "Name: 總分, dtype: float64"
            ]
          },
          "metadata": {},
          "execution_count": 185
        }
      ]
    },
    {
      "cell_type": "code",
      "source": [
        "df['名次'] = df['總分'].rank(ascending=False)"
      ],
      "metadata": {
        "id": "nGFu_yyqo7QB"
      },
      "execution_count": 186,
      "outputs": []
    },
    {
      "cell_type": "code",
      "source": [
        "df"
      ],
      "metadata": {
        "colab": {
          "base_uri": "https://localhost:8080/",
          "height": 363
        },
        "id": "l_x5E4KBpDrI",
        "outputId": "4c174656-51b8-4bdc-f5da-afd8e28ee2d7"
      },
      "execution_count": 187,
      "outputs": [
        {
          "output_type": "execute_result",
          "data": {
            "text/plain": [
              "     國文  英文  數學   理化   總分     平均    名次\n",
              "郭雅惠  95  62  65  100  322  80.50   1.0\n",
              "陳欣虹  80  59  64   70  273  68.25   3.0\n",
              "王孟修  41  72  92   69  274  68.50   2.0\n",
              "李政勇  44  62  59   66  231  57.75   8.0\n",
              "陳仲燦  37  48  87   81  253  63.25   5.0\n",
              "王寧東  47  34  76   75  232  58.00   7.0\n",
              "楊雅名  33  32  41   91  197  49.25  10.0\n",
              "藍冰啟  31  73  42   81  227  56.75   9.0\n",
              "林玉亨  68  45  97   38  248  62.00   6.0\n",
              "崔承睿  89  54  60   54  257  64.25   4.0"
            ],
            "text/html": [
              "\n",
              "  <div id=\"df-4364d657-9bd3-43fe-8663-4b2821c133ec\">\n",
              "    <div class=\"colab-df-container\">\n",
              "      <div>\n",
              "<style scoped>\n",
              "    .dataframe tbody tr th:only-of-type {\n",
              "        vertical-align: middle;\n",
              "    }\n",
              "\n",
              "    .dataframe tbody tr th {\n",
              "        vertical-align: top;\n",
              "    }\n",
              "\n",
              "    .dataframe thead th {\n",
              "        text-align: right;\n",
              "    }\n",
              "</style>\n",
              "<table border=\"1\" class=\"dataframe\">\n",
              "  <thead>\n",
              "    <tr style=\"text-align: right;\">\n",
              "      <th></th>\n",
              "      <th>國文</th>\n",
              "      <th>英文</th>\n",
              "      <th>數學</th>\n",
              "      <th>理化</th>\n",
              "      <th>總分</th>\n",
              "      <th>平均</th>\n",
              "      <th>名次</th>\n",
              "    </tr>\n",
              "  </thead>\n",
              "  <tbody>\n",
              "    <tr>\n",
              "      <th>郭雅惠</th>\n",
              "      <td>95</td>\n",
              "      <td>62</td>\n",
              "      <td>65</td>\n",
              "      <td>100</td>\n",
              "      <td>322</td>\n",
              "      <td>80.50</td>\n",
              "      <td>1.0</td>\n",
              "    </tr>\n",
              "    <tr>\n",
              "      <th>陳欣虹</th>\n",
              "      <td>80</td>\n",
              "      <td>59</td>\n",
              "      <td>64</td>\n",
              "      <td>70</td>\n",
              "      <td>273</td>\n",
              "      <td>68.25</td>\n",
              "      <td>3.0</td>\n",
              "    </tr>\n",
              "    <tr>\n",
              "      <th>王孟修</th>\n",
              "      <td>41</td>\n",
              "      <td>72</td>\n",
              "      <td>92</td>\n",
              "      <td>69</td>\n",
              "      <td>274</td>\n",
              "      <td>68.50</td>\n",
              "      <td>2.0</td>\n",
              "    </tr>\n",
              "    <tr>\n",
              "      <th>李政勇</th>\n",
              "      <td>44</td>\n",
              "      <td>62</td>\n",
              "      <td>59</td>\n",
              "      <td>66</td>\n",
              "      <td>231</td>\n",
              "      <td>57.75</td>\n",
              "      <td>8.0</td>\n",
              "    </tr>\n",
              "    <tr>\n",
              "      <th>陳仲燦</th>\n",
              "      <td>37</td>\n",
              "      <td>48</td>\n",
              "      <td>87</td>\n",
              "      <td>81</td>\n",
              "      <td>253</td>\n",
              "      <td>63.25</td>\n",
              "      <td>5.0</td>\n",
              "    </tr>\n",
              "    <tr>\n",
              "      <th>王寧東</th>\n",
              "      <td>47</td>\n",
              "      <td>34</td>\n",
              "      <td>76</td>\n",
              "      <td>75</td>\n",
              "      <td>232</td>\n",
              "      <td>58.00</td>\n",
              "      <td>7.0</td>\n",
              "    </tr>\n",
              "    <tr>\n",
              "      <th>楊雅名</th>\n",
              "      <td>33</td>\n",
              "      <td>32</td>\n",
              "      <td>41</td>\n",
              "      <td>91</td>\n",
              "      <td>197</td>\n",
              "      <td>49.25</td>\n",
              "      <td>10.0</td>\n",
              "    </tr>\n",
              "    <tr>\n",
              "      <th>藍冰啟</th>\n",
              "      <td>31</td>\n",
              "      <td>73</td>\n",
              "      <td>42</td>\n",
              "      <td>81</td>\n",
              "      <td>227</td>\n",
              "      <td>56.75</td>\n",
              "      <td>9.0</td>\n",
              "    </tr>\n",
              "    <tr>\n",
              "      <th>林玉亨</th>\n",
              "      <td>68</td>\n",
              "      <td>45</td>\n",
              "      <td>97</td>\n",
              "      <td>38</td>\n",
              "      <td>248</td>\n",
              "      <td>62.00</td>\n",
              "      <td>6.0</td>\n",
              "    </tr>\n",
              "    <tr>\n",
              "      <th>崔承睿</th>\n",
              "      <td>89</td>\n",
              "      <td>54</td>\n",
              "      <td>60</td>\n",
              "      <td>54</td>\n",
              "      <td>257</td>\n",
              "      <td>64.25</td>\n",
              "      <td>4.0</td>\n",
              "    </tr>\n",
              "  </tbody>\n",
              "</table>\n",
              "</div>\n",
              "      <button class=\"colab-df-convert\" onclick=\"convertToInteractive('df-4364d657-9bd3-43fe-8663-4b2821c133ec')\"\n",
              "              title=\"Convert this dataframe to an interactive table.\"\n",
              "              style=\"display:none;\">\n",
              "        \n",
              "  <svg xmlns=\"http://www.w3.org/2000/svg\" height=\"24px\"viewBox=\"0 0 24 24\"\n",
              "       width=\"24px\">\n",
              "    <path d=\"M0 0h24v24H0V0z\" fill=\"none\"/>\n",
              "    <path d=\"M18.56 5.44l.94 2.06.94-2.06 2.06-.94-2.06-.94-.94-2.06-.94 2.06-2.06.94zm-11 1L8.5 8.5l.94-2.06 2.06-.94-2.06-.94L8.5 2.5l-.94 2.06-2.06.94zm10 10l.94 2.06.94-2.06 2.06-.94-2.06-.94-.94-2.06-.94 2.06-2.06.94z\"/><path d=\"M17.41 7.96l-1.37-1.37c-.4-.4-.92-.59-1.43-.59-.52 0-1.04.2-1.43.59L10.3 9.45l-7.72 7.72c-.78.78-.78 2.05 0 2.83L4 21.41c.39.39.9.59 1.41.59.51 0 1.02-.2 1.41-.59l7.78-7.78 2.81-2.81c.8-.78.8-2.07 0-2.86zM5.41 20L4 18.59l7.72-7.72 1.47 1.35L5.41 20z\"/>\n",
              "  </svg>\n",
              "      </button>\n",
              "      \n",
              "  <style>\n",
              "    .colab-df-container {\n",
              "      display:flex;\n",
              "      flex-wrap:wrap;\n",
              "      gap: 12px;\n",
              "    }\n",
              "\n",
              "    .colab-df-convert {\n",
              "      background-color: #E8F0FE;\n",
              "      border: none;\n",
              "      border-radius: 50%;\n",
              "      cursor: pointer;\n",
              "      display: none;\n",
              "      fill: #1967D2;\n",
              "      height: 32px;\n",
              "      padding: 0 0 0 0;\n",
              "      width: 32px;\n",
              "    }\n",
              "\n",
              "    .colab-df-convert:hover {\n",
              "      background-color: #E2EBFA;\n",
              "      box-shadow: 0px 1px 2px rgba(60, 64, 67, 0.3), 0px 1px 3px 1px rgba(60, 64, 67, 0.15);\n",
              "      fill: #174EA6;\n",
              "    }\n",
              "\n",
              "    [theme=dark] .colab-df-convert {\n",
              "      background-color: #3B4455;\n",
              "      fill: #D2E3FC;\n",
              "    }\n",
              "\n",
              "    [theme=dark] .colab-df-convert:hover {\n",
              "      background-color: #434B5C;\n",
              "      box-shadow: 0px 1px 3px 1px rgba(0, 0, 0, 0.15);\n",
              "      filter: drop-shadow(0px 1px 2px rgba(0, 0, 0, 0.3));\n",
              "      fill: #FFFFFF;\n",
              "    }\n",
              "  </style>\n",
              "\n",
              "      <script>\n",
              "        const buttonEl =\n",
              "          document.querySelector('#df-4364d657-9bd3-43fe-8663-4b2821c133ec button.colab-df-convert');\n",
              "        buttonEl.style.display =\n",
              "          google.colab.kernel.accessAllowed ? 'block' : 'none';\n",
              "\n",
              "        async function convertToInteractive(key) {\n",
              "          const element = document.querySelector('#df-4364d657-9bd3-43fe-8663-4b2821c133ec');\n",
              "          const dataTable =\n",
              "            await google.colab.kernel.invokeFunction('convertToInteractive',\n",
              "                                                     [key], {});\n",
              "          if (!dataTable) return;\n",
              "\n",
              "          const docLinkHtml = 'Like what you see? Visit the ' +\n",
              "            '<a target=\"_blank\" href=https://colab.research.google.com/notebooks/data_table.ipynb>data table notebook</a>'\n",
              "            + ' to learn more about interactive tables.';\n",
              "          element.innerHTML = '';\n",
              "          dataTable['output_type'] = 'display_data';\n",
              "          await google.colab.output.renderOutput(dataTable, element);\n",
              "          const docLink = document.createElement('div');\n",
              "          docLink.innerHTML = docLinkHtml;\n",
              "          element.appendChild(docLink);\n",
              "        }\n",
              "      </script>\n",
              "    </div>\n",
              "  </div>\n",
              "  "
            ]
          },
          "metadata": {},
          "execution_count": 187
        }
      ]
    },
    {
      "cell_type": "code",
      "source": [],
      "metadata": {
        "id": "fcb3iL3opEtb"
      },
      "execution_count": null,
      "outputs": []
    }
  ]
}